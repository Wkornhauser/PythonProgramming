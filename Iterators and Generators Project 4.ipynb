{
 "cells": [
  {
   "cell_type": "markdown",
   "metadata": {},
   "source": [
    "### Iterators and Generators Project 4"
   ]
  },
  {
   "cell_type": "markdown",
   "metadata": {},
   "source": [
    "#### Description"
   ]
  },
  {
   "cell_type": "markdown",
   "metadata": {},
   "source": [
    "You are given 4 data files:"
   ]
  },
  {
   "cell_type": "markdown",
   "metadata": {},
   "source": [
    "personal_info.csv, vehicles.csv, employement.csv, and update_status.csv"
   ]
  },
  {
   "cell_type": "markdown",
   "metadata": {},
   "source": [
    "Each file contains a common key that uniquely identifies each row - SSN"
   ]
  },
  {
   "cell_type": "markdown",
   "metadata": {},
   "source": [
    "You are guaranteed that every SSN number appears only once in every file, it is present in all 4 files, and the order of SSN in each file is the same"
   ]
  },
  {
   "cell_type": "markdown",
   "metadata": {},
   "source": [
    "##### Goal 1:\n",
    "Create a lazy iterator for each of the four files."
   ]
  },
  {
   "cell_type": "markdown",
   "metadata": {},
   "source": [
    "- Returns named tuples\n",
    "- Data types are appropriate (String, date, int, etc)\n",
    "- The 4 iterators are independent of each other (for now)"
   ]
  },
  {
   "cell_type": "markdown",
   "metadata": {},
   "source": [
    "You will want to make use of the standard library module csv for this"
   ]
  },
  {
   "cell_type": "markdown",
   "metadata": {},
   "source": [
    "Reading CSV Files:"
   ]
  },
  {
   "cell_type": "markdown",
   "metadata": {},
   "source": [
    "CSV files are files that contain multiple lines of data -> strings"
   ]
  },
  {
   "cell_type": "markdown",
   "metadata": {},
   "source": [
    "The individual data fields in a row are:\n",
    "- deliminted by some separating character -> comma, tab are common\n",
    "- in addiation, individual field may be wrapped in futher delimiters -> quotes are common  \n",
    "-> This allows the field value to contain what may be otherwise interpreted as a delimiter"
   ]
  },
  {
   "cell_type": "markdown",
   "metadata": {},
   "source": [
    "Example"
   ]
  },
  {
   "cell_type": "markdown",
   "metadata": {},
   "source": [
    "1,hello,world -> 3 values: 1  hello  world"
   ]
  },
  {
   "cell_type": "markdown",
   "metadata": {},
   "source": [
    "1,\"hello,world\" -> 3 values: 1 \"hello world\""
   ]
  },
  {
   "cell_type": "markdown",
   "metadata": {},
   "source": [
    "Simply splitting on the comma is not going to work in the second example!"
   ]
  },
  {
   "cell_type": "markdown",
   "metadata": {},
   "source": [
    "csv.reader is exactly what we need -> lazy iterator -> we can tell it what the delimiter is -> we can tell it what the quote character is "
   ]
  },
  {
   "cell_type": "markdown",
   "metadata": {},
   "source": [
    "Example"
   ]
  },
  {
   "cell_type": "markdown",
   "metadata": {},
   "source": [
    "Mueller-Rath,Human Resources,05-8069298,123-88-3381  \n",
    "\"Schumm, Schumm and Reichert\",Engineering,73-3839744,125-07-9434"
   ]
  },
  {
   "cell_type": "markdown",
   "metadata": {},
   "source": [
    "So we can do the following:"
   ]
  },
  {
   "cell_type": "code",
   "execution_count": 1,
   "metadata": {},
   "outputs": [],
   "source": [
    "def read_file(file_name):\n",
    "    with open(file_name) as f:\n",
    "        reader = csv.reader(f, delimiter=',', quotechar='\"')\n",
    "        yield from reader   "
   ]
  },
  {
   "cell_type": "markdown",
   "metadata": {},
   "source": [
    "This yield lists of strings containing each field value"
   ]
  },
  {
   "cell_type": "markdown",
   "metadata": {},
   "source": [
    "##### Goal 2:"
   ]
  },
  {
   "cell_type": "markdown",
   "metadata": {},
   "source": [
    "Create a single iterable that combines all the data from all four files\n",
    "- try to re-use the iterators you created in Goal 1\n",
    "- by combining, Fred means one row per SNN containing data from all four files in a single named tuple"
   ]
  },
  {
   "cell_type": "markdown",
   "metadata": {},
   "source": [
    "Once again, make sure returned data is a single named tuple containing all fields"
   ]
  },
  {
   "cell_type": "markdown",
   "metadata": {},
   "source": [
    "When you \"combine\" the data, make sure the SNN's match!"
   ]
  },
  {
   "cell_type": "markdown",
   "metadata": {},
   "source": [
    "Remember that all the files are already sorted by SNN, and that each SNN appears once, and only once, in every file"
   ]
  },
  {
   "cell_type": "markdown",
   "metadata": {},
   "source": [
    "- viewing files side by side, all the row SSN's will align correctly"
   ]
  },
  {
   "cell_type": "markdown",
   "metadata": {},
   "source": [
    "Don't repeat the SSN 4 times in the named tuple - once is enough!"
   ]
  },
  {
   "cell_type": "markdown",
   "metadata": {},
   "source": [
    "##### Goal 3:"
   ]
  },
  {
   "cell_type": "markdown",
   "metadata": {},
   "source": [
    "Some records are considered stale (not updates recently enough)"
   ]
  },
  {
   "cell_type": "markdown",
   "metadata": {},
   "source": [
    "A records is considered stale if the last update date < 3/1/2017"
   ]
  },
  {
   "cell_type": "markdown",
   "metadata": {},
   "source": [
    "The update date is located in the update_status.csv file"
   ]
  },
  {
   "cell_type": "markdown",
   "metadata": {},
   "source": [
    "Modify your iterator from Goal 2 to filter out stale records"
   ]
  },
  {
   "cell_type": "markdown",
   "metadata": {},
   "source": [
    "Make sure that your iterator remains lazy!"
   ]
  },
  {
   "cell_type": "markdown",
   "metadata": {},
   "source": [
    "##### Goals 4:"
   ]
  },
  {
   "cell_type": "markdown",
   "metadata": {},
   "source": [
    "For nonn-stale records, generate lists of number of car makes by gender"
   ]
  },
  {
   "cell_type": "markdown",
   "metadata": {},
   "source": [
    "If you do this correctly, the largest froups for each gender are:\n",
    "- Female - Ford and Chevrolet (both have 42 persons in those groups)\n",
    "- Male - Ford (40 persons in the group)"
   ]
  }
 ],
 "metadata": {
  "kernelspec": {
   "display_name": "Python 3",
   "language": "python",
   "name": "python3"
  },
  "language_info": {
   "codemirror_mode": {
    "name": "ipython",
    "version": 3
   },
   "file_extension": ".py",
   "mimetype": "text/x-python",
   "name": "python",
   "nbconvert_exporter": "python",
   "pygments_lexer": "ipython3",
   "version": "3.7.6"
  }
 },
 "nbformat": 4,
 "nbformat_minor": 4
}
