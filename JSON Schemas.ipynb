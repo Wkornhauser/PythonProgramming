{
 "cells": [
  {
   "cell_type": "markdown",
   "metadata": {},
   "source": [
    "### JSON Schemas"
   ]
  },
  {
   "cell_type": "markdown",
   "metadata": {},
   "source": [
    "https://json-schema.org/"
   ]
  },
  {
   "cell_type": "markdown",
   "metadata": {},
   "source": [
    "We've seen that one of the issues we have when trying to deserialize JSON is having a known schema, so that we can do more than just the standards."
   ]
  },
  {
   "cell_type": "code",
   "execution_count": 2,
   "metadata": {},
   "outputs": [],
   "source": [
    "person_schema = {\n",
    "    \"type\": \"object\",\n",
    "    \"properties\": {\n",
    "        \"firstName\": {\"type\": \"string\"},\n",
    "        \"middleInitial\": {\"type\": \"string\"} ,\n",
    "        \"lastName\": {\"type\": \"string\"},\n",
    "        \"age\": {\"type\": \"number\"}\n",
    "    }\n",
    "}"
   ]
  },
  {
   "cell_type": "code",
   "execution_count": 3,
   "metadata": {},
   "outputs": [],
   "source": [
    "p1 = '''\n",
    "{\n",
    "    \"firstName\": \"John\",\n",
    "    \"middleInitial\": \"M\",\n",
    "    \"lastName\": \"Cleese\",\n",
    "    \"age\": 79\n",
    "}\n",
    "'''"
   ]
  },
  {
   "cell_type": "code",
   "execution_count": 4,
   "metadata": {},
   "outputs": [],
   "source": [
    "p2 = '''\n",
    "{\n",
    "    \"firstName\": \"John\",\n",
    "    \"middleInitial\": 100,\n",
    "    \"lastName\": \"Cleese\",\n",
    "    \"age\": \"Unknown\"\n",
    "}\n",
    "'''"
   ]
  },
  {
   "cell_type": "code",
   "execution_count": 5,
   "metadata": {},
   "outputs": [],
   "source": [
    "p3 = '''\n",
    "{\n",
    "    \"firstName\": \"John\",\n",
    "    \"age\": -10.5\n",
    "}\n",
    "'''"
   ]
  },
  {
   "cell_type": "code",
   "execution_count": 14,
   "metadata": {},
   "outputs": [],
   "source": [
    "person_schema = {\n",
    "    \"type\": \"object\",\n",
    "    \"properties\": {\n",
    "        \"firstName\": {\n",
    "            \"type\": \"string\",\n",
    "            \"minLength\": 1\n",
    "        },\n",
    "        \"middleInitial\": {\n",
    "            \"type\": \"string\",\n",
    "            \"minLength\": 1,\n",
    "            \"maxLength\": 1\n",
    "        } ,\n",
    "        \"lastName\": {\n",
    "            \"type\": \"string\",\n",
    "            \"minLength\": 1        \n",
    "        },\n",
    "        \"age\": {\n",
    "            \"type\": \"integer\",\n",
    "            \"minimum\": 0\n",
    "        },\n",
    "        \"eyeColor\": {\n",
    "            \"type\": \"string\",\n",
    "            \"enum\": [\"amber\", \"blue\", \"brown\", \"gray\",\n",
    "                     \"green\", \"hazel\", \"red\", \"violet\"]\n",
    "        }\n",
    "    },\n",
    "    \"required\": [\"firstName\", \"lastName\"]\n",
    "}"
   ]
  },
  {
   "cell_type": "code",
   "execution_count": 15,
   "metadata": {},
   "outputs": [
    {
     "name": "stdout",
     "output_type": "stream",
     "text": [
      "Requirement already satisfied: jsonschema in c:\\users\\wil\\anaconda3\\lib\\site-packages (3.2.0)Note: you may need to restart the kernel to use updated packages.\n",
      "Requirement already satisfied: setuptools in c:\\users\\wil\\anaconda3\\lib\\site-packages (from jsonschema) (46.1.3.post20200330)\n",
      "Requirement already satisfied: pyrsistent>=0.14.0 in c:\\users\\wil\\anaconda3\\lib\\site-packages (from jsonschema) (0.16.0)\n",
      "Requirement already satisfied: attrs>=17.4.0 in c:\\users\\wil\\anaconda3\\lib\\site-packages (from jsonschema) (19.3.0)\n",
      "Requirement already satisfied: six>=1.11.0 in c:\\users\\wil\\anaconda3\\lib\\site-packages (from jsonschema) (1.14.0)\n",
      "Requirement already satisfied: importlib-metadata; python_version < \"3.8\" in c:\\users\\wil\\anaconda3\\lib\\site-packages (from jsonschema) (1.5.0)\n",
      "Requirement already satisfied: zipp>=0.5 in c:\\users\\wil\\anaconda3\\lib\\site-packages (from importlib-metadata; python_version < \"3.8\"->jsonschema) (2.2.0)\n",
      "\n"
     ]
    }
   ],
   "source": [
    "pip install jsonschema"
   ]
  },
  {
   "cell_type": "code",
   "execution_count": 16,
   "metadata": {},
   "outputs": [],
   "source": [
    "from jsonschema import validate\n",
    "from jsonschema.exceptions import ValidationError\n",
    "from json import loads, dumps, JSONDecodeError"
   ]
  },
  {
   "cell_type": "code",
   "execution_count": 17,
   "metadata": {},
   "outputs": [
    {
     "name": "stdout",
     "output_type": "stream",
     "text": [
      "\n",
      "{\n",
      "    \"firstName\": \"John\",\n",
      "    \"middleInitial\": \"M\",\n",
      "    \"lastName\": \"Cleese\",\n",
      "    \"age\": 79\n",
      "}\n",
      "\n",
      "JSON is valid and conforms to schema\n"
     ]
    }
   ],
   "source": [
    "json_doc = p1\n",
    "\n",
    "print(json_doc)\n",
    "\n",
    "try:\n",
    "    validate(loads(json_doc), person_schema)\n",
    "except JSONDecodeError as ex:\n",
    "    print(f'Invalid JSON: {ex}')\n",
    "except ValidationError as ex:\n",
    "    print(f'Validation error: {ex}')\n",
    "else:\n",
    "    print('JSON is valid and conforms to schema')"
   ]
  },
  {
   "cell_type": "code",
   "execution_count": 18,
   "metadata": {},
   "outputs": [
    {
     "name": "stdout",
     "output_type": "stream",
     "text": [
      "\n",
      "{\n",
      "    \"firstName\": \"John\",\n",
      "    \"middleInitial\": 100,\n",
      "    \"lastName\": \"Cleese\",\n",
      "    \"age\": \"Unknown\"\n",
      "}\n",
      "\n",
      "Validation error: 100 is not of type 'string'\n",
      "\n",
      "Failed validating 'type' in schema['properties']['middleInitial']:\n",
      "    {'maxLength': 1, 'minLength': 1, 'type': 'string'}\n",
      "\n",
      "On instance['middleInitial']:\n",
      "    100\n"
     ]
    }
   ],
   "source": [
    "json_doc = p2\n",
    "\n",
    "print(json_doc)\n",
    "\n",
    "try:\n",
    "    validate(loads(json_doc), person_schema)\n",
    "except JSONDecodeError as ex:\n",
    "    print(f'Invalid JSON: {ex}')\n",
    "except ValidationError as ex:\n",
    "    print(f'Validation error: {ex}')\n",
    "else:\n",
    "    print('JSON is valid and conforms to schema')"
   ]
  },
  {
   "cell_type": "code",
   "execution_count": 19,
   "metadata": {},
   "outputs": [
    {
     "name": "stdout",
     "output_type": "stream",
     "text": [
      "\n",
      "{\n",
      "    \"firstName\": \"John\",\n",
      "    \"age\": -10.5\n",
      "}\n",
      "\n",
      "Validation error: 'lastName' is a required property\n",
      "\n",
      "Failed validating 'required' in schema:\n",
      "    {'properties': {'age': {'minimum': 0, 'type': 'integer'},\n",
      "                    'eyeColor': {'enum': ['amber',\n",
      "                                          'blue',\n",
      "                                          'brown',\n",
      "                                          'gray',\n",
      "                                          'green',\n",
      "                                          'hazel',\n",
      "                                          'red',\n",
      "                                          'violet'],\n",
      "                                 'type': 'string'},\n",
      "                    'firstName': {'minLength': 1, 'type': 'string'},\n",
      "                    'lastName': {'minLength': 1, 'type': 'string'},\n",
      "                    'middleInitial': {'maxLength': 1,\n",
      "                                      'minLength': 1,\n",
      "                                      'type': 'string'}},\n",
      "     'required': ['firstName', 'lastName'],\n",
      "     'type': 'object'}\n",
      "\n",
      "On instance:\n",
      "    {'age': -10.5, 'firstName': 'John'}\n"
     ]
    }
   ],
   "source": [
    "json_doc = p3\n",
    "\n",
    "print(json_doc)\n",
    "\n",
    "try:\n",
    "    validate(loads(json_doc), person_schema)\n",
    "except JSONDecodeError as ex:\n",
    "    print(f'Invalid JSON: {ex}')\n",
    "except ValidationError as ex:\n",
    "    print(f'Validation error: {ex}')\n",
    "else:\n",
    "    print('JSON is valid and conforms to schema')"
   ]
  },
  {
   "cell_type": "code",
   "execution_count": 21,
   "metadata": {},
   "outputs": [],
   "source": [
    "from jsonschema import Draft4Validator\n",
    "\n",
    "validator = Draft4Validator(person_schema)"
   ]
  },
  {
   "cell_type": "code",
   "execution_count": 24,
   "metadata": {},
   "outputs": [],
   "source": [
    "json_doc = p1\n",
    "\n",
    "for error in validator.iter_errors(loads(json_doc)):\n",
    "    print(error, end='\\n-----------------------\\n')"
   ]
  },
  {
   "cell_type": "code",
   "execution_count": 25,
   "metadata": {},
   "outputs": [
    {
     "name": "stdout",
     "output_type": "stream",
     "text": [
      "100 is not of type 'string'\n",
      "\n",
      "Failed validating 'type' in schema['properties']['middleInitial']:\n",
      "    {'maxLength': 1, 'minLength': 1, 'type': 'string'}\n",
      "\n",
      "On instance['middleInitial']:\n",
      "    100\n",
      "-----------------------\n",
      "'Unknown' is not of type 'integer'\n",
      "\n",
      "Failed validating 'type' in schema['properties']['age']:\n",
      "    {'minimum': 0, 'type': 'integer'}\n",
      "\n",
      "On instance['age']:\n",
      "    'Unknown'\n",
      "-----------------------\n"
     ]
    }
   ],
   "source": [
    "json_doc = p2\n",
    "\n",
    "for error in validator.iter_errors(loads(json_doc)):\n",
    "    print(error, end='\\n-----------------------\\n')"
   ]
  },
  {
   "cell_type": "code",
   "execution_count": 26,
   "metadata": {},
   "outputs": [
    {
     "name": "stdout",
     "output_type": "stream",
     "text": [
      "-10.5 is not of type 'integer'\n",
      "\n",
      "Failed validating 'type' in schema['properties']['age']:\n",
      "    {'minimum': 0, 'type': 'integer'}\n",
      "\n",
      "On instance['age']:\n",
      "    -10.5\n",
      "-----------------------\n",
      "-10.5 is less than the minimum of 0\n",
      "\n",
      "Failed validating 'minimum' in schema['properties']['age']:\n",
      "    {'minimum': 0, 'type': 'integer'}\n",
      "\n",
      "On instance['age']:\n",
      "    -10.5\n",
      "-----------------------\n",
      "'lastName' is a required property\n",
      "\n",
      "Failed validating 'required' in schema:\n",
      "    {'properties': {'age': {'minimum': 0, 'type': 'integer'},\n",
      "                    'eyeColor': {'enum': ['amber',\n",
      "                                          'blue',\n",
      "                                          'brown',\n",
      "                                          'gray',\n",
      "                                          'green',\n",
      "                                          'hazel',\n",
      "                                          'red',\n",
      "                                          'violet'],\n",
      "                                 'type': 'string'},\n",
      "                    'firstName': {'minLength': 1, 'type': 'string'},\n",
      "                    'lastName': {'minLength': 1, 'type': 'string'},\n",
      "                    'middleInitial': {'maxLength': 1,\n",
      "                                      'minLength': 1,\n",
      "                                      'type': 'string'}},\n",
      "     'required': ['firstName', 'lastName'],\n",
      "     'type': 'object'}\n",
      "\n",
      "On instance:\n",
      "    {'age': -10.5, 'firstName': 'John'}\n",
      "-----------------------\n"
     ]
    }
   ],
   "source": [
    "json_doc = p3\n",
    "\n",
    "for error in validator.iter_errors(loads(json_doc)):\n",
    "    print(error, end='\\n-----------------------\\n')"
   ]
  },
  {
   "cell_type": "code",
   "execution_count": 27,
   "metadata": {},
   "outputs": [],
   "source": [
    "p4 = '''\n",
    "{\n",
    "   \"firstName\": \"john\",\n",
    "   \"middleInitial\": null,\n",
    "   \"lastName\": \"Cleese\",\n",
    "   \"eyeColor\": \"blue-gray\"\n",
    "}\n",
    "'''"
   ]
  },
  {
   "cell_type": "code",
   "execution_count": 28,
   "metadata": {},
   "outputs": [
    {
     "name": "stdout",
     "output_type": "stream",
     "text": [
      "None is not of type 'string'\n",
      "\n",
      "Failed validating 'type' in schema['properties']['middleInitial']:\n",
      "    {'maxLength': 1, 'minLength': 1, 'type': 'string'}\n",
      "\n",
      "On instance['middleInitial']:\n",
      "    None\n",
      "-----------------------\n",
      "'blue-gray' is not one of ['amber', 'blue', 'brown', 'gray', 'green', 'hazel', 'red', 'violet']\n",
      "\n",
      "Failed validating 'enum' in schema['properties']['eyeColor']:\n",
      "    {'enum': ['amber',\n",
      "              'blue',\n",
      "              'brown',\n",
      "              'gray',\n",
      "              'green',\n",
      "              'hazel',\n",
      "              'red',\n",
      "              'violet'],\n",
      "     'type': 'string'}\n",
      "\n",
      "On instance['eyeColor']:\n",
      "    'blue-gray'\n",
      "-----------------------\n"
     ]
    }
   ],
   "source": [
    "json_doc = p4\n",
    "\n",
    "for error in validator.iter_errors(loads(json_doc)):\n",
    "    print(error, end='\\n-----------------------\\n')"
   ]
  },
  {
   "cell_type": "code",
   "execution_count": 29,
   "metadata": {},
   "outputs": [],
   "source": [
    "p5 = '''\n",
    "{\n",
    "   \"firstName\": \"john\",\n",
    "   \"lastName\": \"Cleese\",\n",
    "   \"eyeColor\": \"blue\"\n",
    "}\n",
    "'''"
   ]
  },
  {
   "cell_type": "code",
   "execution_count": 30,
   "metadata": {},
   "outputs": [],
   "source": [
    "json_doc = p5\n",
    "\n",
    "for error in validator.iter_errors(loads(json_doc)):\n",
    "    print(error, end='\\n-----------------------\\n')"
   ]
  }
 ],
 "metadata": {
  "kernelspec": {
   "display_name": "Python 3",
   "language": "python",
   "name": "python3"
  },
  "language_info": {
   "codemirror_mode": {
    "name": "ipython",
    "version": 3
   },
   "file_extension": ".py",
   "mimetype": "text/x-python",
   "name": "python",
   "nbconvert_exporter": "python",
   "pygments_lexer": "ipython3",
   "version": "3.7.6"
  }
 },
 "nbformat": 4,
 "nbformat_minor": 4
}
