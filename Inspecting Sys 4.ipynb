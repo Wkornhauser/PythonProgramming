{
 "cells": [
  {
   "cell_type": "code",
   "execution_count": 1,
   "metadata": {},
   "outputs": [],
   "source": [
    "import sys"
   ]
  },
  {
   "cell_type": "code",
   "execution_count": 2,
   "metadata": {},
   "outputs": [
    {
     "name": "stdout",
     "output_type": "stream",
     "text": [
      "IPython\n",
      "IPython.core\n",
      "IPython.core.alias\n",
      "IPython.core.application\n",
      "IPython.core.async_helpers\n",
      "IPython.core.autocall\n",
      "IPython.core.builtin_trap\n",
      "IPython.core.compilerop\n",
      "IPython.core.completer\n",
      "IPython.core.completerlib\n",
      "IPython.core.crashhandler\n",
      "IPython.core.debugger\n",
      "IPython.core.display\n",
      "IPython.core.display_trap\n",
      "IPython.core.displayhook\n",
      "IPython.core.displaypub\n",
      "IPython.core.error\n",
      "IPython.core.events\n",
      "IPython.core.excolors\n",
      "IPython.core.extensions\n",
      "IPython.core.formatters\n",
      "IPython.core.getipython\n",
      "IPython.core.history\n",
      "IPython.core.hooks\n",
      "IPython.core.inputtransformer2\n",
      "IPython.core.interactiveshell\n",
      "IPython.core.latex_symbols\n",
      "IPython.core.logger\n",
      "IPython.core.macro\n",
      "IPython.core.magic\n",
      "IPython.core.magic_arguments\n",
      "IPython.core.magics\n",
      "IPython.core.magics.auto\n",
      "IPython.core.magics.basic\n",
      "IPython.core.magics.code\n",
      "IPython.core.magics.config\n",
      "IPython.core.magics.display\n",
      "IPython.core.magics.execution\n",
      "IPython.core.magics.extension\n",
      "IPython.core.magics.history\n",
      "IPython.core.magics.logging\n",
      "IPython.core.magics.namespace\n",
      "IPython.core.magics.osm\n",
      "IPython.core.magics.packaging\n",
      "IPython.core.magics.pylab\n",
      "IPython.core.magics.script\n",
      "IPython.core.oinspect\n",
      "IPython.core.page\n",
      "IPython.core.payload\n",
      "IPython.core.payloadpage\n",
      "IPython.core.prefilter\n",
      "IPython.core.profiledir\n",
      "IPython.core.pylabtools\n",
      "IPython.core.release\n",
      "IPython.core.shellapp\n",
      "IPython.core.splitinput\n",
      "IPython.core.ultratb\n",
      "IPython.core.usage\n",
      "IPython.display\n",
      "IPython.extensions\n",
      "IPython.extensions.storemagic\n",
      "IPython.lib\n",
      "IPython.lib.backgroundjobs\n",
      "IPython.lib.clipboard\n",
      "IPython.lib.display\n",
      "IPython.lib.pretty\n",
      "IPython.lib.security\n",
      "IPython.paths\n",
      "IPython.terminal\n",
      "IPython.terminal.debugger\n",
      "IPython.terminal.embed\n",
      "IPython.terminal.interactiveshell\n",
      "IPython.terminal.ipapp\n",
      "IPython.terminal.magics\n",
      "IPython.terminal.prompts\n",
      "IPython.terminal.pt_inputhooks\n",
      "IPython.terminal.ptutils\n",
      "IPython.terminal.shortcuts\n",
      "IPython.testing\n",
      "IPython.testing.skipdoctest\n",
      "IPython.utils\n",
      "IPython.utils.PyColorize\n",
      "IPython.utils._process_common\n",
      "IPython.utils._process_win32\n",
      "IPython.utils._sysinfo\n",
      "IPython.utils.capture\n",
      "IPython.utils.colorable\n",
      "IPython.utils.coloransi\n",
      "IPython.utils.contexts\n",
      "IPython.utils.data\n",
      "IPython.utils.decorators\n",
      "IPython.utils.dir2\n",
      "IPython.utils.encoding\n",
      "IPython.utils.frame\n",
      "IPython.utils.generics\n",
      "IPython.utils.importstring\n",
      "IPython.utils.io\n",
      "IPython.utils.ipstruct\n",
      "IPython.utils.module_paths\n",
      "IPython.utils.openpy\n",
      "IPython.utils.path\n",
      "IPython.utils.process\n",
      "IPython.utils.py3compat\n",
      "IPython.utils.sentinel\n",
      "IPython.utils.strdispatch\n",
      "IPython.utils.sysinfo\n",
      "IPython.utils.syspathcontext\n",
      "IPython.utils.tempdir\n",
      "IPython.utils.terminal\n",
      "IPython.utils.text\n",
      "IPython.utils.timing\n",
      "IPython.utils.tokenutil\n",
      "IPython.utils.wildcard\n",
      "__future__\n",
      "__main__\n",
      "_abc\n",
      "_ast\n",
      "_asyncio\n",
      "_bisect\n",
      "_blake2\n",
      "_bootlocale\n",
      "_bz2\n",
      "_codecs\n",
      "_collections\n",
      "_collections_abc\n",
      "_compat_pickle\n",
      "_compression\n",
      "_contextvars\n",
      "_ctypes\n",
      "_cython_0_29_14\n",
      "_datetime\n",
      "_decimal\n",
      "_frozen_importlib\n",
      "_frozen_importlib_external\n",
      "_functools\n",
      "_hashlib\n",
      "_heapq\n",
      "_imp\n",
      "_io\n",
      "_json\n",
      "_locale\n",
      "_lsprof\n",
      "_lzma\n",
      "_opcode\n",
      "_operator\n",
      "_overlapped\n",
      "_pickle\n",
      "_queue\n",
      "_random\n",
      "_sha3\n",
      "_signal\n",
      "_sitebuiltins\n",
      "_socket\n",
      "_sqlite3\n",
      "_sre\n",
      "_ssl\n",
      "_stat\n",
      "_string\n",
      "_strptime\n",
      "_struct\n",
      "_thread\n",
      "_warnings\n",
      "_weakref\n",
      "_weakrefset\n",
      "_winapi\n",
      "abc\n",
      "argparse\n",
      "array\n",
      "ast\n",
      "asyncio\n",
      "asyncio.base_events\n",
      "asyncio.base_futures\n",
      "asyncio.base_subprocess\n",
      "asyncio.base_tasks\n",
      "asyncio.constants\n",
      "asyncio.coroutines\n",
      "asyncio.events\n",
      "asyncio.format_helpers\n",
      "asyncio.futures\n",
      "asyncio.locks\n",
      "asyncio.log\n",
      "asyncio.proactor_events\n",
      "asyncio.protocols\n",
      "asyncio.queues\n",
      "asyncio.runners\n",
      "asyncio.selector_events\n",
      "asyncio.sslproto\n",
      "asyncio.streams\n",
      "asyncio.subprocess\n",
      "asyncio.tasks\n",
      "asyncio.transports\n",
      "asyncio.windows_events\n",
      "asyncio.windows_utils\n",
      "atexit\n",
      "backcall\n",
      "backcall.backcall\n",
      "base64\n",
      "bdb\n",
      "binascii\n",
      "bisect\n",
      "builtins\n",
      "bz2\n",
      "cProfile\n",
      "calendar\n",
      "cmd\n",
      "code\n",
      "codecs\n",
      "codeop\n",
      "collections\n",
      "collections.abc\n",
      "colorama\n",
      "colorama.ansi\n",
      "colorama.ansitowin32\n",
      "colorama.initialise\n",
      "colorama.win32\n",
      "colorama.winterm\n",
      "colorsys\n",
      "concurrent\n",
      "concurrent.futures\n",
      "concurrent.futures._base\n",
      "contextlib\n",
      "contextvars\n",
      "copy\n",
      "copyreg\n",
      "ctypes\n",
      "ctypes._endian\n",
      "ctypes.wintypes\n",
      "cython_runtime\n",
      "datetime\n",
      "dateutil\n",
      "dateutil._common\n",
      "dateutil._version\n",
      "dateutil.parser\n",
      "dateutil.parser._parser\n",
      "dateutil.parser.isoparser\n",
      "dateutil.relativedelta\n",
      "dateutil.tz\n",
      "dateutil.tz._common\n",
      "dateutil.tz._factories\n",
      "dateutil.tz.tz\n",
      "dateutil.tz.win\n",
      "decimal\n",
      "decorator\n",
      "difflib\n",
      "dis\n",
      "distutils\n",
      "distutils.debug\n",
      "distutils.dep_util\n",
      "distutils.errors\n",
      "distutils.log\n",
      "distutils.spawn\n",
      "distutils.util\n",
      "distutils.version\n",
      "email\n",
      "email._encoded_words\n",
      "email._parseaddr\n",
      "email._policybase\n",
      "email.base64mime\n",
      "email.charset\n",
      "email.encoders\n",
      "email.errors\n",
      "email.feedparser\n",
      "email.header\n",
      "email.iterators\n",
      "email.message\n",
      "email.parser\n",
      "email.quoprimime\n",
      "email.utils\n",
      "encodings\n",
      "encodings.aliases\n",
      "encodings.cp1252\n",
      "encodings.latin_1\n",
      "encodings.utf_8\n",
      "enum\n",
      "errno\n",
      "faulthandler\n",
      "filecmp\n",
      "fnmatch\n",
      "functools\n",
      "gc\n",
      "genericpath\n",
      "getopt\n",
      "getpass\n",
      "gettext\n",
      "glob\n",
      "hashlib\n",
      "heapq\n",
      "hmac\n",
      "html\n",
      "html.entities\n",
      "http\n",
      "http.client\n",
      "imp\n",
      "importlib\n",
      "importlib._bootstrap\n",
      "importlib._bootstrap_external\n",
      "importlib.abc\n",
      "importlib.machinery\n",
      "importlib.util\n",
      "inspect\n",
      "io\n",
      "ipykernel\n",
      "ipykernel._version\n",
      "ipykernel.codeutil\n",
      "ipykernel.comm\n",
      "ipykernel.comm.comm\n",
      "ipykernel.comm.manager\n",
      "ipykernel.connect\n",
      "ipykernel.datapub\n",
      "ipykernel.displayhook\n",
      "ipykernel.eventloops\n",
      "ipykernel.heartbeat\n",
      "ipykernel.iostream\n",
      "ipykernel.ipkernel\n",
      "ipykernel.jsonutil\n",
      "ipykernel.kernelapp\n",
      "ipykernel.kernelbase\n",
      "ipykernel.parentpoller\n",
      "ipykernel.pickleutil\n",
      "ipykernel.serialize\n",
      "ipykernel.zmqshell\n",
      "ipython_genutils\n",
      "ipython_genutils._version\n",
      "ipython_genutils.encoding\n",
      "ipython_genutils.importstring\n",
      "ipython_genutils.path\n",
      "ipython_genutils.py3compat\n",
      "ipython_genutils.text\n",
      "itertools\n",
      "jedi\n",
      "jedi._compatibility\n",
      "jedi.api\n",
      "jedi.api.classes\n",
      "jedi.api.completion\n",
      "jedi.api.environment\n",
      "jedi.api.exceptions\n",
      "jedi.api.helpers\n",
      "jedi.api.interpreter\n",
      "jedi.api.keywords\n",
      "jedi.api.project\n",
      "jedi.cache\n",
      "jedi.common\n",
      "jedi.common.context\n",
      "jedi.common.utils\n",
      "jedi.debug\n",
      "jedi.evaluate\n",
      "jedi.evaluate.analysis\n",
      "jedi.evaluate.arguments\n",
      "jedi.evaluate.base_context\n",
      "jedi.evaluate.cache\n",
      "jedi.evaluate.compiled\n",
      "jedi.evaluate.compiled.access\n",
      "jedi.evaluate.compiled.context\n",
      "jedi.evaluate.compiled.getattr_static\n",
      "jedi.evaluate.compiled.mixed\n",
      "jedi.evaluate.compiled.subprocess\n",
      "jedi.evaluate.compiled.subprocess.functions\n",
      "jedi.evaluate.context\n",
      "jedi.evaluate.context.function\n",
      "jedi.evaluate.context.instance\n",
      "jedi.evaluate.context.iterable\n",
      "jedi.evaluate.context.klass\n",
      "jedi.evaluate.context.module\n",
      "jedi.evaluate.docstrings\n",
      "jedi.evaluate.filters\n",
      "jedi.evaluate.finder\n",
      "jedi.evaluate.flow_analysis\n",
      "jedi.evaluate.gradual\n",
      "jedi.evaluate.gradual.annotation\n",
      "jedi.evaluate.gradual.conversion\n",
      "jedi.evaluate.gradual.stub_context\n",
      "jedi.evaluate.gradual.typeshed\n",
      "jedi.evaluate.gradual.typing\n",
      "jedi.evaluate.gradual.utils\n",
      "jedi.evaluate.helpers\n",
      "jedi.evaluate.imports\n",
      "jedi.evaluate.lazy_context\n",
      "jedi.evaluate.names\n",
      "jedi.evaluate.param\n",
      "jedi.evaluate.parser_cache\n",
      "jedi.evaluate.recursion\n",
      "jedi.evaluate.signature\n",
      "jedi.evaluate.syntax_tree\n",
      "jedi.evaluate.sys_path\n",
      "jedi.evaluate.usages\n",
      "jedi.evaluate.utils\n",
      "jedi.file_io\n",
      "jedi.parser_utils\n",
      "jedi.settings\n",
      "json\n",
      "json.decoder\n",
      "json.encoder\n",
      "json.scanner\n",
      "jupyter_client\n",
      "jupyter_client._version\n",
      "jupyter_client.adapter\n",
      "jupyter_client.asynchronous\n",
      "jupyter_client.asynchronous.channels\n",
      "jupyter_client.asynchronous.client\n",
      "jupyter_client.blocking\n",
      "jupyter_client.blocking.channels\n",
      "jupyter_client.blocking.client\n",
      "jupyter_client.channels\n",
      "jupyter_client.channelsabc\n",
      "jupyter_client.client\n",
      "jupyter_client.clientabc\n",
      "jupyter_client.connect\n",
      "jupyter_client.jsonutil\n",
      "jupyter_client.kernelspec\n",
      "jupyter_client.launcher\n",
      "jupyter_client.localinterfaces\n",
      "jupyter_client.manager\n",
      "jupyter_client.managerabc\n",
      "jupyter_client.multikernelmanager\n",
      "jupyter_client.session\n",
      "jupyter_core\n",
      "jupyter_core.paths\n",
      "jupyter_core.version\n",
      "keyword\n",
      "linecache\n",
      "locale\n",
      "logging\n",
      "logging.handlers\n",
      "lzma\n",
      "marshal\n",
      "math\n",
      "mimetypes\n",
      "mpl_toolkits\n",
      "msvcrt\n",
      "nt\n",
      "ntpath\n",
      "ntsecuritycon\n",
      "nturl2path\n",
      "numbers\n",
      "opcode\n",
      "operator\n",
      "os\n",
      "os.path\n",
      "parso\n",
      "parso._compatibility\n",
      "parso.cache\n",
      "parso.file_io\n",
      "parso.grammar\n",
      "parso.normalizer\n",
      "parso.parser\n",
      "parso.pgen2\n",
      "parso.pgen2.generator\n",
      "parso.pgen2.grammar_parser\n",
      "parso.python\n",
      "parso.python.diff\n",
      "parso.python.errors\n",
      "parso.python.parser\n",
      "parso.python.pep8\n",
      "parso.python.prefix\n",
      "parso.python.token\n",
      "parso.python.tokenize\n",
      "parso.python.tree\n",
      "parso.tree\n",
      "parso.utils\n",
      "pathlib\n",
      "pdb\n",
      "pickle\n",
      "pickleshare\n",
      "pkgutil\n",
      "platform\n",
      "posixpath\n",
      "pprint\n",
      "profile\n",
      "prompt_toolkit\n",
      "prompt_toolkit.application\n",
      "prompt_toolkit.application.application\n",
      "prompt_toolkit.application.current\n",
      "prompt_toolkit.application.dummy\n",
      "prompt_toolkit.application.run_in_terminal\n",
      "prompt_toolkit.auto_suggest\n",
      "prompt_toolkit.buffer\n",
      "prompt_toolkit.cache\n",
      "prompt_toolkit.clipboard\n",
      "prompt_toolkit.clipboard.base\n",
      "prompt_toolkit.clipboard.in_memory\n",
      "prompt_toolkit.completion\n",
      "prompt_toolkit.completion.base\n",
      "prompt_toolkit.completion.filesystem\n",
      "prompt_toolkit.completion.fuzzy_completer\n",
      "prompt_toolkit.completion.nested\n",
      "prompt_toolkit.completion.word_completer\n",
      "prompt_toolkit.data_structures\n",
      "prompt_toolkit.document\n",
      "prompt_toolkit.enums\n",
      "prompt_toolkit.eventloop\n",
      "prompt_toolkit.eventloop.async_generator\n",
      "prompt_toolkit.eventloop.inputhook\n",
      "prompt_toolkit.eventloop.utils\n",
      "prompt_toolkit.filters\n",
      "prompt_toolkit.filters.app\n",
      "prompt_toolkit.filters.base\n",
      "prompt_toolkit.filters.cli\n",
      "prompt_toolkit.filters.utils\n",
      "prompt_toolkit.formatted_text\n",
      "prompt_toolkit.formatted_text.ansi\n",
      "prompt_toolkit.formatted_text.base\n",
      "prompt_toolkit.formatted_text.html\n",
      "prompt_toolkit.formatted_text.pygments\n",
      "prompt_toolkit.formatted_text.utils\n",
      "prompt_toolkit.history\n",
      "prompt_toolkit.input\n",
      "prompt_toolkit.input.ansi_escape_sequences\n",
      "prompt_toolkit.input.base\n",
      "prompt_toolkit.input.defaults\n",
      "prompt_toolkit.input.typeahead\n",
      "prompt_toolkit.input.vt100_parser\n",
      "prompt_toolkit.key_binding\n",
      "prompt_toolkit.key_binding.bindings\n",
      "prompt_toolkit.key_binding.bindings.auto_suggest\n",
      "prompt_toolkit.key_binding.bindings.basic\n",
      "prompt_toolkit.key_binding.bindings.completion\n",
      "prompt_toolkit.key_binding.bindings.cpr\n",
      "prompt_toolkit.key_binding.bindings.emacs\n",
      "prompt_toolkit.key_binding.bindings.focus\n",
      "prompt_toolkit.key_binding.bindings.mouse\n",
      "prompt_toolkit.key_binding.bindings.named_commands\n",
      "prompt_toolkit.key_binding.bindings.open_in_editor\n",
      "prompt_toolkit.key_binding.bindings.page_navigation\n",
      "prompt_toolkit.key_binding.bindings.scroll\n",
      "prompt_toolkit.key_binding.bindings.vi\n",
      "prompt_toolkit.key_binding.defaults\n",
      "prompt_toolkit.key_binding.digraphs\n",
      "prompt_toolkit.key_binding.emacs_state\n",
      "prompt_toolkit.key_binding.key_bindings\n",
      "prompt_toolkit.key_binding.key_processor\n",
      "prompt_toolkit.key_binding.vi_state\n",
      "prompt_toolkit.keys\n",
      "prompt_toolkit.layout\n",
      "prompt_toolkit.layout.containers\n",
      "prompt_toolkit.layout.controls\n",
      "prompt_toolkit.layout.dimension\n",
      "prompt_toolkit.layout.dummy\n",
      "prompt_toolkit.layout.layout\n",
      "prompt_toolkit.layout.margins\n",
      "prompt_toolkit.layout.menus\n",
      "prompt_toolkit.layout.mouse_handlers\n",
      "prompt_toolkit.layout.processors\n",
      "prompt_toolkit.layout.screen\n",
      "prompt_toolkit.layout.utils\n",
      "prompt_toolkit.lexers\n",
      "prompt_toolkit.lexers.base\n",
      "prompt_toolkit.lexers.pygments\n",
      "prompt_toolkit.mouse_events\n",
      "prompt_toolkit.output\n",
      "prompt_toolkit.output.base\n",
      "prompt_toolkit.output.color_depth\n",
      "prompt_toolkit.output.defaults\n",
      "prompt_toolkit.output.vt100\n",
      "prompt_toolkit.patch_stdout\n",
      "prompt_toolkit.renderer\n",
      "prompt_toolkit.search\n",
      "prompt_toolkit.selection\n",
      "prompt_toolkit.shortcuts\n",
      "prompt_toolkit.shortcuts.dialogs\n",
      "prompt_toolkit.shortcuts.progress_bar\n",
      "prompt_toolkit.shortcuts.progress_bar.base\n",
      "prompt_toolkit.shortcuts.progress_bar.formatters\n",
      "prompt_toolkit.shortcuts.prompt\n",
      "prompt_toolkit.shortcuts.utils\n",
      "prompt_toolkit.styles\n",
      "prompt_toolkit.styles.base\n",
      "prompt_toolkit.styles.defaults\n",
      "prompt_toolkit.styles.named_colors\n",
      "prompt_toolkit.styles.pygments\n",
      "prompt_toolkit.styles.style\n",
      "prompt_toolkit.styles.style_transformation\n",
      "prompt_toolkit.utils\n",
      "prompt_toolkit.validation\n",
      "prompt_toolkit.widgets\n",
      "prompt_toolkit.widgets.base\n",
      "prompt_toolkit.widgets.dialogs\n",
      "prompt_toolkit.widgets.menus\n",
      "prompt_toolkit.widgets.toolbars\n",
      "pstats\n",
      "pydoc\n",
      "pydoc_data\n",
      "pydoc_data.topics\n",
      "pygments\n",
      "pygments.filter\n",
      "pygments.filters\n",
      "pygments.formatter\n",
      "pygments.formatters\n",
      "pygments.formatters._mapping\n",
      "pygments.formatters.html\n",
      "pygments.lexer\n",
      "pygments.lexers\n",
      "pygments.lexers._mapping\n",
      "pygments.lexers.python\n",
      "pygments.modeline\n",
      "pygments.plugin\n",
      "pygments.regexopt\n",
      "pygments.style\n",
      "pygments.styles\n",
      "pygments.token\n",
      "pygments.unistring\n",
      "pygments.util\n",
      "queue\n",
      "quopri\n",
      "random\n",
      "re\n",
      "reprlib\n",
      "runpy\n",
      "select\n",
      "selectors\n",
      "shlex\n",
      "shutil\n",
      "signal\n",
      "site\n",
      "six\n",
      "six.moves\n",
      "socket\n",
      "sphinxcontrib\n",
      "sqlite3\n",
      "sqlite3.dbapi2\n",
      "sre_compile\n",
      "sre_constants\n",
      "sre_parse\n",
      "ssl\n",
      "stat\n",
      "storemagic\n",
      "string\n",
      "struct\n",
      "subprocess\n",
      "sys\n",
      "tempfile\n",
      "textwrap\n",
      "threading\n",
      "time\n",
      "timeit\n",
      "token\n",
      "tokenize\n",
      "tornado\n",
      "tornado.concurrent\n",
      "tornado.escape\n",
      "tornado.gen\n",
      "tornado.ioloop\n",
      "tornado.locks\n",
      "tornado.log\n",
      "tornado.platform\n",
      "tornado.platform.asyncio\n",
      "tornado.queues\n",
      "tornado.speedups\n",
      "tornado.util\n",
      "traceback\n",
      "traitlets\n",
      "traitlets._version\n",
      "traitlets.config\n",
      "traitlets.config.application\n",
      "traitlets.config.configurable\n",
      "traitlets.config.loader\n",
      "traitlets.log\n",
      "traitlets.traitlets\n",
      "traitlets.utils\n",
      "traitlets.utils.bunch\n",
      "traitlets.utils.getargspec\n",
      "traitlets.utils.importstring\n",
      "traitlets.utils.sentinel\n",
      "types\n",
      "typing\n",
      "typing.io\n",
      "typing.re\n",
      "unicodedata\n",
      "urllib\n",
      "urllib.error\n",
      "urllib.parse\n",
      "urllib.request\n",
      "urllib.response\n",
      "uu\n",
      "uuid\n",
      "warnings\n",
      "wcwidth\n",
      "wcwidth.table_wide\n",
      "wcwidth.table_zero\n",
      "wcwidth.wcwidth\n",
      "weakref\n",
      "win32api\n",
      "win32security\n",
      "winreg\n",
      "xml\n",
      "xml.dom\n",
      "xml.dom.NodeFilter\n",
      "xml.dom.domreg\n",
      "xml.dom.minicompat\n",
      "xml.dom.minidom\n",
      "xml.dom.xmlbuilder\n",
      "zipimport\n",
      "zlib\n",
      "zmq\n",
      "zmq._future\n",
      "zmq.asyncio\n",
      "zmq.backend\n",
      "zmq.backend.cython\n",
      "zmq.backend.cython._device\n",
      "zmq.backend.cython._poll\n",
      "zmq.backend.cython._proxy_steerable\n",
      "zmq.backend.cython._version\n",
      "zmq.backend.cython.constants\n",
      "zmq.backend.cython.context\n",
      "zmq.backend.cython.error\n",
      "zmq.backend.cython.message\n",
      "zmq.backend.cython.socket\n",
      "zmq.backend.cython.utils\n",
      "zmq.backend.select\n",
      "zmq.error\n",
      "zmq.eventloop\n",
      "zmq.eventloop.ioloop\n",
      "zmq.eventloop.zmqstream\n",
      "zmq.sugar\n",
      "zmq.sugar.attrsettr\n",
      "zmq.sugar.constants\n",
      "zmq.sugar.context\n",
      "zmq.sugar.frame\n",
      "zmq.sugar.poll\n",
      "zmq.sugar.socket\n",
      "zmq.sugar.stopwatch\n",
      "zmq.sugar.tracker\n",
      "zmq.sugar.version\n",
      "zmq.utils\n",
      "zmq.utils.constant_names\n",
      "zmq.utils.jsonapi\n",
      "zmq.utils.strtypes\n"
     ]
    }
   ],
   "source": [
    "for key in sorted(sys.modules.keys()):\n",
    "    print(key)"
   ]
  },
  {
   "cell_type": "code",
   "execution_count": 3,
   "metadata": {},
   "outputs": [
    {
     "data": {
      "text/plain": [
       "False"
      ]
     },
     "execution_count": 3,
     "metadata": {},
     "output_type": "execute_result"
    }
   ],
   "source": [
    "'cmath' in sys.modules"
   ]
  },
  {
   "cell_type": "code",
   "execution_count": 5,
   "metadata": {},
   "outputs": [
    {
     "data": {
      "text/plain": [
       "False"
      ]
     },
     "execution_count": 5,
     "metadata": {},
     "output_type": "execute_result"
    }
   ],
   "source": [
    "'cmath' in globals()"
   ]
  },
  {
   "cell_type": "code",
   "execution_count": 7,
   "metadata": {},
   "outputs": [],
   "source": [
    "from cmath import exp"
   ]
  },
  {
   "cell_type": "code",
   "execution_count": 8,
   "metadata": {},
   "outputs": [
    {
     "data": {
      "text/plain": [
       "False"
      ]
     },
     "execution_count": 8,
     "metadata": {},
     "output_type": "execute_result"
    }
   ],
   "source": [
    "'cmath' in globals()"
   ]
  },
  {
   "cell_type": "code",
   "execution_count": 9,
   "metadata": {},
   "outputs": [
    {
     "data": {
      "text/plain": [
       "True"
      ]
     },
     "execution_count": 9,
     "metadata": {},
     "output_type": "execute_result"
    }
   ],
   "source": [
    "'cmath' in sys.modules"
   ]
  },
  {
   "cell_type": "code",
   "execution_count": 11,
   "metadata": {},
   "outputs": [
    {
     "data": {
      "text/plain": [
       "True"
      ]
     },
     "execution_count": 11,
     "metadata": {},
     "output_type": "execute_result"
    }
   ],
   "source": [
    "'exp' in globals()"
   ]
  },
  {
   "cell_type": "code",
   "execution_count": 12,
   "metadata": {},
   "outputs": [
    {
     "data": {
      "text/plain": [
       "<function cmath.exp(z, /)>"
      ]
     },
     "execution_count": 12,
     "metadata": {},
     "output_type": "execute_result"
    }
   ],
   "source": [
    "exp"
   ]
  },
  {
   "cell_type": "code",
   "execution_count": 13,
   "metadata": {},
   "outputs": [
    {
     "data": {
      "text/plain": [
       "2302128181064"
      ]
     },
     "execution_count": 13,
     "metadata": {},
     "output_type": "execute_result"
    }
   ],
   "source": [
    "id(exp)"
   ]
  },
  {
   "cell_type": "code",
   "execution_count": 14,
   "metadata": {},
   "outputs": [
    {
     "data": {
      "text/plain": [
       "True"
      ]
     },
     "execution_count": 14,
     "metadata": {},
     "output_type": "execute_result"
    }
   ],
   "source": [
    "'cmath' in sys.modules"
   ]
  },
  {
   "cell_type": "code",
   "execution_count": 15,
   "metadata": {},
   "outputs": [
    {
     "data": {
      "text/plain": [
       "(-3.074932320639359+6.71884969742825j)"
      ]
     },
     "execution_count": 15,
     "metadata": {},
     "output_type": "execute_result"
    }
   ],
   "source": [
    "exp(2+2j)"
   ]
  },
  {
   "cell_type": "code",
   "execution_count": 16,
   "metadata": {},
   "outputs": [
    {
     "ename": "NameError",
     "evalue": "name 'cmath' is not defined",
     "output_type": "error",
     "traceback": [
      "\u001b[1;31m---------------------------------------------------------------------------\u001b[0m",
      "\u001b[1;31mNameError\u001b[0m                                 Traceback (most recent call last)",
      "\u001b[1;32m<ipython-input-16-2ba095096fc8>\u001b[0m in \u001b[0;36m<module>\u001b[1;34m\u001b[0m\n\u001b[1;32m----> 1\u001b[1;33m \u001b[0mcmath\u001b[0m\u001b[1;33m.\u001b[0m\u001b[0mexp\u001b[0m\u001b[1;33m(\u001b[0m\u001b[1;33m)\u001b[0m\u001b[1;33m\u001b[0m\u001b[1;33m\u001b[0m\u001b[0m\n\u001b[0m",
      "\u001b[1;31mNameError\u001b[0m: name 'cmath' is not defined"
     ]
    }
   ],
   "source": [
    "cmath.exp()"
   ]
  },
  {
   "cell_type": "code",
   "execution_count": 17,
   "metadata": {},
   "outputs": [],
   "source": [
    "cmath = sys.modules['cmath']"
   ]
  },
  {
   "cell_type": "code",
   "execution_count": 18,
   "metadata": {},
   "outputs": [
    {
     "data": {
      "text/plain": [
       "True"
      ]
     },
     "execution_count": 18,
     "metadata": {},
     "output_type": "execute_result"
    }
   ],
   "source": [
    "'cmath' in globals()"
   ]
  },
  {
   "cell_type": "code",
   "execution_count": 19,
   "metadata": {},
   "outputs": [
    {
     "data": {
      "text/plain": [
       "(7.38905609893065+0j)"
      ]
     },
     "execution_count": 19,
     "metadata": {},
     "output_type": "execute_result"
    }
   ],
   "source": [
    "cmath.exp(2)"
   ]
  },
  {
   "cell_type": "code",
   "execution_count": 20,
   "metadata": {},
   "outputs": [
    {
     "data": {
      "text/plain": [
       "(0.8939966636005579-0j)"
      ]
     },
     "execution_count": 20,
     "metadata": {},
     "output_type": "execute_result"
    }
   ],
   "source": [
    "cmath.sin(90)"
   ]
  },
  {
   "cell_type": "code",
   "execution_count": 25,
   "metadata": {},
   "outputs": [
    {
     "data": {
      "text/plain": [
       "(1.2246467991473532e-16-0j)"
      ]
     },
     "execution_count": 25,
     "metadata": {},
     "output_type": "execute_result"
    }
   ],
   "source": [
    "cmath.sin(cmath.pi)"
   ]
  },
  {
   "cell_type": "code",
   "execution_count": 26,
   "metadata": {},
   "outputs": [],
   "source": [
    "from cmath import *"
   ]
  },
  {
   "cell_type": "code",
   "execution_count": 27,
   "metadata": {},
   "outputs": [
    {
     "data": {
      "text/plain": [
       "{'__name__': '__main__',\n",
       " '__doc__': 'Automatically created module for IPython interactive environment',\n",
       " '__package__': None,\n",
       " '__loader__': None,\n",
       " '__spec__': None,\n",
       " '__builtin__': <module 'builtins' (built-in)>,\n",
       " '__builtins__': <module 'builtins' (built-in)>,\n",
       " '_ih': ['',\n",
       "  'import sys',\n",
       "  'for key in sorted(sys.modules.keys()):\\n    print(key)',\n",
       "  \"'cmath' in sys.modules\",\n",
       "  \"'cmaths' in globals()\",\n",
       "  \"'cmath' in globals()\",\n",
       "  'from cmath impoort exp',\n",
       "  'from cmath import exp',\n",
       "  \"'cmath' in globals()\",\n",
       "  \"'cmath' in sys.modules\",\n",
       "  'exp in globals()',\n",
       "  \"'exp' in globals()\",\n",
       "  'exp',\n",
       "  'id(exp)',\n",
       "  \"'cmath' in sys.modules\",\n",
       "  'exp(2+2j)',\n",
       "  'cmath.exp()',\n",
       "  \"cmath = sys.modules['cmath']\",\n",
       "  \"'cmath' in globals()\",\n",
       "  'cmath.exp(2)',\n",
       "  'cmath.sin(90)',\n",
       "  'cmath.sin(pi())',\n",
       "  'cmath.sin(cmath.pi())',\n",
       "  'cmath.sin(cmath.pi())',\n",
       "  'cmath.pi',\n",
       "  'cmath.sin(cmath.pi)',\n",
       "  'from cmath import *',\n",
       "  'globals()'],\n",
       " '_oh': {3: False,\n",
       "  4: False,\n",
       "  5: False,\n",
       "  8: False,\n",
       "  9: True,\n",
       "  10: False,\n",
       "  11: True,\n",
       "  12: <function cmath.exp(z, /)>,\n",
       "  13: 2302128181064,\n",
       "  14: True,\n",
       "  15: (-3.074932320639359+6.71884969742825j),\n",
       "  18: True,\n",
       "  19: (7.38905609893065+0j),\n",
       "  20: (0.8939966636005579-0j),\n",
       "  24: 3.141592653589793,\n",
       "  25: (1.2246467991473532e-16-0j)},\n",
       " '_dh': ['C:\\\\Users\\\\Wil'],\n",
       " 'In': ['',\n",
       "  'import sys',\n",
       "  'for key in sorted(sys.modules.keys()):\\n    print(key)',\n",
       "  \"'cmath' in sys.modules\",\n",
       "  \"'cmaths' in globals()\",\n",
       "  \"'cmath' in globals()\",\n",
       "  'from cmath impoort exp',\n",
       "  'from cmath import exp',\n",
       "  \"'cmath' in globals()\",\n",
       "  \"'cmath' in sys.modules\",\n",
       "  'exp in globals()',\n",
       "  \"'exp' in globals()\",\n",
       "  'exp',\n",
       "  'id(exp)',\n",
       "  \"'cmath' in sys.modules\",\n",
       "  'exp(2+2j)',\n",
       "  'cmath.exp()',\n",
       "  \"cmath = sys.modules['cmath']\",\n",
       "  \"'cmath' in globals()\",\n",
       "  'cmath.exp(2)',\n",
       "  'cmath.sin(90)',\n",
       "  'cmath.sin(pi())',\n",
       "  'cmath.sin(cmath.pi())',\n",
       "  'cmath.sin(cmath.pi())',\n",
       "  'cmath.pi',\n",
       "  'cmath.sin(cmath.pi)',\n",
       "  'from cmath import *',\n",
       "  'globals()'],\n",
       " 'Out': {3: False,\n",
       "  4: False,\n",
       "  5: False,\n",
       "  8: False,\n",
       "  9: True,\n",
       "  10: False,\n",
       "  11: True,\n",
       "  12: <function cmath.exp(z, /)>,\n",
       "  13: 2302128181064,\n",
       "  14: True,\n",
       "  15: (-3.074932320639359+6.71884969742825j),\n",
       "  18: True,\n",
       "  19: (7.38905609893065+0j),\n",
       "  20: (0.8939966636005579-0j),\n",
       "  24: 3.141592653589793,\n",
       "  25: (1.2246467991473532e-16-0j)},\n",
       " 'get_ipython': <bound method InteractiveShell.get_ipython of <ipykernel.zmqshell.ZMQInteractiveShell object at 0x0000021802F6FB08>>,\n",
       " 'exit': <IPython.core.autocall.ZMQExitAutocall at 0x2180301d308>,\n",
       " 'quit': <IPython.core.autocall.ZMQExitAutocall at 0x2180301d308>,\n",
       " '_': (1.2246467991473532e-16-0j),\n",
       " '__': 3.141592653589793,\n",
       " '___': (0.8939966636005579-0j),\n",
       " '_i': 'from cmath import *',\n",
       " '_ii': 'cmath.sin(cmath.pi)',\n",
       " '_iii': 'cmath.pi',\n",
       " '_i1': 'import sys',\n",
       " 'sys': <module 'sys' (built-in)>,\n",
       " '_i2': 'for key in sorted(sys.modules.keys()):\\n    print(key)',\n",
       " 'key': 'zmq.utils.strtypes',\n",
       " '_i3': \"'cmath' in sys.modules\",\n",
       " '_3': False,\n",
       " '_i4': \"'cmaths' in globals()\",\n",
       " '_4': False,\n",
       " '_i5': \"'cmath' in globals()\",\n",
       " '_5': False,\n",
       " '_i6': 'from cmath impoort exp',\n",
       " '_i7': 'from cmath import exp',\n",
       " 'exp': <function cmath.exp(z, /)>,\n",
       " '_i8': \"'cmath' in globals()\",\n",
       " '_8': False,\n",
       " '_i9': \"'cmath' in sys.modules\",\n",
       " '_9': True,\n",
       " '_i10': 'exp in globals()',\n",
       " '_10': False,\n",
       " '_i11': \"'exp' in globals()\",\n",
       " '_11': True,\n",
       " '_i12': 'exp',\n",
       " '_12': <function cmath.exp(z, /)>,\n",
       " '_i13': 'id(exp)',\n",
       " '_13': 2302128181064,\n",
       " '_i14': \"'cmath' in sys.modules\",\n",
       " '_14': True,\n",
       " '_i15': 'exp(2+2j)',\n",
       " '_15': (-3.074932320639359+6.71884969742825j),\n",
       " '_i16': 'cmath.exp()',\n",
       " '_i17': \"cmath = sys.modules['cmath']\",\n",
       " 'cmath': <module 'cmath' (built-in)>,\n",
       " '_i18': \"'cmath' in globals()\",\n",
       " '_18': True,\n",
       " '_i19': 'cmath.exp(2)',\n",
       " '_19': (7.38905609893065+0j),\n",
       " '_i20': 'cmath.sin(90)',\n",
       " '_20': (0.8939966636005579-0j),\n",
       " '_i21': 'cmath.sin(pi())',\n",
       " '_i22': 'cmath.sin(cmath.pi())',\n",
       " '_i23': 'cmath.sin(cmath.pi())',\n",
       " '_i24': 'cmath.pi',\n",
       " '_24': 3.141592653589793,\n",
       " '_i25': 'cmath.sin(cmath.pi)',\n",
       " '_25': (1.2246467991473532e-16-0j),\n",
       " '_i26': 'from cmath import *',\n",
       " 'acos': <function cmath.acos(z, /)>,\n",
       " 'acosh': <function cmath.acosh(z, /)>,\n",
       " 'asin': <function cmath.asin(z, /)>,\n",
       " 'asinh': <function cmath.asinh(z, /)>,\n",
       " 'atan': <function cmath.atan(z, /)>,\n",
       " 'atanh': <function cmath.atanh(z, /)>,\n",
       " 'cos': <function cmath.cos(z, /)>,\n",
       " 'cosh': <function cmath.cosh(z, /)>,\n",
       " 'isclose': <function cmath.isclose(a, b, *, rel_tol=1e-09, abs_tol=0.0)>,\n",
       " 'isfinite': <function cmath.isfinite(z, /)>,\n",
       " 'isinf': <function cmath.isinf(z, /)>,\n",
       " 'isnan': <function cmath.isnan(z, /)>,\n",
       " 'log': <function cmath.log(x, y_obj=None, /)>,\n",
       " 'log10': <function cmath.log10(z, /)>,\n",
       " 'phase': <function cmath.phase(z, /)>,\n",
       " 'polar': <function cmath.polar(z, /)>,\n",
       " 'rect': <function cmath.rect(r, phi, /)>,\n",
       " 'sin': <function cmath.sin(z, /)>,\n",
       " 'sinh': <function cmath.sinh(z, /)>,\n",
       " 'sqrt': <function cmath.sqrt(z, /)>,\n",
       " 'tan': <function cmath.tan(z, /)>,\n",
       " 'tanh': <function cmath.tanh(z, /)>,\n",
       " 'pi': 3.141592653589793,\n",
       " 'e': 2.718281828459045,\n",
       " 'tau': 6.283185307179586,\n",
       " 'inf': inf,\n",
       " 'infj': infj,\n",
       " 'nan': nan,\n",
       " 'nanj': nanj,\n",
       " '_i27': 'globals()'}"
      ]
     },
     "execution_count": 27,
     "metadata": {},
     "output_type": "execute_result"
    }
   ],
   "source": [
    "globals()"
   ]
  },
  {
   "cell_type": "code",
   "execution_count": 28,
   "metadata": {},
   "outputs": [
    {
     "data": {
      "text/plain": [
       "(24.83130584894638-11.356612711218174j)"
      ]
     },
     "execution_count": 28,
     "metadata": {},
     "output_type": "execute_result"
    }
   ],
   "source": [
    "sin(2+4j)"
   ]
  },
  {
   "cell_type": "code",
   "execution_count": 29,
   "metadata": {},
   "outputs": [],
   "source": [
    "from math import *"
   ]
  },
  {
   "cell_type": "code",
   "execution_count": 30,
   "metadata": {},
   "outputs": [
    {
     "data": {
      "text/plain": [
       "{'__name__': '__main__',\n",
       " '__doc__': 'Automatically created module for IPython interactive environment',\n",
       " '__package__': None,\n",
       " '__loader__': None,\n",
       " '__spec__': None,\n",
       " '__builtin__': <module 'builtins' (built-in)>,\n",
       " '__builtins__': <module 'builtins' (built-in)>,\n",
       " '_ih': ['',\n",
       "  'import sys',\n",
       "  'for key in sorted(sys.modules.keys()):\\n    print(key)',\n",
       "  \"'cmath' in sys.modules\",\n",
       "  \"'cmaths' in globals()\",\n",
       "  \"'cmath' in globals()\",\n",
       "  'from cmath impoort exp',\n",
       "  'from cmath import exp',\n",
       "  \"'cmath' in globals()\",\n",
       "  \"'cmath' in sys.modules\",\n",
       "  'exp in globals()',\n",
       "  \"'exp' in globals()\",\n",
       "  'exp',\n",
       "  'id(exp)',\n",
       "  \"'cmath' in sys.modules\",\n",
       "  'exp(2+2j)',\n",
       "  'cmath.exp()',\n",
       "  \"cmath = sys.modules['cmath']\",\n",
       "  \"'cmath' in globals()\",\n",
       "  'cmath.exp(2)',\n",
       "  'cmath.sin(90)',\n",
       "  'cmath.sin(pi())',\n",
       "  'cmath.sin(cmath.pi())',\n",
       "  'cmath.sin(cmath.pi())',\n",
       "  'cmath.pi',\n",
       "  'cmath.sin(cmath.pi)',\n",
       "  'from cmath import *',\n",
       "  'globals()',\n",
       "  'sin(2+4j)',\n",
       "  'from math import *',\n",
       "  'globals()'],\n",
       " '_oh': {3: False,\n",
       "  4: False,\n",
       "  5: False,\n",
       "  8: False,\n",
       "  9: True,\n",
       "  10: False,\n",
       "  11: True,\n",
       "  12: <function cmath.exp(z, /)>,\n",
       "  13: 2302128181064,\n",
       "  14: True,\n",
       "  15: (-3.074932320639359+6.71884969742825j),\n",
       "  18: True,\n",
       "  19: (7.38905609893065+0j),\n",
       "  20: (0.8939966636005579-0j),\n",
       "  24: 3.141592653589793,\n",
       "  25: (1.2246467991473532e-16-0j),\n",
       "  27: {...},\n",
       "  28: (24.83130584894638-11.356612711218174j)},\n",
       " '_dh': ['C:\\\\Users\\\\Wil'],\n",
       " 'In': ['',\n",
       "  'import sys',\n",
       "  'for key in sorted(sys.modules.keys()):\\n    print(key)',\n",
       "  \"'cmath' in sys.modules\",\n",
       "  \"'cmaths' in globals()\",\n",
       "  \"'cmath' in globals()\",\n",
       "  'from cmath impoort exp',\n",
       "  'from cmath import exp',\n",
       "  \"'cmath' in globals()\",\n",
       "  \"'cmath' in sys.modules\",\n",
       "  'exp in globals()',\n",
       "  \"'exp' in globals()\",\n",
       "  'exp',\n",
       "  'id(exp)',\n",
       "  \"'cmath' in sys.modules\",\n",
       "  'exp(2+2j)',\n",
       "  'cmath.exp()',\n",
       "  \"cmath = sys.modules['cmath']\",\n",
       "  \"'cmath' in globals()\",\n",
       "  'cmath.exp(2)',\n",
       "  'cmath.sin(90)',\n",
       "  'cmath.sin(pi())',\n",
       "  'cmath.sin(cmath.pi())',\n",
       "  'cmath.sin(cmath.pi())',\n",
       "  'cmath.pi',\n",
       "  'cmath.sin(cmath.pi)',\n",
       "  'from cmath import *',\n",
       "  'globals()',\n",
       "  'sin(2+4j)',\n",
       "  'from math import *',\n",
       "  'globals()'],\n",
       " 'Out': {3: False,\n",
       "  4: False,\n",
       "  5: False,\n",
       "  8: False,\n",
       "  9: True,\n",
       "  10: False,\n",
       "  11: True,\n",
       "  12: <function cmath.exp(z, /)>,\n",
       "  13: 2302128181064,\n",
       "  14: True,\n",
       "  15: (-3.074932320639359+6.71884969742825j),\n",
       "  18: True,\n",
       "  19: (7.38905609893065+0j),\n",
       "  20: (0.8939966636005579-0j),\n",
       "  24: 3.141592653589793,\n",
       "  25: (1.2246467991473532e-16-0j),\n",
       "  27: {...},\n",
       "  28: (24.83130584894638-11.356612711218174j)},\n",
       " 'get_ipython': <bound method InteractiveShell.get_ipython of <ipykernel.zmqshell.ZMQInteractiveShell object at 0x0000021802F6FB08>>,\n",
       " 'exit': <IPython.core.autocall.ZMQExitAutocall at 0x2180301d308>,\n",
       " 'quit': <IPython.core.autocall.ZMQExitAutocall at 0x2180301d308>,\n",
       " '_': (24.83130584894638-11.356612711218174j),\n",
       " '__': {...},\n",
       " '___': (1.2246467991473532e-16-0j),\n",
       " '_i': 'from math import *',\n",
       " '_ii': 'sin(2+4j)',\n",
       " '_iii': 'globals()',\n",
       " '_i1': 'import sys',\n",
       " 'sys': <module 'sys' (built-in)>,\n",
       " '_i2': 'for key in sorted(sys.modules.keys()):\\n    print(key)',\n",
       " 'key': 'zmq.utils.strtypes',\n",
       " '_i3': \"'cmath' in sys.modules\",\n",
       " '_3': False,\n",
       " '_i4': \"'cmaths' in globals()\",\n",
       " '_4': False,\n",
       " '_i5': \"'cmath' in globals()\",\n",
       " '_5': False,\n",
       " '_i6': 'from cmath impoort exp',\n",
       " '_i7': 'from cmath import exp',\n",
       " 'exp': <function math.exp(x, /)>,\n",
       " '_i8': \"'cmath' in globals()\",\n",
       " '_8': False,\n",
       " '_i9': \"'cmath' in sys.modules\",\n",
       " '_9': True,\n",
       " '_i10': 'exp in globals()',\n",
       " '_10': False,\n",
       " '_i11': \"'exp' in globals()\",\n",
       " '_11': True,\n",
       " '_i12': 'exp',\n",
       " '_12': <function cmath.exp(z, /)>,\n",
       " '_i13': 'id(exp)',\n",
       " '_13': 2302128181064,\n",
       " '_i14': \"'cmath' in sys.modules\",\n",
       " '_14': True,\n",
       " '_i15': 'exp(2+2j)',\n",
       " '_15': (-3.074932320639359+6.71884969742825j),\n",
       " '_i16': 'cmath.exp()',\n",
       " '_i17': \"cmath = sys.modules['cmath']\",\n",
       " 'cmath': <module 'cmath' (built-in)>,\n",
       " '_i18': \"'cmath' in globals()\",\n",
       " '_18': True,\n",
       " '_i19': 'cmath.exp(2)',\n",
       " '_19': (7.38905609893065+0j),\n",
       " '_i20': 'cmath.sin(90)',\n",
       " '_20': (0.8939966636005579-0j),\n",
       " '_i21': 'cmath.sin(pi())',\n",
       " '_i22': 'cmath.sin(cmath.pi())',\n",
       " '_i23': 'cmath.sin(cmath.pi())',\n",
       " '_i24': 'cmath.pi',\n",
       " '_24': 3.141592653589793,\n",
       " '_i25': 'cmath.sin(cmath.pi)',\n",
       " '_25': (1.2246467991473532e-16-0j),\n",
       " '_i26': 'from cmath import *',\n",
       " 'acos': <function math.acos(x, /)>,\n",
       " 'acosh': <function math.acosh(x, /)>,\n",
       " 'asin': <function math.asin(x, /)>,\n",
       " 'asinh': <function math.asinh(x, /)>,\n",
       " 'atan': <function math.atan(x, /)>,\n",
       " 'atanh': <function math.atanh(x, /)>,\n",
       " 'cos': <function math.cos(x, /)>,\n",
       " 'cosh': <function math.cosh(x, /)>,\n",
       " 'isclose': <function math.isclose(a, b, *, rel_tol=1e-09, abs_tol=0.0)>,\n",
       " 'isfinite': <function math.isfinite(x, /)>,\n",
       " 'isinf': <function math.isinf(x, /)>,\n",
       " 'isnan': <function math.isnan(x, /)>,\n",
       " 'log': <function math.log>,\n",
       " 'log10': <function math.log10(x, /)>,\n",
       " 'phase': <function cmath.phase(z, /)>,\n",
       " 'polar': <function cmath.polar(z, /)>,\n",
       " 'rect': <function cmath.rect(r, phi, /)>,\n",
       " 'sin': <function math.sin(x, /)>,\n",
       " 'sinh': <function math.sinh(x, /)>,\n",
       " 'sqrt': <function math.sqrt(x, /)>,\n",
       " 'tan': <function math.tan(x, /)>,\n",
       " 'tanh': <function math.tanh(x, /)>,\n",
       " 'pi': 3.141592653589793,\n",
       " 'e': 2.718281828459045,\n",
       " 'tau': 6.283185307179586,\n",
       " 'inf': inf,\n",
       " 'infj': infj,\n",
       " 'nan': nan,\n",
       " 'nanj': nanj,\n",
       " '_i27': 'globals()',\n",
       " '_27': {...},\n",
       " '_i28': 'sin(2+4j)',\n",
       " '_28': (24.83130584894638-11.356612711218174j),\n",
       " '_i29': 'from math import *',\n",
       " 'atan2': <function math.atan2(y, x, /)>,\n",
       " 'ceil': <function math.ceil(x, /)>,\n",
       " 'copysign': <function math.copysign(x, y, /)>,\n",
       " 'degrees': <function math.degrees(x, /)>,\n",
       " 'erf': <function math.erf(x, /)>,\n",
       " 'erfc': <function math.erfc(x, /)>,\n",
       " 'expm1': <function math.expm1(x, /)>,\n",
       " 'fabs': <function math.fabs(x, /)>,\n",
       " 'factorial': <function math.factorial(x, /)>,\n",
       " 'floor': <function math.floor(x, /)>,\n",
       " 'fmod': <function math.fmod(x, y, /)>,\n",
       " 'frexp': <function math.frexp(x, /)>,\n",
       " 'fsum': <function math.fsum(seq, /)>,\n",
       " 'gamma': <function math.gamma(x, /)>,\n",
       " 'gcd': <function math.gcd(x, y, /)>,\n",
       " 'hypot': <function math.hypot(x, y, /)>,\n",
       " 'ldexp': <function math.ldexp(x, i, /)>,\n",
       " 'lgamma': <function math.lgamma(x, /)>,\n",
       " 'log1p': <function math.log1p(x, /)>,\n",
       " 'log2': <function math.log2(x, /)>,\n",
       " 'modf': <function math.modf(x, /)>,\n",
       " 'pow': <function math.pow(x, y, /)>,\n",
       " 'radians': <function math.radians(x, /)>,\n",
       " 'remainder': <function math.remainder(x, y, /)>,\n",
       " 'trunc': <function math.trunc(x, /)>,\n",
       " '_i30': 'globals()'}"
      ]
     },
     "execution_count": 30,
     "metadata": {},
     "output_type": "execute_result"
    }
   ],
   "source": [
    "globals()"
   ]
  },
  {
   "cell_type": "code",
   "execution_count": 31,
   "metadata": {},
   "outputs": [
    {
     "ename": "TypeError",
     "evalue": "can't convert complex to float",
     "output_type": "error",
     "traceback": [
      "\u001b[1;31m---------------------------------------------------------------------------\u001b[0m",
      "\u001b[1;31mTypeError\u001b[0m                                 Traceback (most recent call last)",
      "\u001b[1;32m<ipython-input-31-bf5ed36fc606>\u001b[0m in \u001b[0;36m<module>\u001b[1;34m\u001b[0m\n\u001b[1;32m----> 1\u001b[1;33m \u001b[0msin\u001b[0m\u001b[1;33m(\u001b[0m\u001b[1;36m2\u001b[0m \u001b[1;33m+\u001b[0m \u001b[1;36m3j\u001b[0m\u001b[1;33m)\u001b[0m\u001b[1;33m\u001b[0m\u001b[1;33m\u001b[0m\u001b[0m\n\u001b[0m",
      "\u001b[1;31mTypeError\u001b[0m: can't convert complex to float"
     ]
    }
   ],
   "source": [
    "sin(2 + 3j)"
   ]
  },
  {
   "cell_type": "code",
   "execution_count": 32,
   "metadata": {},
   "outputs": [],
   "source": [
    "from time import perf_counter"
   ]
  },
  {
   "cell_type": "code",
   "execution_count": 37,
   "metadata": {},
   "outputs": [],
   "source": [
    "from cmath import sin as c_sin"
   ]
  },
  {
   "cell_type": "code",
   "execution_count": 38,
   "metadata": {},
   "outputs": [
    {
     "data": {
      "text/plain": [
       "<function math.sin(x, /)>"
      ]
     },
     "execution_count": 38,
     "metadata": {},
     "output_type": "execute_result"
    }
   ],
   "source": [
    "sin"
   ]
  },
  {
   "cell_type": "code",
   "execution_count": 42,
   "metadata": {},
   "outputs": [],
   "source": [
    "from math import sin as r_sin"
   ]
  },
  {
   "cell_type": "code",
   "execution_count": 43,
   "metadata": {},
   "outputs": [
    {
     "data": {
      "text/plain": [
       "<function math.sin(x, /)>"
      ]
     },
     "execution_count": 43,
     "metadata": {},
     "output_type": "execute_result"
    }
   ],
   "source": [
    "sin"
   ]
  },
  {
   "cell_type": "raw",
   "metadata": {},
   "source": [
    "r_sin"
   ]
  },
  {
   "cell_type": "code",
   "execution_count": 41,
   "metadata": {},
   "outputs": [
    {
     "data": {
      "text/plain": [
       "<function cmath.sin(z, /)>"
      ]
     },
     "execution_count": 41,
     "metadata": {},
     "output_type": "execute_result"
    }
   ],
   "source": [
    "c_sin"
   ]
  },
  {
   "cell_type": "code",
   "execution_count": 45,
   "metadata": {},
   "outputs": [],
   "source": [
    "def my_func(a):\n",
    "    import math\n",
    "    return math.sqrt(a)"
   ]
  },
  {
   "cell_type": "code",
   "execution_count": 46,
   "metadata": {},
   "outputs": [],
   "source": [
    "from time import perf_counter"
   ]
  },
  {
   "cell_type": "code",
   "execution_count": 47,
   "metadata": {},
   "outputs": [],
   "source": [
    "from collections import namedtuple"
   ]
  },
  {
   "cell_type": "code",
   "execution_count": 49,
   "metadata": {},
   "outputs": [],
   "source": [
    "Timings = namedtuple('Timings', 'timing_1 timing_2 abs_diff rel_diff_perc')"
   ]
  },
  {
   "cell_type": "code",
   "execution_count": 50,
   "metadata": {},
   "outputs": [],
   "source": [
    "def compare_timings(timing_1, timing_2):\n",
    "    rel_diff = (timing_2 - timing_1)/timing_1 * 100\n",
    "    \n",
    "    timings = Timings(round(timing_1, 1),\n",
    "                      round(timing_2, 1),\n",
    "                      round(timing_2-timing_1, 1),\n",
    "                      round(rel_diff, 2))\n",
    "    return timings\n",
    "                        "
   ]
  },
  {
   "cell_type": "code",
   "execution_count": 51,
   "metadata": {},
   "outputs": [
    {
     "data": {
      "text/plain": [
       "Timings(timing_1=1, timing_2=2, abs_diff=1, rel_diff_perc=100.0)"
      ]
     },
     "execution_count": 51,
     "metadata": {},
     "output_type": "execute_result"
    }
   ],
   "source": [
    "compare_timings(1, 2)"
   ]
  },
  {
   "cell_type": "code",
   "execution_count": 67,
   "metadata": {},
   "outputs": [],
   "source": [
    "test_repeats = 10_000_000"
   ]
  },
  {
   "cell_type": "code",
   "execution_count": 68,
   "metadata": {},
   "outputs": [
    {
     "name": "stdout",
     "output_type": "stream",
     "text": [
      "Elapsed: 1.8273885000000973\n"
     ]
    }
   ],
   "source": [
    "import math\n",
    "\n",
    "start = perf_counter()\n",
    "for _ in range(test_repeats):\n",
    "    math.sqrt(2)\n",
    "end = perf_counter()\n",
    "elapsed_fully_qualified = end - start\n",
    "print(f'Elapsed: {elapsed_fully_qualified}')"
   ]
  },
  {
   "cell_type": "code",
   "execution_count": 69,
   "metadata": {},
   "outputs": [
    {
     "name": "stdout",
     "output_type": "stream",
     "text": [
      "Elapsed: 1.6477747999999792\n"
     ]
    }
   ],
   "source": [
    "from math import sqrt\n",
    "\n",
    "start = perf_counter()\n",
    "for _ in range(test_repeats):\n",
    "    sqrt(2)\n",
    "end = perf_counter()\n",
    "elapsed_direct_symbol = end - start\n",
    "print(f'Elapsed: {elapsed_direct_symbol}')"
   ]
  },
  {
   "cell_type": "code",
   "execution_count": 70,
   "metadata": {},
   "outputs": [
    {
     "data": {
      "text/plain": [
       "Timings(timing_1=1.6, timing_2=1.8, abs_diff=0.2, rel_diff_perc=10.9)"
      ]
     },
     "execution_count": 70,
     "metadata": {},
     "output_type": "execute_result"
    }
   ],
   "source": [
    "compare_timings(elapsed_direct_symbol, elapsed_fully_qualified)"
   ]
  },
  {
   "cell_type": "code",
   "execution_count": 72,
   "metadata": {},
   "outputs": [
    {
     "name": "stdout",
     "output_type": "stream",
     "text": [
      "Elapsed: 2.5188656999998784\n"
     ]
    }
   ],
   "source": [
    "import math\n",
    "\n",
    "def func():\n",
    "    math.sqrt(2)\n",
    "\n",
    "start = perf_counter()\n",
    "for _ in range(test_repeats):\n",
    "    func()\n",
    "end = perf_counter()\n",
    "elapsed_func_fully_qualified = end - start\n",
    "print(f'Elapsed: {elapsed_func_fully_qualified}')\n",
    "    "
   ]
  },
  {
   "cell_type": "code",
   "execution_count": 73,
   "metadata": {},
   "outputs": [
    {
     "name": "stdout",
     "output_type": "stream",
     "text": [
      "Elapsed: 2.2650509000000056\n"
     ]
    }
   ],
   "source": [
    "from math import sqrt\n",
    "\n",
    "def func():\n",
    "    sqrt(2)\n",
    "\n",
    "start = perf_counter()\n",
    "for _ in range(test_repeats):\n",
    "    func()\n",
    "end = perf_counter()\n",
    "elapsed_func_direct_symbol = end - start\n",
    "print(f'Elapsed: {elapsed_func_direct_symbol}')\n",
    "    "
   ]
  },
  {
   "cell_type": "code",
   "execution_count": 74,
   "metadata": {},
   "outputs": [
    {
     "data": {
      "text/plain": [
       "Timings(timing_1=2.5, timing_2=2.3, abs_diff=-0.3, rel_diff_perc=-10.08)"
      ]
     },
     "execution_count": 74,
     "metadata": {},
     "output_type": "execute_result"
    }
   ],
   "source": [
    "compare_timings(elapsed_func_fully_qualified, elapsed_func_direct_symbol)"
   ]
  },
  {
   "cell_type": "code",
   "execution_count": 75,
   "metadata": {},
   "outputs": [
    {
     "name": "stdout",
     "output_type": "stream",
     "text": [
      "Elapsed: 3.4460649000000103\n"
     ]
    }
   ],
   "source": [
    "def func():\n",
    "    import math\n",
    "    math.sqrt(2)\n",
    "\n",
    "start = perf_counter()\n",
    "for _ in range(test_repeats):\n",
    "    func()\n",
    "end = perf_counter()\n",
    "elapsed_func_fully_qualified = end - start\n",
    "print(f'Elapsed: {elapsed_func_fully_qualified}')"
   ]
  },
  {
   "cell_type": "code",
   "execution_count": 78,
   "metadata": {},
   "outputs": [
    {
     "name": "stdout",
     "output_type": "stream",
     "text": [
      "Elapsed: 10.382333000000017\n"
     ]
    }
   ],
   "source": [
    "def func():\n",
    "    from math import sqrt\n",
    "    sqrt(2)\n",
    "\n",
    "start = perf_counter()\n",
    "for _ in range(test_repeats):\n",
    "    func()\n",
    "end = perf_counter()\n",
    "elapsed_func_direct_symbol = end - start\n",
    "print(f'Elapsed: {elapsed_func_direct_symbol}')"
   ]
  },
  {
   "cell_type": "code",
   "execution_count": 79,
   "metadata": {},
   "outputs": [
    {
     "data": {
      "text/plain": [
       "Timings(timing_1=3.4, timing_2=10.4, abs_diff=6.9, rel_diff_perc=201.28)"
      ]
     },
     "execution_count": 79,
     "metadata": {},
     "output_type": "execute_result"
    }
   ],
   "source": [
    "compare_timings(elapsed_func_fully_qualified, elapsed_func_direct_symbol)"
   ]
  },
  {
   "cell_type": "code",
   "execution_count": null,
   "metadata": {},
   "outputs": [],
   "source": []
  }
 ],
 "metadata": {
  "kernelspec": {
   "display_name": "Python 3",
   "language": "python",
   "name": "python3"
  },
  "language_info": {
   "codemirror_mode": {
    "name": "ipython",
    "version": 3
   },
   "file_extension": ".py",
   "mimetype": "text/x-python",
   "name": "python",
   "nbconvert_exporter": "python",
   "pygments_lexer": "ipython3",
   "version": "3.7.6"
  }
 },
 "nbformat": 4,
 "nbformat_minor": 4
}
