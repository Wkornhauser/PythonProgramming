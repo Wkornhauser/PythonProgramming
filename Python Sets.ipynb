{
 "cells": [
  {
   "cell_type": "markdown",
   "metadata": {},
   "source": [
    "### Python Sets"
   ]
  },
  {
   "cell_type": "markdown",
   "metadata": {},
   "source": [
    "Python has an implementation of sets that supports many set operations:\n",
    "- cardinality -> len(s)\n",
    "- membership testing -> in, not in\n",
    "- unions -> s1 | s2, s1.union(s2)\n",
    "- intersections -> s1 & s2, s1.intersection(s2)\n",
    "- differences -> s1 - s2, s1.difference(s2)\n",
    "- symmetric differences -> s1 ^ s2, s1.symmetric_difference(s2)\n",
    "- subsets -> s1 <= s2, s1.issubset(s2), s1 < s2\n",
    "- supersets -> s1 >= s2, s1.issuperset(s2), s1 > s2\n",
    "- disjointness -> s1.isdisjoint(s2)"
   ]
  },
  {
   "cell_type": "markdown",
   "metadata": {},
   "source": [
    "The type of sets is *set*"
   ]
  },
  {
   "cell_type": "markdown",
   "metadata": {},
   "source": [
    "Set literals -> {'a', 10, 10.5}"
   ]
  },
  {
   "cell_type": "markdown",
   "metadata": {},
   "source": [
    "Empty set -> set()"
   ]
  },
  {
   "cell_type": "markdown",
   "metadata": {},
   "source": [
    "Notice how the literal notation for sets uses the same braces {} as dictionaries  \n",
    "In fact sets are hash tables as well"
   ]
  },
  {
   "cell_type": "markdown",
   "metadata": {},
   "source": [
    "Unlike dictionary hash tables, sets on contain the \"keys\", not the values"
   ]
  },
  {
   "cell_type": "markdown",
   "metadata": {},
   "source": [
    "-> set(iterable)"
   ]
  },
  {
   "cell_type": "markdown",
   "metadata": {},
   "source": [
    "The above will create a set!"
   ]
  },
  {
   "cell_type": "markdown",
   "metadata": {},
   "source": [
    "##### Elements of a Set\n",
    "- must be unique (distinct)\n",
    "- must be hashable\n",
    "- have no guaranteed order"
   ]
  },
  {
   "cell_type": "markdown",
   "metadata": {},
   "source": [
    "A set is a mutable collection -> can add and remove elements"
   ]
  },
  {
   "cell_type": "markdown",
   "metadata": {},
   "source": [
    "Therefore a set is not hashable!\n",
    "- cannot be used as a dictionary key\n",
    "- cannot be used as an element in another set\n",
    " - no set of sets!"
   ]
  },
  {
   "cell_type": "markdown",
   "metadata": {},
   "source": [
    "##### Frozen Sets"
   ]
  },
  {
   "cell_type": "markdown",
   "metadata": {},
   "source": [
    "Frozen Sets are the immutable equivalent of sets"
   ]
  },
  {
   "cell_type": "markdown",
   "metadata": {},
   "source": [
    "- Think of tuples and lists"
   ]
  },
  {
   "cell_type": "markdown",
   "metadata": {},
   "source": [
    "It is just created using frozenset()"
   ]
  },
  {
   "cell_type": "markdown",
   "metadata": {},
   "source": [
    "frozenset() can take iterables much like how set() can"
   ]
  },
  {
   "cell_type": "markdown",
   "metadata": {},
   "source": [
    "The elements of a frozen set:\n",
    "- must be unique\n",
    "- must be hashable\n",
    "- have no guaranteed order"
   ]
  },
  {
   "cell_type": "markdown",
   "metadata": {},
   "source": [
    "We can convert any set to a frozen set by simply passing the set to the frozenset() function"
   ]
  },
  {
   "cell_type": "markdown",
   "metadata": {},
   "source": [
    "There is **no** literal for a frozen set"
   ]
  },
  {
   "cell_type": "markdown",
   "metadata": {},
   "source": [
    "A frozenset is hashable!\n",
    "- Can be used as a dictionary key\n",
    "- Can be used as an element of a set (or frozenset)"
   ]
  },
  {
   "cell_type": "markdown",
   "metadata": {},
   "source": [
    "##### Membership Testing"
   ]
  },
  {
   "cell_type": "markdown",
   "metadata": {},
   "source": [
    "Testing membership of an element in a set is extremely efficient (hash table lookup)\n",
    "- in, not in"
   ]
  },
  {
   "cell_type": "markdown",
   "metadata": {},
   "source": [
    "In fact, instead of writing code like this:"
   ]
  },
  {
   "cell_type": "code",
   "execution_count": null,
   "metadata": {},
   "outputs": [],
   "source": [
    "if a in [10, 20, 30]:"
   ]
  },
  {
   "cell_type": "markdown",
   "metadata": {},
   "source": [
    "or even:"
   ]
  },
  {
   "cell_type": "code",
   "execution_count": null,
   "metadata": {},
   "outputs": [],
   "source": [
    "if a in (10, 20, 30):"
   ]
  },
  {
   "cell_type": "markdown",
   "metadata": {},
   "source": [
    "We don't have to scan through the data structure, requiring O(n) time"
   ]
  },
  {
   "cell_type": "markdown",
   "metadata": {},
   "source": [
    "It is much faster to just do a lookup in a set:"
   ]
  },
  {
   "cell_type": "code",
   "execution_count": null,
   "metadata": {},
   "outputs": [],
   "source": [
    "if a in {10, 20, 30}:"
   ]
  },
  {
   "cell_type": "markdown",
   "metadata": {},
   "source": [
    "The trade off is a higher storage cost"
   ]
  },
  {
   "cell_type": "markdown",
   "metadata": {},
   "source": [
    "#### Some Timings"
   ]
  },
  {
   "cell_type": "code",
   "execution_count": 1,
   "metadata": {},
   "outputs": [],
   "source": [
    "n = 10_000_000\n",
    "s = set(range(n))\n",
    "l = list(range(n))\n",
    "t = tuple(range(n))\n",
    "\n",
    "def test_set(s, value):\n",
    "    return value in s\n",
    "\n",
    "def test_list(l, value):\n",
    "    return value in l\n",
    "\n",
    "def test_tuple(t, value):\n",
    "    return value in t"
   ]
  },
  {
   "cell_type": "code",
   "execution_count": 2,
   "metadata": {},
   "outputs": [],
   "source": [
    "from timeit import timeit"
   ]
  },
  {
   "cell_type": "code",
   "execution_count": 5,
   "metadata": {},
   "outputs": [
    {
     "name": "stdout",
     "output_type": "stream",
     "text": [
      "0.0008760000000620494\n",
      "0.007611500000166416\n",
      "0.007470200000170735\n"
     ]
    }
   ],
   "source": [
    "value = 100\n",
    "print(timeit('test_set(s, value)', globals=globals(), number=10_000))\n",
    "print(timeit('test_list(l, value)', globals=globals(), number=10_000))\n",
    "print(timeit('test_tuple(t, value)', globals=globals(), number=10_000))"
   ]
  },
  {
   "cell_type": "code",
   "execution_count": 6,
   "metadata": {},
   "outputs": [
    {
     "name": "stdout",
     "output_type": "stream",
     "text": [
      "0.0010180999997828621\n",
      "676.8737766999993\n",
      "681.7997606999998\n"
     ]
    }
   ],
   "source": [
    "value = 9_999_999\n",
    "print(timeit('test_set(s, value)', globals=globals(), number=10_000))\n",
    "print(timeit('test_list(l, value)', globals=globals(), number=10_000))\n",
    "print(timeit('test_tuple(t, value)', globals=globals(), number=10_000))"
   ]
  },
  {
   "cell_type": "markdown",
   "metadata": {},
   "source": [
    "Dayum, good thing I understand algorithms and data structures already"
   ]
  }
 ],
 "metadata": {
  "kernelspec": {
   "display_name": "Python 3",
   "language": "python",
   "name": "python3"
  },
  "language_info": {
   "codemirror_mode": {
    "name": "ipython",
    "version": 3
   },
   "file_extension": ".py",
   "mimetype": "text/x-python",
   "name": "python",
   "nbconvert_exporter": "python",
   "pygments_lexer": "ipython3",
   "version": "3.7.6"
  }
 },
 "nbformat": 4,
 "nbformat_minor": 4
}
