{
 "cells": [
  {
   "cell_type": "markdown",
   "metadata": {},
   "source": [
    "### Multitasking"
   ]
  },
  {
   "cell_type": "markdown",
   "metadata": {},
   "source": [
    "#### Concurrency vs Parallelism"
   ]
  },
  {
   "cell_type": "markdown",
   "metadata": {},
   "source": [
    "Concurrency\n",
    "- suppose you have two tasks, and you want to run them concurrently...that means that you want to run them at the same time\n",
    "- with concurrency, you start running task 1. You run it for a little bit, then start running task 2. You run task 2 for a little, then go back to running task 1\n",
    "- This continues until both tasks are complete\n",
    "- So the tasks are not run in 'parallel' or at the same time, they are run cocurrently\n",
    "- And of course you can have multiple tasks (more than 2)\n",
    "- Everything runs on one process or core"
   ]
  },
  {
   "cell_type": "markdown",
   "metadata": {},
   "source": [
    "Parallelism\n",
    "- Again suppose you have two tasks\n",
    "- With parallelism, the two tasks run **at the same time**\n",
    "- With multiple processes or cores, you can run multiple tasks in parallel"
   ]
  },
  {
   "cell_type": "markdown",
   "metadata": {},
   "source": [
    "#### Cooperative vs Preemptive Multitasking (applies to concurrency not parallelism)"
   ]
  },
  {
   "cell_type": "markdown",
   "metadata": {},
   "source": [
    "Cooperative\n",
    "- Suppose again that you have two tasks\n",
    "- Task 1 runs and then does a voluntary yield\n",
    "- Then task 2 runs, and does a voluntary yield\n",
    "- Then task 1 again (and voluntary yields again)\n",
    "- Then task 2 again (and so forth)\n",
    "- As the developer of code, you are in control of when your task becomes suspended (completely controlled by the developer)"
   ]
  },
  {
   "cell_type": "markdown",
   "metadata": {},
   "source": [
    "Preemptive\n",
    "- Suppose you have 2 tasks\n",
    "- Task 1 starts running\n",
    "- At some point, task 1 gets suspended, but it's not a voluntary yield!\n",
    "- Essentially, it gets interrupted\n",
    "- At this point, task 2 starts and runs\n",
    "- Again, at some point task 2 gets suspended (or interrupted) and involuntarily yields\n",
    "- Now task 1 resumes\n",
    "- This pattern continues!\n",
    "- Note! The run time of tasks will not neccesarily align (if ever given randomness), so it would not be wise to assume tasks should finish in close proximity to one another chronologically.\n",
    "- This is not controlled by the developer (you have some control in practice, but not a whole lot) -> Some sort of scheduler involved"
   ]
  },
  {
   "cell_type": "markdown",
   "metadata": {},
   "source": [
    "#### Coroutines"
   ]
  },
  {
   "cell_type": "markdown",
   "metadata": {},
   "source": [
    "- Coroutines fit under the cooperative section"
   ]
  },
  {
   "cell_type": "markdown",
   "metadata": {},
   "source": [
    "#### (Python) Threading"
   ]
  },
  {
   "cell_type": "markdown",
   "metadata": {},
   "source": [
    "- Kind of fits inbetween both cooperative and preemptive"
   ]
  },
  {
   "cell_type": "markdown",
   "metadata": {},
   "source": [
    "#### Coroutines"
   ]
  },
  {
   "cell_type": "markdown",
   "metadata": {},
   "source": [
    "- Form of cooperative multitasking\n",
    "- Run concurrently, not parallel -> Python programs execute on a \"single thread\"\n",
    "- This is due to the Global Interpreter Lock or GIL"
   ]
  },
  {
   "cell_type": "markdown",
   "metadata": {},
   "source": [
    "There are two ways to create coroutines in Python\n",
    "- generators -> uses extended form of yield -> recent addition: asyncio\n",
    "- native coroutines -> uses async/await"
   ]
  },
  {
   "cell_type": "markdown",
   "metadata": {},
   "source": [
    "The following section is not about:\n",
    "- asyncio\n",
    "- native coroutines\n",
    "- threading\n",
    "- multiprocessing -> parallelism"
   ]
  },
  {
   "cell_type": "markdown",
   "metadata": {},
   "source": [
    "This section is about:\n",
    "- learning the basics of generator-based coroutines\n",
    "- some practical applications of these coroutines"
   ]
  }
 ],
 "metadata": {
  "kernelspec": {
   "display_name": "Python 3",
   "language": "python",
   "name": "python3"
  },
  "language_info": {
   "codemirror_mode": {
    "name": "ipython",
    "version": 3
   },
   "file_extension": ".py",
   "mimetype": "text/x-python",
   "name": "python",
   "nbconvert_exporter": "python",
   "pygments_lexer": "ipython3",
   "version": "3.7.6"
  }
 },
 "nbformat": 4,
 "nbformat_minor": 4
}
