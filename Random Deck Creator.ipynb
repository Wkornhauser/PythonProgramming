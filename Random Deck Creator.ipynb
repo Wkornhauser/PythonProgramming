{
 "cells": [
  {
   "cell_type": "code",
   "execution_count": 1,
   "metadata": {},
   "outputs": [],
   "source": [
    "import random"
   ]
  },
  {
   "cell_type": "code",
   "execution_count": 3,
   "metadata": {},
   "outputs": [
    {
     "data": {
      "text/plain": [
       "['b', 'a', 'c', 'c', 'a', 'c', 'c', 'b', 'b', 'b']"
      ]
     },
     "execution_count": 3,
     "metadata": {},
     "output_type": "execute_result"
    }
   ],
   "source": [
    "random.choices(list('abc'), k=10)"
   ]
  },
  {
   "cell_type": "code",
   "execution_count": 6,
   "metadata": {},
   "outputs": [
    {
     "name": "stdout",
     "output_type": "stream",
     "text": [
      "[0, 1, 2, 3, 4, 5, 6, 7, 8, 9]\n"
     ]
    }
   ],
   "source": [
    "l = list(range(10))\n",
    "print(l)"
   ]
  },
  {
   "cell_type": "code",
   "execution_count": 8,
   "metadata": {},
   "outputs": [
    {
     "data": {
      "text/plain": [
       "[2, 6, 3, 3, 0]"
      ]
     },
     "execution_count": 8,
     "metadata": {},
     "output_type": "execute_result"
    }
   ],
   "source": [
    "random.choices(l, k=5)"
   ]
  },
  {
   "cell_type": "code",
   "execution_count": 12,
   "metadata": {},
   "outputs": [
    {
     "data": {
      "text/plain": [
       "[3, 8, 2, 1, 4]"
      ]
     },
     "execution_count": 12,
     "metadata": {},
     "output_type": "execute_result"
    }
   ],
   "source": [
    "random.sample(l, k=5)"
   ]
  },
  {
   "cell_type": "code",
   "execution_count": 16,
   "metadata": {},
   "outputs": [],
   "source": [
    "suits = ('C', 'D', 'H', 'S')\n",
    "ranks = tuple(range(2,11)) + tuple('JQKA')"
   ]
  },
  {
   "cell_type": "code",
   "execution_count": 17,
   "metadata": {},
   "outputs": [
    {
     "data": {
      "text/plain": [
       "('C', 'D', 'H', 'S')"
      ]
     },
     "execution_count": 17,
     "metadata": {},
     "output_type": "execute_result"
    }
   ],
   "source": [
    "suits"
   ]
  },
  {
   "cell_type": "code",
   "execution_count": 18,
   "metadata": {},
   "outputs": [
    {
     "data": {
      "text/plain": [
       "(2, 3, 4, 5, 6, 7, 8, 9, 10, 'J', 'Q', 'K', 'A')"
      ]
     },
     "execution_count": 18,
     "metadata": {},
     "output_type": "execute_result"
    }
   ],
   "source": [
    "ranks"
   ]
  },
  {
   "cell_type": "code",
   "execution_count": 21,
   "metadata": {},
   "outputs": [],
   "source": [
    "deck = []\n",
    "for suit in suits:\n",
    "    for rank in ranks:\n",
    "        deck.append(str(rank) + suit)"
   ]
  },
  {
   "cell_type": "code",
   "execution_count": 22,
   "metadata": {},
   "outputs": [
    {
     "name": "stdout",
     "output_type": "stream",
     "text": [
      "['2C', '3C', '4C', '5C', '6C', '7C', '8C', '9C', '10C', 'JC', 'QC', 'KC', 'AC', '2D', '3D', '4D', '5D', '6D', '7D', '8D', '9D', '10D', 'JD', 'QD', 'KD', 'AD', '2H', '3H', '4H', '5H', '6H', '7H', '8H', '9H', '10H', 'JH', 'QH', 'KH', 'AH', '2S', '3S', '4S', '5S', '6S', '7S', '8S', '9S', '10S', 'JS', 'QS', 'KS', 'AS']\n"
     ]
    }
   ],
   "source": [
    "print(deck)"
   ]
  },
  {
   "cell_type": "code",
   "execution_count": 23,
   "metadata": {},
   "outputs": [],
   "source": [
    "deck = [str(rank) + suit for suit in suits for rank in ranks]"
   ]
  },
  {
   "cell_type": "code",
   "execution_count": 25,
   "metadata": {},
   "outputs": [
    {
     "name": "stdout",
     "output_type": "stream",
     "text": [
      "['2C', '3C', '4C', '5C', '6C', '7C', '8C', '9C', '10C', 'JC', 'QC', 'KC', 'AC', '2D', '3D', '4D', '5D', '6D', '7D', '8D', '9D', '10D', 'JD', 'QD', 'KD', 'AD', '2H', '3H', '4H', '5H', '6H', '7H', '8H', '9H', '10H', 'JH', 'QH', 'KH', 'AH', '2S', '3S', '4S', '5S', '6S', '7S', '8S', '9S', '10S', 'JS', 'QS', 'KS', 'AS']\n"
     ]
    }
   ],
   "source": [
    "print(deck)"
   ]
  },
  {
   "cell_type": "code",
   "execution_count": 27,
   "metadata": {},
   "outputs": [
    {
     "name": "stdout",
     "output_type": "stream",
     "text": [
      "['6D', '7H', '6S', '2D', '8C', 'KD', '3D', 'QS', '3C', '6D', '7H', '10D', 'QS', '9D', '3D', '8C', 'AD', 'KC', '8H', '6C', 'QD', 'QD', '2C', '6H', '7D', '3D', '8S', '2H', '5H', '5S', '2D', '4D', '10S', '8D', '9S', '7H', '5D', '3C', '3C', 'QD']\n"
     ]
    }
   ],
   "source": [
    "hand = random.choices(deck, k=40)\n",
    "print(hand)\n",
    "Counter(hand)"
   ]
  },
  {
   "cell_type": "code",
   "execution_count": 28,
   "metadata": {},
   "outputs": [],
   "source": [
    "from collections import Counter"
   ]
  },
  {
   "cell_type": "code",
   "execution_count": 30,
   "metadata": {},
   "outputs": [
    {
     "name": "stdout",
     "output_type": "stream",
     "text": [
      "['7S', '7C', 'QH', '9H', 'JS', '10D', 'JH', '10S', '9S', '7D', '9D', 'JS', '8C', 'AH', '6D', '10C', 'QD', 'AC', '2H', 'KH', '10H', 'QD', '4S', 'QD', '10C', '10C', '3C', '3D', '4S', 'JD', '10S', 'KD', 'QC', '10H', '6S', 'AC', '6D', '4C', '9D', '8C']\n"
     ]
    },
    {
     "data": {
      "text/plain": [
       "Counter({'7S': 1,\n",
       "         '7C': 1,\n",
       "         'QH': 1,\n",
       "         '9H': 1,\n",
       "         'JS': 2,\n",
       "         '10D': 1,\n",
       "         'JH': 1,\n",
       "         '10S': 2,\n",
       "         '9S': 1,\n",
       "         '7D': 1,\n",
       "         '9D': 2,\n",
       "         '8C': 2,\n",
       "         'AH': 1,\n",
       "         '6D': 2,\n",
       "         '10C': 3,\n",
       "         'QD': 3,\n",
       "         'AC': 2,\n",
       "         '2H': 1,\n",
       "         'KH': 1,\n",
       "         '10H': 2,\n",
       "         '4S': 2,\n",
       "         '3C': 1,\n",
       "         '3D': 1,\n",
       "         'JD': 1,\n",
       "         'KD': 1,\n",
       "         'QC': 1,\n",
       "         '6S': 1,\n",
       "         '4C': 1})"
      ]
     },
     "execution_count": 30,
     "metadata": {},
     "output_type": "execute_result"
    }
   ],
   "source": [
    "hand = random.choices(deck, k=40)\n",
    "print(hand)\n",
    "Counter(hand)"
   ]
  },
  {
   "cell_type": "code",
   "execution_count": 31,
   "metadata": {},
   "outputs": [
    {
     "name": "stdout",
     "output_type": "stream",
     "text": [
      "['5D', '8C', '10S', '10D', '7C', 'AS', '4S', 'JD', '4D', '2C', '3S', '5H', 'JH', '9H', 'KH', '4C', '6S', 'KC', '9D', 'JC', '9S', '2H', 'KD', '5S', '3D', '7D', 'AD', 'QH', 'AH', '6C', 'KS', 'AC', '6D', '10C', '6H', '7H', 'QS', 'QD', '7S', '5C']\n"
     ]
    },
    {
     "data": {
      "text/plain": [
       "Counter({'5D': 1,\n",
       "         '8C': 1,\n",
       "         '10S': 1,\n",
       "         '10D': 1,\n",
       "         '7C': 1,\n",
       "         'AS': 1,\n",
       "         '4S': 1,\n",
       "         'JD': 1,\n",
       "         '4D': 1,\n",
       "         '2C': 1,\n",
       "         '3S': 1,\n",
       "         '5H': 1,\n",
       "         'JH': 1,\n",
       "         '9H': 1,\n",
       "         'KH': 1,\n",
       "         '4C': 1,\n",
       "         '6S': 1,\n",
       "         'KC': 1,\n",
       "         '9D': 1,\n",
       "         'JC': 1,\n",
       "         '9S': 1,\n",
       "         '2H': 1,\n",
       "         'KD': 1,\n",
       "         '5S': 1,\n",
       "         '3D': 1,\n",
       "         '7D': 1,\n",
       "         'AD': 1,\n",
       "         'QH': 1,\n",
       "         'AH': 1,\n",
       "         '6C': 1,\n",
       "         'KS': 1,\n",
       "         'AC': 1,\n",
       "         '6D': 1,\n",
       "         '10C': 1,\n",
       "         '6H': 1,\n",
       "         '7H': 1,\n",
       "         'QS': 1,\n",
       "         'QD': 1,\n",
       "         '7S': 1,\n",
       "         '5C': 1})"
      ]
     },
     "execution_count": 31,
     "metadata": {},
     "output_type": "execute_result"
    }
   ],
   "source": [
    "hand = random.sample(deck, k=40)\n",
    "print(hand)\n",
    "Counter(hand)"
   ]
  },
  {
   "cell_type": "code",
   "execution_count": null,
   "metadata": {},
   "outputs": [],
   "source": []
  }
 ],
 "metadata": {
  "kernelspec": {
   "display_name": "Python 3",
   "language": "python",
   "name": "python3"
  },
  "language_info": {
   "codemirror_mode": {
    "name": "ipython",
    "version": 3
   },
   "file_extension": ".py",
   "mimetype": "text/x-python",
   "name": "python",
   "nbconvert_exporter": "python",
   "pygments_lexer": "ipython3",
   "version": "3.7.6"
  }
 },
 "nbformat": 4,
 "nbformat_minor": 4
}
