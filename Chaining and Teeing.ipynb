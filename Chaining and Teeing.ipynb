{
 "cells": [
  {
   "cell_type": "markdown",
   "metadata": {},
   "source": [
    "### Chaining and Teeing"
   ]
  },
  {
   "cell_type": "markdown",
   "metadata": {},
   "source": [
    "Chaining Iterables  \n",
    "  \n",
    "itertool.*chain*(\\*args) -> lazy iterator  \n",
    "This is analagous to sequence concatentation but not the same!  \n",
    "-> dealing with iterable (including iterators)  \n",
    "-> chaining is itself a lazy iterator  \n",
    "We can manually chain iterables this way:  \n",
    "iter1 iter2 iter3  \n",
    "*for it in (iter1, iter2, iter3):\n",
    "    yield from it*\n",
    "    \n",
    "or, we can use *chain* as follows:  \n",
    "*for item in chain(iter1, iter2, iter3):\n",
    "    print(item)*  \n",
    "    \n",
    "Note the variable number of positional arguments - each argument must be an iterable!"
   ]
  },
  {
   "cell_type": "markdown",
   "metadata": {},
   "source": [
    "What happens if we want to chain from iterable contained inside another, single, iterable?"
   ]
  },
  {
   "cell_type": "markdown",
   "metadata": {},
   "source": [
    "l = [iter1, iter2, iter3]\n",
    "\n",
    "chain(l) -> l\n",
    "\n",
    "What we really want is to chain iter1, iter2, and iter3  \n",
    "We can try using unpacking: chain(\\*l)  \n",
    "-> produced elements from iter1, iter2, and iter3  \n",
    "\n",
    "**BUT** unpacking is eager, not lazy!"
   ]
  },
  {
   "cell_type": "markdown",
   "metadata": {},
   "source": [
    "This could be a issue if we desire the entire chaining process to be lazy."
   ]
  },
  {
   "cell_type": "markdown",
   "metadata": {},
   "source": [
    "We can use itertools.chain.*from_iterable(it)* -> lazy iterator\n",
    "\n",
    "So we \\*could\\* use:  \n",
    "def chain_lazy(it):\n",
    "    for sub_it in it:\n",
    "        yield from sub_it\n",
    "   \n",
    "Or we can use chain.from_iterable:\n",
    "\n",
    "chain.from_iterable(it)  \n",
    "\n",
    "This achieves the same result  \n",
    "-> iterates lazily over it  \n",
    "-> in turn, iterates lazily over each iterable in it"
   ]
  },
  {
   "cell_type": "markdown",
   "metadata": {},
   "source": [
    "\"Copying\" Iterators"
   ]
  },
  {
   "cell_type": "markdown",
   "metadata": {},
   "source": [
    "itertools.*tee(iterable, n)*  \n",
    "Sometimes we need to iterate through the same iterator multiple times, or even in parallel"
   ]
  },
  {
   "cell_type": "markdown",
   "metadata": {},
   "source": [
    "We \\*could\\* create teh iterator multiple times manually"
   ]
  },
  {
   "cell_type": "markdown",
   "metadata": {},
   "source": [
    "ie   \n",
    "  \n",
    "iters = []\n",
    "for _ in range(10):\n",
    "    iters.append(create_iterator())"
   ]
  },
  {
   "cell_type": "markdown",
   "metadata": {},
   "source": [
    "**OR** we can use the *tee* in itertools  \n",
    "-> returns independent iterators in a tuple"
   ]
  },
  {
   "cell_type": "markdown",
   "metadata": {},
   "source": [
    "ie  \n",
    "  \n",
    "tee(iterable, 10) -> (iter1, iter2, iter3, ..., iter10)"
   ]
  },
  {
   "cell_type": "markdown",
   "metadata": {},
   "source": [
    "Those iterables are all different objects!"
   ]
  },
  {
   "cell_type": "markdown",
   "metadata": {},
   "source": [
    "Teeing Iterables"
   ]
  },
  {
   "cell_type": "markdown",
   "metadata": {},
   "source": [
    "One important thing to note:  \n",
    "The elements of the returned tuple are lazy iterators  \n",
    "\n",
    "ie  \n",
    "l = [1, 2, 3, 4]\n",
    "tee(l, 3) -> (iter1, iter2, iter3)"
   ]
  },
  {
   "cell_type": "markdown",
   "metadata": {},
   "source": [
    "Each of iter1, iter2, iter3 **is** a lazy iterator, despite l being a list"
   ]
  },
  {
   "cell_type": "markdown",
   "metadata": {},
   "source": [
    "#### Code Examples"
   ]
  },
  {
   "cell_type": "code",
   "execution_count": 2,
   "metadata": {},
   "outputs": [],
   "source": [
    "l1 = (i**2 for i in range(4))\n",
    "l2 = (i**2 for i in range(4, 8))\n",
    "l3 = (i**2 for i in range(8, 12))"
   ]
  },
  {
   "cell_type": "code",
   "execution_count": 3,
   "metadata": {},
   "outputs": [
    {
     "name": "stdout",
     "output_type": "stream",
     "text": [
      "0\n",
      "1\n",
      "4\n",
      "9\n",
      "16\n",
      "25\n",
      "36\n",
      "49\n",
      "64\n",
      "81\n",
      "100\n",
      "121\n"
     ]
    }
   ],
   "source": [
    "for gen in l1, l2, l3:\n",
    "    for item in gen:\n",
    "        print(item)"
   ]
  },
  {
   "cell_type": "code",
   "execution_count": 7,
   "metadata": {},
   "outputs": [],
   "source": [
    "def chain_iterables(*iterables):\n",
    "    for iterable in iterables:\n",
    "        yield from iterable"
   ]
  },
  {
   "cell_type": "code",
   "execution_count": 8,
   "metadata": {},
   "outputs": [],
   "source": [
    "l1 = (i**2 for i in range(4))\n",
    "l2 = (i**2 for i in range(4, 8))\n",
    "l3 = (i**2 for i in range(8, 12))"
   ]
  },
  {
   "cell_type": "code",
   "execution_count": 9,
   "metadata": {},
   "outputs": [
    {
     "name": "stdout",
     "output_type": "stream",
     "text": [
      "0\n",
      "1\n",
      "4\n",
      "9\n",
      "16\n",
      "25\n",
      "36\n",
      "49\n",
      "64\n",
      "81\n",
      "100\n",
      "121\n"
     ]
    }
   ],
   "source": [
    "for item in chain_iterables(l1, l2, l3):\n",
    "    print(item)"
   ]
  },
  {
   "cell_type": "code",
   "execution_count": 10,
   "metadata": {},
   "outputs": [],
   "source": [
    "from itertools import chain"
   ]
  },
  {
   "cell_type": "code",
   "execution_count": 11,
   "metadata": {},
   "outputs": [],
   "source": [
    "l1 = (i**2 for i in range(4))\n",
    "l2 = (i**2 for i in range(4, 8))\n",
    "l3 = (i**2 for i in range(8, 12))"
   ]
  },
  {
   "cell_type": "code",
   "execution_count": 12,
   "metadata": {},
   "outputs": [
    {
     "name": "stdout",
     "output_type": "stream",
     "text": [
      "0\n",
      "1\n",
      "4\n",
      "9\n",
      "16\n",
      "25\n",
      "36\n",
      "49\n",
      "64\n",
      "81\n",
      "100\n",
      "121\n"
     ]
    }
   ],
   "source": [
    "for item in chain(l1, l2, l3):\n",
    "    print(item)"
   ]
  },
  {
   "cell_type": "code",
   "execution_count": 13,
   "metadata": {},
   "outputs": [
    {
     "name": "stdout",
     "output_type": "stream",
     "text": [
      "<generator object <genexpr> at 0x0000020C762D2AC8>\n",
      "<generator object <genexpr> at 0x0000020C762D29C8>\n",
      "<generator object <genexpr> at 0x0000020C762D2BC8>\n"
     ]
    }
   ],
   "source": [
    "l1 = (i**2 for i in range(4))\n",
    "l2 = (i**2 for i in range(4, 8))\n",
    "l3 = (i**2 for i in range(8, 12))\n",
    "\n",
    "lists = [l1, l2, l3]\n",
    "for item in chain(lists):\n",
    "    print(item)"
   ]
  },
  {
   "cell_type": "code",
   "execution_count": 14,
   "metadata": {},
   "outputs": [
    {
     "name": "stdout",
     "output_type": "stream",
     "text": [
      "0\n",
      "1\n",
      "4\n",
      "9\n",
      "16\n",
      "25\n",
      "36\n",
      "49\n",
      "64\n",
      "81\n",
      "100\n",
      "121\n"
     ]
    }
   ],
   "source": [
    "l1 = (i**2 for i in range(4))\n",
    "l2 = (i**2 for i in range(4, 8))\n",
    "l3 = (i**2 for i in range(8, 12))\n",
    "\n",
    "lists = [l1, l2, l3]\n",
    "for item in chain(lists):\n",
    "    for i in item:\n",
    "        print(i)"
   ]
  },
  {
   "cell_type": "code",
   "execution_count": 15,
   "metadata": {},
   "outputs": [
    {
     "name": "stdout",
     "output_type": "stream",
     "text": [
      "0\n",
      "1\n",
      "4\n",
      "9\n",
      "16\n",
      "25\n",
      "36\n",
      "49\n",
      "64\n",
      "81\n",
      "100\n",
      "121\n"
     ]
    }
   ],
   "source": [
    "l1 = (i**2 for i in range(4))\n",
    "l2 = (i**2 for i in range(4, 8))\n",
    "l3 = (i**2 for i in range(8, 12))\n",
    "\n",
    "lists = [l1, l2, l3]\n",
    "\n",
    "for item in chain(*lists):\n",
    "    print(item)"
   ]
  },
  {
   "cell_type": "code",
   "execution_count": 19,
   "metadata": {},
   "outputs": [],
   "source": [
    "def squares():\n",
    "    yield (i**2 for i in range(4))\n",
    "    yield (i**2 for i in range(4, 8))\n",
    "    yield (i**2 for i in range(8, 12))"
   ]
  },
  {
   "cell_type": "code",
   "execution_count": 20,
   "metadata": {},
   "outputs": [
    {
     "name": "stdout",
     "output_type": "stream",
     "text": [
      "0\n",
      "1\n",
      "4\n",
      "9\n",
      "16\n",
      "25\n",
      "36\n",
      "49\n",
      "64\n",
      "81\n",
      "100\n",
      "121\n"
     ]
    }
   ],
   "source": [
    "for item in chain(*squares()):\n",
    "    print(item)"
   ]
  },
  {
   "cell_type": "code",
   "execution_count": 24,
   "metadata": {},
   "outputs": [],
   "source": [
    "def squares():\n",
    "    print('yielding first item')\n",
    "    yield (i**2 for i in range(4))\n",
    "    print('yielding second item')\n",
    "    yield (i**2 for i in range(4, 8))\n",
    "    print('yielding third item')\n",
    "    yield (i**2 for i in range(8, 12))"
   ]
  },
  {
   "cell_type": "code",
   "execution_count": 25,
   "metadata": {},
   "outputs": [],
   "source": [
    "def read_values(*args):\n",
    "    print('finished reading arguments')"
   ]
  },
  {
   "cell_type": "code",
   "execution_count": 26,
   "metadata": {},
   "outputs": [
    {
     "name": "stdout",
     "output_type": "stream",
     "text": [
      "finished reading arguments\n"
     ]
    }
   ],
   "source": [
    "read_values(squares())"
   ]
  },
  {
   "cell_type": "code",
   "execution_count": 27,
   "metadata": {},
   "outputs": [
    {
     "name": "stdout",
     "output_type": "stream",
     "text": [
      "yielding first item\n",
      "yielding second item\n",
      "yielding third item\n",
      "finished reading arguments\n"
     ]
    }
   ],
   "source": [
    "read_values(*squares())"
   ]
  },
  {
   "cell_type": "code",
   "execution_count": 28,
   "metadata": {},
   "outputs": [],
   "source": [
    "c = chain.from_iterable(squares())"
   ]
  },
  {
   "cell_type": "code",
   "execution_count": 29,
   "metadata": {},
   "outputs": [
    {
     "name": "stdout",
     "output_type": "stream",
     "text": [
      "yielding first item\n",
      "0\n",
      "1\n",
      "4\n",
      "9\n",
      "yielding second item\n",
      "16\n",
      "25\n",
      "36\n",
      "49\n",
      "yielding third item\n",
      "64\n",
      "81\n",
      "100\n",
      "121\n"
     ]
    }
   ],
   "source": [
    "for item in c:\n",
    "    print(item)"
   ]
  },
  {
   "cell_type": "code",
   "execution_count": 30,
   "metadata": {},
   "outputs": [],
   "source": [
    "def chain_iterables(*iterables):\n",
    "    for iterable in iterables:\n",
    "        yield from iterable"
   ]
  },
  {
   "cell_type": "code",
   "execution_count": 31,
   "metadata": {},
   "outputs": [],
   "source": [
    "def chain_from_iterable(iterable):\n",
    "    for item in iterable:\n",
    "        yield from item"
   ]
  },
  {
   "cell_type": "code",
   "execution_count": 32,
   "metadata": {},
   "outputs": [
    {
     "name": "stdout",
     "output_type": "stream",
     "text": [
      "yielding first item\n",
      "0\n",
      "1\n",
      "4\n",
      "9\n",
      "yielding second item\n",
      "16\n",
      "25\n",
      "36\n",
      "49\n",
      "yielding third item\n",
      "64\n",
      "81\n",
      "100\n",
      "121\n"
     ]
    }
   ],
   "source": [
    "for item in chain_from_iterable(squares()):\n",
    "    print(item)"
   ]
  },
  {
   "cell_type": "code",
   "execution_count": 33,
   "metadata": {},
   "outputs": [],
   "source": [
    "from itertools import tee"
   ]
  },
  {
   "cell_type": "code",
   "execution_count": 34,
   "metadata": {},
   "outputs": [],
   "source": [
    "def squares(n):\n",
    "    for i in range(n):\n",
    "        yield i**2"
   ]
  },
  {
   "cell_type": "code",
   "execution_count": 48,
   "metadata": {},
   "outputs": [],
   "source": [
    "gen = squares(10)"
   ]
  },
  {
   "cell_type": "code",
   "execution_count": 49,
   "metadata": {},
   "outputs": [
    {
     "data": {
      "text/plain": [
       "<generator object squares at 0x0000020C7624E148>"
      ]
     },
     "execution_count": 49,
     "metadata": {},
     "output_type": "execute_result"
    }
   ],
   "source": [
    "gen"
   ]
  },
  {
   "cell_type": "code",
   "execution_count": 50,
   "metadata": {},
   "outputs": [],
   "source": [
    "iters = tee(gen, 3)"
   ]
  },
  {
   "cell_type": "code",
   "execution_count": 51,
   "metadata": {},
   "outputs": [
    {
     "data": {
      "text/plain": [
       "(<itertools._tee at 0x20c76252848>,\n",
       " <itertools._tee at 0x20c76252588>,\n",
       " <itertools._tee at 0x20c76252448>)"
      ]
     },
     "execution_count": 51,
     "metadata": {},
     "output_type": "execute_result"
    }
   ],
   "source": [
    "iters"
   ]
  },
  {
   "cell_type": "markdown",
   "metadata": {},
   "source": [
    "Notice I have 3 different objects now"
   ]
  },
  {
   "cell_type": "code",
   "execution_count": 52,
   "metadata": {},
   "outputs": [
    {
     "data": {
      "text/plain": [
       "tuple"
      ]
     },
     "execution_count": 52,
     "metadata": {},
     "output_type": "execute_result"
    }
   ],
   "source": [
    "type(iters)"
   ]
  },
  {
   "cell_type": "code",
   "execution_count": 53,
   "metadata": {},
   "outputs": [],
   "source": [
    "iter1, iter2, iter3 = iters"
   ]
  },
  {
   "cell_type": "code",
   "execution_count": 54,
   "metadata": {},
   "outputs": [
    {
     "data": {
      "text/plain": [
       "False"
      ]
     },
     "execution_count": 54,
     "metadata": {},
     "output_type": "execute_result"
    }
   ],
   "source": [
    "iter1 is iter2"
   ]
  },
  {
   "cell_type": "code",
   "execution_count": 55,
   "metadata": {},
   "outputs": [
    {
     "data": {
      "text/plain": [
       "False"
      ]
     },
     "execution_count": 55,
     "metadata": {},
     "output_type": "execute_result"
    }
   ],
   "source": [
    "iter2 is iter3"
   ]
  },
  {
   "cell_type": "code",
   "execution_count": 56,
   "metadata": {},
   "outputs": [
    {
     "data": {
      "text/plain": [
       "False"
      ]
     },
     "execution_count": 56,
     "metadata": {},
     "output_type": "execute_result"
    }
   ],
   "source": [
    "gen is iter1"
   ]
  },
  {
   "cell_type": "code",
   "execution_count": 57,
   "metadata": {},
   "outputs": [
    {
     "data": {
      "text/plain": [
       "(0, 1, 4)"
      ]
     },
     "execution_count": 57,
     "metadata": {},
     "output_type": "execute_result"
    }
   ],
   "source": [
    "next(iter1), next(iter1), next(iter1)"
   ]
  },
  {
   "cell_type": "code",
   "execution_count": 58,
   "metadata": {},
   "outputs": [
    {
     "data": {
      "text/plain": [
       "(0, 1, 4)"
      ]
     },
     "execution_count": 58,
     "metadata": {},
     "output_type": "execute_result"
    }
   ],
   "source": [
    "next(iter2), next(iter2), next(iter2)"
   ]
  },
  {
   "cell_type": "code",
   "execution_count": 59,
   "metadata": {},
   "outputs": [
    {
     "data": {
      "text/plain": [
       "(0, 1, 4)"
      ]
     },
     "execution_count": 59,
     "metadata": {},
     "output_type": "execute_result"
    }
   ],
   "source": [
    "next(iter3), next(iter3), next(iter3)"
   ]
  },
  {
   "cell_type": "code",
   "execution_count": 60,
   "metadata": {},
   "outputs": [
    {
     "data": {
      "text/plain": [
       "(9, 16, 25)"
      ]
     },
     "execution_count": 60,
     "metadata": {},
     "output_type": "execute_result"
    }
   ],
   "source": [
    "next(gen), next(gen), next(gen)"
   ]
  },
  {
   "cell_type": "markdown",
   "metadata": {},
   "source": [
    "Notice that gen **was** iterated through when tee was called!"
   ]
  },
  {
   "cell_type": "code",
   "execution_count": 63,
   "metadata": {},
   "outputs": [],
   "source": [
    "l = [1, 2, 3, 4]\n",
    "lists = tee(l, 2)"
   ]
  },
  {
   "cell_type": "code",
   "execution_count": 64,
   "metadata": {},
   "outputs": [
    {
     "data": {
      "text/plain": [
       "<itertools._tee at 0x20c762e0608>"
      ]
     },
     "execution_count": 64,
     "metadata": {},
     "output_type": "execute_result"
    }
   ],
   "source": [
    "lists[0]"
   ]
  },
  {
   "cell_type": "markdown",
   "metadata": {},
   "source": [
    "Notice that we have an iterator not iterable!"
   ]
  },
  {
   "cell_type": "code",
   "execution_count": 66,
   "metadata": {},
   "outputs": [
    {
     "data": {
      "text/plain": [
       "[1, 2, 3, 4]"
      ]
     },
     "execution_count": 66,
     "metadata": {},
     "output_type": "execute_result"
    }
   ],
   "source": [
    "list(lists[0])"
   ]
  },
  {
   "cell_type": "code",
   "execution_count": 68,
   "metadata": {},
   "outputs": [
    {
     "data": {
      "text/plain": [
       "[1, 2, 3, 4]"
      ]
     },
     "execution_count": 68,
     "metadata": {},
     "output_type": "execute_result"
    }
   ],
   "source": [
    "list(lists[1])"
   ]
  },
  {
   "cell_type": "code",
   "execution_count": 69,
   "metadata": {},
   "outputs": [
    {
     "data": {
      "text/plain": [
       "[]"
      ]
     },
     "execution_count": 69,
     "metadata": {},
     "output_type": "execute_result"
    }
   ],
   "source": [
    "list(lists[0])"
   ]
  },
  {
   "cell_type": "code",
   "execution_count": 70,
   "metadata": {},
   "outputs": [
    {
     "data": {
      "text/plain": [
       "True"
      ]
     },
     "execution_count": 70,
     "metadata": {},
     "output_type": "execute_result"
    }
   ],
   "source": [
    "lists[0] is lists[0].__iter__()"
   ]
  },
  {
   "cell_type": "code",
   "execution_count": 71,
   "metadata": {},
   "outputs": [
    {
     "data": {
      "text/plain": [
       "True"
      ]
     },
     "execution_count": 71,
     "metadata": {},
     "output_type": "execute_result"
    }
   ],
   "source": [
    "'__next__' in dir(lists[0])"
   ]
  }
 ],
 "metadata": {
  "kernelspec": {
   "display_name": "Python 3",
   "language": "python",
   "name": "python3"
  },
  "language_info": {
   "codemirror_mode": {
    "name": "ipython",
    "version": 3
   },
   "file_extension": ".py",
   "mimetype": "text/x-python",
   "name": "python",
   "nbconvert_exporter": "python",
   "pygments_lexer": "ipython3",
   "version": "3.7.6"
  }
 },
 "nbformat": 4,
 "nbformat_minor": 4
}
