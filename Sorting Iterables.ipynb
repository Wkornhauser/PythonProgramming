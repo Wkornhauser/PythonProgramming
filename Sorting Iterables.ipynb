{
 "cells": [
  {
   "cell_type": "markdown",
   "metadata": {},
   "source": [
    "### Sorting Iterables"
   ]
  },
  {
   "cell_type": "code",
   "execution_count": 7,
   "metadata": {},
   "outputs": [],
   "source": [
    "import random"
   ]
  },
  {
   "cell_type": "code",
   "execution_count": 6,
   "metadata": {
    "scrolled": true
   },
   "outputs": [
    {
     "name": "stdout",
     "output_type": "stream",
     "text": [
      "7\n",
      "7\n",
      "1\n",
      "5\n",
      "9\n",
      "8\n",
      "7\n",
      "5\n",
      "8\n",
      "6\n"
     ]
    }
   ],
   "source": [
    "random.seed(0)\n",
    "for _ in range(10):\n",
    "    print(random.randint(1,10))"
   ]
  },
  {
   "cell_type": "code",
   "execution_count": 8,
   "metadata": {},
   "outputs": [
    {
     "name": "stdout",
     "output_type": "stream",
     "text": [
      "10\n",
      "4\n",
      "9\n",
      "3\n",
      "5\n",
      "3\n",
      "2\n",
      "10\n",
      "5\n",
      "9\n"
     ]
    }
   ],
   "source": [
    "for _ in range(10):\n",
    "    print(random.randint(1,10))"
   ]
  },
  {
   "cell_type": "code",
   "execution_count": 10,
   "metadata": {},
   "outputs": [],
   "source": [
    "class RandomInts:\n",
    "    def __init__(self, length, *, seed=0, lower=0, upper=10):\n",
    "        self.length = length\n",
    "        self.seed = seed\n",
    "        self.lower = lower\n",
    "        self.upper = upper\n",
    "        \n",
    "    def __len__(self):\n",
    "        return self.length\n",
    "    \n",
    "    def __iter__(self):\n",
    "        return self.RandomIterator(self.length,\n",
    "                                   seed=self.seed,\n",
    "                                   lower=self.lower,\n",
    "                                   upper=self.upper)\n",
    "        \n",
    "    class RandomIterator:\n",
    "        def __init__(self, length, *, seed, lower, upper):\n",
    "            self.length = length\n",
    "            self.lower = lower\n",
    "            self.upper = upper\n",
    "            self.num_requests = 0\n",
    "            random.seed(seed)\n",
    "            \n",
    "        def __iter__(self):\n",
    "            return self\n",
    "        \n",
    "        def __next__(self):\n",
    "            if self.num_requests >= self.length:\n",
    "                raise StopIteration\n",
    "            else:\n",
    "                result = random.randint(self.lower, self.upper)\n",
    "                self.num_requests += 1\n",
    "                return result"
   ]
  },
  {
   "cell_type": "code",
   "execution_count": 11,
   "metadata": {},
   "outputs": [],
   "source": [
    "randoms = RandomInts(10)"
   ]
  },
  {
   "cell_type": "code",
   "execution_count": 12,
   "metadata": {},
   "outputs": [
    {
     "name": "stdout",
     "output_type": "stream",
     "text": [
      "6\n",
      "6\n",
      "0\n",
      "4\n",
      "8\n",
      "7\n",
      "6\n",
      "4\n",
      "7\n",
      "5\n"
     ]
    }
   ],
   "source": [
    "for num in randoms:\n",
    "    print(num)"
   ]
  },
  {
   "cell_type": "code",
   "execution_count": 13,
   "metadata": {},
   "outputs": [
    {
     "name": "stdout",
     "output_type": "stream",
     "text": [
      "6\n",
      "6\n",
      "0\n",
      "4\n",
      "8\n",
      "7\n",
      "6\n",
      "4\n",
      "7\n",
      "5\n"
     ]
    }
   ],
   "source": [
    "for num in randoms:\n",
    "    print(num)"
   ]
  },
  {
   "cell_type": "code",
   "execution_count": 14,
   "metadata": {},
   "outputs": [],
   "source": [
    "randoms = RandomInts(10, seed=None)"
   ]
  },
  {
   "cell_type": "code",
   "execution_count": 15,
   "metadata": {},
   "outputs": [
    {
     "name": "stdout",
     "output_type": "stream",
     "text": [
      "3\n",
      "2\n",
      "4\n",
      "3\n",
      "10\n",
      "0\n",
      "2\n",
      "6\n",
      "9\n",
      "10\n"
     ]
    }
   ],
   "source": [
    "for num in randoms:\n",
    "    print(num)"
   ]
  },
  {
   "cell_type": "code",
   "execution_count": 16,
   "metadata": {},
   "outputs": [
    {
     "name": "stdout",
     "output_type": "stream",
     "text": [
      "9\n",
      "6\n",
      "4\n",
      "3\n",
      "3\n",
      "0\n",
      "7\n",
      "7\n",
      "9\n",
      "3\n"
     ]
    }
   ],
   "source": [
    "for num in randoms:\n",
    "    print(num)"
   ]
  },
  {
   "cell_type": "code",
   "execution_count": 17,
   "metadata": {},
   "outputs": [],
   "source": [
    "randoms = RandomInts(10)"
   ]
  },
  {
   "cell_type": "code",
   "execution_count": 18,
   "metadata": {},
   "outputs": [
    {
     "data": {
      "text/plain": [
       "[6, 6, 0, 4, 8, 7, 6, 4, 7, 5]"
      ]
     },
     "execution_count": 18,
     "metadata": {},
     "output_type": "execute_result"
    }
   ],
   "source": [
    "list(randoms)"
   ]
  },
  {
   "cell_type": "code",
   "execution_count": 19,
   "metadata": {},
   "outputs": [
    {
     "data": {
      "text/plain": [
       "[0, 4, 4, 5, 6, 6, 6, 7, 7, 8]"
      ]
     },
     "execution_count": 19,
     "metadata": {},
     "output_type": "execute_result"
    }
   ],
   "source": [
    "sorted(randoms)"
   ]
  },
  {
   "cell_type": "code",
   "execution_count": 20,
   "metadata": {},
   "outputs": [
    {
     "data": {
      "text/plain": [
       "[8, 7, 7, 6, 6, 6, 5, 4, 4, 0]"
      ]
     },
     "execution_count": 20,
     "metadata": {},
     "output_type": "execute_result"
    }
   ],
   "source": [
    "sorted(randoms, reverse=True)"
   ]
  }
 ],
 "metadata": {
  "kernelspec": {
   "display_name": "Python 3",
   "language": "python",
   "name": "python3"
  },
  "language_info": {
   "codemirror_mode": {
    "name": "ipython",
    "version": 3
   },
   "file_extension": ".py",
   "mimetype": "text/x-python",
   "name": "python",
   "nbconvert_exporter": "python",
   "pygments_lexer": "ipython3",
   "version": "3.7.6"
  }
 },
 "nbformat": 4,
 "nbformat_minor": 4
}
