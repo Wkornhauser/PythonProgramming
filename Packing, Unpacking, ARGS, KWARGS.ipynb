{
 "cells": [
  {
   "cell_type": "code",
   "execution_count": 1,
   "metadata": {},
   "outputs": [
    {
     "data": {
      "text/plain": [
       "138"
      ]
     },
     "execution_count": 1,
     "metadata": {},
     "output_type": "execute_result"
    }
   ],
   "source": [
    "6+12+9+14+10+13+17+19+19+19"
   ]
  },
  {
   "cell_type": "code",
   "execution_count": 6,
   "metadata": {},
   "outputs": [],
   "source": [
    "a, b, *c = 10, 20, 30 , 40"
   ]
  },
  {
   "cell_type": "code",
   "execution_count": 7,
   "metadata": {},
   "outputs": [
    {
     "data": {
      "text/plain": [
       "10"
      ]
     },
     "execution_count": 7,
     "metadata": {},
     "output_type": "execute_result"
    }
   ],
   "source": [
    "a"
   ]
  },
  {
   "cell_type": "code",
   "execution_count": 8,
   "metadata": {},
   "outputs": [
    {
     "data": {
      "text/plain": [
       "20"
      ]
     },
     "execution_count": 8,
     "metadata": {},
     "output_type": "execute_result"
    }
   ],
   "source": [
    "b"
   ]
  },
  {
   "cell_type": "code",
   "execution_count": 9,
   "metadata": {},
   "outputs": [
    {
     "data": {
      "text/plain": [
       "[30, 40]"
      ]
     },
     "execution_count": 9,
     "metadata": {},
     "output_type": "execute_result"
    }
   ],
   "source": [
    "c"
   ]
  },
  {
   "cell_type": "code",
   "execution_count": 10,
   "metadata": {},
   "outputs": [],
   "source": [
    "def func1(a, b, *c):\n",
    "    print(a, b, c)"
   ]
  },
  {
   "cell_type": "code",
   "execution_count": 11,
   "metadata": {},
   "outputs": [
    {
     "name": "stdout",
     "output_type": "stream",
     "text": [
      "10 20 ([30, 40],)\n"
     ]
    }
   ],
   "source": [
    "func1(a, b, c)"
   ]
  },
  {
   "cell_type": "code",
   "execution_count": 12,
   "metadata": {},
   "outputs": [
    {
     "name": "stdout",
     "output_type": "stream",
     "text": [
      "1 2 ()\n"
     ]
    }
   ],
   "source": [
    "func1(1, 2)"
   ]
  },
  {
   "cell_type": "code",
   "execution_count": 13,
   "metadata": {},
   "outputs": [
    {
     "name": "stdout",
     "output_type": "stream",
     "text": [
      "10 20 (1, 2, 3)\n"
     ]
    }
   ],
   "source": [
    "func1(10, 20, 1, 2, 3)"
   ]
  },
  {
   "cell_type": "code",
   "execution_count": 14,
   "metadata": {},
   "outputs": [],
   "source": [
    "def func1(a, b, *args):\n",
    "    print(a, b, args)"
   ]
  },
  {
   "cell_type": "code",
   "execution_count": 15,
   "metadata": {},
   "outputs": [
    {
     "name": "stdout",
     "output_type": "stream",
     "text": [
      "1 2 (3, 10, 20, 50)\n"
     ]
    }
   ],
   "source": [
    "func1(1, 2, 3, 10, 20, 50)"
   ]
  },
  {
   "cell_type": "code",
   "execution_count": 16,
   "metadata": {},
   "outputs": [],
   "source": [
    "def avg(*args):\n",
    "    print(args)"
   ]
  },
  {
   "cell_type": "code",
   "execution_count": 17,
   "metadata": {},
   "outputs": [
    {
     "name": "stdout",
     "output_type": "stream",
     "text": [
      "()\n"
     ]
    }
   ],
   "source": [
    "avg()"
   ]
  },
  {
   "cell_type": "code",
   "execution_count": 18,
   "metadata": {},
   "outputs": [
    {
     "name": "stdout",
     "output_type": "stream",
     "text": [
      "(10, 20)\n"
     ]
    }
   ],
   "source": [
    "avg(10, 20)"
   ]
  },
  {
   "cell_type": "code",
   "execution_count": 23,
   "metadata": {},
   "outputs": [],
   "source": [
    "def avg(*args):\n",
    "    count = len(args)\n",
    "    total = sum(args)\n",
    "    if count == 0:\n",
    "        return 0\n",
    "    else:\n",
    "        return total/count"
   ]
  },
  {
   "cell_type": "code",
   "execution_count": 24,
   "metadata": {},
   "outputs": [
    {
     "data": {
      "text/plain": [
       "10.0"
      ]
     },
     "execution_count": 24,
     "metadata": {},
     "output_type": "execute_result"
    }
   ],
   "source": [
    "avg(10,10)"
   ]
  },
  {
   "cell_type": "code",
   "execution_count": 25,
   "metadata": {},
   "outputs": [
    {
     "data": {
      "text/plain": [
       "30.0"
      ]
     },
     "execution_count": 25,
     "metadata": {},
     "output_type": "execute_result"
    }
   ],
   "source": [
    "avg(10,50)"
   ]
  },
  {
   "cell_type": "code",
   "execution_count": 26,
   "metadata": {},
   "outputs": [
    {
     "data": {
      "text/plain": [
       "0"
      ]
     },
     "execution_count": 26,
     "metadata": {},
     "output_type": "execute_result"
    }
   ],
   "source": [
    "avg()"
   ]
  },
  {
   "cell_type": "code",
   "execution_count": 27,
   "metadata": {},
   "outputs": [],
   "source": [
    "def avg(*args):\n",
    "    count = len(args)\n",
    "    total = sum(args)\n",
    "    return count and total/count"
   ]
  },
  {
   "cell_type": "code",
   "execution_count": 28,
   "metadata": {},
   "outputs": [
    {
     "data": {
      "text/plain": [
       "0"
      ]
     },
     "execution_count": 28,
     "metadata": {},
     "output_type": "execute_result"
    }
   ],
   "source": [
    "avg()"
   ]
  },
  {
   "cell_type": "code",
   "execution_count": 31,
   "metadata": {},
   "outputs": [],
   "source": [
    "def avg(a, *args):\n",
    "    count = len(args) + 1\n",
    "    total = sum(args) + a\n",
    "    return total/count"
   ]
  },
  {
   "cell_type": "code",
   "execution_count": 32,
   "metadata": {},
   "outputs": [
    {
     "data": {
      "text/plain": [
       "3.0"
      ]
     },
     "execution_count": 32,
     "metadata": {},
     "output_type": "execute_result"
    }
   ],
   "source": [
    "avg(2, 2, 4, 4)"
   ]
  },
  {
   "cell_type": "code",
   "execution_count": 33,
   "metadata": {},
   "outputs": [
    {
     "ename": "TypeError",
     "evalue": "avg() missing 1 required positional argument: 'a'",
     "output_type": "error",
     "traceback": [
      "\u001b[1;31m---------------------------------------------------------------------------\u001b[0m",
      "\u001b[1;31mTypeError\u001b[0m                                 Traceback (most recent call last)",
      "\u001b[1;32m<ipython-input-33-f5d909301850>\u001b[0m in \u001b[0;36m<module>\u001b[1;34m\u001b[0m\n\u001b[1;32m----> 1\u001b[1;33m \u001b[0mavg\u001b[0m\u001b[1;33m(\u001b[0m\u001b[1;33m)\u001b[0m\u001b[1;33m\u001b[0m\u001b[1;33m\u001b[0m\u001b[0m\n\u001b[0m",
      "\u001b[1;31mTypeError\u001b[0m: avg() missing 1 required positional argument: 'a'"
     ]
    }
   ],
   "source": [
    "avg()"
   ]
  },
  {
   "cell_type": "code",
   "execution_count": 42,
   "metadata": {},
   "outputs": [],
   "source": [
    "def func1(a, b, c):\n",
    "    print(a)\n",
    "    print(b)\n",
    "    print(c)"
   ]
  },
  {
   "cell_type": "code",
   "execution_count": 43,
   "metadata": {},
   "outputs": [],
   "source": [
    "l = [10, 20, 30]"
   ]
  },
  {
   "cell_type": "code",
   "execution_count": 44,
   "metadata": {},
   "outputs": [
    {
     "name": "stdout",
     "output_type": "stream",
     "text": [
      "10\n",
      "20\n",
      "30\n"
     ]
    }
   ],
   "source": [
    "func1(*l)"
   ]
  },
  {
   "cell_type": "code",
   "execution_count": 45,
   "metadata": {},
   "outputs": [],
   "source": [
    " def func1(a, b, c):\n",
    "        print(a, b, c)"
   ]
  },
  {
   "cell_type": "code",
   "execution_count": 46,
   "metadata": {},
   "outputs": [
    {
     "name": "stdout",
     "output_type": "stream",
     "text": [
      "1 2 3\n"
     ]
    }
   ],
   "source": [
    "func1(1, 2, 3)"
   ]
  },
  {
   "cell_type": "code",
   "execution_count": 47,
   "metadata": {},
   "outputs": [
    {
     "name": "stdout",
     "output_type": "stream",
     "text": [
      "1 3 2\n"
     ]
    }
   ],
   "source": [
    "func1(1, c = 2, b = 3)"
   ]
  },
  {
   "cell_type": "code",
   "execution_count": 49,
   "metadata": {},
   "outputs": [
    {
     "name": "stdout",
     "output_type": "stream",
     "text": [
      "1 2 3\n"
     ]
    }
   ],
   "source": [
    "func1(c=3, b=2, a=1)"
   ]
  },
  {
   "cell_type": "code",
   "execution_count": 54,
   "metadata": {},
   "outputs": [],
   "source": [
    "def func1(a, b, *args, d):\n",
    "    print(a, b, args, d)"
   ]
  },
  {
   "cell_type": "code",
   "execution_count": 55,
   "metadata": {},
   "outputs": [
    {
     "name": "stdout",
     "output_type": "stream",
     "text": [
      "1 2 (3, 4) 10\n"
     ]
    }
   ],
   "source": [
    "func1(1, 2, 3, 4, d=10)"
   ]
  },
  {
   "cell_type": "code",
   "execution_count": 57,
   "metadata": {},
   "outputs": [],
   "source": [
    "def func1(*args, d):\n",
    "    print(args, d)"
   ]
  },
  {
   "cell_type": "code",
   "execution_count": 58,
   "metadata": {},
   "outputs": [
    {
     "name": "stdout",
     "output_type": "stream",
     "text": [
      "(1, 2, 3) 10\n"
     ]
    }
   ],
   "source": [
    "func1(1, 2, 3, d=10)"
   ]
  },
  {
   "cell_type": "code",
   "execution_count": 59,
   "metadata": {},
   "outputs": [
    {
     "name": "stdout",
     "output_type": "stream",
     "text": [
      "() a\n"
     ]
    }
   ],
   "source": [
    "func1(d='a')"
   ]
  },
  {
   "cell_type": "code",
   "execution_count": 62,
   "metadata": {},
   "outputs": [],
   "source": [
    "def func1(*, d):\n",
    "    print(d)"
   ]
  },
  {
   "cell_type": "code",
   "execution_count": 65,
   "metadata": {},
   "outputs": [
    {
     "name": "stdout",
     "output_type": "stream",
     "text": [
      "100\n"
     ]
    }
   ],
   "source": [
    "func1(d=100)"
   ]
  },
  {
   "cell_type": "code",
   "execution_count": 68,
   "metadata": {},
   "outputs": [],
   "source": [
    "def func1(a, b, *, d):\n",
    "    print(a, b, d)"
   ]
  },
  {
   "cell_type": "code",
   "execution_count": 71,
   "metadata": {},
   "outputs": [
    {
     "name": "stdout",
     "output_type": "stream",
     "text": [
      "1 2 10\n"
     ]
    }
   ],
   "source": [
    "func1(1, 2, d=10)"
   ]
  },
  {
   "cell_type": "code",
   "execution_count": 73,
   "metadata": {},
   "outputs": [],
   "source": [
    "def func(a, b=2, *args, d, e=True):\n",
    "    print(a, b, args, d, e)"
   ]
  },
  {
   "cell_type": "code",
   "execution_count": 74,
   "metadata": {},
   "outputs": [
    {
     "name": "stdout",
     "output_type": "stream",
     "text": [
      "1 5 (2, 3) a True\n"
     ]
    }
   ],
   "source": [
    "func(1, 5, 2, 3, d = 'a')"
   ]
  },
  {
   "cell_type": "code",
   "execution_count": 75,
   "metadata": {},
   "outputs": [
    {
     "name": "stdout",
     "output_type": "stream",
     "text": [
      "0 600 () good morning python\n"
     ]
    }
   ],
   "source": [
    " func(0, 600, d='good morning', e= 'python')"
   ]
  },
  {
   "cell_type": "code",
   "execution_count": 76,
   "metadata": {},
   "outputs": [
    {
     "name": "stdout",
     "output_type": "stream",
     "text": [
      "11 m/s (24, 'mph') unladen swallow\n"
     ]
    }
   ],
   "source": [
    "func(11, 'm/s', 24, 'mph', d='unladen', e='swallow')"
   ]
  },
  {
   "cell_type": "code",
   "execution_count": 77,
   "metadata": {},
   "outputs": [],
   "source": [
    "def func(**kwargs):\n",
    "    print(kwargs)"
   ]
  },
  {
   "cell_type": "code",
   "execution_count": 78,
   "metadata": {},
   "outputs": [
    {
     "name": "stdout",
     "output_type": "stream",
     "text": [
      "{'d': 10, 'e': 11}\n"
     ]
    }
   ],
   "source": [
    "func(d=10, e= 11)"
   ]
  },
  {
   "cell_type": "code",
   "execution_count": 79,
   "metadata": {},
   "outputs": [],
   "source": [
    "def func(*args, **kwargs):\n",
    "    print(args)\n",
    "    print(kwargs)"
   ]
  },
  {
   "cell_type": "code",
   "execution_count": 81,
   "metadata": {},
   "outputs": [
    {
     "name": "stdout",
     "output_type": "stream",
     "text": [
      "(1, 2, 3)\n",
      "{'d': 'a', 'e': 'b', 'f': 'c'}\n"
     ]
    }
   ],
   "source": [
    "func(1, 2, 3, d= 'a', e = 'b', f = 'c')"
   ]
  },
  {
   "cell_type": "code",
   "execution_count": 85,
   "metadata": {},
   "outputs": [],
   "source": [
    "def func(a, b, *, d, **kwargs):\n",
    "    print(a)\n",
    "    print(b)\n",
    "    print(d)\n",
    "    print(kwargs)"
   ]
  },
  {
   "cell_type": "code",
   "execution_count": 86,
   "metadata": {},
   "outputs": [
    {
     "name": "stdout",
     "output_type": "stream",
     "text": [
      "1\n",
      "2\n",
      "30\n",
      "{'x': 100, 'y': 200}\n"
     ]
    }
   ],
   "source": [
    "func(1, 2, d = 30, x = 100, y = 200)"
   ]
  },
  {
   "cell_type": "code",
   "execution_count": 87,
   "metadata": {},
   "outputs": [],
   "source": [
    "def func(a, b, **kwargs):\n",
    "    print(a)\n",
    "    print(b)\n",
    "    print(kwargs)"
   ]
  },
  {
   "cell_type": "code",
   "execution_count": 88,
   "metadata": {},
   "outputs": [
    {
     "name": "stdout",
     "output_type": "stream",
     "text": [
      "1\n",
      "2\n",
      "{'x': 100, 'y': 200}\n"
     ]
    }
   ],
   "source": [
    "func(1, 2, x = 100, y = 200)"
   ]
  },
  {
   "cell_type": "code",
   "execution_count": 89,
   "metadata": {},
   "outputs": [],
   "source": [
    "def func(a, b, *args):\n",
    "    print(a, b, args)"
   ]
  },
  {
   "cell_type": "code",
   "execution_count": 90,
   "metadata": {},
   "outputs": [
    {
     "name": "stdout",
     "output_type": "stream",
     "text": [
      "1 2 ('x', 'y', 'z')\n"
     ]
    }
   ],
   "source": [
    "func(1, 2, 'x', 'y', 'z')"
   ]
  },
  {
   "cell_type": "code",
   "execution_count": 91,
   "metadata": {},
   "outputs": [
    {
     "ename": "SyntaxError",
     "evalue": "positional argument follows keyword argument (<ipython-input-91-4d07ac3e6fd6>, line 1)",
     "output_type": "error",
     "traceback": [
      "\u001b[1;36m  File \u001b[1;32m\"<ipython-input-91-4d07ac3e6fd6>\"\u001b[1;36m, line \u001b[1;32m1\u001b[0m\n\u001b[1;33m    func(a=1, b=2, 'x', 'y', 'z')\u001b[0m\n\u001b[1;37m                  ^\u001b[0m\n\u001b[1;31mSyntaxError\u001b[0m\u001b[1;31m:\u001b[0m positional argument follows keyword argument\n"
     ]
    }
   ],
   "source": [
    "func(a=1, b=2, 'x', 'y', 'z')"
   ]
  },
  {
   "cell_type": "code",
   "execution_count": 92,
   "metadata": {},
   "outputs": [],
   "source": [
    "def func(a, b=2, c=3, *args):\n",
    "    print(a, b, c, args)"
   ]
  },
  {
   "cell_type": "code",
   "execution_count": 93,
   "metadata": {},
   "outputs": [
    {
     "name": "stdout",
     "output_type": "stream",
     "text": [
      "1 2 3 ('x', 'y', 'z')\n"
     ]
    }
   ],
   "source": [
    "func(1, 2, 3, 'x', 'y', 'z')"
   ]
  },
  {
   "cell_type": "code",
   "execution_count": 94,
   "metadata": {},
   "outputs": [
    {
     "name": "stdout",
     "output_type": "stream",
     "text": [
      "1 2 5 ()\n"
     ]
    }
   ],
   "source": [
    "func(1, c=5)"
   ]
  },
  {
   "cell_type": "code",
   "execution_count": 95,
   "metadata": {},
   "outputs": [
    {
     "ename": "SyntaxError",
     "evalue": "positional argument follows keyword argument (<ipython-input-95-e35712c159de>, line 1)",
     "output_type": "error",
     "traceback": [
      "\u001b[1;36m  File \u001b[1;32m\"<ipython-input-95-e35712c159de>\"\u001b[1;36m, line \u001b[1;32m1\u001b[0m\n\u001b[1;33m    func(1, c=5, 'x', 'y')\u001b[0m\n\u001b[1;37m                ^\u001b[0m\n\u001b[1;31mSyntaxError\u001b[0m\u001b[1;31m:\u001b[0m positional argument follows keyword argument\n"
     ]
    }
   ],
   "source": [
    "func(1, c=5, 'x', 'y')"
   ]
  },
  {
   "cell_type": "code",
   "execution_count": 97,
   "metadata": {},
   "outputs": [],
   "source": [
    "def func(a, b=2, *args, c=3, d):\n",
    "    print(a, b, args, c, d)"
   ]
  },
  {
   "cell_type": "code",
   "execution_count": 98,
   "metadata": {},
   "outputs": [
    {
     "name": "stdout",
     "output_type": "stream",
     "text": [
      "10 20 ('x', 'y', 'z') 4 1\n"
     ]
    }
   ],
   "source": [
    "func(10, 20, 'x', 'y', 'z', c=4, d=1)"
   ]
  },
  {
   "cell_type": "code",
   "execution_count": 99,
   "metadata": {},
   "outputs": [
    {
     "name": "stdout",
     "output_type": "stream",
     "text": [
      "10 20 ('x', 'y', 'z') 3 1\n"
     ]
    }
   ],
   "source": [
    "func(10, 20, 'x', 'y', 'z', d=1)"
   ]
  },
  {
   "cell_type": "code",
   "execution_count": 100,
   "metadata": {},
   "outputs": [
    {
     "name": "stdout",
     "output_type": "stream",
     "text": [
      "10 x ('y', 'z') 3 1\n"
     ]
    }
   ],
   "source": [
    "func(10, 'x', 'y', 'z', d=1)"
   ]
  },
  {
   "cell_type": "code",
   "execution_count": 101,
   "metadata": {},
   "outputs": [],
   "source": [
    "def func(a, b, *args, c=10, d=20, **kwargs):\n",
    "    print(a, b, args, c, d, kwargs)"
   ]
  },
  {
   "cell_type": "code",
   "execution_count": 105,
   "metadata": {},
   "outputs": [
    {
     "name": "stdout",
     "output_type": "stream",
     "text": [
      "1 2 ('x', 'y', 'z') 100 200 {'e': 10, 'f': 20, 'g': 30, 'h': 40}\n"
     ]
    }
   ],
   "source": [
    "func(1, 2, 'x', 'y', 'z', c=100, d= 200, e=10, f=20 , g=30 , h=40)"
   ]
  },
  {
   "cell_type": "code",
   "execution_count": 106,
   "metadata": {},
   "outputs": [
    {
     "name": "stdout",
     "output_type": "stream",
     "text": [
      "Help on built-in function print in module builtins:\n",
      "\n",
      "print(...)\n",
      "    print(value, ..., sep=' ', end='\\n', file=sys.stdout, flush=False)\n",
      "    \n",
      "    Prints the values to a stream, or to sys.stdout by default.\n",
      "    Optional keyword arguments:\n",
      "    file:  a file-like object (stream); defaults to the current sys.stdout.\n",
      "    sep:   string inserted between values, default a space.\n",
      "    end:   string appended after the last value, default a newline.\n",
      "    flush: whether to forcibly flush the stream.\n",
      "\n"
     ]
    }
   ],
   "source": [
    "help(print)"
   ]
  },
  {
   "cell_type": "code",
   "execution_count": 107,
   "metadata": {},
   "outputs": [
    {
     "name": "stdout",
     "output_type": "stream",
     "text": [
      "1 2 3\n"
     ]
    }
   ],
   "source": [
    "print(1, 2, 3)"
   ]
  },
  {
   "cell_type": "code",
   "execution_count": 108,
   "metadata": {},
   "outputs": [
    {
     "name": "stdout",
     "output_type": "stream",
     "text": [
      "4 5 6\n"
     ]
    }
   ],
   "source": [
    "print(4, 5, 6)"
   ]
  },
  {
   "cell_type": "code",
   "execution_count": 109,
   "metadata": {},
   "outputs": [
    {
     "name": "stdout",
     "output_type": "stream",
     "text": [
      "1-2-3\n"
     ]
    }
   ],
   "source": [
    "print(1, 2, 3, sep='-')"
   ]
  },
  {
   "cell_type": "code",
   "execution_count": 110,
   "metadata": {},
   "outputs": [
    {
     "name": "stdout",
     "output_type": "stream",
     "text": [
      "4,5,6\n"
     ]
    }
   ],
   "source": [
    "print(4, 5, 6, sep=',')"
   ]
  },
  {
   "cell_type": "code",
   "execution_count": 111,
   "metadata": {},
   "outputs": [
    {
     "name": "stdout",
     "output_type": "stream",
     "text": [
      "1-2-3______4,5,6\n"
     ]
    }
   ],
   "source": [
    "print(1, 2, 3, sep='-', end='______')\n",
    "print(4, 5, 6, sep=',')"
   ]
  },
  {
   "cell_type": "code",
   "execution_count": 128,
   "metadata": {},
   "outputs": [],
   "source": [
    "def calc_hi_lo_avg(*args, log_to_console = False):\n",
    "    hi = int(bool(args)) and max(args)\n",
    "    lo = int(bool(args)) and min(args)\n",
    "    avg = (hi + lo) / 2\n",
    "    if log_to_console:\n",
    "        print('high = {0} \\\n",
    "              low = {1} \\\n",
    "              avg = {2}'.format(hi, lo, avg))\n",
    "    return avg\n",
    "    "
   ]
  },
  {
   "cell_type": "code",
   "execution_count": 129,
   "metadata": {},
   "outputs": [
    {
     "name": "stdout",
     "output_type": "stream",
     "text": [
      "high = 30               low = 10               avg = 20.0\n"
     ]
    },
    {
     "data": {
      "text/plain": [
       "20.0"
      ]
     },
     "execution_count": 129,
     "metadata": {},
     "output_type": "execute_result"
    }
   ],
   "source": [
    "calc_hi_lo_avg(10, 20, 30, log_to_console = True)"
   ]
  },
  {
   "cell_type": "code",
   "execution_count": 131,
   "metadata": {},
   "outputs": [],
   "source": [
    "def func(a, *, c, d):\n",
    "    return 1"
   ]
  },
  {
   "cell_type": "code",
   "execution_count": 133,
   "metadata": {},
   "outputs": [],
   "source": [
    "import time\n",
    "\n",
    "def time_it(fn, *args, **kwargs):\n",
    "    print(args, kwargs)"
   ]
  },
  {
   "cell_type": "code",
   "execution_count": 134,
   "metadata": {},
   "outputs": [
    {
     "name": "stdout",
     "output_type": "stream",
     "text": [
      "(1, 2, 3) {'sep': ' - ', 'end': ' ***'}\n"
     ]
    }
   ],
   "source": [
    "time_it(print, 1, 2, 3, sep = ' - ', end=' ***')"
   ]
  },
  {
   "cell_type": "code",
   "execution_count": 144,
   "metadata": {},
   "outputs": [],
   "source": [
    "import time\n",
    "\n",
    "def time_it(fn, *args, rep=1, **kwargs):\n",
    "    for n in range(rep):\n",
    "        fn(*args, *kwargs)"
   ]
  },
  {
   "cell_type": "code",
   "execution_count": 142,
   "metadata": {},
   "outputs": [
    {
     "name": "stdout",
     "output_type": "stream",
     "text": [
      "1 2 3 sep end\n"
     ]
    }
   ],
   "source": [
    "time_it(print, 1, 2, 3, sep = ' - ', end=' ***\\n')"
   ]
  },
  {
   "cell_type": "code",
   "execution_count": 145,
   "metadata": {},
   "outputs": [
    {
     "name": "stdout",
     "output_type": "stream",
     "text": [
      "1 2 3 sep end\n",
      "1 2 3 sep end\n",
      "1 2 3 sep end\n",
      "1 2 3 sep end\n",
      "1 2 3 sep end\n"
     ]
    }
   ],
   "source": [
    "time_it(print, 1, 2, 3, rep = 5, sep = ' - ', end=' ***\\n')"
   ]
  },
  {
   "cell_type": "code",
   "execution_count": 146,
   "metadata": {},
   "outputs": [
    {
     "name": "stdout",
     "output_type": "stream",
     "text": [
      "1 2 3 sep end\n",
      "1 2 3 sep end\n",
      "1 2 3 sep end\n",
      "1 2 3 sep end\n",
      "1 2 3 sep end\n"
     ]
    }
   ],
   "source": [
    "time_it(print, 1, 2, 3, sep = ' - ', end=' ***\\n', rep = 5)"
   ]
  },
  {
   "cell_type": "code",
   "execution_count": 188,
   "metadata": {},
   "outputs": [],
   "source": [
    "import time\n",
    "\n",
    "def time_it(fn, *args, rep=1, **kwargs):\n",
    "    start = time.perf_counter()\n",
    "    for n in range(rep):\n",
    "        fn(*args, **kwargs)\n",
    "    end = time.perf_counter()\n",
    "    return (end-start) / rep"
   ]
  },
  {
   "cell_type": "code",
   "execution_count": 189,
   "metadata": {},
   "outputs": [
    {
     "name": "stdout",
     "output_type": "stream",
     "text": [
      "1 - 2 - 3 ***\n",
      "1 - 2 - 3 ***\n",
      "1 - 2 - 3 ***\n",
      "1 - 2 - 3 ***\n",
      "1 - 2 - 3 ***\n"
     ]
    },
    {
     "data": {
      "text/plain": [
       "2.5760000062291512e-05"
      ]
     },
     "execution_count": 189,
     "metadata": {},
     "output_type": "execute_result"
    }
   ],
   "source": [
    "time_it(print, 1, 2, 3, sep = ' - ', end=' ***\\n', rep = 5)"
   ]
  },
  {
   "cell_type": "code",
   "execution_count": 190,
   "metadata": {},
   "outputs": [],
   "source": [
    "def compute_powers_1(n, *, start=1, end):\n",
    "    # using a for loop\n",
    "    results = []\n",
    "    for j in range(start, end):\n",
    "        results.append(n**j)\n",
    "    return results"
   ]
  },
  {
   "cell_type": "code",
   "execution_count": 191,
   "metadata": {},
   "outputs": [
    {
     "data": {
      "text/plain": [
       "[2, 4, 8, 16]"
      ]
     },
     "execution_count": 191,
     "metadata": {},
     "output_type": "execute_result"
    }
   ],
   "source": [
    "compute_powers_1(2, end = 5)"
   ]
  },
  {
   "cell_type": "code",
   "execution_count": 192,
   "metadata": {},
   "outputs": [],
   "source": [
    "def compute_powers_2(n, *, start=1, end):\n",
    "    # using a list comprehension\n",
    "    return [n**i for i in range(start, end)]"
   ]
  },
  {
   "cell_type": "code",
   "execution_count": 193,
   "metadata": {},
   "outputs": [
    {
     "data": {
      "text/plain": [
       "[2, 4, 8, 16]"
      ]
     },
     "execution_count": 193,
     "metadata": {},
     "output_type": "execute_result"
    }
   ],
   "source": [
    "compute_powers_2(2, end=5)"
   ]
  },
  {
   "cell_type": "code",
   "execution_count": 194,
   "metadata": {},
   "outputs": [],
   "source": [
    "def compute_powers_3(n, *, start=1, end):\n",
    "    # using a generator expression\n",
    "    return(n**i for i in range (start, end))"
   ]
  },
  {
   "cell_type": "code",
   "execution_count": 195,
   "metadata": {},
   "outputs": [
    {
     "data": {
      "text/plain": [
       "[2, 4, 8, 16]"
      ]
     },
     "execution_count": 195,
     "metadata": {},
     "output_type": "execute_result"
    }
   ],
   "source": [
    "list(compute_powers_3(2, end=5))"
   ]
  },
  {
   "cell_type": "code",
   "execution_count": 196,
   "metadata": {},
   "outputs": [
    {
     "data": {
      "text/plain": [
       "0.3044346800001222"
      ]
     },
     "execution_count": 196,
     "metadata": {},
     "output_type": "execute_result"
    }
   ],
   "source": [
    "time_it(compute_powers_1, 2, start=0, end=20000, rep = 5)"
   ]
  },
  {
   "cell_type": "code",
   "execution_count": 197,
   "metadata": {},
   "outputs": [
    {
     "data": {
      "text/plain": [
       "0.30410482000006595"
      ]
     },
     "execution_count": 197,
     "metadata": {},
     "output_type": "execute_result"
    }
   ],
   "source": [
    "time_it(compute_powers_2, 2, start=0, end=20000, rep = 5)"
   ]
  },
  {
   "cell_type": "code",
   "execution_count": 198,
   "metadata": {},
   "outputs": [
    {
     "data": {
      "text/plain": [
       "0.30575841999998377"
      ]
     },
     "execution_count": 198,
     "metadata": {},
     "output_type": "execute_result"
    }
   ],
   "source": [
    "time_it(compute_powers_2, n=2, start=0, end=20000, rep = 5)"
   ]
  },
  {
   "cell_type": "code",
   "execution_count": 199,
   "metadata": {},
   "outputs": [
    {
     "data": {
      "text/plain": [
       "1.1600001016631723e-06"
      ]
     },
     "execution_count": 199,
     "metadata": {},
     "output_type": "execute_result"
    }
   ],
   "source": [
    "time_it(compute_powers_3, 2, start=0, end=20000, rep = 5)"
   ]
  },
  {
   "cell_type": "code",
   "execution_count": 200,
   "metadata": {},
   "outputs": [],
   "source": [
    "a = (2**i  for i in range(5))"
   ]
  },
  {
   "cell_type": "code",
   "execution_count": 201,
   "metadata": {},
   "outputs": [
    {
     "data": {
      "text/plain": [
       "<generator object <genexpr> at 0x0000024F116D3148>"
      ]
     },
     "execution_count": 201,
     "metadata": {},
     "output_type": "execute_result"
    }
   ],
   "source": [
    "a"
   ]
  },
  {
   "cell_type": "code",
   "execution_count": 202,
   "metadata": {},
   "outputs": [
    {
     "data": {
      "text/plain": [
       "[1, 2, 4, 8, 16]"
      ]
     },
     "execution_count": 202,
     "metadata": {},
     "output_type": "execute_result"
    }
   ],
   "source": [
    "list(a)"
   ]
  },
  {
   "cell_type": "code",
   "execution_count": 203,
   "metadata": {},
   "outputs": [],
   "source": [
    "from datetime import datetime"
   ]
  },
  {
   "cell_type": "code",
   "execution_count": 208,
   "metadata": {},
   "outputs": [
    {
     "name": "stdout",
     "output_type": "stream",
     "text": [
      "2020-03-22 20:52:45.256301\n"
     ]
    }
   ],
   "source": [
    "print(datetime.utcnow())"
   ]
  },
  {
   "cell_type": "code",
   "execution_count": 209,
   "metadata": {},
   "outputs": [],
   "source": [
    "def log(msg, *, dt=datetime.utcnow()):\n",
    "    print('{0}: {1}'.format(dt, msg))"
   ]
  },
  {
   "cell_type": "code",
   "execution_count": 210,
   "metadata": {},
   "outputs": [
    {
     "name": "stdout",
     "output_type": "stream",
     "text": [
      "2001-01-01 00:00:00.000: Message 1\n"
     ]
    }
   ],
   "source": [
    "log('Message 1', dt='2001-01-01 00:00:00.000')"
   ]
  },
  {
   "cell_type": "code",
   "execution_count": 211,
   "metadata": {},
   "outputs": [
    {
     "name": "stdout",
     "output_type": "stream",
     "text": [
      "2020-03-22 20:53:37.968867: Message 2\n"
     ]
    }
   ],
   "source": [
    "log('Message 2')"
   ]
  },
  {
   "cell_type": "code",
   "execution_count": 212,
   "metadata": {},
   "outputs": [
    {
     "name": "stdout",
     "output_type": "stream",
     "text": [
      "2020-03-22 20:53:37.968867: Message 3\n"
     ]
    }
   ],
   "source": [
    "log('Message 3')"
   ]
  },
  {
   "cell_type": "code",
   "execution_count": 213,
   "metadata": {},
   "outputs": [],
   "source": [
    "def log(msg, *, dt=None):\n",
    "    dt = dt or datetime.utcnow()\n",
    "    print('{0} : {1}'.format(msg, dt))"
   ]
  },
  {
   "cell_type": "code",
   "execution_count": 214,
   "metadata": {},
   "outputs": [
    {
     "name": "stdout",
     "output_type": "stream",
     "text": [
      "Message 1 : 2000-01-01 00:00:00.000\n"
     ]
    }
   ],
   "source": [
    "log('Message 1', dt = '2000-01-01 00:00:00.000')"
   ]
  },
  {
   "cell_type": "code",
   "execution_count": 215,
   "metadata": {},
   "outputs": [
    {
     "name": "stdout",
     "output_type": "stream",
     "text": [
      "Message 2 : 2020-03-22 20:57:39.712679\n"
     ]
    }
   ],
   "source": [
    "log('Message 2')"
   ]
  },
  {
   "cell_type": "code",
   "execution_count": 216,
   "metadata": {},
   "outputs": [
    {
     "name": "stdout",
     "output_type": "stream",
     "text": [
      "Message 3 : 2020-03-22 20:57:45.225857\n"
     ]
    }
   ],
   "source": [
    "log('Message 3')"
   ]
  },
  {
   "cell_type": "code",
   "execution_count": 217,
   "metadata": {},
   "outputs": [],
   "source": [
    "my_list = [1, 2, 3]\n",
    "def func(a=my_list):\n",
    "    print(a)"
   ]
  },
  {
   "cell_type": "code",
   "execution_count": 218,
   "metadata": {},
   "outputs": [
    {
     "name": "stdout",
     "output_type": "stream",
     "text": [
      "[1, 2, 3]\n"
     ]
    }
   ],
   "source": [
    "func()"
   ]
  },
  {
   "cell_type": "code",
   "execution_count": 219,
   "metadata": {},
   "outputs": [
    {
     "name": "stdout",
     "output_type": "stream",
     "text": [
      "['a', 'b']\n"
     ]
    }
   ],
   "source": [
    "func(['a', 'b'])"
   ]
  },
  {
   "cell_type": "code",
   "execution_count": 220,
   "metadata": {},
   "outputs": [],
   "source": [
    "my_list.append(4)"
   ]
  },
  {
   "cell_type": "code",
   "execution_count": 221,
   "metadata": {},
   "outputs": [
    {
     "data": {
      "text/plain": [
       "[1, 2, 3, 4]"
      ]
     },
     "execution_count": 221,
     "metadata": {},
     "output_type": "execute_result"
    }
   ],
   "source": [
    "my_list"
   ]
  },
  {
   "cell_type": "code",
   "execution_count": 222,
   "metadata": {},
   "outputs": [
    {
     "name": "stdout",
     "output_type": "stream",
     "text": [
      "[1, 2, 3, 4]\n"
     ]
    }
   ],
   "source": [
    "func()"
   ]
  },
  {
   "cell_type": "code",
   "execution_count": 224,
   "metadata": {},
   "outputs": [],
   "source": [
    "def add_item(name, quantity, unit, grocery_list):\n",
    "    grocery_list.append('{0} ({1} {2})'.format(name, quantity, unit))\n",
    "    return grocery_list"
   ]
  },
  {
   "cell_type": "code",
   "execution_count": 237,
   "metadata": {},
   "outputs": [],
   "source": [
    "store1 = []\n",
    "store2 = []"
   ]
  },
  {
   "cell_type": "code",
   "execution_count": 226,
   "metadata": {},
   "outputs": [
    {
     "data": {
      "text/plain": [
       "['bannana (2 units)', 'milk (1 litre)']"
      ]
     },
     "execution_count": 226,
     "metadata": {},
     "output_type": "execute_result"
    }
   ],
   "source": [
    "add_item('bannana', 2, 'units', store1)\n",
    "add_item('milk', 1, 'litre', store1)"
   ]
  },
  {
   "cell_type": "code",
   "execution_count": 227,
   "metadata": {},
   "outputs": [
    {
     "name": "stdout",
     "output_type": "stream",
     "text": [
      "['bannana (2 units)', 'milk (1 litre)']\n"
     ]
    }
   ],
   "source": [
    "print(store1)"
   ]
  },
  {
   "cell_type": "code",
   "execution_count": 229,
   "metadata": {},
   "outputs": [
    {
     "data": {
      "text/plain": [
       "['python (1 medium-rare)']"
      ]
     },
     "execution_count": 229,
     "metadata": {},
     "output_type": "execute_result"
    }
   ],
   "source": [
    "add_item('python', 1, 'medium-rare',store2)"
   ]
  },
  {
   "cell_type": "code",
   "execution_count": 230,
   "metadata": {},
   "outputs": [
    {
     "name": "stdout",
     "output_type": "stream",
     "text": [
      "['python (1 medium-rare)']\n"
     ]
    }
   ],
   "source": [
    "print(store2)"
   ]
  },
  {
   "cell_type": "code",
   "execution_count": 231,
   "metadata": {},
   "outputs": [],
   "source": [
    "def add_item(name, quantity, unit, grocery_list=[]):\n",
    "    grocery_list.append('{0} ({1} {2})'.format(name, quantity, unit))\n",
    "    return grocery_list"
   ]
  },
  {
   "cell_type": "code",
   "execution_count": 232,
   "metadata": {},
   "outputs": [
    {
     "data": {
      "text/plain": [
       "['bannana (2 units)', 'milk (1 litre)', 'bannana (2 units)', 'milk (1 litre)']"
      ]
     },
     "execution_count": 232,
     "metadata": {},
     "output_type": "execute_result"
    }
   ],
   "source": [
    "add_item('bannana', 2, 'units', store1)\n",
    "add_item('milk', 1, 'litre', store1)"
   ]
  },
  {
   "cell_type": "code",
   "execution_count": 234,
   "metadata": {},
   "outputs": [],
   "source": [
    "del store1, store2"
   ]
  },
  {
   "cell_type": "code",
   "execution_count": null,
   "metadata": {},
   "outputs": [],
   "source": []
  },
  {
   "cell_type": "code",
   "execution_count": 242,
   "metadata": {},
   "outputs": [],
   "source": [
    "store1 = add_item('bannana', 2, 'units')"
   ]
  },
  {
   "cell_type": "code",
   "execution_count": 241,
   "metadata": {},
   "outputs": [],
   "source": [
    "del store1"
   ]
  },
  {
   "cell_type": "code",
   "execution_count": 243,
   "metadata": {},
   "outputs": [
    {
     "data": {
      "text/plain": [
       "['bannana (2 units)', 'milk (1 litre)']"
      ]
     },
     "execution_count": 243,
     "metadata": {},
     "output_type": "execute_result"
    }
   ],
   "source": [
    "add_item('milk', 1, 'litre', store1)"
   ]
  },
  {
   "cell_type": "code",
   "execution_count": 244,
   "metadata": {},
   "outputs": [],
   "source": [
    "store2 = add_item('python', 1, 'medium-rare')"
   ]
  },
  {
   "cell_type": "code",
   "execution_count": 245,
   "metadata": {},
   "outputs": [
    {
     "name": "stdout",
     "output_type": "stream",
     "text": [
      "['bannana (2 units)', 'milk (1 litre)', 'python (1 medium-rare)']\n"
     ]
    }
   ],
   "source": [
    "print(store2)"
   ]
  },
  {
   "cell_type": "code",
   "execution_count": 246,
   "metadata": {},
   "outputs": [
    {
     "data": {
      "text/plain": [
       "['bannana (2 units)', 'milk (1 litre)', 'python (1 medium-rare)']"
      ]
     },
     "execution_count": 246,
     "metadata": {},
     "output_type": "execute_result"
    }
   ],
   "source": [
    "store1"
   ]
  },
  {
   "cell_type": "code",
   "execution_count": 247,
   "metadata": {},
   "outputs": [
    {
     "data": {
      "text/plain": [
       "True"
      ]
     },
     "execution_count": 247,
     "metadata": {},
     "output_type": "execute_result"
    }
   ],
   "source": [
    "store1 is store2"
   ]
  },
  {
   "cell_type": "code",
   "execution_count": 248,
   "metadata": {},
   "outputs": [],
   "source": [
    "def add_item(name, quantity, unit, grocery_list=None):\n",
    "    grocery_list = grocery_list or []\n",
    "    grocery_list.append('{0} ({1} {2})'.format(name, quantity, unit))\n",
    "    return grocery_list"
   ]
  },
  {
   "cell_type": "code",
   "execution_count": 249,
   "metadata": {},
   "outputs": [],
   "source": [
    "del store1"
   ]
  },
  {
   "cell_type": "code",
   "execution_count": 250,
   "metadata": {},
   "outputs": [],
   "source": [
    "del store2"
   ]
  },
  {
   "cell_type": "code",
   "execution_count": 251,
   "metadata": {},
   "outputs": [
    {
     "data": {
      "text/plain": [
       "['bannana (2 units)', 'milk (1 litre)']"
      ]
     },
     "execution_count": 251,
     "metadata": {},
     "output_type": "execute_result"
    }
   ],
   "source": [
    "store1 = add_item('bannana', 2, 'units')\n",
    "add_item('milk', 1, 'litre', store1)"
   ]
  },
  {
   "cell_type": "code",
   "execution_count": 252,
   "metadata": {},
   "outputs": [
    {
     "name": "stdout",
     "output_type": "stream",
     "text": [
      "['bannana (2 units)', 'milk (1 litre)']\n"
     ]
    }
   ],
   "source": [
    "print(store1)"
   ]
  },
  {
   "cell_type": "code",
   "execution_count": 253,
   "metadata": {},
   "outputs": [],
   "source": [
    "store2 = add_item('python', 1, 'medium-rare')"
   ]
  },
  {
   "cell_type": "code",
   "execution_count": 254,
   "metadata": {},
   "outputs": [
    {
     "name": "stdout",
     "output_type": "stream",
     "text": [
      "['python (1 medium-rare)']\n"
     ]
    }
   ],
   "source": [
    "print(store2)"
   ]
  },
  {
   "cell_type": "code",
   "execution_count": 255,
   "metadata": {},
   "outputs": [
    {
     "data": {
      "text/plain": [
       "False"
      ]
     },
     "execution_count": 255,
     "metadata": {},
     "output_type": "execute_result"
    }
   ],
   "source": [
    "store1 is store2"
   ]
  },
  {
   "cell_type": "code",
   "execution_count": 256,
   "metadata": {},
   "outputs": [],
   "source": [
    "def factorial (n):\n",
    "    if n < 1:\n",
    "        return 1\n",
    "    else:\n",
    "        print('calculating {0}!'.format(n))\n",
    "        return n * factorial(n-1)"
   ]
  },
  {
   "cell_type": "code",
   "execution_count": 257,
   "metadata": {},
   "outputs": [
    {
     "name": "stdout",
     "output_type": "stream",
     "text": [
      "calculating 3!\n",
      "calculating 2!\n",
      "calculating 1!\n"
     ]
    },
    {
     "data": {
      "text/plain": [
       "6"
      ]
     },
     "execution_count": 257,
     "metadata": {},
     "output_type": "execute_result"
    }
   ],
   "source": [
    "factorial(3)"
   ]
  },
  {
   "cell_type": "code",
   "execution_count": 258,
   "metadata": {},
   "outputs": [
    {
     "name": "stdout",
     "output_type": "stream",
     "text": [
      "calculating 3!\n",
      "calculating 2!\n",
      "calculating 1!\n"
     ]
    },
    {
     "data": {
      "text/plain": [
       "6"
      ]
     },
     "execution_count": 258,
     "metadata": {},
     "output_type": "execute_result"
    }
   ],
   "source": [
    "factorial(3)"
   ]
  },
  {
   "cell_type": "code",
   "execution_count": 262,
   "metadata": {},
   "outputs": [],
   "source": [
    "def factorial (n, *, cache):\n",
    "    if n < 1:\n",
    "        return 1\n",
    "    elif n in cache:\n",
    "        return cache[n]\n",
    "    else:\n",
    "        print('calculating {0}!'.format(n))\n",
    "        result = n * factorial(n-1, cache = cache)\n",
    "        cache [n] = result\n",
    "        return result"
   ]
  },
  {
   "cell_type": "code",
   "execution_count": 261,
   "metadata": {},
   "outputs": [],
   "source": [
    "del cache"
   ]
  },
  {
   "cell_type": "code",
   "execution_count": 263,
   "metadata": {},
   "outputs": [],
   "source": [
    "cache = {}"
   ]
  },
  {
   "cell_type": "code",
   "execution_count": 265,
   "metadata": {},
   "outputs": [
    {
     "name": "stdout",
     "output_type": "stream",
     "text": [
      "calculating 3!\n",
      "calculating 2!\n",
      "calculating 1!\n"
     ]
    },
    {
     "data": {
      "text/plain": [
       "6"
      ]
     },
     "execution_count": 265,
     "metadata": {},
     "output_type": "execute_result"
    }
   ],
   "source": [
    "factorial(3, cache = cache)"
   ]
  },
  {
   "cell_type": "code",
   "execution_count": 266,
   "metadata": {},
   "outputs": [
    {
     "name": "stdout",
     "output_type": "stream",
     "text": [
      "{1: 1, 2: 2, 3: 6}\n"
     ]
    }
   ],
   "source": [
    "print(cache)"
   ]
  },
  {
   "cell_type": "code",
   "execution_count": 271,
   "metadata": {},
   "outputs": [
    {
     "name": "stdout",
     "output_type": "stream",
     "text": [
      "calculating 1000000000000000000000000000!\n",
      "calculating 999999999999999999999999999!\n",
      "calculating 999999999999999999999999998!\n",
      "calculating 999999999999999999999999997!\n",
      "calculating 999999999999999999999999996!\n",
      "calculating 999999999999999999999999995!\n",
      "calculating 999999999999999999999999994!\n",
      "calculating 999999999999999999999999993!\n",
      "calculating 999999999999999999999999992!\n",
      "calculating 999999999999999999999999991!\n",
      "calculating 999999999999999999999999990!\n",
      "calculating 999999999999999999999999989!\n",
      "calculating 999999999999999999999999988!\n",
      "calculating 999999999999999999999999987!\n",
      "calculating 999999999999999999999999986!\n",
      "calculating 999999999999999999999999985!\n",
      "calculating 999999999999999999999999984!\n",
      "calculating 999999999999999999999999983!\n",
      "calculating 999999999999999999999999982!\n",
      "calculating 999999999999999999999999981!\n",
      "calculating 999999999999999999999999980!\n",
      "calculating 999999999999999999999999979!\n",
      "calculating 999999999999999999999999978!\n",
      "calculating 999999999999999999999999977!\n",
      "calculating 999999999999999999999999976!\n",
      "calculating 999999999999999999999999975!\n",
      "calculating 999999999999999999999999974!\n",
      "calculating 999999999999999999999999973!\n",
      "calculating 999999999999999999999999972!\n",
      "calculating 999999999999999999999999971!\n",
      "calculating 999999999999999999999999970!\n",
      "calculating 999999999999999999999999969!\n",
      "calculating 999999999999999999999999968!\n",
      "calculating 999999999999999999999999967!\n",
      "calculating 999999999999999999999999966!\n",
      "calculating 999999999999999999999999965!\n",
      "calculating 999999999999999999999999964!\n",
      "calculating 999999999999999999999999963!\n",
      "calculating 999999999999999999999999962!\n",
      "calculating 999999999999999999999999961!\n",
      "calculating 999999999999999999999999960!\n",
      "calculating 999999999999999999999999959!\n",
      "calculating 999999999999999999999999958!\n",
      "calculating 999999999999999999999999957!\n",
      "calculating 999999999999999999999999956!\n",
      "calculating 999999999999999999999999955!\n",
      "calculating 999999999999999999999999954!\n",
      "calculating 999999999999999999999999953!\n",
      "calculating 999999999999999999999999952!\n",
      "calculating 999999999999999999999999951!\n",
      "calculating 999999999999999999999999950!\n",
      "calculating 999999999999999999999999949!\n",
      "calculating 999999999999999999999999948!\n",
      "calculating 999999999999999999999999947!\n",
      "calculating 999999999999999999999999946!\n",
      "calculating 999999999999999999999999945!\n",
      "calculating 999999999999999999999999944!\n",
      "calculating 999999999999999999999999943!\n",
      "calculating 999999999999999999999999942!\n",
      "calculating 999999999999999999999999941!\n",
      "calculating 999999999999999999999999940!\n",
      "calculating 999999999999999999999999939!\n",
      "calculating 999999999999999999999999938!\n",
      "calculating 999999999999999999999999937!\n",
      "calculating 999999999999999999999999936!\n",
      "calculating 999999999999999999999999935!\n",
      "calculating 999999999999999999999999934!\n",
      "calculating 999999999999999999999999933!\n",
      "calculating 999999999999999999999999932!\n",
      "calculating 999999999999999999999999931!\n",
      "calculating 999999999999999999999999930!\n",
      "calculating 999999999999999999999999929!\n",
      "calculating 999999999999999999999999928!\n",
      "calculating 999999999999999999999999927!\n",
      "calculating 999999999999999999999999926!\n",
      "calculating 999999999999999999999999925!\n",
      "calculating 999999999999999999999999924!\n",
      "calculating 999999999999999999999999923!\n",
      "calculating 999999999999999999999999922!\n",
      "calculating 999999999999999999999999921!\n",
      "calculating 999999999999999999999999920!\n",
      "calculating 999999999999999999999999919!\n",
      "calculating 999999999999999999999999918!\n",
      "calculating 999999999999999999999999917!\n",
      "calculating 999999999999999999999999916!\n",
      "calculating 999999999999999999999999915!\n",
      "calculating 999999999999999999999999914!\n",
      "calculating 999999999999999999999999913!\n",
      "calculating 999999999999999999999999912!\n",
      "calculating 999999999999999999999999911!\n",
      "calculating 999999999999999999999999910!\n",
      "calculating 999999999999999999999999909!\n",
      "calculating 999999999999999999999999908!\n",
      "calculating 999999999999999999999999907!\n",
      "calculating 999999999999999999999999906!\n",
      "calculating 999999999999999999999999905!\n",
      "calculating 999999999999999999999999904!\n",
      "calculating 999999999999999999999999903!\n",
      "calculating 999999999999999999999999902!\n",
      "calculating 999999999999999999999999901!\n",
      "calculating 999999999999999999999999900!\n",
      "calculating 999999999999999999999999899!\n",
      "calculating 999999999999999999999999898!\n",
      "calculating 999999999999999999999999897!\n",
      "calculating 999999999999999999999999896!\n",
      "calculating 999999999999999999999999895!\n",
      "calculating 999999999999999999999999894!\n",
      "calculating 999999999999999999999999893!\n",
      "calculating 999999999999999999999999892!\n",
      "calculating 999999999999999999999999891!\n",
      "calculating 999999999999999999999999890!\n",
      "calculating 999999999999999999999999889!\n",
      "calculating 999999999999999999999999888!\n",
      "calculating 999999999999999999999999887!\n",
      "calculating 999999999999999999999999886!\n",
      "calculating 999999999999999999999999885!\n",
      "calculating 999999999999999999999999884!\n",
      "calculating 999999999999999999999999883!\n",
      "calculating 999999999999999999999999882!\n",
      "calculating 999999999999999999999999881!\n",
      "calculating 999999999999999999999999880!\n",
      "calculating 999999999999999999999999879!\n",
      "calculating 999999999999999999999999878!\n",
      "calculating 999999999999999999999999877!\n",
      "calculating 999999999999999999999999876!\n",
      "calculating 999999999999999999999999875!\n",
      "calculating 999999999999999999999999874!\n",
      "calculating 999999999999999999999999873!\n",
      "calculating 999999999999999999999999872!\n",
      "calculating 999999999999999999999999871!\n",
      "calculating 999999999999999999999999870!\n",
      "calculating 999999999999999999999999869!\n",
      "calculating 999999999999999999999999868!\n",
      "calculating 999999999999999999999999867!\n",
      "calculating 999999999999999999999999866!\n",
      "calculating 999999999999999999999999865!\n",
      "calculating 999999999999999999999999864!\n",
      "calculating 999999999999999999999999863!\n",
      "calculating 999999999999999999999999862!\n",
      "calculating 999999999999999999999999861!\n",
      "calculating 999999999999999999999999860!\n",
      "calculating 999999999999999999999999859!\n",
      "calculating 999999999999999999999999858!\n",
      "calculating 999999999999999999999999857!\n",
      "calculating 999999999999999999999999856!\n",
      "calculating 999999999999999999999999855!\n",
      "calculating 999999999999999999999999854!\n",
      "calculating 999999999999999999999999853!\n",
      "calculating 999999999999999999999999852!\n",
      "calculating 999999999999999999999999851!\n",
      "calculating 999999999999999999999999850!\n",
      "calculating 999999999999999999999999849!\n",
      "calculating 999999999999999999999999848!\n",
      "calculating 999999999999999999999999847!\n",
      "calculating 999999999999999999999999846!\n",
      "calculating 999999999999999999999999845!\n",
      "calculating 999999999999999999999999844!\n",
      "calculating 999999999999999999999999843!\n",
      "calculating 999999999999999999999999842!\n",
      "calculating 999999999999999999999999841!\n",
      "calculating 999999999999999999999999840!\n",
      "calculating 999999999999999999999999839!\n",
      "calculating 999999999999999999999999838!\n",
      "calculating 999999999999999999999999837!\n",
      "calculating 999999999999999999999999836!\n",
      "calculating 999999999999999999999999835!\n",
      "calculating 999999999999999999999999834!\n",
      "calculating 999999999999999999999999833!\n",
      "calculating 999999999999999999999999832!\n",
      "calculating 999999999999999999999999831!\n",
      "calculating 999999999999999999999999830!\n",
      "calculating 999999999999999999999999829!\n",
      "calculating 999999999999999999999999828!\n",
      "calculating 999999999999999999999999827!\n",
      "calculating 999999999999999999999999826!\n",
      "calculating 999999999999999999999999825!\n",
      "calculating 999999999999999999999999824!\n",
      "calculating 999999999999999999999999823!\n",
      "calculating 999999999999999999999999822!\n",
      "calculating 999999999999999999999999821!\n",
      "calculating 999999999999999999999999820!\n",
      "calculating 999999999999999999999999819!\n",
      "calculating 999999999999999999999999818!\n",
      "calculating 999999999999999999999999817!\n",
      "calculating 999999999999999999999999816!\n",
      "calculating 999999999999999999999999815!\n",
      "calculating 999999999999999999999999814!\n",
      "calculating 999999999999999999999999813!\n",
      "calculating 999999999999999999999999812!\n",
      "calculating 999999999999999999999999811!\n",
      "calculating 999999999999999999999999810!\n",
      "calculating 999999999999999999999999809!\n",
      "calculating 999999999999999999999999808!\n",
      "calculating 999999999999999999999999807!\n",
      "calculating 999999999999999999999999806!\n",
      "calculating 999999999999999999999999805!\n",
      "calculating 999999999999999999999999804!\n",
      "calculating 999999999999999999999999803!\n",
      "calculating 999999999999999999999999802!\n",
      "calculating 999999999999999999999999801!\n",
      "calculating 999999999999999999999999800!\n",
      "calculating 999999999999999999999999799!\n",
      "calculating 999999999999999999999999798!\n",
      "calculating 999999999999999999999999797!\n",
      "calculating 999999999999999999999999796!\n",
      "calculating 999999999999999999999999795!\n",
      "calculating 999999999999999999999999794!\n",
      "calculating 999999999999999999999999793!\n",
      "calculating 999999999999999999999999792!\n",
      "calculating 999999999999999999999999791!\n",
      "calculating 999999999999999999999999790!\n",
      "calculating 999999999999999999999999789!\n",
      "calculating 999999999999999999999999788!\n",
      "calculating 999999999999999999999999787!\n",
      "calculating 999999999999999999999999786!\n",
      "calculating 999999999999999999999999785!\n",
      "calculating 999999999999999999999999784!\n",
      "calculating 999999999999999999999999783!\n",
      "calculating 999999999999999999999999782!\n",
      "calculating 999999999999999999999999781!\n",
      "calculating 999999999999999999999999780!\n",
      "calculating 999999999999999999999999779!\n",
      "calculating 999999999999999999999999778!\n",
      "calculating 999999999999999999999999777!\n",
      "calculating 999999999999999999999999776!\n",
      "calculating 999999999999999999999999775!\n",
      "calculating 999999999999999999999999774!\n",
      "calculating 999999999999999999999999773!\n",
      "calculating 999999999999999999999999772!\n",
      "calculating 999999999999999999999999771!\n",
      "calculating 999999999999999999999999770!\n",
      "calculating 999999999999999999999999769!\n",
      "calculating 999999999999999999999999768!\n",
      "calculating 999999999999999999999999767!\n",
      "calculating 999999999999999999999999766!\n",
      "calculating 999999999999999999999999765!\n",
      "calculating 999999999999999999999999764!\n",
      "calculating 999999999999999999999999763!\n",
      "calculating 999999999999999999999999762!\n",
      "calculating 999999999999999999999999761!\n",
      "calculating 999999999999999999999999760!\n",
      "calculating 999999999999999999999999759!\n",
      "calculating 999999999999999999999999758!\n",
      "calculating 999999999999999999999999757!\n",
      "calculating 999999999999999999999999756!\n",
      "calculating 999999999999999999999999755!\n",
      "calculating 999999999999999999999999754!\n",
      "calculating 999999999999999999999999753!\n",
      "calculating 999999999999999999999999752!\n",
      "calculating 999999999999999999999999751!\n",
      "calculating 999999999999999999999999750!\n",
      "calculating 999999999999999999999999749!\n",
      "calculating 999999999999999999999999748!\n",
      "calculating 999999999999999999999999747!\n",
      "calculating 999999999999999999999999746!\n",
      "calculating 999999999999999999999999745!\n",
      "calculating 999999999999999999999999744!\n",
      "calculating 999999999999999999999999743!\n",
      "calculating 999999999999999999999999742!\n",
      "calculating 999999999999999999999999741!\n",
      "calculating 999999999999999999999999740!\n",
      "calculating 999999999999999999999999739!\n",
      "calculating 999999999999999999999999738!\n",
      "calculating 999999999999999999999999737!\n",
      "calculating 999999999999999999999999736!\n",
      "calculating 999999999999999999999999735!\n",
      "calculating 999999999999999999999999734!\n",
      "calculating 999999999999999999999999733!\n",
      "calculating 999999999999999999999999732!\n",
      "calculating 999999999999999999999999731!\n",
      "calculating 999999999999999999999999730!\n",
      "calculating 999999999999999999999999729!\n",
      "calculating 999999999999999999999999728!\n",
      "calculating 999999999999999999999999727!\n",
      "calculating 999999999999999999999999726!\n",
      "calculating 999999999999999999999999725!\n",
      "calculating 999999999999999999999999724!\n",
      "calculating 999999999999999999999999723!\n",
      "calculating 999999999999999999999999722!\n",
      "calculating 999999999999999999999999721!\n",
      "calculating 999999999999999999999999720!\n",
      "calculating 999999999999999999999999719!\n",
      "calculating 999999999999999999999999718!\n",
      "calculating 999999999999999999999999717!\n",
      "calculating 999999999999999999999999716!\n",
      "calculating 999999999999999999999999715!\n",
      "calculating 999999999999999999999999714!\n",
      "calculating 999999999999999999999999713!\n",
      "calculating 999999999999999999999999712!\n",
      "calculating 999999999999999999999999711!\n",
      "calculating 999999999999999999999999710!\n",
      "calculating 999999999999999999999999709!\n",
      "calculating 999999999999999999999999708!\n",
      "calculating 999999999999999999999999707!\n",
      "calculating 999999999999999999999999706!\n",
      "calculating 999999999999999999999999705!\n",
      "calculating 999999999999999999999999704!\n",
      "calculating 999999999999999999999999703!\n",
      "calculating 999999999999999999999999702!\n",
      "calculating 999999999999999999999999701!\n",
      "calculating 999999999999999999999999700!\n",
      "calculating 999999999999999999999999699!\n",
      "calculating 999999999999999999999999698!\n",
      "calculating 999999999999999999999999697!\n",
      "calculating 999999999999999999999999696!\n",
      "calculating 999999999999999999999999695!\n",
      "calculating 999999999999999999999999694!\n",
      "calculating 999999999999999999999999693!\n",
      "calculating 999999999999999999999999692!\n",
      "calculating 999999999999999999999999691!\n",
      "calculating 999999999999999999999999690!\n",
      "calculating 999999999999999999999999689!\n",
      "calculating 999999999999999999999999688!\n",
      "calculating 999999999999999999999999687!\n",
      "calculating 999999999999999999999999686!\n",
      "calculating 999999999999999999999999685!\n",
      "calculating 999999999999999999999999684!\n",
      "calculating 999999999999999999999999683!\n",
      "calculating 999999999999999999999999682!\n",
      "calculating 999999999999999999999999681!\n",
      "calculating 999999999999999999999999680!\n",
      "calculating 999999999999999999999999679!\n",
      "calculating 999999999999999999999999678!\n",
      "calculating 999999999999999999999999677!\n",
      "calculating 999999999999999999999999676!\n",
      "calculating 999999999999999999999999675!\n",
      "calculating 999999999999999999999999674!\n",
      "calculating 999999999999999999999999673!\n",
      "calculating 999999999999999999999999672!\n",
      "calculating 999999999999999999999999671!\n",
      "calculating 999999999999999999999999670!\n",
      "calculating 999999999999999999999999669!\n",
      "calculating 999999999999999999999999668!\n",
      "calculating 999999999999999999999999667!\n",
      "calculating 999999999999999999999999666!\n",
      "calculating 999999999999999999999999665!\n",
      "calculating 999999999999999999999999664!\n",
      "calculating 999999999999999999999999663!\n",
      "calculating 999999999999999999999999662!\n",
      "calculating 999999999999999999999999661!\n",
      "calculating 999999999999999999999999660!\n",
      "calculating 999999999999999999999999659!\n",
      "calculating 999999999999999999999999658!\n",
      "calculating 999999999999999999999999657!\n",
      "calculating 999999999999999999999999656!\n",
      "calculating 999999999999999999999999655!\n",
      "calculating 999999999999999999999999654!\n",
      "calculating 999999999999999999999999653!\n",
      "calculating 999999999999999999999999652!\n",
      "calculating 999999999999999999999999651!\n",
      "calculating 999999999999999999999999650!\n",
      "calculating 999999999999999999999999649!\n",
      "calculating 999999999999999999999999648!\n",
      "calculating 999999999999999999999999647!\n",
      "calculating 999999999999999999999999646!\n",
      "calculating 999999999999999999999999645!\n",
      "calculating 999999999999999999999999644!\n",
      "calculating 999999999999999999999999643!\n",
      "calculating 999999999999999999999999642!\n",
      "calculating 999999999999999999999999641!\n",
      "calculating 999999999999999999999999640!\n",
      "calculating 999999999999999999999999639!\n",
      "calculating 999999999999999999999999638!\n",
      "calculating 999999999999999999999999637!\n",
      "calculating 999999999999999999999999636!\n",
      "calculating 999999999999999999999999635!\n",
      "calculating 999999999999999999999999634!\n",
      "calculating 999999999999999999999999633!\n",
      "calculating 999999999999999999999999632!\n",
      "calculating 999999999999999999999999631!\n",
      "calculating 999999999999999999999999630!\n",
      "calculating 999999999999999999999999629!\n",
      "calculating 999999999999999999999999628!\n",
      "calculating 999999999999999999999999627!\n",
      "calculating 999999999999999999999999626!\n",
      "calculating 999999999999999999999999625!\n",
      "calculating 999999999999999999999999624!\n",
      "calculating 999999999999999999999999623!\n",
      "calculating 999999999999999999999999622!\n",
      "calculating 999999999999999999999999621!\n",
      "calculating 999999999999999999999999620!\n",
      "calculating 999999999999999999999999619!\n",
      "calculating 999999999999999999999999618!\n",
      "calculating 999999999999999999999999617!\n",
      "calculating 999999999999999999999999616!\n",
      "calculating 999999999999999999999999615!\n",
      "calculating 999999999999999999999999614!\n",
      "calculating 999999999999999999999999613!\n",
      "calculating 999999999999999999999999612!\n",
      "calculating 999999999999999999999999611!\n",
      "calculating 999999999999999999999999610!\n",
      "calculating 999999999999999999999999609!\n",
      "calculating 999999999999999999999999608!\n",
      "calculating 999999999999999999999999607!\n",
      "calculating 999999999999999999999999606!\n",
      "calculating 999999999999999999999999605!\n",
      "calculating 999999999999999999999999604!\n",
      "calculating 999999999999999999999999603!\n",
      "calculating 999999999999999999999999602!\n",
      "calculating 999999999999999999999999601!\n",
      "calculating 999999999999999999999999600!\n",
      "calculating 999999999999999999999999599!\n",
      "calculating 999999999999999999999999598!\n",
      "calculating 999999999999999999999999597!\n",
      "calculating 999999999999999999999999596!\n",
      "calculating 999999999999999999999999595!\n",
      "calculating 999999999999999999999999594!\n",
      "calculating 999999999999999999999999593!\n",
      "calculating 999999999999999999999999592!\n",
      "calculating 999999999999999999999999591!\n",
      "calculating 999999999999999999999999590!\n",
      "calculating 999999999999999999999999589!\n",
      "calculating 999999999999999999999999588!\n",
      "calculating 999999999999999999999999587!\n",
      "calculating 999999999999999999999999586!\n",
      "calculating 999999999999999999999999585!\n",
      "calculating 999999999999999999999999584!\n",
      "calculating 999999999999999999999999583!\n",
      "calculating 999999999999999999999999582!\n",
      "calculating 999999999999999999999999581!\n",
      "calculating 999999999999999999999999580!\n",
      "calculating 999999999999999999999999579!\n",
      "calculating 999999999999999999999999578!\n",
      "calculating 999999999999999999999999577!\n",
      "calculating 999999999999999999999999576!\n",
      "calculating 999999999999999999999999575!\n",
      "calculating 999999999999999999999999574!\n",
      "calculating 999999999999999999999999573!\n",
      "calculating 999999999999999999999999572!\n",
      "calculating 999999999999999999999999571!\n",
      "calculating 999999999999999999999999570!\n",
      "calculating 999999999999999999999999569!\n",
      "calculating 999999999999999999999999568!\n",
      "calculating 999999999999999999999999567!\n",
      "calculating 999999999999999999999999566!\n",
      "calculating 999999999999999999999999565!\n",
      "calculating 999999999999999999999999564!\n",
      "calculating 999999999999999999999999563!\n",
      "calculating 999999999999999999999999562!\n",
      "calculating 999999999999999999999999561!\n",
      "calculating 999999999999999999999999560!\n",
      "calculating 999999999999999999999999559!\n",
      "calculating 999999999999999999999999558!\n",
      "calculating 999999999999999999999999557!\n",
      "calculating 999999999999999999999999556!\n",
      "calculating 999999999999999999999999555!\n",
      "calculating 999999999999999999999999554!\n",
      "calculating 999999999999999999999999553!\n",
      "calculating 999999999999999999999999552!\n",
      "calculating 999999999999999999999999551!\n",
      "calculating 999999999999999999999999550!\n",
      "calculating 999999999999999999999999549!\n",
      "calculating 999999999999999999999999548!\n",
      "calculating 999999999999999999999999547!\n",
      "calculating 999999999999999999999999546!\n",
      "calculating 999999999999999999999999545!\n",
      "calculating 999999999999999999999999544!\n",
      "calculating 999999999999999999999999543!\n",
      "calculating 999999999999999999999999542!\n",
      "calculating 999999999999999999999999541!\n",
      "calculating 999999999999999999999999540!\n",
      "calculating 999999999999999999999999539!\n",
      "calculating 999999999999999999999999538!\n",
      "calculating 999999999999999999999999537!\n",
      "calculating 999999999999999999999999536!\n",
      "calculating 999999999999999999999999535!\n",
      "calculating 999999999999999999999999534!\n",
      "calculating 999999999999999999999999533!\n",
      "calculating 999999999999999999999999532!\n",
      "calculating 999999999999999999999999531!\n",
      "calculating 999999999999999999999999530!\n",
      "calculating 999999999999999999999999529!\n",
      "calculating 999999999999999999999999528!\n",
      "calculating 999999999999999999999999527!\n",
      "calculating 999999999999999999999999526!\n",
      "calculating 999999999999999999999999525!\n",
      "calculating 999999999999999999999999524!\n",
      "calculating 999999999999999999999999523!\n",
      "calculating 999999999999999999999999522!\n",
      "calculating 999999999999999999999999521!\n",
      "calculating 999999999999999999999999520!\n",
      "calculating 999999999999999999999999519!\n",
      "calculating 999999999999999999999999518!\n",
      "calculating 999999999999999999999999517!\n",
      "calculating 999999999999999999999999516!\n",
      "calculating 999999999999999999999999515!\n",
      "calculating 999999999999999999999999514!\n",
      "calculating 999999999999999999999999513!\n",
      "calculating 999999999999999999999999512!\n",
      "calculating 999999999999999999999999511!\n",
      "calculating 999999999999999999999999510!\n",
      "calculating 999999999999999999999999509!\n",
      "calculating 999999999999999999999999508!\n",
      "calculating 999999999999999999999999507!\n",
      "calculating 999999999999999999999999506!\n",
      "calculating 999999999999999999999999505!\n",
      "calculating 999999999999999999999999504!\n",
      "calculating 999999999999999999999999503!\n",
      "calculating 999999999999999999999999502!\n",
      "calculating 999999999999999999999999501!\n",
      "calculating 999999999999999999999999500!\n",
      "calculating 999999999999999999999999499!\n",
      "calculating 999999999999999999999999498!\n",
      "calculating 999999999999999999999999497!\n",
      "calculating 999999999999999999999999496!\n",
      "calculating 999999999999999999999999495!\n",
      "calculating 999999999999999999999999494!\n",
      "calculating 999999999999999999999999493!\n",
      "calculating 999999999999999999999999492!\n",
      "calculating 999999999999999999999999491!\n",
      "calculating 999999999999999999999999490!\n",
      "calculating 999999999999999999999999489!\n",
      "calculating 999999999999999999999999488!\n",
      "calculating 999999999999999999999999487!\n",
      "calculating 999999999999999999999999486!\n",
      "calculating 999999999999999999999999485!\n",
      "calculating 999999999999999999999999484!\n",
      "calculating 999999999999999999999999483!\n",
      "calculating 999999999999999999999999482!\n",
      "calculating 999999999999999999999999481!\n",
      "calculating 999999999999999999999999480!\n",
      "calculating 999999999999999999999999479!\n",
      "calculating 999999999999999999999999478!\n",
      "calculating 999999999999999999999999477!\n",
      "calculating 999999999999999999999999476!\n",
      "calculating 999999999999999999999999475!\n",
      "calculating 999999999999999999999999474!\n",
      "calculating 999999999999999999999999473!\n",
      "calculating 999999999999999999999999472!\n",
      "calculating 999999999999999999999999471!\n",
      "calculating 999999999999999999999999470!\n",
      "calculating 999999999999999999999999469!\n",
      "calculating 999999999999999999999999468!\n",
      "calculating 999999999999999999999999467!\n",
      "calculating 999999999999999999999999466!\n",
      "calculating 999999999999999999999999465!\n",
      "calculating 999999999999999999999999464!\n",
      "calculating 999999999999999999999999463!\n",
      "calculating 999999999999999999999999462!\n",
      "calculating 999999999999999999999999461!\n",
      "calculating 999999999999999999999999460!\n",
      "calculating 999999999999999999999999459!\n",
      "calculating 999999999999999999999999458!\n",
      "calculating 999999999999999999999999457!\n",
      "calculating 999999999999999999999999456!\n",
      "calculating 999999999999999999999999455!\n",
      "calculating 999999999999999999999999454!\n",
      "calculating 999999999999999999999999453!\n",
      "calculating 999999999999999999999999452!\n",
      "calculating 999999999999999999999999451!\n",
      "calculating 999999999999999999999999450!\n",
      "calculating 999999999999999999999999449!\n",
      "calculating 999999999999999999999999448!\n",
      "calculating 999999999999999999999999447!\n",
      "calculating 999999999999999999999999446!\n",
      "calculating 999999999999999999999999445!\n",
      "calculating 999999999999999999999999444!\n",
      "calculating 999999999999999999999999443!\n",
      "calculating 999999999999999999999999442!\n",
      "calculating 999999999999999999999999441!\n",
      "calculating 999999999999999999999999440!\n",
      "calculating 999999999999999999999999439!\n",
      "calculating 999999999999999999999999438!\n",
      "calculating 999999999999999999999999437!\n",
      "calculating 999999999999999999999999436!\n",
      "calculating 999999999999999999999999435!\n",
      "calculating 999999999999999999999999434!\n",
      "calculating 999999999999999999999999433!\n",
      "calculating 999999999999999999999999432!\n",
      "calculating 999999999999999999999999431!\n",
      "calculating 999999999999999999999999430!\n",
      "calculating 999999999999999999999999429!\n",
      "calculating 999999999999999999999999428!\n",
      "calculating 999999999999999999999999427!\n",
      "calculating 999999999999999999999999426!\n",
      "calculating 999999999999999999999999425!\n",
      "calculating 999999999999999999999999424!\n",
      "calculating 999999999999999999999999423!\n",
      "calculating 999999999999999999999999422!\n",
      "calculating 999999999999999999999999421!\n",
      "calculating 999999999999999999999999420!\n",
      "calculating 999999999999999999999999419!\n",
      "calculating 999999999999999999999999418!\n",
      "calculating 999999999999999999999999417!\n",
      "calculating 999999999999999999999999416!\n",
      "calculating 999999999999999999999999415!\n",
      "calculating 999999999999999999999999414!\n",
      "calculating 999999999999999999999999413!\n",
      "calculating 999999999999999999999999412!\n",
      "calculating 999999999999999999999999411!\n",
      "calculating 999999999999999999999999410!\n",
      "calculating 999999999999999999999999409!\n",
      "calculating 999999999999999999999999408!\n",
      "calculating 999999999999999999999999407!\n",
      "calculating 999999999999999999999999406!\n",
      "calculating 999999999999999999999999405!\n",
      "calculating 999999999999999999999999404!\n",
      "calculating 999999999999999999999999403!\n",
      "calculating 999999999999999999999999402!\n",
      "calculating 999999999999999999999999401!\n",
      "calculating 999999999999999999999999400!\n",
      "calculating 999999999999999999999999399!\n",
      "calculating 999999999999999999999999398!\n",
      "calculating 999999999999999999999999397!\n",
      "calculating 999999999999999999999999396!\n",
      "calculating 999999999999999999999999395!\n",
      "calculating 999999999999999999999999394!\n",
      "calculating 999999999999999999999999393!\n",
      "calculating 999999999999999999999999392!\n",
      "calculating 999999999999999999999999391!\n",
      "calculating 999999999999999999999999390!\n",
      "calculating 999999999999999999999999389!\n",
      "calculating 999999999999999999999999388!\n",
      "calculating 999999999999999999999999387!\n",
      "calculating 999999999999999999999999386!\n",
      "calculating 999999999999999999999999385!\n",
      "calculating 999999999999999999999999384!\n",
      "calculating 999999999999999999999999383!\n",
      "calculating 999999999999999999999999382!\n",
      "calculating 999999999999999999999999381!\n",
      "calculating 999999999999999999999999380!\n",
      "calculating 999999999999999999999999379!\n",
      "calculating 999999999999999999999999378!\n",
      "calculating 999999999999999999999999377!\n",
      "calculating 999999999999999999999999376!\n",
      "calculating 999999999999999999999999375!\n",
      "calculating 999999999999999999999999374!\n",
      "calculating 999999999999999999999999373!\n",
      "calculating 999999999999999999999999372!\n",
      "calculating 999999999999999999999999371!\n",
      "calculating 999999999999999999999999370!\n",
      "calculating 999999999999999999999999369!\n",
      "calculating 999999999999999999999999368!\n",
      "calculating 999999999999999999999999367!\n",
      "calculating 999999999999999999999999366!\n",
      "calculating 999999999999999999999999365!\n",
      "calculating 999999999999999999999999364!\n",
      "calculating 999999999999999999999999363!\n",
      "calculating 999999999999999999999999362!\n",
      "calculating 999999999999999999999999361!\n",
      "calculating 999999999999999999999999360!\n",
      "calculating 999999999999999999999999359!\n",
      "calculating 999999999999999999999999358!\n",
      "calculating 999999999999999999999999357!\n",
      "calculating 999999999999999999999999356!\n",
      "calculating 999999999999999999999999355!\n",
      "calculating 999999999999999999999999354!\n",
      "calculating 999999999999999999999999353!\n",
      "calculating 999999999999999999999999352!\n",
      "calculating 999999999999999999999999351!\n",
      "calculating 999999999999999999999999350!\n",
      "calculating 999999999999999999999999349!\n",
      "calculating 999999999999999999999999348!\n",
      "calculating 999999999999999999999999347!\n",
      "calculating 999999999999999999999999346!\n",
      "calculating 999999999999999999999999345!\n",
      "calculating 999999999999999999999999344!\n",
      "calculating 999999999999999999999999343!\n",
      "calculating 999999999999999999999999342!\n",
      "calculating 999999999999999999999999341!\n",
      "calculating 999999999999999999999999340!\n",
      "calculating 999999999999999999999999339!\n",
      "calculating 999999999999999999999999338!\n",
      "calculating 999999999999999999999999337!\n",
      "calculating 999999999999999999999999336!\n",
      "calculating 999999999999999999999999335!\n",
      "calculating 999999999999999999999999334!\n",
      "calculating 999999999999999999999999333!\n",
      "calculating 999999999999999999999999332!\n",
      "calculating 999999999999999999999999331!\n",
      "calculating 999999999999999999999999330!\n",
      "calculating 999999999999999999999999329!\n",
      "calculating 999999999999999999999999328!\n",
      "calculating 999999999999999999999999327!\n",
      "calculating 999999999999999999999999326!\n",
      "calculating 999999999999999999999999325!\n",
      "calculating 999999999999999999999999324!\n",
      "calculating 999999999999999999999999323!\n",
      "calculating 999999999999999999999999322!\n",
      "calculating 999999999999999999999999321!\n",
      "calculating 999999999999999999999999320!\n",
      "calculating 999999999999999999999999319!\n",
      "calculating 999999999999999999999999318!\n",
      "calculating 999999999999999999999999317!\n",
      "calculating 999999999999999999999999316!\n",
      "calculating 999999999999999999999999315!\n",
      "calculating 999999999999999999999999314!\n",
      "calculating 999999999999999999999999313!\n",
      "calculating 999999999999999999999999312!\n",
      "calculating 999999999999999999999999311!\n",
      "calculating 999999999999999999999999310!\n",
      "calculating 999999999999999999999999309!\n",
      "calculating 999999999999999999999999308!\n",
      "calculating 999999999999999999999999307!\n",
      "calculating 999999999999999999999999306!\n",
      "calculating 999999999999999999999999305!\n",
      "calculating 999999999999999999999999304!\n",
      "calculating 999999999999999999999999303!\n",
      "calculating 999999999999999999999999302!\n",
      "calculating 999999999999999999999999301!\n",
      "calculating 999999999999999999999999300!\n",
      "calculating 999999999999999999999999299!\n",
      "calculating 999999999999999999999999298!\n",
      "calculating 999999999999999999999999297!\n",
      "calculating 999999999999999999999999296!\n",
      "calculating 999999999999999999999999295!\n",
      "calculating 999999999999999999999999294!\n",
      "calculating 999999999999999999999999293!\n",
      "calculating 999999999999999999999999292!\n",
      "calculating 999999999999999999999999291!\n",
      "calculating 999999999999999999999999290!\n",
      "calculating 999999999999999999999999289!\n",
      "calculating 999999999999999999999999288!\n",
      "calculating 999999999999999999999999287!\n",
      "calculating 999999999999999999999999286!\n",
      "calculating 999999999999999999999999285!\n",
      "calculating 999999999999999999999999284!\n",
      "calculating 999999999999999999999999283!\n",
      "calculating 999999999999999999999999282!\n",
      "calculating 999999999999999999999999281!\n",
      "calculating 999999999999999999999999280!\n",
      "calculating 999999999999999999999999279!\n",
      "calculating 999999999999999999999999278!\n",
      "calculating 999999999999999999999999277!\n",
      "calculating 999999999999999999999999276!\n",
      "calculating 999999999999999999999999275!\n",
      "calculating 999999999999999999999999274!\n",
      "calculating 999999999999999999999999273!\n",
      "calculating 999999999999999999999999272!\n",
      "calculating 999999999999999999999999271!\n",
      "calculating 999999999999999999999999270!\n",
      "calculating 999999999999999999999999269!\n",
      "calculating 999999999999999999999999268!\n",
      "calculating 999999999999999999999999267!\n",
      "calculating 999999999999999999999999266!\n",
      "calculating 999999999999999999999999265!\n",
      "calculating 999999999999999999999999264!\n",
      "calculating 999999999999999999999999263!\n",
      "calculating 999999999999999999999999262!\n",
      "calculating 999999999999999999999999261!\n",
      "calculating 999999999999999999999999260!\n",
      "calculating 999999999999999999999999259!\n",
      "calculating 999999999999999999999999258!\n",
      "calculating 999999999999999999999999257!\n",
      "calculating 999999999999999999999999256!\n",
      "calculating 999999999999999999999999255!\n",
      "calculating 999999999999999999999999254!\n",
      "calculating 999999999999999999999999253!\n",
      "calculating 999999999999999999999999252!\n",
      "calculating 999999999999999999999999251!\n",
      "calculating 999999999999999999999999250!\n",
      "calculating 999999999999999999999999249!\n",
      "calculating 999999999999999999999999248!\n",
      "calculating 999999999999999999999999247!\n",
      "calculating 999999999999999999999999246!\n",
      "calculating 999999999999999999999999245!\n",
      "calculating 999999999999999999999999244!\n",
      "calculating 999999999999999999999999243!\n",
      "calculating 999999999999999999999999242!\n",
      "calculating 999999999999999999999999241!\n",
      "calculating 999999999999999999999999240!\n",
      "calculating 999999999999999999999999239!\n",
      "calculating 999999999999999999999999238!\n",
      "calculating 999999999999999999999999237!\n",
      "calculating 999999999999999999999999236!\n",
      "calculating 999999999999999999999999235!\n",
      "calculating 999999999999999999999999234!\n",
      "calculating 999999999999999999999999233!\n",
      "calculating 999999999999999999999999232!\n",
      "calculating 999999999999999999999999231!\n",
      "calculating 999999999999999999999999230!\n",
      "calculating 999999999999999999999999229!\n",
      "calculating 999999999999999999999999228!\n",
      "calculating 999999999999999999999999227!\n",
      "calculating 999999999999999999999999226!\n",
      "calculating 999999999999999999999999225!\n",
      "calculating 999999999999999999999999224!\n",
      "calculating 999999999999999999999999223!\n",
      "calculating 999999999999999999999999222!\n",
      "calculating 999999999999999999999999221!\n",
      "calculating 999999999999999999999999220!\n",
      "calculating 999999999999999999999999219!\n",
      "calculating 999999999999999999999999218!\n",
      "calculating 999999999999999999999999217!\n",
      "calculating 999999999999999999999999216!\n",
      "calculating 999999999999999999999999215!\n",
      "calculating 999999999999999999999999214!\n",
      "calculating 999999999999999999999999213!\n",
      "calculating 999999999999999999999999212!\n",
      "calculating 999999999999999999999999211!\n",
      "calculating 999999999999999999999999210!\n",
      "calculating 999999999999999999999999209!\n",
      "calculating 999999999999999999999999208!\n",
      "calculating 999999999999999999999999207!\n",
      "calculating 999999999999999999999999206!\n",
      "calculating 999999999999999999999999205!\n",
      "calculating 999999999999999999999999204!\n",
      "calculating 999999999999999999999999203!\n",
      "calculating 999999999999999999999999202!\n",
      "calculating 999999999999999999999999201!\n",
      "calculating 999999999999999999999999200!\n",
      "calculating 999999999999999999999999199!\n",
      "calculating 999999999999999999999999198!\n",
      "calculating 999999999999999999999999197!\n",
      "calculating 999999999999999999999999196!\n",
      "calculating 999999999999999999999999195!\n",
      "calculating 999999999999999999999999194!\n",
      "calculating 999999999999999999999999193!\n",
      "calculating 999999999999999999999999192!\n",
      "calculating 999999999999999999999999191!\n",
      "calculating 999999999999999999999999190!\n",
      "calculating 999999999999999999999999189!\n",
      "calculating 999999999999999999999999188!\n",
      "calculating 999999999999999999999999187!\n",
      "calculating 999999999999999999999999186!\n",
      "calculating 999999999999999999999999185!\n",
      "calculating 999999999999999999999999184!\n",
      "calculating 999999999999999999999999183!\n",
      "calculating 999999999999999999999999182!\n",
      "calculating 999999999999999999999999181!\n",
      "calculating 999999999999999999999999180!\n",
      "calculating 999999999999999999999999179!\n",
      "calculating 999999999999999999999999178!\n",
      "calculating 999999999999999999999999177!\n",
      "calculating 999999999999999999999999176!\n",
      "calculating 999999999999999999999999175!\n",
      "calculating 999999999999999999999999174!\n",
      "calculating 999999999999999999999999173!\n",
      "calculating 999999999999999999999999172!\n",
      "calculating 999999999999999999999999171!\n",
      "calculating 999999999999999999999999170!\n",
      "calculating 999999999999999999999999169!\n",
      "calculating 999999999999999999999999168!\n",
      "calculating 999999999999999999999999167!\n",
      "calculating 999999999999999999999999166!\n",
      "calculating 999999999999999999999999165!\n",
      "calculating 999999999999999999999999164!\n",
      "calculating 999999999999999999999999163!\n",
      "calculating 999999999999999999999999162!\n",
      "calculating 999999999999999999999999161!\n",
      "calculating 999999999999999999999999160!\n",
      "calculating 999999999999999999999999159!\n",
      "calculating 999999999999999999999999158!\n",
      "calculating 999999999999999999999999157!\n",
      "calculating 999999999999999999999999156!\n",
      "calculating 999999999999999999999999155!\n",
      "calculating 999999999999999999999999154!\n",
      "calculating 999999999999999999999999153!\n",
      "calculating 999999999999999999999999152!\n",
      "calculating 999999999999999999999999151!\n",
      "calculating 999999999999999999999999150!\n",
      "calculating 999999999999999999999999149!\n",
      "calculating 999999999999999999999999148!\n",
      "calculating 999999999999999999999999147!\n",
      "calculating 999999999999999999999999146!\n",
      "calculating 999999999999999999999999145!\n",
      "calculating 999999999999999999999999144!\n",
      "calculating 999999999999999999999999143!\n",
      "calculating 999999999999999999999999142!\n",
      "calculating 999999999999999999999999141!\n",
      "calculating 999999999999999999999999140!\n",
      "calculating 999999999999999999999999139!\n",
      "calculating 999999999999999999999999138!\n",
      "calculating 999999999999999999999999137!\n",
      "calculating 999999999999999999999999136!\n",
      "calculating 999999999999999999999999135!\n",
      "calculating 999999999999999999999999134!\n",
      "calculating 999999999999999999999999133!\n",
      "calculating 999999999999999999999999132!\n",
      "calculating 999999999999999999999999131!\n",
      "calculating 999999999999999999999999130!\n",
      "calculating 999999999999999999999999129!\n",
      "calculating 999999999999999999999999128!\n",
      "calculating 999999999999999999999999127!\n",
      "calculating 999999999999999999999999126!\n",
      "calculating 999999999999999999999999125!\n",
      "calculating 999999999999999999999999124!\n",
      "calculating 999999999999999999999999123!\n",
      "calculating 999999999999999999999999122!\n",
      "calculating 999999999999999999999999121!\n",
      "calculating 999999999999999999999999120!\n",
      "calculating 999999999999999999999999119!\n",
      "calculating 999999999999999999999999118!\n",
      "calculating 999999999999999999999999117!\n",
      "calculating 999999999999999999999999116!\n",
      "calculating 999999999999999999999999115!\n",
      "calculating 999999999999999999999999114!\n",
      "calculating 999999999999999999999999113!\n",
      "calculating 999999999999999999999999112!\n",
      "calculating 999999999999999999999999111!\n",
      "calculating 999999999999999999999999110!\n",
      "calculating 999999999999999999999999109!\n",
      "calculating 999999999999999999999999108!\n",
      "calculating 999999999999999999999999107!\n",
      "calculating 999999999999999999999999106!\n",
      "calculating 999999999999999999999999105!\n",
      "calculating 999999999999999999999999104!\n",
      "calculating 999999999999999999999999103!\n",
      "calculating 999999999999999999999999102!\n",
      "calculating 999999999999999999999999101!\n",
      "calculating 999999999999999999999999100!\n",
      "calculating 999999999999999999999999099!\n",
      "calculating 999999999999999999999999098!\n",
      "calculating 999999999999999999999999097!\n",
      "calculating 999999999999999999999999096!\n",
      "calculating 999999999999999999999999095!\n",
      "calculating 999999999999999999999999094!\n",
      "calculating 999999999999999999999999093!\n",
      "calculating 999999999999999999999999092!\n",
      "calculating 999999999999999999999999091!\n",
      "calculating 999999999999999999999999090!\n",
      "calculating 999999999999999999999999089!\n",
      "calculating 999999999999999999999999088!\n",
      "calculating 999999999999999999999999087!\n",
      "calculating 999999999999999999999999086!\n",
      "calculating 999999999999999999999999085!\n",
      "calculating 999999999999999999999999084!\n",
      "calculating 999999999999999999999999083!\n",
      "calculating 999999999999999999999999082!\n",
      "calculating 999999999999999999999999081!\n",
      "calculating 999999999999999999999999080!\n",
      "calculating 999999999999999999999999079!\n",
      "calculating 999999999999999999999999078!\n",
      "calculating 999999999999999999999999077!\n",
      "calculating 999999999999999999999999076!\n",
      "calculating 999999999999999999999999075!\n",
      "calculating 999999999999999999999999074!\n",
      "calculating 999999999999999999999999073!\n",
      "calculating 999999999999999999999999072!\n",
      "calculating 999999999999999999999999071!\n",
      "calculating 999999999999999999999999070!\n",
      "calculating 999999999999999999999999069!\n",
      "calculating 999999999999999999999999068!\n",
      "calculating 999999999999999999999999067!\n",
      "calculating 999999999999999999999999066!\n",
      "calculating 999999999999999999999999065!\n",
      "calculating 999999999999999999999999064!\n",
      "calculating 999999999999999999999999063!\n",
      "calculating 999999999999999999999999062!\n",
      "calculating 999999999999999999999999061!\n",
      "calculating 999999999999999999999999060!\n",
      "calculating 999999999999999999999999059!\n",
      "calculating 999999999999999999999999058!\n",
      "calculating 999999999999999999999999057!\n",
      "calculating 999999999999999999999999056!\n",
      "calculating 999999999999999999999999055!\n",
      "calculating 999999999999999999999999054!\n",
      "calculating 999999999999999999999999053!\n",
      "calculating 999999999999999999999999052!\n",
      "calculating 999999999999999999999999051!\n",
      "calculating 999999999999999999999999050!\n",
      "calculating 999999999999999999999999049!\n",
      "calculating 999999999999999999999999048!\n",
      "calculating 999999999999999999999999047!\n",
      "calculating 999999999999999999999999046!\n",
      "calculating 999999999999999999999999045!\n",
      "calculating 999999999999999999999999044!\n",
      "calculating 999999999999999999999999043!\n",
      "calculating 999999999999999999999999042!\n",
      "calculating 999999999999999999999999041!\n",
      "calculating 999999999999999999999999040!\n",
      "calculating 999999999999999999999999039!\n",
      "calculating 999999999999999999999999038!\n",
      "calculating 999999999999999999999999037!\n",
      "calculating 999999999999999999999999036!\n",
      "calculating 999999999999999999999999035!\n",
      "calculating 999999999999999999999999034!\n",
      "calculating 999999999999999999999999033!\n",
      "calculating 999999999999999999999999032!\n",
      "calculating 999999999999999999999999031!\n",
      "calculating 999999999999999999999999030!\n",
      "calculating 999999999999999999999999029!\n",
      "calculating 999999999999999999999999028!\n",
      "calculating 999999999999999999999999027!\n",
      "calculating 999999999999999999999999026!\n",
      "calculating 999999999999999999999999025!\n",
      "calculating 999999999999999999999999024!\n",
      "calculating 999999999999999999999999023!\n",
      "calculating 999999999999999999999999022!\n",
      "calculating 999999999999999999999999021!\n",
      "calculating 999999999999999999999999020!\n",
      "calculating 999999999999999999999999019!\n",
      "calculating 999999999999999999999999018!\n",
      "calculating 999999999999999999999999017!\n",
      "calculating 999999999999999999999999016!\n",
      "calculating 999999999999999999999999015!\n",
      "calculating 999999999999999999999999014!\n",
      "calculating 999999999999999999999999013!\n",
      "calculating 999999999999999999999999012!\n",
      "calculating 999999999999999999999999011!\n",
      "calculating 999999999999999999999999010!\n",
      "calculating 999999999999999999999999009!\n",
      "calculating 999999999999999999999999008!\n",
      "calculating 999999999999999999999999007!\n",
      "calculating 999999999999999999999999006!\n",
      "calculating 999999999999999999999999005!\n",
      "calculating 999999999999999999999999004!\n",
      "calculating 999999999999999999999999003!\n",
      "calculating 999999999999999999999999002!\n",
      "calculating 999999999999999999999999001!\n",
      "calculating 999999999999999999999999000!\n",
      "calculating 999999999999999999999998999!\n",
      "calculating 999999999999999999999998998!\n",
      "calculating 999999999999999999999998997!\n",
      "calculating 999999999999999999999998996!\n",
      "calculating 999999999999999999999998995!\n",
      "calculating 999999999999999999999998994!\n",
      "calculating 999999999999999999999998993!\n",
      "calculating 999999999999999999999998992!\n",
      "calculating 999999999999999999999998991!\n",
      "calculating 999999999999999999999998990!\n",
      "calculating 999999999999999999999998989!\n",
      "calculating 999999999999999999999998988!\n",
      "calculating 999999999999999999999998987!\n",
      "calculating 999999999999999999999998986!\n",
      "calculating 999999999999999999999998985!\n",
      "calculating 999999999999999999999998984!\n",
      "calculating 999999999999999999999998983!\n",
      "calculating 999999999999999999999998982!\n",
      "calculating 999999999999999999999998981!\n",
      "calculating 999999999999999999999998980!\n",
      "calculating 999999999999999999999998979!\n",
      "calculating 999999999999999999999998978!\n",
      "calculating 999999999999999999999998977!\n",
      "calculating 999999999999999999999998976!\n",
      "calculating 999999999999999999999998975!\n",
      "calculating 999999999999999999999998974!\n",
      "calculating 999999999999999999999998973!\n",
      "calculating 999999999999999999999998972!\n",
      "calculating 999999999999999999999998971!\n",
      "calculating 999999999999999999999998970!\n",
      "calculating 999999999999999999999998969!\n",
      "calculating 999999999999999999999998968!\n",
      "calculating 999999999999999999999998967!\n",
      "calculating 999999999999999999999998966!\n",
      "calculating 999999999999999999999998965!\n",
      "calculating 999999999999999999999998964!\n",
      "calculating 999999999999999999999998963!\n",
      "calculating 999999999999999999999998962!\n",
      "calculating 999999999999999999999998961!\n",
      "calculating 999999999999999999999998960!\n",
      "calculating 999999999999999999999998959!\n",
      "calculating 999999999999999999999998958!\n",
      "calculating 999999999999999999999998957!\n",
      "calculating 999999999999999999999998956!\n",
      "calculating 999999999999999999999998955!\n",
      "calculating 999999999999999999999998954!\n",
      "calculating 999999999999999999999998953!\n",
      "calculating 999999999999999999999998952!\n",
      "calculating 999999999999999999999998951!\n",
      "calculating 999999999999999999999998950!\n",
      "calculating 999999999999999999999998949!\n",
      "calculating 999999999999999999999998948!\n",
      "calculating 999999999999999999999998947!\n",
      "calculating 999999999999999999999998946!\n",
      "calculating 999999999999999999999998945!\n",
      "calculating 999999999999999999999998944!\n",
      "calculating 999999999999999999999998943!\n",
      "calculating 999999999999999999999998942!\n",
      "calculating 999999999999999999999998941!\n",
      "calculating 999999999999999999999998940!\n",
      "calculating 999999999999999999999998939!\n",
      "calculating 999999999999999999999998938!\n",
      "calculating 999999999999999999999998937!\n",
      "calculating 999999999999999999999998936!\n",
      "calculating 999999999999999999999998935!\n",
      "calculating 999999999999999999999998934!\n",
      "calculating 999999999999999999999998933!\n",
      "calculating 999999999999999999999998932!\n",
      "calculating 999999999999999999999998931!\n",
      "calculating 999999999999999999999998930!\n",
      "calculating 999999999999999999999998929!\n",
      "calculating 999999999999999999999998928!\n",
      "calculating 999999999999999999999998927!\n",
      "calculating 999999999999999999999998926!\n",
      "calculating 999999999999999999999998925!\n",
      "calculating 999999999999999999999998924!\n",
      "calculating 999999999999999999999998923!\n",
      "calculating 999999999999999999999998922!\n",
      "calculating 999999999999999999999998921!\n",
      "calculating 999999999999999999999998920!\n",
      "calculating 999999999999999999999998919!\n",
      "calculating 999999999999999999999998918!\n",
      "calculating 999999999999999999999998917!\n",
      "calculating 999999999999999999999998916!\n",
      "calculating 999999999999999999999998915!\n",
      "calculating 999999999999999999999998914!\n",
      "calculating 999999999999999999999998913!\n",
      "calculating 999999999999999999999998912!\n",
      "calculating 999999999999999999999998911!\n",
      "calculating 999999999999999999999998910!\n",
      "calculating 999999999999999999999998909!\n",
      "calculating 999999999999999999999998908!\n",
      "calculating 999999999999999999999998907!\n",
      "calculating 999999999999999999999998906!\n",
      "calculating 999999999999999999999998905!\n",
      "calculating 999999999999999999999998904!\n",
      "calculating 999999999999999999999998903!\n",
      "calculating 999999999999999999999998902!\n",
      "calculating 999999999999999999999998901!\n",
      "calculating 999999999999999999999998900!\n",
      "calculating 999999999999999999999998899!\n",
      "calculating 999999999999999999999998898!\n",
      "calculating 999999999999999999999998897!\n",
      "calculating 999999999999999999999998896!\n",
      "calculating 999999999999999999999998895!\n",
      "calculating 999999999999999999999998894!\n",
      "calculating 999999999999999999999998893!\n",
      "calculating 999999999999999999999998892!\n",
      "calculating 999999999999999999999998891!\n",
      "calculating 999999999999999999999998890!\n",
      "calculating 999999999999999999999998889!\n",
      "calculating 999999999999999999999998888!\n",
      "calculating 999999999999999999999998887!\n",
      "calculating 999999999999999999999998886!\n",
      "calculating 999999999999999999999998885!\n",
      "calculating 999999999999999999999998884!\n",
      "calculating 999999999999999999999998883!\n",
      "calculating 999999999999999999999998882!\n",
      "calculating 999999999999999999999998881!\n",
      "calculating 999999999999999999999998880!\n",
      "calculating 999999999999999999999998879!\n",
      "calculating 999999999999999999999998878!\n",
      "calculating 999999999999999999999998877!\n",
      "calculating 999999999999999999999998876!\n",
      "calculating 999999999999999999999998875!\n",
      "calculating 999999999999999999999998874!\n",
      "calculating 999999999999999999999998873!\n",
      "calculating 999999999999999999999998872!\n",
      "calculating 999999999999999999999998871!\n",
      "calculating 999999999999999999999998870!\n",
      "calculating 999999999999999999999998869!\n",
      "calculating 999999999999999999999998868!\n",
      "calculating 999999999999999999999998867!\n",
      "calculating 999999999999999999999998866!\n",
      "calculating 999999999999999999999998865!\n",
      "calculating 999999999999999999999998864!\n",
      "calculating 999999999999999999999998863!\n",
      "calculating 999999999999999999999998862!\n",
      "calculating 999999999999999999999998861!\n",
      "calculating 999999999999999999999998860!\n",
      "calculating 999999999999999999999998859!\n",
      "calculating 999999999999999999999998858!\n",
      "calculating 999999999999999999999998857!\n",
      "calculating 999999999999999999999998856!\n",
      "calculating 999999999999999999999998855!\n",
      "calculating 999999999999999999999998854!\n",
      "calculating 999999999999999999999998853!\n",
      "calculating 999999999999999999999998852!\n",
      "calculating 999999999999999999999998851!\n",
      "calculating 999999999999999999999998850!\n",
      "calculating 999999999999999999999998849!\n",
      "calculating 999999999999999999999998848!\n",
      "calculating 999999999999999999999998847!\n",
      "calculating 999999999999999999999998846!\n",
      "calculating 999999999999999999999998845!\n",
      "calculating 999999999999999999999998844!\n",
      "calculating 999999999999999999999998843!\n",
      "calculating 999999999999999999999998842!\n",
      "calculating 999999999999999999999998841!\n",
      "calculating 999999999999999999999998840!\n",
      "calculating 999999999999999999999998839!\n",
      "calculating 999999999999999999999998838!\n",
      "calculating 999999999999999999999998837!\n",
      "calculating 999999999999999999999998836!\n",
      "calculating 999999999999999999999998835!\n",
      "calculating 999999999999999999999998834!\n",
      "calculating 999999999999999999999998833!\n",
      "calculating 999999999999999999999998832!\n",
      "calculating 999999999999999999999998831!\n",
      "calculating 999999999999999999999998830!\n",
      "calculating 999999999999999999999998829!\n",
      "calculating 999999999999999999999998828!\n",
      "calculating 999999999999999999999998827!\n",
      "calculating 999999999999999999999998826!\n",
      "calculating 999999999999999999999998825!\n",
      "calculating 999999999999999999999998824!\n",
      "calculating 999999999999999999999998823!\n",
      "calculating 999999999999999999999998822!\n",
      "calculating 999999999999999999999998821!\n",
      "calculating 999999999999999999999998820!\n",
      "calculating 999999999999999999999998819!\n",
      "calculating 999999999999999999999998818!\n",
      "calculating 999999999999999999999998817!\n",
      "calculating 999999999999999999999998816!\n",
      "calculating 999999999999999999999998815!\n",
      "calculating 999999999999999999999998814!\n",
      "calculating 999999999999999999999998813!\n",
      "calculating 999999999999999999999998812!\n",
      "calculating 999999999999999999999998811!\n",
      "calculating 999999999999999999999998810!\n",
      "calculating 999999999999999999999998809!\n",
      "calculating 999999999999999999999998808!\n",
      "calculating 999999999999999999999998807!\n",
      "calculating 999999999999999999999998806!\n",
      "calculating 999999999999999999999998805!\n",
      "calculating 999999999999999999999998804!\n",
      "calculating 999999999999999999999998803!\n",
      "calculating 999999999999999999999998802!\n",
      "calculating 999999999999999999999998801!\n",
      "calculating 999999999999999999999998800!\n",
      "calculating 999999999999999999999998799!\n",
      "calculating 999999999999999999999998798!\n",
      "calculating 999999999999999999999998797!\n",
      "calculating 999999999999999999999998796!\n",
      "calculating 999999999999999999999998795!\n",
      "calculating 999999999999999999999998794!\n",
      "calculating 999999999999999999999998793!\n",
      "calculating 999999999999999999999998792!\n",
      "calculating 999999999999999999999998791!\n",
      "calculating 999999999999999999999998790!\n",
      "calculating 999999999999999999999998789!\n",
      "calculating 999999999999999999999998788!\n",
      "calculating 999999999999999999999998787!\n",
      "calculating 999999999999999999999998786!\n",
      "calculating 999999999999999999999998785!\n",
      "calculating 999999999999999999999998784!\n",
      "calculating 999999999999999999999998783!\n",
      "calculating 999999999999999999999998782!\n",
      "calculating 999999999999999999999998781!\n",
      "calculating 999999999999999999999998780!\n",
      "calculating 999999999999999999999998779!\n",
      "calculating 999999999999999999999998778!\n",
      "calculating 999999999999999999999998777!\n",
      "calculating 999999999999999999999998776!\n",
      "calculating 999999999999999999999998775!\n",
      "calculating 999999999999999999999998774!\n",
      "calculating 999999999999999999999998773!\n",
      "calculating 999999999999999999999998772!\n",
      "calculating 999999999999999999999998771!\n",
      "calculating 999999999999999999999998770!\n",
      "calculating 999999999999999999999998769!\n",
      "calculating 999999999999999999999998768!\n",
      "calculating 999999999999999999999998767!\n",
      "calculating 999999999999999999999998766!\n",
      "calculating 999999999999999999999998765!\n",
      "calculating 999999999999999999999998764!\n",
      "calculating 999999999999999999999998763!\n",
      "calculating 999999999999999999999998762!\n",
      "calculating 999999999999999999999998761!\n",
      "calculating 999999999999999999999998760!\n",
      "calculating 999999999999999999999998759!\n",
      "calculating 999999999999999999999998758!\n",
      "calculating 999999999999999999999998757!\n",
      "calculating 999999999999999999999998756!\n",
      "calculating 999999999999999999999998755!\n",
      "calculating 999999999999999999999998754!\n",
      "calculating 999999999999999999999998753!\n",
      "calculating 999999999999999999999998752!\n",
      "calculating 999999999999999999999998751!\n",
      "calculating 999999999999999999999998750!\n",
      "calculating 999999999999999999999998749!\n",
      "calculating 999999999999999999999998748!\n",
      "calculating 999999999999999999999998747!\n",
      "calculating 999999999999999999999998746!\n",
      "calculating 999999999999999999999998745!\n",
      "calculating 999999999999999999999998744!\n",
      "calculating 999999999999999999999998743!\n",
      "calculating 999999999999999999999998742!\n",
      "calculating 999999999999999999999998741!\n",
      "calculating 999999999999999999999998740!\n",
      "calculating 999999999999999999999998739!\n",
      "calculating 999999999999999999999998738!\n",
      "calculating 999999999999999999999998737!\n",
      "calculating 999999999999999999999998736!\n",
      "calculating 999999999999999999999998735!\n",
      "calculating 999999999999999999999998734!\n",
      "calculating 999999999999999999999998733!\n",
      "calculating 999999999999999999999998732!\n",
      "calculating 999999999999999999999998731!\n",
      "calculating 999999999999999999999998730!\n",
      "calculating 999999999999999999999998729!\n",
      "calculating 999999999999999999999998728!\n",
      "calculating 999999999999999999999998727!\n",
      "calculating 999999999999999999999998726!\n",
      "calculating 999999999999999999999998725!\n",
      "calculating 999999999999999999999998724!\n",
      "calculating 999999999999999999999998723!\n",
      "calculating 999999999999999999999998722!\n",
      "calculating 999999999999999999999998721!\n",
      "calculating 999999999999999999999998720!\n",
      "calculating 999999999999999999999998719!\n",
      "calculating 999999999999999999999998718!\n",
      "calculating 999999999999999999999998717!\n",
      "calculating 999999999999999999999998716!\n",
      "calculating 999999999999999999999998715!\n",
      "calculating 999999999999999999999998714!\n",
      "calculating 999999999999999999999998713!\n",
      "calculating 999999999999999999999998712!\n",
      "calculating 999999999999999999999998711!\n",
      "calculating 999999999999999999999998710!\n",
      "calculating 999999999999999999999998709!\n",
      "calculating 999999999999999999999998708!\n",
      "calculating 999999999999999999999998707!\n",
      "calculating 999999999999999999999998706!\n",
      "calculating 999999999999999999999998705!\n",
      "calculating 999999999999999999999998704!\n",
      "calculating 999999999999999999999998703!\n",
      "calculating 999999999999999999999998702!\n",
      "calculating 999999999999999999999998701!\n",
      "calculating 999999999999999999999998700!\n",
      "calculating 999999999999999999999998699!\n",
      "calculating 999999999999999999999998698!\n",
      "calculating 999999999999999999999998697!\n",
      "calculating 999999999999999999999998696!\n",
      "calculating 999999999999999999999998695!\n",
      "calculating 999999999999999999999998694!\n",
      "calculating 999999999999999999999998693!\n",
      "calculating 999999999999999999999998692!\n",
      "calculating 999999999999999999999998691!\n",
      "calculating 999999999999999999999998690!\n",
      "calculating 999999999999999999999998689!\n",
      "calculating 999999999999999999999998688!\n",
      "calculating 999999999999999999999998687!\n",
      "calculating 999999999999999999999998686!\n",
      "calculating 999999999999999999999998685!\n",
      "calculating 999999999999999999999998684!\n",
      "calculating 999999999999999999999998683!\n",
      "calculating 999999999999999999999998682!\n",
      "calculating 999999999999999999999998681!\n",
      "calculating 999999999999999999999998680!\n",
      "calculating 999999999999999999999998679!\n",
      "calculating 999999999999999999999998678!\n",
      "calculating 999999999999999999999998677!\n",
      "calculating 999999999999999999999998676!\n",
      "calculating 999999999999999999999998675!\n",
      "calculating 999999999999999999999998674!\n",
      "calculating 999999999999999999999998673!\n",
      "calculating 999999999999999999999998672!\n",
      "calculating 999999999999999999999998671!\n",
      "calculating 999999999999999999999998670!\n",
      "calculating 999999999999999999999998669!\n",
      "calculating 999999999999999999999998668!\n",
      "calculating 999999999999999999999998667!\n",
      "calculating 999999999999999999999998666!\n",
      "calculating 999999999999999999999998665!\n",
      "calculating 999999999999999999999998664!\n",
      "calculating 999999999999999999999998663!\n",
      "calculating 999999999999999999999998662!\n",
      "calculating 999999999999999999999998661!\n",
      "calculating 999999999999999999999998660!\n",
      "calculating 999999999999999999999998659!\n",
      "calculating 999999999999999999999998658!\n",
      "calculating 999999999999999999999998657!\n",
      "calculating 999999999999999999999998656!\n",
      "calculating 999999999999999999999998655!\n",
      "calculating 999999999999999999999998654!\n",
      "calculating 999999999999999999999998653!\n",
      "calculating 999999999999999999999998652!\n",
      "calculating 999999999999999999999998651!\n",
      "calculating 999999999999999999999998650!\n",
      "calculating 999999999999999999999998649!\n",
      "calculating 999999999999999999999998648!\n",
      "calculating 999999999999999999999998647!\n",
      "calculating 999999999999999999999998646!\n",
      "calculating 999999999999999999999998645!\n",
      "calculating 999999999999999999999998644!\n",
      "calculating 999999999999999999999998643!\n",
      "calculating 999999999999999999999998642!\n",
      "calculating 999999999999999999999998641!\n",
      "calculating 999999999999999999999998640!\n",
      "calculating 999999999999999999999998639!\n",
      "calculating 999999999999999999999998638!\n",
      "calculating 999999999999999999999998637!\n",
      "calculating 999999999999999999999998636!\n",
      "calculating 999999999999999999999998635!\n",
      "calculating 999999999999999999999998634!\n",
      "calculating 999999999999999999999998633!\n",
      "calculating 999999999999999999999998632!\n",
      "calculating 999999999999999999999998631!\n",
      "calculating 999999999999999999999998630!\n",
      "calculating 999999999999999999999998629!\n",
      "calculating 999999999999999999999998628!\n",
      "calculating 999999999999999999999998627!\n",
      "calculating 999999999999999999999998626!\n",
      "calculating 999999999999999999999998625!\n",
      "calculating 999999999999999999999998624!\n",
      "calculating 999999999999999999999998623!\n",
      "calculating 999999999999999999999998622!\n",
      "calculating 999999999999999999999998621!\n",
      "calculating 999999999999999999999998620!\n",
      "calculating 999999999999999999999998619!\n",
      "calculating 999999999999999999999998618!\n",
      "calculating 999999999999999999999998617!\n",
      "calculating 999999999999999999999998616!\n",
      "calculating 999999999999999999999998615!\n",
      "calculating 999999999999999999999998614!\n",
      "calculating 999999999999999999999998613!\n",
      "calculating 999999999999999999999998612!\n",
      "calculating 999999999999999999999998611!\n",
      "calculating 999999999999999999999998610!\n",
      "calculating 999999999999999999999998609!\n",
      "calculating 999999999999999999999998608!\n",
      "calculating 999999999999999999999998607!\n",
      "calculating 999999999999999999999998606!\n",
      "calculating 999999999999999999999998605!\n",
      "calculating 999999999999999999999998604!\n",
      "calculating 999999999999999999999998603!\n",
      "calculating 999999999999999999999998602!\n",
      "calculating 999999999999999999999998601!\n",
      "calculating 999999999999999999999998600!\n",
      "calculating 999999999999999999999998599!\n",
      "calculating 999999999999999999999998598!\n",
      "calculating 999999999999999999999998597!\n",
      "calculating 999999999999999999999998596!\n",
      "calculating 999999999999999999999998595!\n",
      "calculating 999999999999999999999998594!\n",
      "calculating 999999999999999999999998593!\n",
      "calculating 999999999999999999999998592!\n",
      "calculating 999999999999999999999998591!\n",
      "calculating 999999999999999999999998590!\n",
      "calculating 999999999999999999999998589!\n",
      "calculating 999999999999999999999998588!\n",
      "calculating 999999999999999999999998587!\n",
      "calculating 999999999999999999999998586!\n",
      "calculating 999999999999999999999998585!\n",
      "calculating 999999999999999999999998584!\n",
      "calculating 999999999999999999999998583!\n",
      "calculating 999999999999999999999998582!\n",
      "calculating 999999999999999999999998581!\n",
      "calculating 999999999999999999999998580!\n",
      "calculating 999999999999999999999998579!\n",
      "calculating 999999999999999999999998578!\n",
      "calculating 999999999999999999999998577!\n",
      "calculating 999999999999999999999998576!\n",
      "calculating 999999999999999999999998575!\n",
      "calculating 999999999999999999999998574!\n",
      "calculating 999999999999999999999998573!\n",
      "calculating 999999999999999999999998572!\n",
      "calculating 999999999999999999999998571!\n",
      "calculating 999999999999999999999998570!\n",
      "calculating 999999999999999999999998569!\n",
      "calculating 999999999999999999999998568!\n",
      "calculating 999999999999999999999998567!\n",
      "calculating 999999999999999999999998566!\n",
      "calculating 999999999999999999999998565!\n",
      "calculating 999999999999999999999998564!\n",
      "calculating 999999999999999999999998563!\n",
      "calculating 999999999999999999999998562!\n",
      "calculating 999999999999999999999998561!\n",
      "calculating 999999999999999999999998560!\n",
      "calculating 999999999999999999999998559!\n",
      "calculating 999999999999999999999998558!\n",
      "calculating 999999999999999999999998557!\n",
      "calculating 999999999999999999999998556!\n",
      "calculating 999999999999999999999998555!\n",
      "calculating 999999999999999999999998554!\n",
      "calculating 999999999999999999999998553!\n",
      "calculating 999999999999999999999998552!\n",
      "calculating 999999999999999999999998551!\n",
      "calculating 999999999999999999999998550!\n",
      "calculating 999999999999999999999998549!\n",
      "calculating 999999999999999999999998548!\n",
      "calculating 999999999999999999999998547!\n",
      "calculating 999999999999999999999998546!\n",
      "calculating 999999999999999999999998545!\n",
      "calculating 999999999999999999999998544!\n",
      "calculating 999999999999999999999998543!\n",
      "calculating 999999999999999999999998542!\n",
      "calculating 999999999999999999999998541!\n",
      "calculating 999999999999999999999998540!\n",
      "calculating 999999999999999999999998539!\n",
      "calculating 999999999999999999999998538!\n",
      "calculating 999999999999999999999998537!\n",
      "calculating 999999999999999999999998536!\n",
      "calculating 999999999999999999999998535!\n",
      "calculating 999999999999999999999998534!\n",
      "calculating 999999999999999999999998533!\n",
      "calculating 999999999999999999999998532!\n",
      "calculating 999999999999999999999998531!\n",
      "calculating 999999999999999999999998530!\n",
      "calculating 999999999999999999999998529!\n",
      "calculating 999999999999999999999998528!\n",
      "calculating 999999999999999999999998527!\n",
      "calculating 999999999999999999999998526!\n",
      "calculating 999999999999999999999998525!\n",
      "calculating 999999999999999999999998524!\n",
      "calculating 999999999999999999999998523!\n",
      "calculating 999999999999999999999998522!\n",
      "calculating 999999999999999999999998521!\n",
      "calculating 999999999999999999999998520!\n",
      "calculating 999999999999999999999998519!\n",
      "calculating 999999999999999999999998518!\n",
      "calculating 999999999999999999999998517!\n",
      "calculating 999999999999999999999998516!\n",
      "calculating 999999999999999999999998515!\n",
      "calculating 999999999999999999999998514!\n",
      "calculating 999999999999999999999998513!\n",
      "calculating 999999999999999999999998512!\n",
      "calculating 999999999999999999999998511!\n",
      "calculating 999999999999999999999998510!\n",
      "calculating 999999999999999999999998509!\n",
      "calculating 999999999999999999999998508!\n",
      "calculating 999999999999999999999998507!\n",
      "calculating 999999999999999999999998506!\n",
      "calculating 999999999999999999999998505!\n",
      "calculating 999999999999999999999998504!\n",
      "calculating 999999999999999999999998503!\n",
      "calculating 999999999999999999999998502!\n",
      "calculating 999999999999999999999998501!\n",
      "calculating 999999999999999999999998500!\n",
      "calculating 999999999999999999999998499!\n",
      "calculating 999999999999999999999998498!\n",
      "calculating 999999999999999999999998497!\n",
      "calculating 999999999999999999999998496!\n",
      "calculating 999999999999999999999998495!\n",
      "calculating 999999999999999999999998494!\n",
      "calculating 999999999999999999999998493!\n",
      "calculating 999999999999999999999998492!\n",
      "calculating 999999999999999999999998491!\n",
      "calculating 999999999999999999999998490!\n",
      "calculating 999999999999999999999998489!\n",
      "calculating 999999999999999999999998488!\n",
      "calculating 999999999999999999999998487!\n",
      "calculating 999999999999999999999998486!\n",
      "calculating 999999999999999999999998485!\n",
      "calculating 999999999999999999999998484!\n",
      "calculating 999999999999999999999998483!\n",
      "calculating 999999999999999999999998482!\n",
      "calculating 999999999999999999999998481!\n",
      "calculating 999999999999999999999998480!\n",
      "calculating 999999999999999999999998479!\n",
      "calculating 999999999999999999999998478!\n",
      "calculating 999999999999999999999998477!\n",
      "calculating 999999999999999999999998476!\n",
      "calculating 999999999999999999999998475!\n",
      "calculating 999999999999999999999998474!\n",
      "calculating 999999999999999999999998473!\n",
      "calculating 999999999999999999999998472!\n",
      "calculating 999999999999999999999998471!\n",
      "calculating 999999999999999999999998470!\n",
      "calculating 999999999999999999999998469!\n",
      "calculating 999999999999999999999998468!\n",
      "calculating 999999999999999999999998467!\n",
      "calculating 999999999999999999999998466!\n",
      "calculating 999999999999999999999998465!\n",
      "calculating 999999999999999999999998464!\n",
      "calculating 999999999999999999999998463!\n",
      "calculating 999999999999999999999998462!\n",
      "calculating 999999999999999999999998461!\n",
      "calculating 999999999999999999999998460!\n",
      "calculating 999999999999999999999998459!\n",
      "calculating 999999999999999999999998458!\n",
      "calculating 999999999999999999999998457!\n",
      "calculating 999999999999999999999998456!\n",
      "calculating 999999999999999999999998455!\n",
      "calculating 999999999999999999999998454!\n",
      "calculating 999999999999999999999998453!\n",
      "calculating 999999999999999999999998452!\n",
      "calculating 999999999999999999999998451!\n",
      "calculating 999999999999999999999998450!\n",
      "calculating 999999999999999999999998449!\n",
      "calculating 999999999999999999999998448!\n",
      "calculating 999999999999999999999998447!\n",
      "calculating 999999999999999999999998446!\n",
      "calculating 999999999999999999999998445!\n",
      "calculating 999999999999999999999998444!\n",
      "calculating 999999999999999999999998443!\n",
      "calculating 999999999999999999999998442!\n",
      "calculating 999999999999999999999998441!\n",
      "calculating 999999999999999999999998440!\n",
      "calculating 999999999999999999999998439!\n",
      "calculating 999999999999999999999998438!\n",
      "calculating 999999999999999999999998437!\n",
      "calculating 999999999999999999999998436!\n",
      "calculating 999999999999999999999998435!\n",
      "calculating 999999999999999999999998434!\n",
      "calculating 999999999999999999999998433!\n",
      "calculating 999999999999999999999998432!\n",
      "calculating 999999999999999999999998431!\n",
      "calculating 999999999999999999999998430!\n",
      "calculating 999999999999999999999998429!\n",
      "calculating 999999999999999999999998428!\n",
      "calculating 999999999999999999999998427!\n",
      "calculating 999999999999999999999998426!\n",
      "calculating 999999999999999999999998425!\n",
      "calculating 999999999999999999999998424!\n",
      "calculating 999999999999999999999998423!\n",
      "calculating 999999999999999999999998422!\n",
      "calculating 999999999999999999999998421!\n",
      "calculating 999999999999999999999998420!\n",
      "calculating 999999999999999999999998419!\n",
      "calculating 999999999999999999999998418!\n",
      "calculating 999999999999999999999998417!\n",
      "calculating 999999999999999999999998416!\n",
      "calculating 999999999999999999999998415!\n",
      "calculating 999999999999999999999998414!\n",
      "calculating 999999999999999999999998413!\n",
      "calculating 999999999999999999999998412!\n",
      "calculating 999999999999999999999998411!\n",
      "calculating 999999999999999999999998410!\n",
      "calculating 999999999999999999999998409!\n",
      "calculating 999999999999999999999998408!\n",
      "calculating 999999999999999999999998407!\n",
      "calculating 999999999999999999999998406!\n",
      "calculating 999999999999999999999998405!\n",
      "calculating 999999999999999999999998404!\n",
      "calculating 999999999999999999999998403!\n",
      "calculating 999999999999999999999998402!\n",
      "calculating 999999999999999999999998401!\n",
      "calculating 999999999999999999999998400!\n",
      "calculating 999999999999999999999998399!\n",
      "calculating 999999999999999999999998398!\n",
      "calculating 999999999999999999999998397!\n",
      "calculating 999999999999999999999998396!\n",
      "calculating 999999999999999999999998395!\n",
      "calculating 999999999999999999999998394!\n",
      "calculating 999999999999999999999998393!\n",
      "calculating 999999999999999999999998392!\n",
      "calculating 999999999999999999999998391!\n",
      "calculating 999999999999999999999998390!\n",
      "calculating 999999999999999999999998389!\n",
      "calculating 999999999999999999999998388!\n",
      "calculating 999999999999999999999998387!\n",
      "calculating 999999999999999999999998386!\n",
      "calculating 999999999999999999999998385!\n",
      "calculating 999999999999999999999998384!\n",
      "calculating 999999999999999999999998383!\n",
      "calculating 999999999999999999999998382!\n",
      "calculating 999999999999999999999998381!\n",
      "calculating 999999999999999999999998380!\n",
      "calculating 999999999999999999999998379!\n",
      "calculating 999999999999999999999998378!\n",
      "calculating 999999999999999999999998377!\n",
      "calculating 999999999999999999999998376!\n",
      "calculating 999999999999999999999998375!\n",
      "calculating 999999999999999999999998374!\n",
      "calculating 999999999999999999999998373!\n",
      "calculating 999999999999999999999998372!\n",
      "calculating 999999999999999999999998371!\n",
      "calculating 999999999999999999999998370!\n",
      "calculating 999999999999999999999998369!\n",
      "calculating 999999999999999999999998368!\n",
      "calculating 999999999999999999999998367!\n",
      "calculating 999999999999999999999998366!\n",
      "calculating 999999999999999999999998365!\n",
      "calculating 999999999999999999999998364!\n",
      "calculating 999999999999999999999998363!\n",
      "calculating 999999999999999999999998362!\n",
      "calculating 999999999999999999999998361!\n",
      "calculating 999999999999999999999998360!\n",
      "calculating 999999999999999999999998359!\n",
      "calculating 999999999999999999999998358!\n",
      "calculating 999999999999999999999998357!\n",
      "calculating 999999999999999999999998356!\n",
      "calculating 999999999999999999999998355!\n",
      "calculating 999999999999999999999998354!\n",
      "calculating 999999999999999999999998353!\n",
      "calculating 999999999999999999999998352!\n",
      "calculating 999999999999999999999998351!\n",
      "calculating 999999999999999999999998350!\n",
      "calculating 999999999999999999999998349!\n",
      "calculating 999999999999999999999998348!\n",
      "calculating 999999999999999999999998347!\n",
      "calculating 999999999999999999999998346!\n",
      "calculating 999999999999999999999998345!\n",
      "calculating 999999999999999999999998344!\n",
      "calculating 999999999999999999999998343!\n",
      "calculating 999999999999999999999998342!\n",
      "calculating 999999999999999999999998341!\n",
      "calculating 999999999999999999999998340!\n",
      "calculating 999999999999999999999998339!\n",
      "calculating 999999999999999999999998338!\n",
      "calculating 999999999999999999999998337!\n",
      "calculating 999999999999999999999998336!\n",
      "calculating 999999999999999999999998335!\n",
      "calculating 999999999999999999999998334!\n",
      "calculating 999999999999999999999998333!\n",
      "calculating 999999999999999999999998332!\n",
      "calculating 999999999999999999999998331!\n",
      "calculating 999999999999999999999998330!\n",
      "calculating 999999999999999999999998329!\n",
      "calculating 999999999999999999999998328!\n",
      "calculating 999999999999999999999998327!\n",
      "calculating 999999999999999999999998326!\n",
      "calculating 999999999999999999999998325!\n",
      "calculating 999999999999999999999998324!\n",
      "calculating 999999999999999999999998323!\n",
      "calculating 999999999999999999999998322!\n",
      "calculating 999999999999999999999998321!\n",
      "calculating 999999999999999999999998320!\n",
      "calculating 999999999999999999999998319!\n",
      "calculating 999999999999999999999998318!\n",
      "calculating 999999999999999999999998317!\n",
      "calculating 999999999999999999999998316!\n",
      "calculating 999999999999999999999998315!\n",
      "calculating 999999999999999999999998314!\n",
      "calculating 999999999999999999999998313!\n",
      "calculating 999999999999999999999998312!\n",
      "calculating 999999999999999999999998311!\n",
      "calculating 999999999999999999999998310!\n",
      "calculating 999999999999999999999998309!\n",
      "calculating 999999999999999999999998308!\n",
      "calculating 999999999999999999999998307!\n",
      "calculating 999999999999999999999998306!\n",
      "calculating 999999999999999999999998305!\n",
      "calculating 999999999999999999999998304!\n",
      "calculating 999999999999999999999998303!\n",
      "calculating 999999999999999999999998302!\n",
      "calculating 999999999999999999999998301!\n",
      "calculating 999999999999999999999998300!\n",
      "calculating 999999999999999999999998299!\n",
      "calculating 999999999999999999999998298!\n",
      "calculating 999999999999999999999998297!\n",
      "calculating 999999999999999999999998296!\n",
      "calculating 999999999999999999999998295!\n",
      "calculating 999999999999999999999998294!\n",
      "calculating 999999999999999999999998293!\n",
      "calculating 999999999999999999999998292!\n",
      "calculating 999999999999999999999998291!\n",
      "calculating 999999999999999999999998290!\n",
      "calculating 999999999999999999999998289!\n",
      "calculating 999999999999999999999998288!\n",
      "calculating 999999999999999999999998287!\n",
      "calculating 999999999999999999999998286!\n",
      "calculating 999999999999999999999998285!\n",
      "calculating 999999999999999999999998284!\n",
      "calculating 999999999999999999999998283!\n",
      "calculating 999999999999999999999998282!\n",
      "calculating 999999999999999999999998281!\n",
      "calculating 999999999999999999999998280!\n",
      "calculating 999999999999999999999998279!\n",
      "calculating 999999999999999999999998278!\n",
      "calculating 999999999999999999999998277!\n",
      "calculating 999999999999999999999998276!\n",
      "calculating 999999999999999999999998275!\n",
      "calculating 999999999999999999999998274!\n",
      "calculating 999999999999999999999998273!\n",
      "calculating 999999999999999999999998272!\n",
      "calculating 999999999999999999999998271!\n",
      "calculating 999999999999999999999998270!\n",
      "calculating 999999999999999999999998269!\n",
      "calculating 999999999999999999999998268!\n",
      "calculating 999999999999999999999998267!\n",
      "calculating 999999999999999999999998266!\n",
      "calculating 999999999999999999999998265!\n",
      "calculating 999999999999999999999998264!\n",
      "calculating 999999999999999999999998263!\n",
      "calculating 999999999999999999999998262!\n",
      "calculating 999999999999999999999998261!\n",
      "calculating 999999999999999999999998260!\n",
      "calculating 999999999999999999999998259!\n",
      "calculating 999999999999999999999998258!\n",
      "calculating 999999999999999999999998257!\n",
      "calculating 999999999999999999999998256!\n",
      "calculating 999999999999999999999998255!\n",
      "calculating 999999999999999999999998254!\n",
      "calculating 999999999999999999999998253!\n",
      "calculating 999999999999999999999998252!\n",
      "calculating 999999999999999999999998251!\n",
      "calculating 999999999999999999999998250!\n",
      "calculating 999999999999999999999998249!\n",
      "calculating 999999999999999999999998248!\n",
      "calculating 999999999999999999999998247!\n",
      "calculating 999999999999999999999998246!\n",
      "calculating 999999999999999999999998245!\n",
      "calculating 999999999999999999999998244!\n",
      "calculating 999999999999999999999998243!\n",
      "calculating 999999999999999999999998242!\n",
      "calculating 999999999999999999999998241!\n",
      "calculating 999999999999999999999998240!\n",
      "calculating 999999999999999999999998239!\n",
      "calculating 999999999999999999999998238!\n",
      "calculating 999999999999999999999998237!\n",
      "calculating 999999999999999999999998236!\n",
      "calculating 999999999999999999999998235!\n",
      "calculating 999999999999999999999998234!\n",
      "calculating 999999999999999999999998233!\n",
      "calculating 999999999999999999999998232!\n",
      "calculating 999999999999999999999998231!\n",
      "calculating 999999999999999999999998230!\n",
      "calculating 999999999999999999999998229!\n",
      "calculating 999999999999999999999998228!\n",
      "calculating 999999999999999999999998227!\n",
      "calculating 999999999999999999999998226!\n",
      "calculating 999999999999999999999998225!\n",
      "calculating 999999999999999999999998224!\n",
      "calculating 999999999999999999999998223!\n",
      "calculating 999999999999999999999998222!\n",
      "calculating 999999999999999999999998221!\n",
      "calculating 999999999999999999999998220!\n",
      "calculating 999999999999999999999998219!\n",
      "calculating 999999999999999999999998218!\n",
      "calculating 999999999999999999999998217!\n",
      "calculating 999999999999999999999998216!\n",
      "calculating 999999999999999999999998215!\n",
      "calculating 999999999999999999999998214!\n",
      "calculating 999999999999999999999998213!\n",
      "calculating 999999999999999999999998212!\n",
      "calculating 999999999999999999999998211!\n",
      "calculating 999999999999999999999998210!\n",
      "calculating 999999999999999999999998209!\n",
      "calculating 999999999999999999999998208!\n",
      "calculating 999999999999999999999998207!\n",
      "calculating 999999999999999999999998206!\n",
      "calculating 999999999999999999999998205!\n",
      "calculating 999999999999999999999998204!\n",
      "calculating 999999999999999999999998203!\n",
      "calculating 999999999999999999999998202!\n",
      "calculating 999999999999999999999998201!\n",
      "calculating 999999999999999999999998200!\n",
      "calculating 999999999999999999999998199!\n",
      "calculating 999999999999999999999998198!\n",
      "calculating 999999999999999999999998197!\n",
      "calculating 999999999999999999999998196!\n",
      "calculating 999999999999999999999998195!\n",
      "calculating 999999999999999999999998194!\n",
      "calculating 999999999999999999999998193!\n",
      "calculating 999999999999999999999998192!\n",
      "calculating 999999999999999999999998191!\n",
      "calculating 999999999999999999999998190!\n",
      "calculating 999999999999999999999998189!\n",
      "calculating 999999999999999999999998188!\n",
      "calculating 999999999999999999999998187!\n",
      "calculating 999999999999999999999998186!\n",
      "calculating 999999999999999999999998185!\n",
      "calculating 999999999999999999999998184!\n",
      "calculating 999999999999999999999998183!\n",
      "calculating 999999999999999999999998182!\n",
      "calculating 999999999999999999999998181!\n",
      "calculating 999999999999999999999998180!\n",
      "calculating 999999999999999999999998179!\n",
      "calculating 999999999999999999999998178!\n",
      "calculating 999999999999999999999998177!\n",
      "calculating 999999999999999999999998176!\n",
      "calculating 999999999999999999999998175!\n",
      "calculating 999999999999999999999998174!\n",
      "calculating 999999999999999999999998173!\n",
      "calculating 999999999999999999999998172!\n",
      "calculating 999999999999999999999998171!\n",
      "calculating 999999999999999999999998170!\n",
      "calculating 999999999999999999999998169!\n",
      "calculating 999999999999999999999998168!\n",
      "calculating 999999999999999999999998167!\n",
      "calculating 999999999999999999999998166!\n",
      "calculating 999999999999999999999998165!\n",
      "calculating 999999999999999999999998164!\n",
      "calculating 999999999999999999999998163!\n",
      "calculating 999999999999999999999998162!\n",
      "calculating 999999999999999999999998161!\n",
      "calculating 999999999999999999999998160!\n",
      "calculating 999999999999999999999998159!\n",
      "calculating 999999999999999999999998158!\n",
      "calculating 999999999999999999999998157!\n",
      "calculating 999999999999999999999998156!\n",
      "calculating 999999999999999999999998155!\n",
      "calculating 999999999999999999999998154!\n",
      "calculating 999999999999999999999998153!\n",
      "calculating 999999999999999999999998152!\n",
      "calculating 999999999999999999999998151!\n",
      "calculating 999999999999999999999998150!\n",
      "calculating 999999999999999999999998149!\n",
      "calculating 999999999999999999999998148!\n",
      "calculating 999999999999999999999998147!\n",
      "calculating 999999999999999999999998146!\n",
      "calculating 999999999999999999999998145!\n",
      "calculating 999999999999999999999998144!\n",
      "calculating 999999999999999999999998143!\n",
      "calculating 999999999999999999999998142!\n",
      "calculating 999999999999999999999998141!\n",
      "calculating 999999999999999999999998140!\n",
      "calculating 999999999999999999999998139!\n",
      "calculating 999999999999999999999998138!\n",
      "calculating 999999999999999999999998137!\n",
      "calculating 999999999999999999999998136!\n",
      "calculating 999999999999999999999998135!\n",
      "calculating 999999999999999999999998134!\n",
      "calculating 999999999999999999999998133!\n",
      "calculating 999999999999999999999998132!\n",
      "calculating 999999999999999999999998131!\n",
      "calculating 999999999999999999999998130!\n",
      "calculating 999999999999999999999998129!\n",
      "calculating 999999999999999999999998128!\n",
      "calculating 999999999999999999999998127!\n",
      "calculating 999999999999999999999998126!\n",
      "calculating 999999999999999999999998125!\n",
      "calculating 999999999999999999999998124!\n",
      "calculating 999999999999999999999998123!\n",
      "calculating 999999999999999999999998122!\n",
      "calculating 999999999999999999999998121!\n",
      "calculating 999999999999999999999998120!\n",
      "calculating 999999999999999999999998119!\n",
      "calculating 999999999999999999999998118!\n",
      "calculating 999999999999999999999998117!\n",
      "calculating 999999999999999999999998116!\n",
      "calculating 999999999999999999999998115!\n",
      "calculating 999999999999999999999998114!\n",
      "calculating 999999999999999999999998113!\n",
      "calculating 999999999999999999999998112!\n",
      "calculating 999999999999999999999998111!\n",
      "calculating 999999999999999999999998110!\n",
      "calculating 999999999999999999999998109!\n",
      "calculating 999999999999999999999998108!\n",
      "calculating 999999999999999999999998107!\n",
      "calculating 999999999999999999999998106!\n",
      "calculating 999999999999999999999998105!\n",
      "calculating 999999999999999999999998104!\n",
      "calculating 999999999999999999999998103!\n",
      "calculating 999999999999999999999998102!\n",
      "calculating 999999999999999999999998101!\n",
      "calculating 999999999999999999999998100!\n",
      "calculating 999999999999999999999998099!\n",
      "calculating 999999999999999999999998098!\n",
      "calculating 999999999999999999999998097!\n",
      "calculating 999999999999999999999998096!\n",
      "calculating 999999999999999999999998095!\n",
      "calculating 999999999999999999999998094!\n",
      "calculating 999999999999999999999998093!\n",
      "calculating 999999999999999999999998092!\n",
      "calculating 999999999999999999999998091!\n",
      "calculating 999999999999999999999998090!\n",
      "calculating 999999999999999999999998089!\n",
      "calculating 999999999999999999999998088!\n",
      "calculating 999999999999999999999998087!\n",
      "calculating 999999999999999999999998086!\n",
      "calculating 999999999999999999999998085!\n",
      "calculating 999999999999999999999998084!\n",
      "calculating 999999999999999999999998083!\n",
      "calculating 999999999999999999999998082!\n",
      "calculating 999999999999999999999998081!\n",
      "calculating 999999999999999999999998080!\n",
      "calculating 999999999999999999999998079!\n",
      "calculating 999999999999999999999998078!\n",
      "calculating 999999999999999999999998077!\n",
      "calculating 999999999999999999999998076!\n",
      "calculating 999999999999999999999998075!\n",
      "calculating 999999999999999999999998074!\n",
      "calculating 999999999999999999999998073!\n",
      "calculating 999999999999999999999998072!\n",
      "calculating 999999999999999999999998071!\n",
      "calculating 999999999999999999999998070!\n",
      "calculating 999999999999999999999998069!\n",
      "calculating 999999999999999999999998068!\n",
      "calculating 999999999999999999999998067!\n",
      "calculating 999999999999999999999998066!\n",
      "calculating 999999999999999999999998065!\n",
      "calculating 999999999999999999999998064!\n",
      "calculating 999999999999999999999998063!\n",
      "calculating 999999999999999999999998062!\n",
      "calculating 999999999999999999999998061!\n",
      "calculating 999999999999999999999998060!\n",
      "calculating 999999999999999999999998059!\n",
      "calculating 999999999999999999999998058!\n",
      "calculating 999999999999999999999998057!\n",
      "calculating 999999999999999999999998056!\n",
      "calculating 999999999999999999999998055!\n",
      "calculating 999999999999999999999998054!\n",
      "calculating 999999999999999999999998053!\n",
      "calculating 999999999999999999999998052!\n",
      "calculating 999999999999999999999998051!\n",
      "calculating 999999999999999999999998050!\n",
      "calculating 999999999999999999999998049!\n",
      "calculating 999999999999999999999998048!\n",
      "calculating 999999999999999999999998047!\n",
      "calculating 999999999999999999999998046!\n",
      "calculating 999999999999999999999998045!\n",
      "calculating 999999999999999999999998044!\n",
      "calculating 999999999999999999999998043!\n",
      "calculating 999999999999999999999998042!\n",
      "calculating 999999999999999999999998041!\n",
      "calculating 999999999999999999999998040!\n",
      "calculating 999999999999999999999998039!\n",
      "calculating 999999999999999999999998038!\n",
      "calculating 999999999999999999999998037!\n",
      "calculating 999999999999999999999998036!\n",
      "calculating 999999999999999999999998035!\n",
      "calculating 999999999999999999999998034!\n",
      "calculating 999999999999999999999998033!\n",
      "calculating 999999999999999999999998032!\n",
      "calculating 999999999999999999999998031!\n",
      "calculating 999999999999999999999998030!\n",
      "calculating 999999999999999999999998029!\n",
      "calculating 999999999999999999999998028!\n",
      "calculating 999999999999999999999998027!\n",
      "calculating 999999999999999999999998026!\n",
      "calculating 999999999999999999999998025!\n",
      "calculating 999999999999999999999998024!\n",
      "calculating 999999999999999999999998023!\n",
      "calculating 999999999999999999999998022!\n",
      "calculating 999999999999999999999998021!\n",
      "calculating 999999999999999999999998020!\n",
      "calculating 999999999999999999999998019!\n",
      "calculating 999999999999999999999998018!\n",
      "calculating 999999999999999999999998017!\n",
      "calculating 999999999999999999999998016!\n",
      "calculating 999999999999999999999998015!\n",
      "calculating 999999999999999999999998014!\n",
      "calculating 999999999999999999999998013!\n",
      "calculating 999999999999999999999998012!\n",
      "calculating 999999999999999999999998011!\n",
      "calculating 999999999999999999999998010!\n",
      "calculating 999999999999999999999998009!\n",
      "calculating 999999999999999999999998008!\n",
      "calculating 999999999999999999999998007!\n",
      "calculating 999999999999999999999998006!\n",
      "calculating 999999999999999999999998005!\n",
      "calculating 999999999999999999999998004!\n",
      "calculating 999999999999999999999998003!\n",
      "calculating 999999999999999999999998002!\n",
      "calculating 999999999999999999999998001!\n",
      "calculating 999999999999999999999998000!\n",
      "calculating 999999999999999999999997999!\n",
      "calculating 999999999999999999999997998!\n",
      "calculating 999999999999999999999997997!\n",
      "calculating 999999999999999999999997996!\n",
      "calculating 999999999999999999999997995!\n",
      "calculating 999999999999999999999997994!\n",
      "calculating 999999999999999999999997993!\n",
      "calculating 999999999999999999999997992!\n",
      "calculating 999999999999999999999997991!\n",
      "calculating 999999999999999999999997990!\n",
      "calculating 999999999999999999999997989!\n",
      "calculating 999999999999999999999997988!\n",
      "calculating 999999999999999999999997987!\n",
      "calculating 999999999999999999999997986!\n",
      "calculating 999999999999999999999997985!\n",
      "calculating 999999999999999999999997984!\n",
      "calculating 999999999999999999999997983!\n",
      "calculating 999999999999999999999997982!\n",
      "calculating 999999999999999999999997981!\n",
      "calculating 999999999999999999999997980!\n",
      "calculating 999999999999999999999997979!\n",
      "calculating 999999999999999999999997978!\n",
      "calculating 999999999999999999999997977!\n",
      "calculating 999999999999999999999997976!\n",
      "calculating 999999999999999999999997975!\n",
      "calculating 999999999999999999999997974!\n",
      "calculating 999999999999999999999997973!\n",
      "calculating 999999999999999999999997972!\n",
      "calculating 999999999999999999999997971!\n",
      "calculating 999999999999999999999997970!\n",
      "calculating 999999999999999999999997969!\n",
      "calculating 999999999999999999999997968!\n",
      "calculating 999999999999999999999997967!\n",
      "calculating 999999999999999999999997966!\n",
      "calculating 999999999999999999999997965!\n",
      "calculating 999999999999999999999997964!\n",
      "calculating 999999999999999999999997963!\n",
      "calculating 999999999999999999999997962!\n",
      "calculating 999999999999999999999997961!\n",
      "calculating 999999999999999999999997960!\n",
      "calculating 999999999999999999999997959!\n",
      "calculating 999999999999999999999997958!\n",
      "calculating 999999999999999999999997957!\n",
      "calculating 999999999999999999999997956!\n",
      "calculating 999999999999999999999997955!\n",
      "calculating 999999999999999999999997954!\n",
      "calculating 999999999999999999999997953!\n",
      "calculating 999999999999999999999997952!\n",
      "calculating 999999999999999999999997951!\n",
      "calculating 999999999999999999999997950!\n",
      "calculating 999999999999999999999997949!\n",
      "calculating 999999999999999999999997948!\n",
      "calculating 999999999999999999999997947!\n",
      "calculating 999999999999999999999997946!\n",
      "calculating 999999999999999999999997945!\n",
      "calculating 999999999999999999999997944!\n",
      "calculating 999999999999999999999997943!\n",
      "calculating 999999999999999999999997942!\n",
      "calculating 999999999999999999999997941!\n",
      "calculating 999999999999999999999997940!\n",
      "calculating 999999999999999999999997939!\n",
      "calculating 999999999999999999999997938!\n",
      "calculating 999999999999999999999997937!\n",
      "calculating 999999999999999999999997936!\n",
      "calculating 999999999999999999999997935!\n",
      "calculating 999999999999999999999997934!\n",
      "calculating 999999999999999999999997933!\n",
      "calculating 999999999999999999999997932!\n",
      "calculating 999999999999999999999997931!\n",
      "calculating 999999999999999999999997930!\n",
      "calculating 999999999999999999999997929!\n",
      "calculating 999999999999999999999997928!\n",
      "calculating 999999999999999999999997927!\n",
      "calculating 999999999999999999999997926!\n",
      "calculating 999999999999999999999997925!\n",
      "calculating 999999999999999999999997924!\n",
      "calculating 999999999999999999999997923!\n",
      "calculating 999999999999999999999997922!\n",
      "calculating 999999999999999999999997921!\n",
      "calculating 999999999999999999999997920!\n",
      "calculating 999999999999999999999997919!\n",
      "calculating 999999999999999999999997918!\n",
      "calculating 999999999999999999999997917!\n",
      "calculating 999999999999999999999997916!\n",
      "calculating 999999999999999999999997915!\n",
      "calculating 999999999999999999999997914!\n",
      "calculating 999999999999999999999997913!\n",
      "calculating 999999999999999999999997912!\n",
      "calculating 999999999999999999999997911!\n",
      "calculating 999999999999999999999997910!\n",
      "calculating 999999999999999999999997909!\n",
      "calculating 999999999999999999999997908!\n",
      "calculating 999999999999999999999997907!\n",
      "calculating 999999999999999999999997906!\n",
      "calculating 999999999999999999999997905!\n",
      "calculating 999999999999999999999997904!\n",
      "calculating 999999999999999999999997903!\n",
      "calculating 999999999999999999999997902!\n",
      "calculating 999999999999999999999997901!\n",
      "calculating 999999999999999999999997900!\n",
      "calculating 999999999999999999999997899!\n",
      "calculating 999999999999999999999997898!\n",
      "calculating 999999999999999999999997897!\n",
      "calculating 999999999999999999999997896!\n",
      "calculating 999999999999999999999997895!\n",
      "calculating 999999999999999999999997894!\n",
      "calculating 999999999999999999999997893!\n",
      "calculating 999999999999999999999997892!\n",
      "calculating 999999999999999999999997891!\n",
      "calculating 999999999999999999999997890!\n",
      "calculating 999999999999999999999997889!\n",
      "calculating 999999999999999999999997888!\n",
      "calculating 999999999999999999999997887!\n",
      "calculating 999999999999999999999997886!\n",
      "calculating 999999999999999999999997885!\n",
      "calculating 999999999999999999999997884!\n",
      "calculating 999999999999999999999997883!\n",
      "calculating 999999999999999999999997882!\n",
      "calculating 999999999999999999999997881!\n",
      "calculating 999999999999999999999997880!\n",
      "calculating 999999999999999999999997879!\n",
      "calculating 999999999999999999999997878!\n",
      "calculating 999999999999999999999997877!\n",
      "calculating 999999999999999999999997876!\n",
      "calculating 999999999999999999999997875!\n",
      "calculating 999999999999999999999997874!\n",
      "calculating 999999999999999999999997873!\n",
      "calculating 999999999999999999999997872!\n",
      "calculating 999999999999999999999997871!\n",
      "calculating 999999999999999999999997870!\n",
      "calculating 999999999999999999999997869!\n",
      "calculating 999999999999999999999997868!\n",
      "calculating 999999999999999999999997867!\n",
      "calculating 999999999999999999999997866!\n",
      "calculating 999999999999999999999997865!\n",
      "calculating 999999999999999999999997864!\n",
      "calculating 999999999999999999999997863!\n",
      "calculating 999999999999999999999997862!\n",
      "calculating 999999999999999999999997861!\n",
      "calculating 999999999999999999999997860!\n",
      "calculating 999999999999999999999997859!\n",
      "calculating 999999999999999999999997858!\n",
      "calculating 999999999999999999999997857!\n",
      "calculating 999999999999999999999997856!\n",
      "calculating 999999999999999999999997855!\n",
      "calculating 999999999999999999999997854!\n",
      "calculating 999999999999999999999997853!\n",
      "calculating 999999999999999999999997852!\n",
      "calculating 999999999999999999999997851!\n",
      "calculating 999999999999999999999997850!\n",
      "calculating 999999999999999999999997849!\n",
      "calculating 999999999999999999999997848!\n",
      "calculating 999999999999999999999997847!\n",
      "calculating 999999999999999999999997846!\n",
      "calculating 999999999999999999999997845!\n",
      "calculating 999999999999999999999997844!\n",
      "calculating 999999999999999999999997843!\n",
      "calculating 999999999999999999999997842!\n",
      "calculating 999999999999999999999997841!\n",
      "calculating 999999999999999999999997840!\n",
      "calculating 999999999999999999999997839!\n",
      "calculating 999999999999999999999997838!\n",
      "calculating 999999999999999999999997837!\n",
      "calculating 999999999999999999999997836!\n",
      "calculating 999999999999999999999997835!\n",
      "calculating 999999999999999999999997834!\n",
      "calculating 999999999999999999999997833!\n",
      "calculating 999999999999999999999997832!\n",
      "calculating 999999999999999999999997831!\n",
      "calculating 999999999999999999999997830!\n",
      "calculating 999999999999999999999997829!\n",
      "calculating 999999999999999999999997828!\n",
      "calculating 999999999999999999999997827!\n",
      "calculating 999999999999999999999997826!\n",
      "calculating 999999999999999999999997825!\n",
      "calculating 999999999999999999999997824!\n",
      "calculating 999999999999999999999997823!\n",
      "calculating 999999999999999999999997822!\n",
      "calculating 999999999999999999999997821!\n",
      "calculating 999999999999999999999997820!\n",
      "calculating 999999999999999999999997819!\n",
      "calculating 999999999999999999999997818!\n",
      "calculating 999999999999999999999997817!\n",
      "calculating 999999999999999999999997816!\n",
      "calculating 999999999999999999999997815!\n",
      "calculating 999999999999999999999997814!\n",
      "calculating 999999999999999999999997813!\n",
      "calculating 999999999999999999999997812!\n",
      "calculating 999999999999999999999997811!\n",
      "calculating 999999999999999999999997810!\n",
      "calculating 999999999999999999999997809!\n",
      "calculating 999999999999999999999997808!\n",
      "calculating 999999999999999999999997807!\n",
      "calculating 999999999999999999999997806!\n",
      "calculating 999999999999999999999997805!\n",
      "calculating 999999999999999999999997804!\n",
      "calculating 999999999999999999999997803!\n",
      "calculating 999999999999999999999997802!\n",
      "calculating 999999999999999999999997801!\n",
      "calculating 999999999999999999999997800!\n",
      "calculating 999999999999999999999997799!\n",
      "calculating 999999999999999999999997798!\n",
      "calculating 999999999999999999999997797!\n",
      "calculating 999999999999999999999997796!\n",
      "calculating 999999999999999999999997795!\n",
      "calculating 999999999999999999999997794!\n",
      "calculating 999999999999999999999997793!\n",
      "calculating 999999999999999999999997792!\n",
      "calculating 999999999999999999999997791!\n",
      "calculating 999999999999999999999997790!\n",
      "calculating 999999999999999999999997789!\n",
      "calculating 999999999999999999999997788!\n",
      "calculating 999999999999999999999997787!\n",
      "calculating 999999999999999999999997786!\n",
      "calculating 999999999999999999999997785!\n",
      "calculating 999999999999999999999997784!\n",
      "calculating 999999999999999999999997783!\n",
      "calculating 999999999999999999999997782!\n",
      "calculating 999999999999999999999997781!\n",
      "calculating 999999999999999999999997780!\n",
      "calculating 999999999999999999999997779!\n",
      "calculating 999999999999999999999997778!\n",
      "calculating 999999999999999999999997777!\n",
      "calculating 999999999999999999999997776!\n",
      "calculating 999999999999999999999997775!\n",
      "calculating 999999999999999999999997774!\n",
      "calculating 999999999999999999999997773!\n",
      "calculating 999999999999999999999997772!\n",
      "calculating 999999999999999999999997771!\n",
      "calculating 999999999999999999999997770!\n",
      "calculating 999999999999999999999997769!\n",
      "calculating 999999999999999999999997768!\n",
      "calculating 999999999999999999999997767!\n",
      "calculating 999999999999999999999997766!\n",
      "calculating 999999999999999999999997765!\n",
      "calculating 999999999999999999999997764!\n",
      "calculating 999999999999999999999997763!\n",
      "calculating 999999999999999999999997762!\n",
      "calculating 999999999999999999999997761!\n",
      "calculating 999999999999999999999997760!\n",
      "calculating 999999999999999999999997759!\n",
      "calculating 999999999999999999999997758!\n",
      "calculating 999999999999999999999997757!\n",
      "calculating 999999999999999999999997756!\n",
      "calculating 999999999999999999999997755!\n",
      "calculating 999999999999999999999997754!\n",
      "calculating 999999999999999999999997753!\n",
      "calculating 999999999999999999999997752!\n",
      "calculating 999999999999999999999997751!\n",
      "calculating 999999999999999999999997750!\n",
      "calculating 999999999999999999999997749!\n",
      "calculating 999999999999999999999997748!\n",
      "calculating 999999999999999999999997747!\n",
      "calculating 999999999999999999999997746!\n",
      "calculating 999999999999999999999997745!\n",
      "calculating 999999999999999999999997744!\n",
      "calculating 999999999999999999999997743!\n",
      "calculating 999999999999999999999997742!\n",
      "calculating 999999999999999999999997741!\n",
      "calculating 999999999999999999999997740!\n",
      "calculating 999999999999999999999997739!\n",
      "calculating 999999999999999999999997738!\n",
      "calculating 999999999999999999999997737!\n",
      "calculating 999999999999999999999997736!\n",
      "calculating 999999999999999999999997735!\n",
      "calculating 999999999999999999999997734!\n",
      "calculating 999999999999999999999997733!\n",
      "calculating 999999999999999999999997732!\n",
      "calculating 999999999999999999999997731!\n",
      "calculating 999999999999999999999997730!\n",
      "calculating 999999999999999999999997729!\n",
      "calculating 999999999999999999999997728!\n",
      "calculating 999999999999999999999997727!\n",
      "calculating 999999999999999999999997726!\n",
      "calculating 999999999999999999999997725!\n",
      "calculating 999999999999999999999997724!\n",
      "calculating 999999999999999999999997723!\n",
      "calculating 999999999999999999999997722!\n",
      "calculating 999999999999999999999997721!\n",
      "calculating 999999999999999999999997720!\n",
      "calculating 999999999999999999999997719!\n",
      "calculating 999999999999999999999997718!\n",
      "calculating 999999999999999999999997717!\n",
      "calculating 999999999999999999999997716!\n",
      "calculating 999999999999999999999997715!\n",
      "calculating 999999999999999999999997714!\n",
      "calculating 999999999999999999999997713!\n",
      "calculating 999999999999999999999997712!\n",
      "calculating 999999999999999999999997711!\n",
      "calculating 999999999999999999999997710!\n",
      "calculating 999999999999999999999997709!\n",
      "calculating 999999999999999999999997708!\n",
      "calculating 999999999999999999999997707!\n",
      "calculating 999999999999999999999997706!\n",
      "calculating 999999999999999999999997705!\n",
      "calculating 999999999999999999999997704!\n",
      "calculating 999999999999999999999997703!\n",
      "calculating 999999999999999999999997702!\n",
      "calculating 999999999999999999999997701!\n",
      "calculating 999999999999999999999997700!\n",
      "calculating 999999999999999999999997699!\n",
      "calculating 999999999999999999999997698!\n",
      "calculating 999999999999999999999997697!\n",
      "calculating 999999999999999999999997696!\n",
      "calculating 999999999999999999999997695!\n",
      "calculating 999999999999999999999997694!\n",
      "calculating 999999999999999999999997693!\n",
      "calculating 999999999999999999999997692!\n",
      "calculating 999999999999999999999997691!\n",
      "calculating 999999999999999999999997690!\n",
      "calculating 999999999999999999999997689!\n",
      "calculating 999999999999999999999997688!\n",
      "calculating 999999999999999999999997687!\n",
      "calculating 999999999999999999999997686!\n",
      "calculating 999999999999999999999997685!\n",
      "calculating 999999999999999999999997684!\n",
      "calculating 999999999999999999999997683!\n",
      "calculating 999999999999999999999997682!\n",
      "calculating 999999999999999999999997681!\n",
      "calculating 999999999999999999999997680!\n",
      "calculating 999999999999999999999997679!\n",
      "calculating 999999999999999999999997678!\n",
      "calculating 999999999999999999999997677!\n",
      "calculating 999999999999999999999997676!\n",
      "calculating 999999999999999999999997675!\n",
      "calculating 999999999999999999999997674!\n",
      "calculating 999999999999999999999997673!\n",
      "calculating 999999999999999999999997672!\n",
      "calculating 999999999999999999999997671!\n",
      "calculating 999999999999999999999997670!\n",
      "calculating 999999999999999999999997669!\n",
      "calculating 999999999999999999999997668!\n",
      "calculating 999999999999999999999997667!\n",
      "calculating 999999999999999999999997666!\n",
      "calculating 999999999999999999999997665!\n",
      "calculating 999999999999999999999997664!\n",
      "calculating 999999999999999999999997663!\n",
      "calculating 999999999999999999999997662!\n",
      "calculating 999999999999999999999997661!\n",
      "calculating 999999999999999999999997660!\n",
      "calculating 999999999999999999999997659!\n",
      "calculating 999999999999999999999997658!\n",
      "calculating 999999999999999999999997657!\n",
      "calculating 999999999999999999999997656!\n",
      "calculating 999999999999999999999997655!\n",
      "calculating 999999999999999999999997654!\n",
      "calculating 999999999999999999999997653!\n",
      "calculating 999999999999999999999997652!\n",
      "calculating 999999999999999999999997651!\n",
      "calculating 999999999999999999999997650!\n",
      "calculating 999999999999999999999997649!\n",
      "calculating 999999999999999999999997648!\n",
      "calculating 999999999999999999999997647!\n",
      "calculating 999999999999999999999997646!\n",
      "calculating 999999999999999999999997645!\n",
      "calculating 999999999999999999999997644!\n",
      "calculating 999999999999999999999997643!\n",
      "calculating 999999999999999999999997642!\n",
      "calculating 999999999999999999999997641!\n",
      "calculating 999999999999999999999997640!\n",
      "calculating 999999999999999999999997639!\n",
      "calculating 999999999999999999999997638!\n",
      "calculating 999999999999999999999997637!\n",
      "calculating 999999999999999999999997636!\n",
      "calculating 999999999999999999999997635!\n",
      "calculating 999999999999999999999997634!\n",
      "calculating 999999999999999999999997633!\n",
      "calculating 999999999999999999999997632!\n",
      "calculating 999999999999999999999997631!\n",
      "calculating 999999999999999999999997630!\n",
      "calculating 999999999999999999999997629!\n",
      "calculating 999999999999999999999997628!\n",
      "calculating 999999999999999999999997627!\n",
      "calculating 999999999999999999999997626!\n",
      "calculating 999999999999999999999997625!\n",
      "calculating 999999999999999999999997624!\n",
      "calculating 999999999999999999999997623!\n",
      "calculating 999999999999999999999997622!\n",
      "calculating 999999999999999999999997621!\n",
      "calculating 999999999999999999999997620!\n",
      "calculating 999999999999999999999997619!\n",
      "calculating 999999999999999999999997618!\n",
      "calculating 999999999999999999999997617!\n",
      "calculating 999999999999999999999997616!\n",
      "calculating 999999999999999999999997615!\n",
      "calculating 999999999999999999999997614!\n",
      "calculating 999999999999999999999997613!\n",
      "calculating 999999999999999999999997612!\n",
      "calculating 999999999999999999999997611!\n",
      "calculating 999999999999999999999997610!\n",
      "calculating 999999999999999999999997609!\n",
      "calculating 999999999999999999999997608!\n",
      "calculating 999999999999999999999997607!\n",
      "calculating 999999999999999999999997606!\n",
      "calculating 999999999999999999999997605!\n",
      "calculating 999999999999999999999997604!\n",
      "calculating 999999999999999999999997603!\n",
      "calculating 999999999999999999999997602!\n",
      "calculating 999999999999999999999997601!\n",
      "calculating 999999999999999999999997600!\n",
      "calculating 999999999999999999999997599!\n",
      "calculating 999999999999999999999997598!\n",
      "calculating 999999999999999999999997597!\n",
      "calculating 999999999999999999999997596!\n",
      "calculating 999999999999999999999997595!\n",
      "calculating 999999999999999999999997594!\n",
      "calculating 999999999999999999999997593!\n",
      "calculating 999999999999999999999997592!\n",
      "calculating 999999999999999999999997591!\n",
      "calculating 999999999999999999999997590!\n",
      "calculating 999999999999999999999997589!\n",
      "calculating 999999999999999999999997588!\n",
      "calculating 999999999999999999999997587!\n",
      "calculating 999999999999999999999997586!\n",
      "calculating 999999999999999999999997585!\n",
      "calculating 999999999999999999999997584!\n",
      "calculating 999999999999999999999997583!\n",
      "calculating 999999999999999999999997582!\n",
      "calculating 999999999999999999999997581!\n",
      "calculating 999999999999999999999997580!\n",
      "calculating 999999999999999999999997579!\n",
      "calculating 999999999999999999999997578!\n",
      "calculating 999999999999999999999997577!\n",
      "calculating 999999999999999999999997576!\n",
      "calculating 999999999999999999999997575!\n",
      "calculating 999999999999999999999997574!\n",
      "calculating 999999999999999999999997573!\n",
      "calculating 999999999999999999999997572!\n",
      "calculating 999999999999999999999997571!\n",
      "calculating 999999999999999999999997570!\n",
      "calculating 999999999999999999999997569!\n",
      "calculating 999999999999999999999997568!\n",
      "calculating 999999999999999999999997567!\n",
      "calculating 999999999999999999999997566!\n",
      "calculating 999999999999999999999997565!\n",
      "calculating 999999999999999999999997564!\n",
      "calculating 999999999999999999999997563!\n",
      "calculating 999999999999999999999997562!\n",
      "calculating 999999999999999999999997561!\n",
      "calculating 999999999999999999999997560!\n",
      "calculating 999999999999999999999997559!\n",
      "calculating 999999999999999999999997558!\n",
      "calculating 999999999999999999999997557!\n",
      "calculating 999999999999999999999997556!\n",
      "calculating 999999999999999999999997555!\n",
      "calculating 999999999999999999999997554!\n",
      "calculating 999999999999999999999997553!\n",
      "calculating 999999999999999999999997552!\n",
      "calculating 999999999999999999999997551!\n",
      "calculating 999999999999999999999997550!\n",
      "calculating 999999999999999999999997549!\n",
      "calculating 999999999999999999999997548!\n",
      "calculating 999999999999999999999997547!\n",
      "calculating 999999999999999999999997546!\n",
      "calculating 999999999999999999999997545!\n",
      "calculating 999999999999999999999997544!\n",
      "calculating 999999999999999999999997543!\n",
      "calculating 999999999999999999999997542!\n",
      "calculating 999999999999999999999997541!\n",
      "calculating 999999999999999999999997540!\n",
      "calculating 999999999999999999999997539!\n",
      "calculating 999999999999999999999997538!\n",
      "calculating 999999999999999999999997537!\n",
      "calculating 999999999999999999999997536!\n",
      "calculating 999999999999999999999997535!\n",
      "calculating 999999999999999999999997534!\n",
      "calculating 999999999999999999999997533!\n",
      "calculating 999999999999999999999997532!\n",
      "calculating 999999999999999999999997531!\n",
      "calculating 999999999999999999999997530!\n",
      "calculating 999999999999999999999997529!\n",
      "calculating 999999999999999999999997528!\n",
      "calculating 999999999999999999999997527!\n",
      "calculating 999999999999999999999997526!\n",
      "calculating 999999999999999999999997525!\n",
      "calculating 999999999999999999999997524!\n",
      "calculating 999999999999999999999997523!\n",
      "calculating 999999999999999999999997522!\n",
      "calculating 999999999999999999999997521!\n",
      "calculating 999999999999999999999997520!\n",
      "calculating 999999999999999999999997519!\n",
      "calculating 999999999999999999999997518!\n",
      "calculating 999999999999999999999997517!\n",
      "calculating 999999999999999999999997516!\n",
      "calculating 999999999999999999999997515!\n",
      "calculating 999999999999999999999997514!\n",
      "calculating 999999999999999999999997513!\n",
      "calculating 999999999999999999999997512!\n",
      "calculating 999999999999999999999997511!\n",
      "calculating 999999999999999999999997510!\n",
      "calculating 999999999999999999999997509!\n",
      "calculating 999999999999999999999997508!\n",
      "calculating 999999999999999999999997507!\n",
      "calculating 999999999999999999999997506!\n",
      "calculating 999999999999999999999997505!\n",
      "calculating 999999999999999999999997504!\n",
      "calculating 999999999999999999999997503!\n",
      "calculating 999999999999999999999997502!\n",
      "calculating 999999999999999999999997501!\n",
      "calculating 999999999999999999999997500!\n",
      "calculating 999999999999999999999997499!\n",
      "calculating 999999999999999999999997498!\n",
      "calculating 999999999999999999999997497!\n",
      "calculating 999999999999999999999997496!\n",
      "calculating 999999999999999999999997495!\n",
      "calculating 999999999999999999999997494!\n",
      "calculating 999999999999999999999997493!\n",
      "calculating 999999999999999999999997492!\n",
      "calculating 999999999999999999999997491!\n",
      "calculating 999999999999999999999997490!\n",
      "calculating 999999999999999999999997489!\n",
      "calculating 999999999999999999999997488!\n",
      "calculating 999999999999999999999997487!\n",
      "calculating 999999999999999999999997486!\n",
      "calculating 999999999999999999999997485!\n",
      "calculating 999999999999999999999997484!\n",
      "calculating 999999999999999999999997483!\n",
      "calculating 999999999999999999999997482!\n",
      "calculating 999999999999999999999997481!\n",
      "calculating 999999999999999999999997480!\n",
      "calculating 999999999999999999999997479!\n",
      "calculating 999999999999999999999997478!\n",
      "calculating 999999999999999999999997477!\n",
      "calculating 999999999999999999999997476!\n",
      "calculating 999999999999999999999997475!\n",
      "calculating 999999999999999999999997474!\n",
      "calculating 999999999999999999999997473!\n",
      "calculating 999999999999999999999997472!\n",
      "calculating 999999999999999999999997471!\n",
      "calculating 999999999999999999999997470!\n",
      "calculating 999999999999999999999997469!\n",
      "calculating 999999999999999999999997468!\n",
      "calculating 999999999999999999999997467!\n",
      "calculating 999999999999999999999997466!\n",
      "calculating 999999999999999999999997465!\n",
      "calculating 999999999999999999999997464!\n",
      "calculating 999999999999999999999997463!\n",
      "calculating 999999999999999999999997462!\n",
      "calculating 999999999999999999999997461!\n",
      "calculating 999999999999999999999997460!\n",
      "calculating 999999999999999999999997459!\n",
      "calculating 999999999999999999999997458!\n",
      "calculating 999999999999999999999997457!\n",
      "calculating 999999999999999999999997456!\n",
      "calculating 999999999999999999999997455!\n",
      "calculating 999999999999999999999997454!\n",
      "calculating 999999999999999999999997453!\n",
      "calculating 999999999999999999999997452!\n",
      "calculating 999999999999999999999997451!\n",
      "calculating 999999999999999999999997450!\n",
      "calculating 999999999999999999999997449!\n",
      "calculating 999999999999999999999997448!\n",
      "calculating 999999999999999999999997447!\n",
      "calculating 999999999999999999999997446!\n",
      "calculating 999999999999999999999997445!\n",
      "calculating 999999999999999999999997444!\n",
      "calculating 999999999999999999999997443!\n",
      "calculating 999999999999999999999997442!\n",
      "calculating 999999999999999999999997441!\n",
      "calculating 999999999999999999999997440!\n",
      "calculating 999999999999999999999997439!\n",
      "calculating 999999999999999999999997438!\n",
      "calculating 999999999999999999999997437!\n",
      "calculating 999999999999999999999997436!\n",
      "calculating 999999999999999999999997435!\n",
      "calculating 999999999999999999999997434!\n",
      "calculating 999999999999999999999997433!\n",
      "calculating 999999999999999999999997432!\n",
      "calculating 999999999999999999999997431!\n",
      "calculating 999999999999999999999997430!\n",
      "calculating 999999999999999999999997429!\n",
      "calculating 999999999999999999999997428!\n",
      "calculating 999999999999999999999997427!\n",
      "calculating 999999999999999999999997426!\n",
      "calculating 999999999999999999999997425!\n",
      "calculating 999999999999999999999997424!\n",
      "calculating 999999999999999999999997423!\n",
      "calculating 999999999999999999999997422!\n",
      "calculating 999999999999999999999997421!\n",
      "calculating 999999999999999999999997420!\n",
      "calculating 999999999999999999999997419!\n",
      "calculating 999999999999999999999997418!\n",
      "calculating 999999999999999999999997417!\n",
      "calculating 999999999999999999999997416!\n",
      "calculating 999999999999999999999997415!\n",
      "calculating 999999999999999999999997414!\n",
      "calculating 999999999999999999999997413!\n",
      "calculating 999999999999999999999997412!\n",
      "calculating 999999999999999999999997411!\n",
      "calculating 999999999999999999999997410!\n",
      "calculating 999999999999999999999997409!\n",
      "calculating 999999999999999999999997408!\n",
      "calculating 999999999999999999999997407!\n",
      "calculating 999999999999999999999997406!\n",
      "calculating 999999999999999999999997405!\n",
      "calculating 999999999999999999999997404!\n",
      "calculating 999999999999999999999997403!\n",
      "calculating 999999999999999999999997402!\n",
      "calculating 999999999999999999999997401!\n",
      "calculating 999999999999999999999997400!\n",
      "calculating 999999999999999999999997399!\n",
      "calculating 999999999999999999999997398!\n",
      "calculating 999999999999999999999997397!\n",
      "calculating 999999999999999999999997396!\n",
      "calculating 999999999999999999999997395!\n",
      "calculating 999999999999999999999997394!\n",
      "calculating 999999999999999999999997393!\n",
      "calculating 999999999999999999999997392!\n",
      "calculating 999999999999999999999997391!\n",
      "calculating 999999999999999999999997390!\n",
      "calculating 999999999999999999999997389!\n",
      "calculating 999999999999999999999997388!\n",
      "calculating 999999999999999999999997387!\n",
      "calculating 999999999999999999999997386!\n",
      "calculating 999999999999999999999997385!\n",
      "calculating 999999999999999999999997384!\n",
      "calculating 999999999999999999999997383!\n",
      "calculating 999999999999999999999997382!\n",
      "calculating 999999999999999999999997381!\n",
      "calculating 999999999999999999999997380!\n",
      "calculating 999999999999999999999997379!\n",
      "calculating 999999999999999999999997378!\n",
      "calculating 999999999999999999999997377!\n",
      "calculating 999999999999999999999997376!\n",
      "calculating 999999999999999999999997375!\n",
      "calculating 999999999999999999999997374!\n",
      "calculating 999999999999999999999997373!\n",
      "calculating 999999999999999999999997372!\n",
      "calculating 999999999999999999999997371!\n",
      "calculating 999999999999999999999997370!\n",
      "calculating 999999999999999999999997369!\n",
      "calculating 999999999999999999999997368!\n",
      "calculating 999999999999999999999997367!\n",
      "calculating 999999999999999999999997366!\n",
      "calculating 999999999999999999999997365!\n",
      "calculating 999999999999999999999997364!\n",
      "calculating 999999999999999999999997363!\n",
      "calculating 999999999999999999999997362!\n",
      "calculating 999999999999999999999997361!\n",
      "calculating 999999999999999999999997360!\n",
      "calculating 999999999999999999999997359!\n",
      "calculating 999999999999999999999997358!\n",
      "calculating 999999999999999999999997357!\n",
      "calculating 999999999999999999999997356!\n",
      "calculating 999999999999999999999997355!\n",
      "calculating 999999999999999999999997354!\n",
      "calculating 999999999999999999999997353!\n",
      "calculating 999999999999999999999997352!\n",
      "calculating 999999999999999999999997351!\n",
      "calculating 999999999999999999999997350!\n",
      "calculating 999999999999999999999997349!\n",
      "calculating 999999999999999999999997348!\n",
      "calculating 999999999999999999999997347!\n",
      "calculating 999999999999999999999997346!\n",
      "calculating 999999999999999999999997345!\n",
      "calculating 999999999999999999999997344!\n",
      "calculating 999999999999999999999997343!\n",
      "calculating 999999999999999999999997342!\n",
      "calculating 999999999999999999999997341!\n",
      "calculating 999999999999999999999997340!\n",
      "calculating 999999999999999999999997339!\n",
      "calculating 999999999999999999999997338!\n",
      "calculating 999999999999999999999997337!\n",
      "calculating 999999999999999999999997336!\n",
      "calculating 999999999999999999999997335!\n",
      "calculating 999999999999999999999997334!\n",
      "calculating 999999999999999999999997333!\n",
      "calculating 999999999999999999999997332!\n",
      "calculating 999999999999999999999997331!\n",
      "calculating 999999999999999999999997330!\n",
      "calculating 999999999999999999999997329!\n",
      "calculating 999999999999999999999997328!\n",
      "calculating 999999999999999999999997327!\n",
      "calculating 999999999999999999999997326!\n",
      "calculating 999999999999999999999997325!\n",
      "calculating 999999999999999999999997324!\n",
      "calculating 999999999999999999999997323!\n",
      "calculating 999999999999999999999997322!\n",
      "calculating 999999999999999999999997321!\n",
      "calculating 999999999999999999999997320!\n",
      "calculating 999999999999999999999997319!\n",
      "calculating 999999999999999999999997318!\n",
      "calculating 999999999999999999999997317!\n",
      "calculating 999999999999999999999997316!\n",
      "calculating 999999999999999999999997315!\n",
      "calculating 999999999999999999999997314!\n",
      "calculating 999999999999999999999997313!\n",
      "calculating 999999999999999999999997312!\n",
      "calculating 999999999999999999999997311!\n",
      "calculating 999999999999999999999997310!\n",
      "calculating 999999999999999999999997309!\n",
      "calculating 999999999999999999999997308!\n",
      "calculating 999999999999999999999997307!\n",
      "calculating 999999999999999999999997306!\n",
      "calculating 999999999999999999999997305!\n",
      "calculating 999999999999999999999997304!\n",
      "calculating 999999999999999999999997303!\n",
      "calculating 999999999999999999999997302!\n",
      "calculating 999999999999999999999997301!\n",
      "calculating 999999999999999999999997300!\n",
      "calculating 999999999999999999999997299!\n",
      "calculating 999999999999999999999997298!\n",
      "calculating 999999999999999999999997297!\n",
      "calculating 999999999999999999999997296!\n",
      "calculating 999999999999999999999997295!\n",
      "calculating 999999999999999999999997294!\n",
      "calculating 999999999999999999999997293!\n",
      "calculating 999999999999999999999997292!\n",
      "calculating 999999999999999999999997291!\n",
      "calculating 999999999999999999999997290!\n",
      "calculating 999999999999999999999997289!\n",
      "calculating 999999999999999999999997288!\n",
      "calculating 999999999999999999999997287!\n",
      "calculating 999999999999999999999997286!\n",
      "calculating 999999999999999999999997285!\n",
      "calculating 999999999999999999999997284!\n",
      "calculating 999999999999999999999997283!\n",
      "calculating 999999999999999999999997282!\n",
      "calculating 999999999999999999999997281!\n",
      "calculating 999999999999999999999997280!\n",
      "calculating 999999999999999999999997279!\n",
      "calculating 999999999999999999999997278!\n",
      "calculating 999999999999999999999997277!\n",
      "calculating 999999999999999999999997276!\n",
      "calculating 999999999999999999999997275!\n",
      "calculating 999999999999999999999997274!\n",
      "calculating 999999999999999999999997273!\n",
      "calculating 999999999999999999999997272!\n",
      "calculating 999999999999999999999997271!\n",
      "calculating 999999999999999999999997270!\n",
      "calculating 999999999999999999999997269!\n",
      "calculating 999999999999999999999997268!\n",
      "calculating 999999999999999999999997267!\n",
      "calculating 999999999999999999999997266!\n",
      "calculating 999999999999999999999997265!\n",
      "calculating 999999999999999999999997264!\n",
      "calculating 999999999999999999999997263!\n",
      "calculating 999999999999999999999997262!\n",
      "calculating 999999999999999999999997261!\n",
      "calculating 999999999999999999999997260!\n",
      "calculating 999999999999999999999997259!\n",
      "calculating 999999999999999999999997258!\n",
      "calculating 999999999999999999999997257!\n",
      "calculating 999999999999999999999997256!\n",
      "calculating 999999999999999999999997255!\n",
      "calculating 999999999999999999999997254!\n",
      "calculating 999999999999999999999997253!\n",
      "calculating 999999999999999999999997252!\n",
      "calculating 999999999999999999999997251!\n",
      "calculating 999999999999999999999997250!\n",
      "calculating 999999999999999999999997249!\n",
      "calculating 999999999999999999999997248!\n",
      "calculating 999999999999999999999997247!\n",
      "calculating 999999999999999999999997246!\n",
      "calculating 999999999999999999999997245!\n",
      "calculating 999999999999999999999997244!\n",
      "calculating 999999999999999999999997243!\n",
      "calculating 999999999999999999999997242!\n",
      "calculating 999999999999999999999997241!\n",
      "calculating 999999999999999999999997240!\n",
      "calculating 999999999999999999999997239!\n",
      "calculating 999999999999999999999997238!\n",
      "calculating 999999999999999999999997237!\n",
      "calculating 999999999999999999999997236!\n",
      "calculating 999999999999999999999997235!\n",
      "calculating 999999999999999999999997234!\n",
      "calculating 999999999999999999999997233!\n",
      "calculating 999999999999999999999997232!\n",
      "calculating 999999999999999999999997231!\n",
      "calculating 999999999999999999999997230!\n",
      "calculating 999999999999999999999997229!\n",
      "calculating 999999999999999999999997228!\n",
      "calculating 999999999999999999999997227!\n",
      "calculating 999999999999999999999997226!\n",
      "calculating 999999999999999999999997225!\n",
      "calculating 999999999999999999999997224!\n",
      "calculating 999999999999999999999997223!\n",
      "calculating 999999999999999999999997222!\n",
      "calculating 999999999999999999999997221!\n",
      "calculating 999999999999999999999997220!\n",
      "calculating 999999999999999999999997219!\n",
      "calculating 999999999999999999999997218!\n",
      "calculating 999999999999999999999997217!\n",
      "calculating 999999999999999999999997216!\n",
      "calculating 999999999999999999999997215!\n",
      "calculating 999999999999999999999997214!\n",
      "calculating 999999999999999999999997213!\n",
      "calculating 999999999999999999999997212!\n",
      "calculating 999999999999999999999997211!\n",
      "calculating 999999999999999999999997210!\n",
      "calculating 999999999999999999999997209!\n",
      "calculating 999999999999999999999997208!\n",
      "calculating 999999999999999999999997207!\n",
      "calculating 999999999999999999999997206!\n",
      "calculating 999999999999999999999997205!\n",
      "calculating 999999999999999999999997204!\n",
      "calculating 999999999999999999999997203!\n",
      "calculating 999999999999999999999997202!\n",
      "calculating 999999999999999999999997201!\n",
      "calculating 999999999999999999999997200!\n",
      "calculating 999999999999999999999997199!\n",
      "calculating 999999999999999999999997198!\n",
      "calculating 999999999999999999999997197!\n",
      "calculating 999999999999999999999997196!\n",
      "calculating 999999999999999999999997195!\n",
      "calculating 999999999999999999999997194!\n",
      "calculating 999999999999999999999997193!\n",
      "calculating 999999999999999999999997192!\n",
      "calculating 999999999999999999999997191!\n",
      "calculating 999999999999999999999997190!\n",
      "calculating 999999999999999999999997189!\n",
      "calculating 999999999999999999999997188!\n",
      "calculating 999999999999999999999997187!\n",
      "calculating 999999999999999999999997186!\n",
      "calculating 999999999999999999999997185!\n",
      "calculating 999999999999999999999997184!\n",
      "calculating 999999999999999999999997183!\n",
      "calculating 999999999999999999999997182!\n",
      "calculating 999999999999999999999997181!\n",
      "calculating 999999999999999999999997180!\n",
      "calculating 999999999999999999999997179!\n",
      "calculating 999999999999999999999997178!\n",
      "calculating 999999999999999999999997177!\n",
      "calculating 999999999999999999999997176!\n",
      "calculating 999999999999999999999997175!\n",
      "calculating 999999999999999999999997174!\n",
      "calculating 999999999999999999999997173!\n",
      "calculating 999999999999999999999997172!\n",
      "calculating 999999999999999999999997171!\n",
      "calculating 999999999999999999999997170!\n",
      "calculating 999999999999999999999997169!\n",
      "calculating 999999999999999999999997168!\n",
      "calculating 999999999999999999999997167!\n",
      "calculating 999999999999999999999997166!\n",
      "calculating 999999999999999999999997165!\n",
      "calculating 999999999999999999999997164!\n",
      "calculating 999999999999999999999997163!\n",
      "calculating 999999999999999999999997162!\n",
      "calculating 999999999999999999999997161!\n",
      "calculating 999999999999999999999997160!\n",
      "calculating 999999999999999999999997159!\n",
      "calculating 999999999999999999999997158!\n",
      "calculating 999999999999999999999997157!\n",
      "calculating 999999999999999999999997156!\n",
      "calculating 999999999999999999999997155!\n",
      "calculating 999999999999999999999997154!\n",
      "calculating 999999999999999999999997153!\n",
      "calculating 999999999999999999999997152!\n",
      "calculating 999999999999999999999997151!\n",
      "calculating 999999999999999999999997150!\n",
      "calculating 999999999999999999999997149!\n",
      "calculating 999999999999999999999997148!\n",
      "calculating 999999999999999999999997147!\n",
      "calculating 999999999999999999999997146!\n",
      "calculating 999999999999999999999997145!\n",
      "calculating 999999999999999999999997144!\n",
      "calculating 999999999999999999999997143!\n",
      "calculating 999999999999999999999997142!\n",
      "calculating 999999999999999999999997141!\n",
      "calculating 999999999999999999999997140!\n",
      "calculating 999999999999999999999997139!\n",
      "calculating 999999999999999999999997138!\n",
      "calculating 999999999999999999999997137!\n",
      "calculating 999999999999999999999997136!\n",
      "calculating 999999999999999999999997135!\n",
      "calculating 999999999999999999999997134!\n",
      "calculating 999999999999999999999997133!\n",
      "calculating 999999999999999999999997132!\n",
      "calculating 999999999999999999999997131!\n",
      "calculating 999999999999999999999997130!\n",
      "calculating 999999999999999999999997129!\n",
      "calculating 999999999999999999999997128!\n",
      "calculating 999999999999999999999997127!\n",
      "calculating 999999999999999999999997126!\n",
      "calculating 999999999999999999999997125!\n",
      "calculating 999999999999999999999997124!\n",
      "calculating 999999999999999999999997123!\n",
      "calculating 999999999999999999999997122!\n",
      "calculating 999999999999999999999997121!\n",
      "calculating 999999999999999999999997120!\n",
      "calculating 999999999999999999999997119!\n",
      "calculating 999999999999999999999997118!\n",
      "calculating 999999999999999999999997117!\n",
      "calculating 999999999999999999999997116!\n",
      "calculating 999999999999999999999997115!\n",
      "calculating 999999999999999999999997114!\n",
      "calculating 999999999999999999999997113!\n",
      "calculating 999999999999999999999997112!\n",
      "calculating 999999999999999999999997111!\n",
      "calculating 999999999999999999999997110!\n",
      "calculating 999999999999999999999997109!\n",
      "calculating 999999999999999999999997108!\n",
      "calculating 999999999999999999999997107!\n",
      "calculating 999999999999999999999997106!\n",
      "calculating 999999999999999999999997105!\n",
      "calculating 999999999999999999999997104!\n",
      "calculating 999999999999999999999997103!\n",
      "calculating 999999999999999999999997102!\n",
      "calculating 999999999999999999999997101!\n",
      "calculating 999999999999999999999997100!\n",
      "calculating 999999999999999999999997099!\n",
      "calculating 999999999999999999999997098!\n",
      "calculating 999999999999999999999997097!\n",
      "calculating 999999999999999999999997096!\n",
      "calculating 999999999999999999999997095!\n",
      "calculating 999999999999999999999997094!\n",
      "calculating 999999999999999999999997093!\n",
      "calculating 999999999999999999999997092!\n",
      "calculating 999999999999999999999997091!\n",
      "calculating 999999999999999999999997090!\n",
      "calculating 999999999999999999999997089!\n",
      "calculating 999999999999999999999997088!\n",
      "calculating 999999999999999999999997087!\n",
      "calculating 999999999999999999999997086!\n",
      "calculating 999999999999999999999997085!\n",
      "calculating 999999999999999999999997084!\n",
      "calculating 999999999999999999999997083!\n",
      "calculating 999999999999999999999997082!\n",
      "calculating 999999999999999999999997081!\n",
      "calculating 999999999999999999999997080!\n",
      "calculating 999999999999999999999997079!\n",
      "calculating 999999999999999999999997078!\n",
      "calculating 999999999999999999999997077!\n",
      "calculating 999999999999999999999997076!\n",
      "calculating 999999999999999999999997075!\n",
      "calculating 999999999999999999999997074!\n",
      "calculating 999999999999999999999997073!\n",
      "calculating 999999999999999999999997072!\n",
      "calculating 999999999999999999999997071!\n",
      "calculating 999999999999999999999997070!\n",
      "calculating 999999999999999999999997069!\n",
      "calculating 999999999999999999999997068!\n",
      "calculating 999999999999999999999997067!\n",
      "calculating 999999999999999999999997066!\n",
      "calculating 999999999999999999999997065!\n",
      "calculating 999999999999999999999997064!\n",
      "calculating 999999999999999999999997063!\n",
      "calculating 999999999999999999999997062!\n",
      "calculating 999999999999999999999997061!\n",
      "calculating 999999999999999999999997060!\n",
      "calculating 999999999999999999999997059!\n",
      "calculating 999999999999999999999997058!\n",
      "calculating 999999999999999999999997057!\n",
      "calculating 999999999999999999999997056!\n",
      "calculating 999999999999999999999997055!\n",
      "calculating 999999999999999999999997054!\n",
      "calculating 999999999999999999999997053!\n",
      "calculating 999999999999999999999997052!\n",
      "calculating 999999999999999999999997051!\n",
      "calculating 999999999999999999999997050!\n",
      "calculating 999999999999999999999997049!\n",
      "calculating 999999999999999999999997048!\n",
      "calculating 999999999999999999999997047!\n"
     ]
    },
    {
     "ename": "RecursionError",
     "evalue": "maximum recursion depth exceeded while calling a Python object",
     "output_type": "error",
     "traceback": [
      "\u001b[1;31m---------------------------------------------------------------------------\u001b[0m",
      "\u001b[1;31mRecursionError\u001b[0m                            Traceback (most recent call last)",
      "\u001b[1;32m<ipython-input-271-029b81730b6a>\u001b[0m in \u001b[0;36m<module>\u001b[1;34m\u001b[0m\n\u001b[1;32m----> 1\u001b[1;33m \u001b[0mfactorial\u001b[0m\u001b[1;33m(\u001b[0m\u001b[1;36m1000000000\u001b[0m\u001b[1;33m**\u001b[0m\u001b[1;36m3\u001b[0m\u001b[1;33m,\u001b[0m \u001b[0mcache\u001b[0m \u001b[1;33m=\u001b[0m \u001b[0mcache\u001b[0m\u001b[1;33m)\u001b[0m\u001b[1;33m\u001b[0m\u001b[1;33m\u001b[0m\u001b[0m\n\u001b[0m",
      "\u001b[1;32m<ipython-input-262-837799daf751>\u001b[0m in \u001b[0;36mfactorial\u001b[1;34m(n, cache)\u001b[0m\n\u001b[0;32m      6\u001b[0m     \u001b[1;32melse\u001b[0m\u001b[1;33m:\u001b[0m\u001b[1;33m\u001b[0m\u001b[1;33m\u001b[0m\u001b[0m\n\u001b[0;32m      7\u001b[0m         \u001b[0mprint\u001b[0m\u001b[1;33m(\u001b[0m\u001b[1;34m'calculating {0}!'\u001b[0m\u001b[1;33m.\u001b[0m\u001b[0mformat\u001b[0m\u001b[1;33m(\u001b[0m\u001b[0mn\u001b[0m\u001b[1;33m)\u001b[0m\u001b[1;33m)\u001b[0m\u001b[1;33m\u001b[0m\u001b[1;33m\u001b[0m\u001b[0m\n\u001b[1;32m----> 8\u001b[1;33m         \u001b[0mresult\u001b[0m \u001b[1;33m=\u001b[0m \u001b[0mn\u001b[0m \u001b[1;33m*\u001b[0m \u001b[0mfactorial\u001b[0m\u001b[1;33m(\u001b[0m\u001b[0mn\u001b[0m\u001b[1;33m-\u001b[0m\u001b[1;36m1\u001b[0m\u001b[1;33m,\u001b[0m \u001b[0mcache\u001b[0m \u001b[1;33m=\u001b[0m \u001b[0mcache\u001b[0m\u001b[1;33m)\u001b[0m\u001b[1;33m\u001b[0m\u001b[1;33m\u001b[0m\u001b[0m\n\u001b[0m\u001b[0;32m      9\u001b[0m         \u001b[0mcache\u001b[0m \u001b[1;33m[\u001b[0m\u001b[0mn\u001b[0m\u001b[1;33m]\u001b[0m \u001b[1;33m=\u001b[0m \u001b[0mresult\u001b[0m\u001b[1;33m\u001b[0m\u001b[1;33m\u001b[0m\u001b[0m\n\u001b[0;32m     10\u001b[0m         \u001b[1;32mreturn\u001b[0m \u001b[0mresult\u001b[0m\u001b[1;33m\u001b[0m\u001b[1;33m\u001b[0m\u001b[0m\n",
      "... last 1 frames repeated, from the frame below ...\n",
      "\u001b[1;32m<ipython-input-262-837799daf751>\u001b[0m in \u001b[0;36mfactorial\u001b[1;34m(n, cache)\u001b[0m\n\u001b[0;32m      6\u001b[0m     \u001b[1;32melse\u001b[0m\u001b[1;33m:\u001b[0m\u001b[1;33m\u001b[0m\u001b[1;33m\u001b[0m\u001b[0m\n\u001b[0;32m      7\u001b[0m         \u001b[0mprint\u001b[0m\u001b[1;33m(\u001b[0m\u001b[1;34m'calculating {0}!'\u001b[0m\u001b[1;33m.\u001b[0m\u001b[0mformat\u001b[0m\u001b[1;33m(\u001b[0m\u001b[0mn\u001b[0m\u001b[1;33m)\u001b[0m\u001b[1;33m)\u001b[0m\u001b[1;33m\u001b[0m\u001b[1;33m\u001b[0m\u001b[0m\n\u001b[1;32m----> 8\u001b[1;33m         \u001b[0mresult\u001b[0m \u001b[1;33m=\u001b[0m \u001b[0mn\u001b[0m \u001b[1;33m*\u001b[0m \u001b[0mfactorial\u001b[0m\u001b[1;33m(\u001b[0m\u001b[0mn\u001b[0m\u001b[1;33m-\u001b[0m\u001b[1;36m1\u001b[0m\u001b[1;33m,\u001b[0m \u001b[0mcache\u001b[0m \u001b[1;33m=\u001b[0m \u001b[0mcache\u001b[0m\u001b[1;33m)\u001b[0m\u001b[1;33m\u001b[0m\u001b[1;33m\u001b[0m\u001b[0m\n\u001b[0m\u001b[0;32m      9\u001b[0m         \u001b[0mcache\u001b[0m \u001b[1;33m[\u001b[0m\u001b[0mn\u001b[0m\u001b[1;33m]\u001b[0m \u001b[1;33m=\u001b[0m \u001b[0mresult\u001b[0m\u001b[1;33m\u001b[0m\u001b[1;33m\u001b[0m\u001b[0m\n\u001b[0;32m     10\u001b[0m         \u001b[1;32mreturn\u001b[0m \u001b[0mresult\u001b[0m\u001b[1;33m\u001b[0m\u001b[1;33m\u001b[0m\u001b[0m\n",
      "\u001b[1;31mRecursionError\u001b[0m: maximum recursion depth exceeded while calling a Python object"
     ]
    }
   ],
   "source": [
    "factorial(1000000000**3, cache = cache)"
   ]
  },
  {
   "cell_type": "code",
   "execution_count": 272,
   "metadata": {},
   "outputs": [
    {
     "name": "stdout",
     "output_type": "stream",
     "text": [
      "{1: 1, 2: 2, 3: 6, 4: 24, 5: 120, 6: 720, 7: 5040, 8: 40320, 9: 362880, 10: 3628800}\n"
     ]
    }
   ],
   "source": [
    "print(cache)"
   ]
  },
  {
   "cell_type": "code",
   "execution_count": 273,
   "metadata": {},
   "outputs": [
    {
     "data": {
      "text/plain": [
       "{1: 1,\n",
       " 2: 2,\n",
       " 3: 6,\n",
       " 4: 24,\n",
       " 5: 120,\n",
       " 6: 720,\n",
       " 7: 5040,\n",
       " 8: 40320,\n",
       " 9: 362880,\n",
       " 10: 3628800}"
      ]
     },
     "execution_count": 273,
     "metadata": {},
     "output_type": "execute_result"
    }
   ],
   "source": [
    "cache"
   ]
  },
  {
   "cell_type": "code",
   "execution_count": 274,
   "metadata": {},
   "outputs": [],
   "source": [
    "def factorial (n, cache = {}):\n",
    "    if n < 1:\n",
    "        return 1\n",
    "    elif n in cache:\n",
    "        return cache[n]\n",
    "    else:\n",
    "        print('calculating {0}!'.format(n))\n",
    "        result = n * factorial(n-1)\n",
    "        cache [n] = result\n",
    "        return result"
   ]
  },
  {
   "cell_type": "code",
   "execution_count": 275,
   "metadata": {},
   "outputs": [
    {
     "name": "stdout",
     "output_type": "stream",
     "text": [
      "calculating 3!\n",
      "calculating 2!\n",
      "calculating 1!\n"
     ]
    },
    {
     "data": {
      "text/plain": [
       "6"
      ]
     },
     "execution_count": 275,
     "metadata": {},
     "output_type": "execute_result"
    }
   ],
   "source": [
    "factorial(3)"
   ]
  },
  {
   "cell_type": "code",
   "execution_count": 276,
   "metadata": {},
   "outputs": [
    {
     "data": {
      "text/plain": [
       "6"
      ]
     },
     "execution_count": 276,
     "metadata": {},
     "output_type": "execute_result"
    }
   ],
   "source": [
    "factorial(3)"
   ]
  },
  {
   "cell_type": "code",
   "execution_count": 279,
   "metadata": {},
   "outputs": [],
   "source": [
    "def my_func(a):\n",
    "    ''' blah\n",
    "    blah\n",
    "    blah\n",
    "    blah'''\n",
    "    return 1"
   ]
  },
  {
   "cell_type": "code",
   "execution_count": 280,
   "metadata": {},
   "outputs": [
    {
     "name": "stdout",
     "output_type": "stream",
     "text": [
      "Help on function my_func in module __main__:\n",
      "\n",
      "my_func(a)\n",
      "    blah\n",
      "    blah\n",
      "    blah\n",
      "    blah\n",
      "\n"
     ]
    }
   ],
   "source": [
    "help(my_func)"
   ]
  },
  {
   "cell_type": "code",
   "execution_count": 281,
   "metadata": {},
   "outputs": [
    {
     "data": {
      "text/plain": [
       "' blah\\n    blah\\n    blah\\n    blah'"
      ]
     },
     "execution_count": 281,
     "metadata": {},
     "output_type": "execute_result"
    }
   ],
   "source": [
    "my_func.__doc__"
   ]
  },
  {
   "cell_type": "code",
   "execution_count": 282,
   "metadata": {},
   "outputs": [
    {
     "name": "stdout",
     "output_type": "stream",
     "text": [
      "Help on built-in function print in module builtins:\n",
      "\n",
      "print(...)\n",
      "    print(value, ..., sep=' ', end='\\n', file=sys.stdout, flush=False)\n",
      "    \n",
      "    Prints the values to a stream, or to sys.stdout by default.\n",
      "    Optional keyword arguments:\n",
      "    file:  a file-like object (stream); defaults to the current sys.stdout.\n",
      "    sep:   string inserted between values, default a space.\n",
      "    end:   string appended after the last value, default a newline.\n",
      "    flush: whether to forcibly flush the stream.\n",
      "\n"
     ]
    }
   ],
   "source": [
    "help(print)"
   ]
  },
  {
   "cell_type": "code",
   "execution_count": 283,
   "metadata": {},
   "outputs": [
    {
     "name": "stdout",
     "output_type": "stream",
     "text": [
      "Help on class int in module builtins:\n",
      "\n",
      "class int(object)\n",
      " |  int([x]) -> integer\n",
      " |  int(x, base=10) -> integer\n",
      " |  \n",
      " |  Convert a number or string to an integer, or return 0 if no arguments\n",
      " |  are given.  If x is a number, return x.__int__().  For floating point\n",
      " |  numbers, this truncates towards zero.\n",
      " |  \n",
      " |  If x is not a number or if base is given, then x must be a string,\n",
      " |  bytes, or bytearray instance representing an integer literal in the\n",
      " |  given base.  The literal can be preceded by '+' or '-' and be surrounded\n",
      " |  by whitespace.  The base defaults to 10.  Valid bases are 0 and 2-36.\n",
      " |  Base 0 means to interpret the base from the string as an integer literal.\n",
      " |  >>> int('0b100', base=0)\n",
      " |  4\n",
      " |  \n",
      " |  Methods defined here:\n",
      " |  \n",
      " |  __abs__(self, /)\n",
      " |      abs(self)\n",
      " |  \n",
      " |  __add__(self, value, /)\n",
      " |      Return self+value.\n",
      " |  \n",
      " |  __and__(self, value, /)\n",
      " |      Return self&value.\n",
      " |  \n",
      " |  __bool__(self, /)\n",
      " |      self != 0\n",
      " |  \n",
      " |  __ceil__(...)\n",
      " |      Ceiling of an Integral returns itself.\n",
      " |  \n",
      " |  __divmod__(self, value, /)\n",
      " |      Return divmod(self, value).\n",
      " |  \n",
      " |  __eq__(self, value, /)\n",
      " |      Return self==value.\n",
      " |  \n",
      " |  __float__(self, /)\n",
      " |      float(self)\n",
      " |  \n",
      " |  __floor__(...)\n",
      " |      Flooring an Integral returns itself.\n",
      " |  \n",
      " |  __floordiv__(self, value, /)\n",
      " |      Return self//value.\n",
      " |  \n",
      " |  __format__(self, format_spec, /)\n",
      " |      Default object formatter.\n",
      " |  \n",
      " |  __ge__(self, value, /)\n",
      " |      Return self>=value.\n",
      " |  \n",
      " |  __getattribute__(self, name, /)\n",
      " |      Return getattr(self, name).\n",
      " |  \n",
      " |  __getnewargs__(self, /)\n",
      " |  \n",
      " |  __gt__(self, value, /)\n",
      " |      Return self>value.\n",
      " |  \n",
      " |  __hash__(self, /)\n",
      " |      Return hash(self).\n",
      " |  \n",
      " |  __index__(self, /)\n",
      " |      Return self converted to an integer, if self is suitable for use as an index into a list.\n",
      " |  \n",
      " |  __int__(self, /)\n",
      " |      int(self)\n",
      " |  \n",
      " |  __invert__(self, /)\n",
      " |      ~self\n",
      " |  \n",
      " |  __le__(self, value, /)\n",
      " |      Return self<=value.\n",
      " |  \n",
      " |  __lshift__(self, value, /)\n",
      " |      Return self<<value.\n",
      " |  \n",
      " |  __lt__(self, value, /)\n",
      " |      Return self<value.\n",
      " |  \n",
      " |  __mod__(self, value, /)\n",
      " |      Return self%value.\n",
      " |  \n",
      " |  __mul__(self, value, /)\n",
      " |      Return self*value.\n",
      " |  \n",
      " |  __ne__(self, value, /)\n",
      " |      Return self!=value.\n",
      " |  \n",
      " |  __neg__(self, /)\n",
      " |      -self\n",
      " |  \n",
      " |  __or__(self, value, /)\n",
      " |      Return self|value.\n",
      " |  \n",
      " |  __pos__(self, /)\n",
      " |      +self\n",
      " |  \n",
      " |  __pow__(self, value, mod=None, /)\n",
      " |      Return pow(self, value, mod).\n",
      " |  \n",
      " |  __radd__(self, value, /)\n",
      " |      Return value+self.\n",
      " |  \n",
      " |  __rand__(self, value, /)\n",
      " |      Return value&self.\n",
      " |  \n",
      " |  __rdivmod__(self, value, /)\n",
      " |      Return divmod(value, self).\n",
      " |  \n",
      " |  __repr__(self, /)\n",
      " |      Return repr(self).\n",
      " |  \n",
      " |  __rfloordiv__(self, value, /)\n",
      " |      Return value//self.\n",
      " |  \n",
      " |  __rlshift__(self, value, /)\n",
      " |      Return value<<self.\n",
      " |  \n",
      " |  __rmod__(self, value, /)\n",
      " |      Return value%self.\n",
      " |  \n",
      " |  __rmul__(self, value, /)\n",
      " |      Return value*self.\n",
      " |  \n",
      " |  __ror__(self, value, /)\n",
      " |      Return value|self.\n",
      " |  \n",
      " |  __round__(...)\n",
      " |      Rounding an Integral returns itself.\n",
      " |      Rounding with an ndigits argument also returns an integer.\n",
      " |  \n",
      " |  __rpow__(self, value, mod=None, /)\n",
      " |      Return pow(value, self, mod).\n",
      " |  \n",
      " |  __rrshift__(self, value, /)\n",
      " |      Return value>>self.\n",
      " |  \n",
      " |  __rshift__(self, value, /)\n",
      " |      Return self>>value.\n",
      " |  \n",
      " |  __rsub__(self, value, /)\n",
      " |      Return value-self.\n",
      " |  \n",
      " |  __rtruediv__(self, value, /)\n",
      " |      Return value/self.\n",
      " |  \n",
      " |  __rxor__(self, value, /)\n",
      " |      Return value^self.\n",
      " |  \n",
      " |  __sizeof__(self, /)\n",
      " |      Returns size in memory, in bytes.\n",
      " |  \n",
      " |  __str__(self, /)\n",
      " |      Return str(self).\n",
      " |  \n",
      " |  __sub__(self, value, /)\n",
      " |      Return self-value.\n",
      " |  \n",
      " |  __truediv__(self, value, /)\n",
      " |      Return self/value.\n",
      " |  \n",
      " |  __trunc__(...)\n",
      " |      Truncating an Integral returns itself.\n",
      " |  \n",
      " |  __xor__(self, value, /)\n",
      " |      Return self^value.\n",
      " |  \n",
      " |  bit_length(self, /)\n",
      " |      Number of bits necessary to represent self in binary.\n",
      " |      \n",
      " |      >>> bin(37)\n",
      " |      '0b100101'\n",
      " |      >>> (37).bit_length()\n",
      " |      6\n",
      " |  \n",
      " |  conjugate(...)\n",
      " |      Returns self, the complex conjugate of any int.\n",
      " |  \n",
      " |  to_bytes(self, /, length, byteorder, *, signed=False)\n",
      " |      Return an array of bytes representing an integer.\n",
      " |      \n",
      " |      length\n",
      " |        Length of bytes object to use.  An OverflowError is raised if the\n",
      " |        integer is not representable with the given number of bytes.\n",
      " |      byteorder\n",
      " |        The byte order used to represent the integer.  If byteorder is 'big',\n",
      " |        the most significant byte is at the beginning of the byte array.  If\n",
      " |        byteorder is 'little', the most significant byte is at the end of the\n",
      " |        byte array.  To request the native byte order of the host system, use\n",
      " |        `sys.byteorder' as the byte order value.\n",
      " |      signed\n",
      " |        Determines whether two's complement is used to represent the integer.\n",
      " |        If signed is False and a negative integer is given, an OverflowError\n",
      " |        is raised.\n",
      " |  \n",
      " |  ----------------------------------------------------------------------\n",
      " |  Class methods defined here:\n",
      " |  \n",
      " |  from_bytes(bytes, byteorder, *, signed=False) from builtins.type\n",
      " |      Return the integer represented by the given array of bytes.\n",
      " |      \n",
      " |      bytes\n",
      " |        Holds the array of bytes to convert.  The argument must either\n",
      " |        support the buffer protocol or be an iterable object producing bytes.\n",
      " |        Bytes and bytearray are examples of built-in objects that support the\n",
      " |        buffer protocol.\n",
      " |      byteorder\n",
      " |        The byte order used to represent the integer.  If byteorder is 'big',\n",
      " |        the most significant byte is at the beginning of the byte array.  If\n",
      " |        byteorder is 'little', the most significant byte is at the end of the\n",
      " |        byte array.  To request the native byte order of the host system, use\n",
      " |        `sys.byteorder' as the byte order value.\n",
      " |      signed\n",
      " |        Indicates whether two's complement is used to represent the integer.\n",
      " |  \n",
      " |  ----------------------------------------------------------------------\n",
      " |  Static methods defined here:\n",
      " |  \n",
      " |  __new__(*args, **kwargs) from builtins.type\n",
      " |      Create and return a new object.  See help(type) for accurate signature.\n",
      " |  \n",
      " |  ----------------------------------------------------------------------\n",
      " |  Data descriptors defined here:\n",
      " |  \n",
      " |  denominator\n",
      " |      the denominator of a rational number in lowest terms\n",
      " |  \n",
      " |  imag\n",
      " |      the imaginary part of a complex number\n",
      " |  \n",
      " |  numerator\n",
      " |      the numerator of a rational number in lowest terms\n",
      " |  \n",
      " |  real\n",
      " |      the real part of a complex number\n",
      "\n"
     ]
    }
   ],
   "source": [
    "help(int)"
   ]
  },
  {
   "cell_type": "code",
   "execution_count": 298,
   "metadata": {},
   "outputs": [],
   "source": [
    "def my_func(a, b=1):\n",
    "    # some comment here\n",
    "\n",
    "    '''returns a * b\n",
    "    some additional docs here\n",
    "    \n",
    "    Inputs:\n",
    "    \n",
    "    Outputs:\n",
    "    '''\n",
    "    return a * b"
   ]
  },
  {
   "cell_type": "code",
   "execution_count": 299,
   "metadata": {},
   "outputs": [
    {
     "name": "stdout",
     "output_type": "stream",
     "text": [
      "Help on function my_func in module __main__:\n",
      "\n",
      "my_func(a, b=1)\n",
      "    returns a * b\n",
      "    some additional docs here\n",
      "    \n",
      "    Inputs:\n",
      "    \n",
      "    Outputs:\n",
      "\n"
     ]
    }
   ],
   "source": [
    "help(my_func)"
   ]
  },
  {
   "cell_type": "code",
   "execution_count": 301,
   "metadata": {},
   "outputs": [
    {
     "data": {
      "text/plain": [
       "'returns a * b\\n    some additional docs here\\n    \\n    Inputs:\\n    \\n    Outputs:\\n    '"
      ]
     },
     "execution_count": 301,
     "metadata": {},
     "output_type": "execute_result"
    }
   ],
   "source": [
    "my_func.__doc__"
   ]
  },
  {
   "cell_type": "code",
   "execution_count": 304,
   "metadata": {},
   "outputs": [],
   "source": [
    "def my_func(a: 'annotation for a', \n",
    "            b: 'annotation for b' = 1) -> 'something with a long annotation':\n",
    "    '''Documentation for my_func'''\n",
    "    return a * b \n",
    "    "
   ]
  },
  {
   "cell_type": "code",
   "execution_count": 305,
   "metadata": {},
   "outputs": [
    {
     "name": "stdout",
     "output_type": "stream",
     "text": [
      "Help on function my_func in module __main__:\n",
      "\n",
      "my_func(a: 'annotation for a', b: 'annotation for b' = 1) -> 'something with a long annotation'\n",
      "    Documentation for my_func\n",
      "\n"
     ]
    }
   ],
   "source": [
    "help(my_func)"
   ]
  },
  {
   "cell_type": "code",
   "execution_count": 306,
   "metadata": {},
   "outputs": [
    {
     "data": {
      "text/plain": [
       "'Documentation for my_func'"
      ]
     },
     "execution_count": 306,
     "metadata": {},
     "output_type": "execute_result"
    }
   ],
   "source": [
    "my_func.__doc__"
   ]
  },
  {
   "cell_type": "code",
   "execution_count": 307,
   "metadata": {},
   "outputs": [
    {
     "data": {
      "text/plain": [
       "{'a': 'annotation for a',\n",
       " 'b': 'annotation for b',\n",
       " 'return': 'something with a long annotation'}"
      ]
     },
     "execution_count": 307,
     "metadata": {},
     "output_type": "execute_result"
    }
   ],
   "source": [
    "my_func.__annotations__"
   ]
  },
  {
   "cell_type": "code",
   "execution_count": 316,
   "metadata": {},
   "outputs": [],
   "source": [
    "x = 3\n",
    "y = 5\n",
    "def my_func(a: 'some character', b = max(x, y)) -> 'character a repeated '+ str(max(x,y))+' times':\n",
    "    print(b)\n",
    "    return a * max(x, y)"
   ]
  },
  {
   "cell_type": "code",
   "execution_count": 317,
   "metadata": {},
   "outputs": [
    {
     "name": "stdout",
     "output_type": "stream",
     "text": [
      "Help on function my_func in module __main__:\n",
      "\n",
      "my_func(a: 'some character', b=5) -> 'character a repeated 5 times'\n",
      "\n"
     ]
    }
   ],
   "source": [
    "help(my_func)"
   ]
  },
  {
   "cell_type": "code",
   "execution_count": 318,
   "metadata": {},
   "outputs": [
    {
     "name": "stdout",
     "output_type": "stream",
     "text": [
      "5\n"
     ]
    },
    {
     "data": {
      "text/plain": [
       "'aaaaa'"
      ]
     },
     "execution_count": 318,
     "metadata": {},
     "output_type": "execute_result"
    }
   ],
   "source": [
    "my_func('a')"
   ]
  },
  {
   "cell_type": "code",
   "execution_count": 319,
   "metadata": {},
   "outputs": [
    {
     "data": {
      "text/plain": [
       "{'a': 'some character', 'return': 'character a repeated 5 times'}"
      ]
     },
     "execution_count": 319,
     "metadata": {},
     "output_type": "execute_result"
    }
   ],
   "source": [
    "my_func.__annotations__"
   ]
  },
  {
   "cell_type": "code",
   "execution_count": 320,
   "metadata": {},
   "outputs": [],
   "source": [
    "my_func.__doc__"
   ]
  },
  {
   "cell_type": "code",
   "execution_count": 321,
   "metadata": {},
   "outputs": [],
   "source": [
    "x = 10"
   ]
  },
  {
   "cell_type": "code",
   "execution_count": 322,
   "metadata": {},
   "outputs": [
    {
     "name": "stdout",
     "output_type": "stream",
     "text": [
      "5\n"
     ]
    },
    {
     "data": {
      "text/plain": [
       "'aaaaaaaaaa'"
      ]
     },
     "execution_count": 322,
     "metadata": {},
     "output_type": "execute_result"
    }
   ],
   "source": [
    "my_func('a')"
   ]
  },
  {
   "cell_type": "code",
   "execution_count": 323,
   "metadata": {},
   "outputs": [
    {
     "data": {
      "text/plain": [
       "{'a': 'some character', 'return': 'character a repeated 5 times'}"
      ]
     },
     "execution_count": 323,
     "metadata": {},
     "output_type": "execute_result"
    }
   ],
   "source": [
    "my_func.__annotations__"
   ]
  },
  {
   "cell_type": "code",
   "execution_count": 324,
   "metadata": {},
   "outputs": [
    {
     "name": "stdout",
     "output_type": "stream",
     "text": [
      "Help on function my_func in module __main__:\n",
      "\n",
      "my_func(a: 'some character', b=5) -> 'character a repeated 5 times'\n",
      "\n"
     ]
    }
   ],
   "source": [
    "help(my_func)"
   ]
  },
  {
   "cell_type": "code",
   "execution_count": 326,
   "metadata": {},
   "outputs": [],
   "source": [
    "def my_func(a: str,\n",
    "           b: 'int > 0' = 1,\n",
    "           *args: 'some extra positional args',\n",
    "           k1: 'keyword-only argument 1',\n",
    "           k2: 'keyword-only argument 2' = 100,\n",
    "           **kwargs: 'some extra keyword-only args') -> 'something':\n",
    "    print(a, b, args, k1, k2, kwargs)"
   ]
  },
  {
   "cell_type": "code",
   "execution_count": 327,
   "metadata": {},
   "outputs": [
    {
     "name": "stdout",
     "output_type": "stream",
     "text": [
      "Help on function my_func in module __main__:\n",
      "\n",
      "my_func(a: str, b: 'int > 0' = 1, *args: 'some extra positional args', k1: 'keyword-only argument 1', k2: 'keyword-only argument 2' = 100, **kwargs: 'some extra keyword-only args') -> 'something'\n",
      "\n"
     ]
    }
   ],
   "source": [
    "help(my_func)"
   ]
  },
  {
   "cell_type": "code",
   "execution_count": 328,
   "metadata": {},
   "outputs": [
    {
     "data": {
      "text/plain": [
       "{'a': str,\n",
       " 'b': 'int > 0',\n",
       " 'args': 'some extra positional args',\n",
       " 'k1': 'keyword-only argument 1',\n",
       " 'k2': 'keyword-only argument 2',\n",
       " 'kwargs': 'some extra keyword-only args',\n",
       " 'return': 'something'}"
      ]
     },
     "execution_count": 328,
     "metadata": {},
     "output_type": "execute_result"
    }
   ],
   "source": [
    "my_func.__annotations__"
   ]
  },
  {
   "cell_type": "code",
   "execution_count": 329,
   "metadata": {},
   "outputs": [
    {
     "name": "stdout",
     "output_type": "stream",
     "text": [
      "1 2 (3, 4, 5) 10 100 {'k3': 300, 'k4': 400}\n"
     ]
    }
   ],
   "source": [
    "my_func(1, 2, 3, 4, 5, k1 = 10, k3 = 300, k4 = 400)"
   ]
  },
  {
   "cell_type": "code",
   "execution_count": 330,
   "metadata": {},
   "outputs": [
    {
     "name": "stdout",
     "output_type": "stream",
     "text": [
      "1 2 (3, 4, 5) 10 100 {'k3': 300, 'k4': 400}\n"
     ]
    }
   ],
   "source": [
    "a = my_func(1, 2, 3, 4, 5, k1 = 10, k3 = 300, k4 = 400)"
   ]
  },
  {
   "cell_type": "code",
   "execution_count": 331,
   "metadata": {},
   "outputs": [
    {
     "ename": "SyntaxError",
     "evalue": "invalid syntax (<ipython-input-331-57e2a59d8f90>, line 1)",
     "output_type": "error",
     "traceback": [
      "\u001b[1;36m  File \u001b[1;32m\"<ipython-input-331-57e2a59d8f90>\"\u001b[1;36m, line \u001b[1;32m1\u001b[0m\n\u001b[1;33m    **a\u001b[0m\n\u001b[1;37m     ^\u001b[0m\n\u001b[1;31mSyntaxError\u001b[0m\u001b[1;31m:\u001b[0m invalid syntax\n"
     ]
    }
   ],
   "source": [
    "**a"
   ]
  },
  {
   "cell_type": "code",
   "execution_count": 332,
   "metadata": {},
   "outputs": [
    {
     "ename": "SyntaxError",
     "evalue": "can't use starred expression here (<ipython-input-332-b252d56222c4>, line 4)",
     "output_type": "error",
     "traceback": [
      "\u001b[1;36m  File \u001b[1;32m\"<ipython-input-332-b252d56222c4>\"\u001b[1;36m, line \u001b[1;32m4\u001b[0m\n\u001b[1;31mSyntaxError\u001b[0m\u001b[1;31m:\u001b[0m can't use starred expression here\n"
     ]
    }
   ],
   "source": [
    "*a"
   ]
  },
  {
   "cell_type": "code",
   "execution_count": 333,
   "metadata": {},
   "outputs": [
    {
     "ename": "SyntaxError",
     "evalue": "can't use starred expression here (<ipython-input-333-ae6bab21d242>, line 4)",
     "output_type": "error",
     "traceback": [
      "\u001b[1;36m  File \u001b[1;32m\"<ipython-input-333-ae6bab21d242>\"\u001b[1;36m, line \u001b[1;32m4\u001b[0m\n\u001b[1;31mSyntaxError\u001b[0m\u001b[1;31m:\u001b[0m can't use starred expression here\n"
     ]
    }
   ],
   "source": [
    "b = *a"
   ]
  },
  {
   "cell_type": "code",
   "execution_count": 334,
   "metadata": {},
   "outputs": [
    {
     "ename": "SyntaxError",
     "evalue": "invalid syntax (<ipython-input-334-b98716754ce3>, line 1)",
     "output_type": "error",
     "traceback": [
      "\u001b[1;36m  File \u001b[1;32m\"<ipython-input-334-b98716754ce3>\"\u001b[1;36m, line \u001b[1;32m1\u001b[0m\n\u001b[1;33m    b = **a\u001b[0m\n\u001b[1;37m         ^\u001b[0m\n\u001b[1;31mSyntaxError\u001b[0m\u001b[1;31m:\u001b[0m invalid syntax\n"
     ]
    }
   ],
   "source": [
    "b = **a"
   ]
  },
  {
   "cell_type": "code",
   "execution_count": 337,
   "metadata": {},
   "outputs": [
    {
     "data": {
      "text/plain": [
       "<function __main__.<lambda>(x)>"
      ]
     },
     "execution_count": 337,
     "metadata": {},
     "output_type": "execute_result"
    }
   ],
   "source": [
    "lambda x: x**2"
   ]
  },
  {
   "cell_type": "code",
   "execution_count": 338,
   "metadata": {},
   "outputs": [
    {
     "data": {
      "text/plain": [
       "<function __main__.<lambda>(x, y)>"
      ]
     },
     "execution_count": 338,
     "metadata": {},
     "output_type": "execute_result"
    }
   ],
   "source": [
    "lambda x, y: x + y"
   ]
  },
  {
   "cell_type": "code",
   "execution_count": 343,
   "metadata": {},
   "outputs": [
    {
     "data": {
      "text/plain": [
       "<function __main__.<lambda>()>"
      ]
     },
     "execution_count": 343,
     "metadata": {},
     "output_type": "execute_result"
    }
   ],
   "source": [
    "lambda: 'hello'"
   ]
  },
  {
   "cell_type": "code",
   "execution_count": 344,
   "metadata": {},
   "outputs": [
    {
     "data": {
      "text/plain": [
       "<function __main__.<lambda>(s)>"
      ]
     },
     "execution_count": 344,
     "metadata": {},
     "output_type": "execute_result"
    }
   ],
   "source": [
    "lambda s: s[::-1].upper()"
   ]
  },
  {
   "cell_type": "code",
   "execution_count": 345,
   "metadata": {},
   "outputs": [
    {
     "data": {
      "text/plain": [
       "function"
      ]
     },
     "execution_count": 345,
     "metadata": {},
     "output_type": "execute_result"
    }
   ],
   "source": [
    "type(lambda x: x**2)"
   ]
  },
  {
   "cell_type": "code",
   "execution_count": 347,
   "metadata": {},
   "outputs": [],
   "source": [
    "my_func = lambda x: x**2"
   ]
  },
  {
   "cell_type": "code",
   "execution_count": 348,
   "metadata": {},
   "outputs": [
    {
     "data": {
      "text/plain": [
       "function"
      ]
     },
     "execution_count": 348,
     "metadata": {},
     "output_type": "execute_result"
    }
   ],
   "source": [
    "type(my_func)"
   ]
  },
  {
   "cell_type": "code",
   "execution_count": 349,
   "metadata": {},
   "outputs": [
    {
     "data": {
      "text/plain": [
       "9"
      ]
     },
     "execution_count": 349,
     "metadata": {},
     "output_type": "execute_result"
    }
   ],
   "source": [
    "my_func(3)"
   ]
  },
  {
   "cell_type": "code",
   "execution_count": 350,
   "metadata": {},
   "outputs": [
    {
     "data": {
      "text/plain": [
       "9"
      ]
     },
     "execution_count": 350,
     "metadata": {},
     "output_type": "execute_result"
    }
   ],
   "source": [
    "def apply_func(x, fn):\n",
    "    return fn(x)\n",
    "\n",
    "apply_func(3, lambda x: x**2)"
   ]
  },
  {
   "cell_type": "code",
   "execution_count": 351,
   "metadata": {},
   "outputs": [
    {
     "data": {
      "text/plain": [
       "7"
      ]
     },
     "execution_count": 351,
     "metadata": {},
     "output_type": "execute_result"
    }
   ],
   "source": [
    "apply_func(2, lambda x: x + 5)"
   ]
  },
  {
   "cell_type": "code",
   "execution_count": 352,
   "metadata": {},
   "outputs": [
    {
     "data": {
      "text/plain": [
       "'bcbcbc'"
      ]
     },
     "execution_count": 352,
     "metadata": {},
     "output_type": "execute_result"
    }
   ],
   "source": [
    "apply_func('abc', lambda x: x[1:] * 3)"
   ]
  },
  {
   "cell_type": "code",
   "execution_count": 353,
   "metadata": {},
   "outputs": [
    {
     "data": {
      "text/plain": [
       "'bcbcbc'"
      ]
     },
     "execution_count": 353,
     "metadata": {},
     "output_type": "execute_result"
    }
   ],
   "source": [
    "def fn_1(x):\n",
    "    return x[1:] * 3\n",
    "\n",
    "apply_func('abc', fn_1)"
   ]
  },
  {
   "cell_type": "code",
   "execution_count": 354,
   "metadata": {},
   "outputs": [
    {
     "ename": "SyntaxError",
     "evalue": "can't assign to lambda (<ipython-input-354-5e3180255de7>, line 1)",
     "output_type": "error",
     "traceback": [
      "\u001b[1;36m  File \u001b[1;32m\"<ipython-input-354-5e3180255de7>\"\u001b[1;36m, line \u001b[1;32m1\u001b[0m\n\u001b[1;33m    lambda x: x = 5\u001b[0m\n\u001b[1;37m                   ^\u001b[0m\n\u001b[1;31mSyntaxError\u001b[0m\u001b[1;31m:\u001b[0m can't assign to lambda\n"
     ]
    }
   ],
   "source": [
    "lambda x: x = 5"
   ]
  },
  {
   "cell_type": "code",
   "execution_count": 355,
   "metadata": {},
   "outputs": [
    {
     "ename": "SyntaxError",
     "evalue": "can't assign to lambda (<ipython-input-355-4686b31daddb>, line 1)",
     "output_type": "error",
     "traceback": [
      "\u001b[1;36m  File \u001b[1;32m\"<ipython-input-355-4686b31daddb>\"\u001b[1;36m, line \u001b[1;32m1\u001b[0m\n\u001b[1;33m    lambda x: x = x + 5\u001b[0m\n\u001b[1;37m                       ^\u001b[0m\n\u001b[1;31mSyntaxError\u001b[0m\u001b[1;31m:\u001b[0m can't assign to lambda\n"
     ]
    }
   ],
   "source": [
    "lambda x: x = x + 5"
   ]
  },
  {
   "cell_type": "code",
   "execution_count": 356,
   "metadata": {},
   "outputs": [],
   "source": [
    "def func(X: int):\n",
    "    return X**2"
   ]
  },
  {
   "cell_type": "code",
   "execution_count": 357,
   "metadata": {},
   "outputs": [
    {
     "ename": "SyntaxError",
     "evalue": "illegal target for annotation (<ipython-input-357-9f293cb41b46>, line 1)",
     "output_type": "error",
     "traceback": [
      "\u001b[1;36m  File \u001b[1;32m\"<ipython-input-357-9f293cb41b46>\"\u001b[1;36m, line \u001b[1;32m1\u001b[0m\n\u001b[1;33m    lambda x:int : x*2\u001b[0m\n\u001b[1;37m                      ^\u001b[0m\n\u001b[1;31mSyntaxError\u001b[0m\u001b[1;31m:\u001b[0m illegal target for annotation\n"
     ]
    }
   ],
   "source": [
    "lambda x:int : x*2"
   ]
  },
  {
   "cell_type": "code",
   "execution_count": 358,
   "metadata": {},
   "outputs": [
    {
     "data": {
      "text/plain": [
       "<function __main__.<lambda>(x)>"
      ]
     },
     "execution_count": 358,
     "metadata": {},
     "output_type": "execute_result"
    }
   ],
   "source": [
    "lambda x: x * \\\n",
    "math.sin(x)"
   ]
  },
  {
   "cell_type": "code",
   "execution_count": 359,
   "metadata": {},
   "outputs": [],
   "source": [
    "def sq(x):\n",
    "    return x**2"
   ]
  },
  {
   "cell_type": "code",
   "execution_count": 360,
   "metadata": {},
   "outputs": [
    {
     "data": {
      "text/plain": [
       "function"
      ]
     },
     "execution_count": 360,
     "metadata": {},
     "output_type": "execute_result"
    }
   ],
   "source": [
    "type(sq)"
   ]
  },
  {
   "cell_type": "code",
   "execution_count": 361,
   "metadata": {},
   "outputs": [
    {
     "data": {
      "text/plain": [
       "<function __main__.sq(x)>"
      ]
     },
     "execution_count": 361,
     "metadata": {},
     "output_type": "execute_result"
    }
   ],
   "source": [
    "sq"
   ]
  },
  {
   "cell_type": "code",
   "execution_count": 362,
   "metadata": {},
   "outputs": [
    {
     "data": {
      "text/plain": [
       "<function __main__.<lambda>(x)>"
      ]
     },
     "execution_count": 362,
     "metadata": {},
     "output_type": "execute_result"
    }
   ],
   "source": [
    "lambda x: x**2"
   ]
  },
  {
   "cell_type": "code",
   "execution_count": 363,
   "metadata": {},
   "outputs": [
    {
     "data": {
      "text/plain": [
       "<function __main__.<lambda>(x, y)>"
      ]
     },
     "execution_count": 363,
     "metadata": {},
     "output_type": "execute_result"
    }
   ],
   "source": [
    "lambda x, y: x+y"
   ]
  },
  {
   "cell_type": "code",
   "execution_count": 364,
   "metadata": {},
   "outputs": [],
   "source": [
    "f = sq"
   ]
  },
  {
   "cell_type": "code",
   "execution_count": 365,
   "metadata": {},
   "outputs": [
    {
     "data": {
      "text/plain": [
       "2538653187672"
      ]
     },
     "execution_count": 365,
     "metadata": {},
     "output_type": "execute_result"
    }
   ],
   "source": [
    "id(f)"
   ]
  },
  {
   "cell_type": "code",
   "execution_count": 366,
   "metadata": {},
   "outputs": [
    {
     "data": {
      "text/plain": [
       "2538653187672"
      ]
     },
     "execution_count": 366,
     "metadata": {},
     "output_type": "execute_result"
    }
   ],
   "source": [
    "id(sq)"
   ]
  },
  {
   "cell_type": "code",
   "execution_count": 367,
   "metadata": {},
   "outputs": [
    {
     "data": {
      "text/plain": [
       "9"
      ]
     },
     "execution_count": 367,
     "metadata": {},
     "output_type": "execute_result"
    }
   ],
   "source": [
    "f(3)"
   ]
  },
  {
   "cell_type": "code",
   "execution_count": 368,
   "metadata": {},
   "outputs": [
    {
     "data": {
      "text/plain": [
       "<function __main__.sq(x)>"
      ]
     },
     "execution_count": 368,
     "metadata": {},
     "output_type": "execute_result"
    }
   ],
   "source": [
    "f"
   ]
  },
  {
   "cell_type": "code",
   "execution_count": 369,
   "metadata": {},
   "outputs": [],
   "source": [
    "f = lambda x: x**2"
   ]
  },
  {
   "cell_type": "code",
   "execution_count": 370,
   "metadata": {},
   "outputs": [
    {
     "data": {
      "text/plain": [
       "<function __main__.<lambda>(x)>"
      ]
     },
     "execution_count": 370,
     "metadata": {},
     "output_type": "execute_result"
    }
   ],
   "source": [
    "f"
   ]
  },
  {
   "cell_type": "code",
   "execution_count": 371,
   "metadata": {},
   "outputs": [
    {
     "data": {
      "text/plain": [
       "2538618172328"
      ]
     },
     "execution_count": 371,
     "metadata": {},
     "output_type": "execute_result"
    }
   ],
   "source": [
    "id(f)"
   ]
  },
  {
   "cell_type": "code",
   "execution_count": 373,
   "metadata": {},
   "outputs": [],
   "source": [
    "g = lambda y: y**3"
   ]
  },
  {
   "cell_type": "code",
   "execution_count": 374,
   "metadata": {},
   "outputs": [
    {
     "data": {
      "text/plain": [
       "2538618172616"
      ]
     },
     "execution_count": 374,
     "metadata": {},
     "output_type": "execute_result"
    }
   ],
   "source": [
    "id(g)"
   ]
  },
  {
   "cell_type": "code",
   "execution_count": 375,
   "metadata": {},
   "outputs": [
    {
     "data": {
      "text/plain": [
       "2538618172328"
      ]
     },
     "execution_count": 375,
     "metadata": {},
     "output_type": "execute_result"
    }
   ],
   "source": [
    "id(f)"
   ]
  },
  {
   "cell_type": "code",
   "execution_count": 376,
   "metadata": {},
   "outputs": [],
   "source": [
    "g = lambda x, y =10: x+y"
   ]
  },
  {
   "cell_type": "code",
   "execution_count": 377,
   "metadata": {},
   "outputs": [
    {
     "data": {
      "text/plain": [
       "<function __main__.<lambda>(x, y=10)>"
      ]
     },
     "execution_count": 377,
     "metadata": {},
     "output_type": "execute_result"
    }
   ],
   "source": [
    "g"
   ]
  },
  {
   "cell_type": "code",
   "execution_count": 378,
   "metadata": {},
   "outputs": [
    {
     "data": {
      "text/plain": [
       "3"
      ]
     },
     "execution_count": 378,
     "metadata": {},
     "output_type": "execute_result"
    }
   ],
   "source": [
    "g(1, 2)"
   ]
  },
  {
   "cell_type": "code",
   "execution_count": 379,
   "metadata": {},
   "outputs": [
    {
     "data": {
      "text/plain": [
       "11"
      ]
     },
     "execution_count": 379,
     "metadata": {},
     "output_type": "execute_result"
    }
   ],
   "source": [
    "g(1)"
   ]
  },
  {
   "cell_type": "code",
   "execution_count": 385,
   "metadata": {},
   "outputs": [],
   "source": [
    "f = lambda x, *args, y, **kwargs: (x, args, y, kwargs)"
   ]
  },
  {
   "cell_type": "code",
   "execution_count": 386,
   "metadata": {},
   "outputs": [
    {
     "data": {
      "text/plain": [
       "(1, (2, 3, 4, 5), 6, {'n': 7, 'm': 8, 'o': 9})"
      ]
     },
     "execution_count": 386,
     "metadata": {},
     "output_type": "execute_result"
    }
   ],
   "source": [
    "f(1, 2, 3, 4, 5, y=6, n=7, m=8, o=9)"
   ]
  },
  {
   "cell_type": "code",
   "execution_count": 387,
   "metadata": {},
   "outputs": [
    {
     "data": {
      "text/plain": [
       "(1, ('a', 'b'), 100, {'a': 10, 'b': 20})"
      ]
     },
     "execution_count": 387,
     "metadata": {},
     "output_type": "execute_result"
    }
   ],
   "source": [
    "f(1, 'a', 'b', y = 100, a=10, b = 20)"
   ]
  },
  {
   "cell_type": "code",
   "execution_count": 389,
   "metadata": {},
   "outputs": [],
   "source": [
    "def apply_func(x, fn):\n",
    "    return fn(x)"
   ]
  },
  {
   "cell_type": "code",
   "execution_count": 390,
   "metadata": {},
   "outputs": [
    {
     "data": {
      "text/plain": [
       "9"
      ]
     },
     "execution_count": 390,
     "metadata": {},
     "output_type": "execute_result"
    }
   ],
   "source": [
    "apply_func(3, sq)"
   ]
  },
  {
   "cell_type": "code",
   "execution_count": 391,
   "metadata": {},
   "outputs": [
    {
     "data": {
      "text/plain": [
       "25"
      ]
     },
     "execution_count": 391,
     "metadata": {},
     "output_type": "execute_result"
    }
   ],
   "source": [
    "apply_func(5, lambda x: x**2)"
   ]
  },
  {
   "cell_type": "code",
   "execution_count": 392,
   "metadata": {},
   "outputs": [
    {
     "data": {
      "text/plain": [
       "125"
      ]
     },
     "execution_count": 392,
     "metadata": {},
     "output_type": "execute_result"
    }
   ],
   "source": [
    "apply_func(5, lambda x: x**3)"
   ]
  },
  {
   "cell_type": "code",
   "execution_count": 393,
   "metadata": {},
   "outputs": [],
   "source": [
    "def apply_func(fn, *args, **kwargs):\n",
    "    return fn(*args, **kwargs)"
   ]
  },
  {
   "cell_type": "code",
   "execution_count": 394,
   "metadata": {},
   "outputs": [
    {
     "data": {
      "text/plain": [
       "9"
      ]
     },
     "execution_count": 394,
     "metadata": {},
     "output_type": "execute_result"
    }
   ],
   "source": [
    "apply_func(sq, 3)"
   ]
  },
  {
   "cell_type": "code",
   "execution_count": 396,
   "metadata": {},
   "outputs": [
    {
     "data": {
      "text/plain": [
       "9"
      ]
     },
     "execution_count": 396,
     "metadata": {},
     "output_type": "execute_result"
    }
   ],
   "source": [
    "apply_func(lambda x: x**2, 3)"
   ]
  },
  {
   "cell_type": "code",
   "execution_count": 397,
   "metadata": {},
   "outputs": [
    {
     "data": {
      "text/plain": [
       "3"
      ]
     },
     "execution_count": 397,
     "metadata": {},
     "output_type": "execute_result"
    }
   ],
   "source": [
    "apply_func(lambda x, y: x+y, 1, 2)"
   ]
  },
  {
   "cell_type": "code",
   "execution_count": 400,
   "metadata": {},
   "outputs": [
    {
     "data": {
      "text/plain": [
       "21"
      ]
     },
     "execution_count": 400,
     "metadata": {},
     "output_type": "execute_result"
    }
   ],
   "source": [
    "apply_func(lambda x, *, y: x+y, 1, y = 20)"
   ]
  },
  {
   "cell_type": "code",
   "execution_count": 401,
   "metadata": {},
   "outputs": [
    {
     "data": {
      "text/plain": [
       "15"
      ]
     },
     "execution_count": 401,
     "metadata": {},
     "output_type": "execute_result"
    }
   ],
   "source": [
    "apply_func(lambda *args: sum(args), 1, 2, 3, 4, 5)"
   ]
  },
  {
   "cell_type": "code",
   "execution_count": 403,
   "metadata": {},
   "outputs": [
    {
     "data": {
      "text/plain": [
       "15"
      ]
     },
     "execution_count": 403,
     "metadata": {},
     "output_type": "execute_result"
    }
   ],
   "source": [
    "apply_func(sum, (1, 2, 3, 4, 5))"
   ]
  },
  {
   "cell_type": "code",
   "execution_count": 404,
   "metadata": {},
   "outputs": [
    {
     "name": "stdout",
     "output_type": "stream",
     "text": [
      "Help on built-in function sorted in module builtins:\n",
      "\n",
      "sorted(iterable, /, *, key=None, reverse=False)\n",
      "    Return a new list containing all items from the iterable in ascending order.\n",
      "    \n",
      "    A custom key function can be supplied to customize the sort order, and the\n",
      "    reverse flag can be set to request the result in descending order.\n",
      "\n"
     ]
    }
   ],
   "source": [
    "help(sorted)"
   ]
  },
  {
   "cell_type": "code",
   "execution_count": 405,
   "metadata": {},
   "outputs": [],
   "source": [
    "l = [1, 5, 4, 10, 9, 6]"
   ]
  },
  {
   "cell_type": "code",
   "execution_count": 406,
   "metadata": {},
   "outputs": [
    {
     "ename": "NameError",
     "evalue": "name 'sort9l' is not defined",
     "output_type": "error",
     "traceback": [
      "\u001b[1;31m---------------------------------------------------------------------------\u001b[0m",
      "\u001b[1;31mNameError\u001b[0m                                 Traceback (most recent call last)",
      "\u001b[1;32m<ipython-input-406-a42f742048e4>\u001b[0m in \u001b[0;36m<module>\u001b[1;34m\u001b[0m\n\u001b[1;32m----> 1\u001b[1;33m \u001b[0msort9l\u001b[0m\u001b[1;33m\u001b[0m\u001b[1;33m\u001b[0m\u001b[0m\n\u001b[0m",
      "\u001b[1;31mNameError\u001b[0m: name 'sort9l' is not defined"
     ]
    }
   ],
   "source": [
    "sort9l"
   ]
  },
  {
   "cell_type": "code",
   "execution_count": 407,
   "metadata": {},
   "outputs": [
    {
     "ename": "NameError",
     "evalue": "name 'sort' is not defined",
     "output_type": "error",
     "traceback": [
      "\u001b[1;31m---------------------------------------------------------------------------\u001b[0m",
      "\u001b[1;31mNameError\u001b[0m                                 Traceback (most recent call last)",
      "\u001b[1;32m<ipython-input-407-cf8a3a09ad64>\u001b[0m in \u001b[0;36m<module>\u001b[1;34m\u001b[0m\n\u001b[1;32m----> 1\u001b[1;33m \u001b[0msort\u001b[0m\u001b[1;33m(\u001b[0m\u001b[0ml\u001b[0m\u001b[1;33m)\u001b[0m\u001b[1;33m\u001b[0m\u001b[1;33m\u001b[0m\u001b[0m\n\u001b[0m",
      "\u001b[1;31mNameError\u001b[0m: name 'sort' is not defined"
     ]
    }
   ],
   "source": [
    "sort(l)"
   ]
  },
  {
   "cell_type": "code",
   "execution_count": 408,
   "metadata": {},
   "outputs": [
    {
     "data": {
      "text/plain": [
       "[1, 4, 5, 6, 9, 10]"
      ]
     },
     "execution_count": 408,
     "metadata": {},
     "output_type": "execute_result"
    }
   ],
   "source": [
    "sorted(l)"
   ]
  },
  {
   "cell_type": "code",
   "execution_count": 409,
   "metadata": {},
   "outputs": [],
   "source": [
    "l = ['c', 'B', 'D', 'a']"
   ]
  },
  {
   "cell_type": "code",
   "execution_count": 410,
   "metadata": {},
   "outputs": [
    {
     "data": {
      "text/plain": [
       "['B', 'D', 'a', 'c']"
      ]
     },
     "execution_count": 410,
     "metadata": {},
     "output_type": "execute_result"
    }
   ],
   "source": [
    "sorted(l)"
   ]
  },
  {
   "cell_type": "code",
   "execution_count": 411,
   "metadata": {},
   "outputs": [
    {
     "ename": "TypeError",
     "evalue": "ord() expected string of length 1, but list found",
     "output_type": "error",
     "traceback": [
      "\u001b[1;31m---------------------------------------------------------------------------\u001b[0m",
      "\u001b[1;31mTypeError\u001b[0m                                 Traceback (most recent call last)",
      "\u001b[1;32m<ipython-input-411-524c10b756f2>\u001b[0m in \u001b[0;36m<module>\u001b[1;34m\u001b[0m\n\u001b[1;32m----> 1\u001b[1;33m \u001b[0mord\u001b[0m\u001b[1;33m(\u001b[0m\u001b[0ml\u001b[0m\u001b[1;33m)\u001b[0m\u001b[1;33m\u001b[0m\u001b[1;33m\u001b[0m\u001b[0m\n\u001b[0m",
      "\u001b[1;31mTypeError\u001b[0m: ord() expected string of length 1, but list found"
     ]
    }
   ],
   "source": [
    "ord(l)"
   ]
  },
  {
   "cell_type": "code",
   "execution_count": 412,
   "metadata": {},
   "outputs": [
    {
     "data": {
      "text/plain": [
       "97"
      ]
     },
     "execution_count": 412,
     "metadata": {},
     "output_type": "execute_result"
    }
   ],
   "source": [
    "ord('a')"
   ]
  },
  {
   "cell_type": "code",
   "execution_count": 413,
   "metadata": {},
   "outputs": [
    {
     "data": {
      "text/plain": [
       "66"
      ]
     },
     "execution_count": 413,
     "metadata": {},
     "output_type": "execute_result"
    }
   ],
   "source": [
    "ord('B')"
   ]
  },
  {
   "cell_type": "code",
   "execution_count": 414,
   "metadata": {},
   "outputs": [
    {
     "data": {
      "text/plain": [
       "65"
      ]
     },
     "execution_count": 414,
     "metadata": {},
     "output_type": "execute_result"
    }
   ],
   "source": [
    "ord('A')"
   ]
  },
  {
   "cell_type": "code",
   "execution_count": 415,
   "metadata": {},
   "outputs": [
    {
     "ename": "TypeError",
     "evalue": "ord() expected string of length 1, but int found",
     "output_type": "error",
     "traceback": [
      "\u001b[1;31m---------------------------------------------------------------------------\u001b[0m",
      "\u001b[1;31mTypeError\u001b[0m                                 Traceback (most recent call last)",
      "\u001b[1;32m<ipython-input-415-77e5aeef42fb>\u001b[0m in \u001b[0;36m<module>\u001b[1;34m\u001b[0m\n\u001b[1;32m----> 1\u001b[1;33m \u001b[0mord\u001b[0m\u001b[1;33m(\u001b[0m\u001b[1;36m1\u001b[0m\u001b[1;33m)\u001b[0m\u001b[1;33m\u001b[0m\u001b[1;33m\u001b[0m\u001b[0m\n\u001b[0m",
      "\u001b[1;31mTypeError\u001b[0m: ord() expected string of length 1, but int found"
     ]
    }
   ],
   "source": [
    "ord(1)"
   ]
  },
  {
   "cell_type": "code",
   "execution_count": 416,
   "metadata": {},
   "outputs": [
    {
     "data": {
      "text/plain": [
       "49"
      ]
     },
     "execution_count": 416,
     "metadata": {},
     "output_type": "execute_result"
    }
   ],
   "source": [
    "ord('1')"
   ]
  },
  {
   "cell_type": "code",
   "execution_count": 417,
   "metadata": {},
   "outputs": [
    {
     "data": {
      "text/plain": [
       "48"
      ]
     },
     "execution_count": 417,
     "metadata": {},
     "output_type": "execute_result"
    }
   ],
   "source": [
    "ord('0')"
   ]
  },
  {
   "cell_type": "code",
   "execution_count": 418,
   "metadata": {},
   "outputs": [
    {
     "data": {
      "text/plain": [
       "33"
      ]
     },
     "execution_count": 418,
     "metadata": {},
     "output_type": "execute_result"
    }
   ],
   "source": [
    "ord('!')"
   ]
  },
  {
   "cell_type": "code",
   "execution_count": 419,
   "metadata": {},
   "outputs": [
    {
     "data": {
      "text/plain": [
       "96"
      ]
     },
     "execution_count": 419,
     "metadata": {},
     "output_type": "execute_result"
    }
   ],
   "source": [
    "ord('`')"
   ]
  },
  {
   "cell_type": "code",
   "execution_count": 420,
   "metadata": {},
   "outputs": [
    {
     "data": {
      "text/plain": [
       "46"
      ]
     },
     "execution_count": 420,
     "metadata": {},
     "output_type": "execute_result"
    }
   ],
   "source": [
    "ord('.')"
   ]
  },
  {
   "cell_type": "code",
   "execution_count": 422,
   "metadata": {},
   "outputs": [
    {
     "data": {
      "text/plain": [
       "['a', 'B', 'c', 'D']"
      ]
     },
     "execution_count": 422,
     "metadata": {},
     "output_type": "execute_result"
    }
   ],
   "source": [
    "sorted(l, key=lambda s: s.upper())"
   ]
  },
  {
   "cell_type": "code",
   "execution_count": 423,
   "metadata": {},
   "outputs": [],
   "source": [
    "d = {'def': 300, 'abc': 200, 'ghi': 100}"
   ]
  },
  {
   "cell_type": "code",
   "execution_count": 424,
   "metadata": {},
   "outputs": [
    {
     "data": {
      "text/plain": [
       "{'def': 300, 'abc': 200, 'ghi': 100}"
      ]
     },
     "execution_count": 424,
     "metadata": {},
     "output_type": "execute_result"
    }
   ],
   "source": [
    "d"
   ]
  },
  {
   "cell_type": "code",
   "execution_count": 425,
   "metadata": {},
   "outputs": [
    {
     "name": "stdout",
     "output_type": "stream",
     "text": [
      "def\n",
      "abc\n",
      "ghi\n"
     ]
    }
   ],
   "source": [
    "for e in d:\n",
    "    print(e)"
   ]
  },
  {
   "cell_type": "code",
   "execution_count": 426,
   "metadata": {},
   "outputs": [
    {
     "data": {
      "text/plain": [
       "['abc', 'def', 'ghi']"
      ]
     },
     "execution_count": 426,
     "metadata": {},
     "output_type": "execute_result"
    }
   ],
   "source": [
    "sorted(d)"
   ]
  },
  {
   "cell_type": "code",
   "execution_count": 434,
   "metadata": {},
   "outputs": [
    {
     "data": {
      "text/plain": [
       "['ghi', 'abc', 'def']"
      ]
     },
     "execution_count": 434,
     "metadata": {},
     "output_type": "execute_result"
    }
   ],
   "source": [
    "sorted(d, key=lambda e: d[e])"
   ]
  },
  {
   "cell_type": "code",
   "execution_count": 435,
   "metadata": {},
   "outputs": [],
   "source": [
    "def dist_sq(x):\n",
    "    return (x.real)**2 + (x.imag)**2"
   ]
  },
  {
   "cell_type": "code",
   "execution_count": 436,
   "metadata": {},
   "outputs": [
    {
     "data": {
      "text/plain": [
       "2.0"
      ]
     },
     "execution_count": 436,
     "metadata": {},
     "output_type": "execute_result"
    }
   ],
   "source": [
    "dist_sq(1 + 1j)"
   ]
  },
  {
   "cell_type": "code",
   "execution_count": 437,
   "metadata": {},
   "outputs": [],
   "source": [
    "l = [3+3j, 1-1j, 0, 3+0j]"
   ]
  },
  {
   "cell_type": "code",
   "execution_count": 438,
   "metadata": {},
   "outputs": [
    {
     "ename": "TypeError",
     "evalue": "'<' not supported between instances of 'complex' and 'complex'",
     "output_type": "error",
     "traceback": [
      "\u001b[1;31m---------------------------------------------------------------------------\u001b[0m",
      "\u001b[1;31mTypeError\u001b[0m                                 Traceback (most recent call last)",
      "\u001b[1;32m<ipython-input-438-04dc31ea0310>\u001b[0m in \u001b[0;36m<module>\u001b[1;34m\u001b[0m\n\u001b[1;32m----> 1\u001b[1;33m \u001b[0msorted\u001b[0m\u001b[1;33m(\u001b[0m\u001b[0ml\u001b[0m\u001b[1;33m)\u001b[0m\u001b[1;33m\u001b[0m\u001b[1;33m\u001b[0m\u001b[0m\n\u001b[0m",
      "\u001b[1;31mTypeError\u001b[0m: '<' not supported between instances of 'complex' and 'complex'"
     ]
    }
   ],
   "source": [
    "sorted(l)"
   ]
  },
  {
   "cell_type": "code",
   "execution_count": 439,
   "metadata": {},
   "outputs": [
    {
     "data": {
      "text/plain": [
       "[0, (1-1j), (3+0j), (3+3j)]"
      ]
     },
     "execution_count": 439,
     "metadata": {},
     "output_type": "execute_result"
    }
   ],
   "source": [
    "sorted(l, key= lambda x: (x.real)**2+(x.imag)**2)"
   ]
  },
  {
   "cell_type": "code",
   "execution_count": 440,
   "metadata": {},
   "outputs": [
    {
     "data": {
      "text/plain": [
       "[0, (1-1j), (3+0j), (3+3j)]"
      ]
     },
     "execution_count": 440,
     "metadata": {},
     "output_type": "execute_result"
    }
   ],
   "source": [
    "sorted(l, key= dist_sq)"
   ]
  },
  {
   "cell_type": "code",
   "execution_count": 441,
   "metadata": {},
   "outputs": [],
   "source": [
    "l = ['Cleese', 'Idle', 'Palin', 'Chapman', 'Gilliam', 'Jones']"
   ]
  },
  {
   "cell_type": "code",
   "execution_count": 442,
   "metadata": {},
   "outputs": [
    {
     "data": {
      "text/plain": [
       "['Chapman', 'Cleese', 'Gilliam', 'Idle', 'Jones', 'Palin']"
      ]
     },
     "execution_count": 442,
     "metadata": {},
     "output_type": "execute_result"
    }
   ],
   "source": [
    "sorted(l)"
   ]
  },
  {
   "cell_type": "code",
   "execution_count": 443,
   "metadata": {},
   "outputs": [
    {
     "data": {
      "text/plain": [
       "['Cleese', 'Idle', 'Gilliam', 'Palin', 'Chapman', 'Jones']"
      ]
     },
     "execution_count": 443,
     "metadata": {},
     "output_type": "execute_result"
    }
   ],
   "source": [
    "sorted(l, key=lambda s: s[-1])"
   ]
  },
  {
   "cell_type": "code",
   "execution_count": null,
   "metadata": {},
   "outputs": [],
   "source": []
  },
  {
   "cell_type": "code",
   "execution_count": 446,
   "metadata": {},
   "outputs": [],
   "source": [
    "l = [1, 2, 3, 4, 5, 6, 7, 8, 9, 10]"
   ]
  },
  {
   "cell_type": "code",
   "execution_count": 447,
   "metadata": {},
   "outputs": [],
   "source": [
    "import random"
   ]
  },
  {
   "cell_type": "code",
   "execution_count": 448,
   "metadata": {},
   "outputs": [
    {
     "ename": "NameError",
     "evalue": "name 'rand' is not defined",
     "output_type": "error",
     "traceback": [
      "\u001b[1;31m---------------------------------------------------------------------------\u001b[0m",
      "\u001b[1;31mNameError\u001b[0m                                 Traceback (most recent call last)",
      "\u001b[1;32m<ipython-input-448-ec5fab079ab3>\u001b[0m in \u001b[0;36m<module>\u001b[1;34m\u001b[0m\n\u001b[1;32m----> 1\u001b[1;33m \u001b[0mrand\u001b[0m\u001b[1;33m(\u001b[0m\u001b[1;33m)\u001b[0m\u001b[1;33m\u001b[0m\u001b[1;33m\u001b[0m\u001b[0m\n\u001b[0m",
      "\u001b[1;31mNameError\u001b[0m: name 'rand' is not defined"
     ]
    }
   ],
   "source": [
    "rand()"
   ]
  },
  {
   "cell_type": "code",
   "execution_count": 449,
   "metadata": {},
   "outputs": [
    {
     "ename": "TypeError",
     "evalue": "'module' object is not callable",
     "output_type": "error",
     "traceback": [
      "\u001b[1;31m---------------------------------------------------------------------------\u001b[0m",
      "\u001b[1;31mTypeError\u001b[0m                                 Traceback (most recent call last)",
      "\u001b[1;32m<ipython-input-449-347a394b3b57>\u001b[0m in \u001b[0;36m<module>\u001b[1;34m\u001b[0m\n\u001b[1;32m----> 1\u001b[1;33m \u001b[0mrandom\u001b[0m\u001b[1;33m(\u001b[0m\u001b[1;33m)\u001b[0m\u001b[1;33m\u001b[0m\u001b[1;33m\u001b[0m\u001b[0m\n\u001b[0m",
      "\u001b[1;31mTypeError\u001b[0m: 'module' object is not callable"
     ]
    }
   ],
   "source": [
    "random()"
   ]
  },
  {
   "cell_type": "code",
   "execution_count": 450,
   "metadata": {},
   "outputs": [
    {
     "data": {
      "text/plain": [
       "0.24112855156960866"
      ]
     },
     "execution_count": 450,
     "metadata": {},
     "output_type": "execute_result"
    }
   ],
   "source": [
    "random.random()"
   ]
  },
  {
   "cell_type": "code",
   "execution_count": 453,
   "metadata": {},
   "outputs": [
    {
     "data": {
      "text/plain": [
       "[7, 10, 4, 5, 3, 9, 1, 2, 6, 8]"
      ]
     },
     "execution_count": 453,
     "metadata": {},
     "output_type": "execute_result"
    }
   ],
   "source": [
    "sorted(l, key= lambda x: random.random())"
   ]
  },
  {
   "cell_type": "code",
   "execution_count": null,
   "metadata": {},
   "outputs": [],
   "source": []
  }
 ],
 "metadata": {
  "kernelspec": {
   "display_name": "Python 3",
   "language": "python",
   "name": "python3"
  },
  "language_info": {
   "codemirror_mode": {
    "name": "ipython",
    "version": 3
   },
   "file_extension": ".py",
   "mimetype": "text/x-python",
   "name": "python",
   "nbconvert_exporter": "python",
   "pygments_lexer": "ipython3",
   "version": "3.7.6"
  }
 },
 "nbformat": 4,
 "nbformat_minor": 4
}
