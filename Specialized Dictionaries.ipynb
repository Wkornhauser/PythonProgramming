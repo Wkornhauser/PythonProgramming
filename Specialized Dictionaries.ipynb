{
 "cells": [
  {
   "cell_type": "markdown",
   "metadata": {},
   "source": [
    "### Specialized Dictionaries"
   ]
  },
  {
   "cell_type": "markdown",
   "metadata": {},
   "source": [
    "We're going to cover some specialized types of dictionaries that the Python standard library provides"
   ]
  },
  {
   "cell_type": "markdown",
   "metadata": {},
   "source": [
    "- defaultdict - automatic default values for \"missing\" keys\n",
    "- OrderedDict - guaranteed key ordering (based on insertion order) (this is available in Python 3.6+ with standard dictionaries), plus some extras\n",
    "- Counter - a specialized tool for dealing with counters\n",
    "- ChainMap - Not a dictionary instance, is an efficient way of \"combining\" multiple dictionaries (think about chaining iterables)\n",
    "- UserDict - Really useful for when we want to create our own specialized kinds of dictionaries. Is an alternative to sublassing dict for creating custom dictionary types"
   ]
  }
 ],
 "metadata": {
  "kernelspec": {
   "display_name": "Python 3",
   "language": "python",
   "name": "python3"
  },
  "language_info": {
   "codemirror_mode": {
    "name": "ipython",
    "version": 3
   },
   "file_extension": ".py",
   "mimetype": "text/x-python",
   "name": "python",
   "nbconvert_exporter": "python",
   "pygments_lexer": "ipython3",
   "version": "3.7.6"
  }
 },
 "nbformat": 4,
 "nbformat_minor": 4
}
