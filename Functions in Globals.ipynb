{
 "cells": [
  {
   "cell_type": "code",
   "execution_count": 1,
   "metadata": {},
   "outputs": [],
   "source": [
    "def func():\n",
    "    a = 10\n",
    "    return a"
   ]
  },
  {
   "cell_type": "code",
   "execution_count": 2,
   "metadata": {},
   "outputs": [
    {
     "data": {
      "text/plain": [
       "<function __main__.func()>"
      ]
     },
     "execution_count": 2,
     "metadata": {},
     "output_type": "execute_result"
    }
   ],
   "source": [
    "func"
   ]
  },
  {
   "cell_type": "code",
   "execution_count": 3,
   "metadata": {},
   "outputs": [
    {
     "data": {
      "text/plain": [
       "10"
      ]
     },
     "execution_count": 3,
     "metadata": {},
     "output_type": "execute_result"
    }
   ],
   "source": [
    "func()"
   ]
  },
  {
   "cell_type": "code",
   "execution_count": 4,
   "metadata": {},
   "outputs": [
    {
     "data": {
      "text/plain": [
       "1921510808312"
      ]
     },
     "execution_count": 4,
     "metadata": {},
     "output_type": "execute_result"
    }
   ],
   "source": [
    "id(func)"
   ]
  },
  {
   "cell_type": "code",
   "execution_count": 5,
   "metadata": {},
   "outputs": [
    {
     "data": {
      "text/plain": [
       "{'__name__': '__main__',\n",
       " '__doc__': 'Automatically created module for IPython interactive environment',\n",
       " '__package__': None,\n",
       " '__loader__': None,\n",
       " '__spec__': None,\n",
       " '__builtin__': <module 'builtins' (built-in)>,\n",
       " '__builtins__': <module 'builtins' (built-in)>,\n",
       " '_ih': ['',\n",
       "  'def func():\\n    a = 10\\n    return a',\n",
       "  'func',\n",
       "  'func()',\n",
       "  'id(func)',\n",
       "  'globals()'],\n",
       " '_oh': {2: <function __main__.func()>, 3: 10, 4: 1921510808312},\n",
       " '_dh': ['C:\\\\Users\\\\Wil'],\n",
       " 'In': ['',\n",
       "  'def func():\\n    a = 10\\n    return a',\n",
       "  'func',\n",
       "  'func()',\n",
       "  'id(func)',\n",
       "  'globals()'],\n",
       " 'Out': {2: <function __main__.func()>, 3: 10, 4: 1921510808312},\n",
       " 'get_ipython': <bound method InteractiveShell.get_ipython of <ipykernel.zmqshell.ZMQInteractiveShell object at 0x000001BF60FE0148>>,\n",
       " 'exit': <IPython.core.autocall.ZMQExitAutocall at 0x1bf62f1da48>,\n",
       " 'quit': <IPython.core.autocall.ZMQExitAutocall at 0x1bf62f1da48>,\n",
       " '_': 1921510808312,\n",
       " '__': 10,\n",
       " '___': <function __main__.func()>,\n",
       " '_i': 'id(func)',\n",
       " '_ii': 'func()',\n",
       " '_iii': 'func',\n",
       " '_i1': 'def func():\\n    a = 10\\n    return a',\n",
       " 'func': <function __main__.func()>,\n",
       " '_i2': 'func',\n",
       " '_2': <function __main__.func()>,\n",
       " '_i3': 'func()',\n",
       " '_3': 10,\n",
       " '_i4': 'id(func)',\n",
       " '_4': 1921510808312,\n",
       " '_i5': 'globals()'}"
      ]
     },
     "execution_count": 5,
     "metadata": {},
     "output_type": "execute_result"
    }
   ],
   "source": [
    "globals()"
   ]
  },
  {
   "cell_type": "code",
   "execution_count": 6,
   "metadata": {},
   "outputs": [],
   "source": [
    "f=globals()['func']"
   ]
  },
  {
   "cell_type": "code",
   "execution_count": 7,
   "metadata": {},
   "outputs": [
    {
     "data": {
      "text/plain": [
       "True"
      ]
     },
     "execution_count": 7,
     "metadata": {},
     "output_type": "execute_result"
    }
   ],
   "source": [
    "f is func"
   ]
  },
  {
   "cell_type": "code",
   "execution_count": 8,
   "metadata": {},
   "outputs": [
    {
     "data": {
      "text/plain": [
       "10"
      ]
     },
     "execution_count": 8,
     "metadata": {},
     "output_type": "execute_result"
    }
   ],
   "source": [
    "f()"
   ]
  },
  {
   "cell_type": "code",
   "execution_count": 9,
   "metadata": {},
   "outputs": [
    {
     "data": {
      "text/plain": [
       "{'__name__': '__main__',\n",
       " '__doc__': 'Automatically created module for IPython interactive environment',\n",
       " '__package__': None,\n",
       " '__loader__': None,\n",
       " '__spec__': None,\n",
       " '__builtin__': <module 'builtins' (built-in)>,\n",
       " '__builtins__': <module 'builtins' (built-in)>,\n",
       " '_ih': ['',\n",
       "  'def func():\\n    a = 10\\n    return a',\n",
       "  'func',\n",
       "  'func()',\n",
       "  'id(func)',\n",
       "  'globals()',\n",
       "  \"f=globals()['func']\",\n",
       "  'f is func',\n",
       "  'f()',\n",
       "  'locals()'],\n",
       " '_oh': {2: <function __main__.func()>,\n",
       "  3: 10,\n",
       "  4: 1921510808312,\n",
       "  5: {...},\n",
       "  7: True,\n",
       "  8: 10},\n",
       " '_dh': ['C:\\\\Users\\\\Wil'],\n",
       " 'In': ['',\n",
       "  'def func():\\n    a = 10\\n    return a',\n",
       "  'func',\n",
       "  'func()',\n",
       "  'id(func)',\n",
       "  'globals()',\n",
       "  \"f=globals()['func']\",\n",
       "  'f is func',\n",
       "  'f()',\n",
       "  'locals()'],\n",
       " 'Out': {2: <function __main__.func()>,\n",
       "  3: 10,\n",
       "  4: 1921510808312,\n",
       "  5: {...},\n",
       "  7: True,\n",
       "  8: 10},\n",
       " 'get_ipython': <bound method InteractiveShell.get_ipython of <ipykernel.zmqshell.ZMQInteractiveShell object at 0x000001BF60FE0148>>,\n",
       " 'exit': <IPython.core.autocall.ZMQExitAutocall at 0x1bf62f1da48>,\n",
       " 'quit': <IPython.core.autocall.ZMQExitAutocall at 0x1bf62f1da48>,\n",
       " '_': 10,\n",
       " '__': True,\n",
       " '___': {...},\n",
       " '_i': 'f()',\n",
       " '_ii': 'f is func',\n",
       " '_iii': \"f=globals()['func']\",\n",
       " '_i1': 'def func():\\n    a = 10\\n    return a',\n",
       " 'func': <function __main__.func()>,\n",
       " '_i2': 'func',\n",
       " '_2': <function __main__.func()>,\n",
       " '_i3': 'func()',\n",
       " '_3': 10,\n",
       " '_i4': 'id(func)',\n",
       " '_4': 1921510808312,\n",
       " '_i5': 'globals()',\n",
       " '_5': {...},\n",
       " '_i6': \"f=globals()['func']\",\n",
       " 'f': <function __main__.func()>,\n",
       " '_i7': 'f is func',\n",
       " '_7': True,\n",
       " '_i8': 'f()',\n",
       " '_8': 10,\n",
       " '_i9': 'locals()'}"
      ]
     },
     "execution_count": 9,
     "metadata": {},
     "output_type": "execute_result"
    }
   ],
   "source": [
    "locals()"
   ]
  },
  {
   "cell_type": "code",
   "execution_count": 13,
   "metadata": {},
   "outputs": [],
   "source": [
    "a=100"
   ]
  },
  {
   "cell_type": "code",
   "execution_count": 15,
   "metadata": {},
   "outputs": [
    {
     "data": {
      "text/plain": [
       "{'__name__': '__main__',\n",
       " '__doc__': 'Automatically created module for IPython interactive environment',\n",
       " '__package__': None,\n",
       " '__loader__': None,\n",
       " '__spec__': None,\n",
       " '__builtin__': <module 'builtins' (built-in)>,\n",
       " '__builtins__': <module 'builtins' (built-in)>,\n",
       " '_ih': ['',\n",
       "  'def func():\\n    a = 10\\n    return a',\n",
       "  'func',\n",
       "  'func()',\n",
       "  'id(func)',\n",
       "  'globals()',\n",
       "  \"f=globals()['func']\",\n",
       "  'f is func',\n",
       "  'f()',\n",
       "  'locals()',\n",
       "  'locals() is globals()',\n",
       "  'def func():\\n    locals()\\n    return',\n",
       "  'func()',\n",
       "  'a=100',\n",
       "  'globals',\n",
       "  'globals()'],\n",
       " '_oh': {2: <function __main__.func()>,\n",
       "  3: 10,\n",
       "  4: 1921510808312,\n",
       "  5: {...},\n",
       "  7: True,\n",
       "  8: 10,\n",
       "  9: {...},\n",
       "  10: True,\n",
       "  14: <function globals()>},\n",
       " '_dh': ['C:\\\\Users\\\\Wil'],\n",
       " 'In': ['',\n",
       "  'def func():\\n    a = 10\\n    return a',\n",
       "  'func',\n",
       "  'func()',\n",
       "  'id(func)',\n",
       "  'globals()',\n",
       "  \"f=globals()['func']\",\n",
       "  'f is func',\n",
       "  'f()',\n",
       "  'locals()',\n",
       "  'locals() is globals()',\n",
       "  'def func():\\n    locals()\\n    return',\n",
       "  'func()',\n",
       "  'a=100',\n",
       "  'globals',\n",
       "  'globals()'],\n",
       " 'Out': {2: <function __main__.func()>,\n",
       "  3: 10,\n",
       "  4: 1921510808312,\n",
       "  5: {...},\n",
       "  7: True,\n",
       "  8: 10,\n",
       "  9: {...},\n",
       "  10: True,\n",
       "  14: <function globals()>},\n",
       " 'get_ipython': <bound method InteractiveShell.get_ipython of <ipykernel.zmqshell.ZMQInteractiveShell object at 0x000001BF60FE0148>>,\n",
       " 'exit': <IPython.core.autocall.ZMQExitAutocall at 0x1bf62f1da48>,\n",
       " 'quit': <IPython.core.autocall.ZMQExitAutocall at 0x1bf62f1da48>,\n",
       " '_': <function globals()>,\n",
       " '__': True,\n",
       " '___': {...},\n",
       " '_i': 'globals',\n",
       " '_ii': 'a=100',\n",
       " '_iii': 'func()',\n",
       " '_i1': 'def func():\\n    a = 10\\n    return a',\n",
       " 'func': <function __main__.func()>,\n",
       " '_i2': 'func',\n",
       " '_2': <function __main__.func()>,\n",
       " '_i3': 'func()',\n",
       " '_3': 10,\n",
       " '_i4': 'id(func)',\n",
       " '_4': 1921510808312,\n",
       " '_i5': 'globals()',\n",
       " '_5': {...},\n",
       " '_i6': \"f=globals()['func']\",\n",
       " 'f': <function __main__.func()>,\n",
       " '_i7': 'f is func',\n",
       " '_7': True,\n",
       " '_i8': 'f()',\n",
       " '_8': 10,\n",
       " '_i9': 'locals()',\n",
       " '_9': {...},\n",
       " '_i10': 'locals() is globals()',\n",
       " '_10': True,\n",
       " '_i11': 'def func():\\n    locals()\\n    return',\n",
       " '_i12': 'func()',\n",
       " '_i13': 'a=100',\n",
       " 'a': 100,\n",
       " '_i14': 'globals',\n",
       " '_14': <function globals()>,\n",
       " '_i15': 'globals()'}"
      ]
     },
     "execution_count": 15,
     "metadata": {},
     "output_type": "execute_result"
    }
   ],
   "source": [
    "globals()\n"
   ]
  },
  {
   "cell_type": "code",
   "execution_count": 12,
   "metadata": {},
   "outputs": [],
   "source": [
    "func()"
   ]
  },
  {
   "cell_type": "code",
   "execution_count": 16,
   "metadata": {},
   "outputs": [],
   "source": [
    "def func():\n",
    "    a=10\n",
    "    b=10\n",
    "    print(locals())\n",
    "    return"
   ]
  },
  {
   "cell_type": "code",
   "execution_count": 17,
   "metadata": {},
   "outputs": [
    {
     "name": "stdout",
     "output_type": "stream",
     "text": [
      "{'a': 10, 'b': 10}\n"
     ]
    }
   ],
   "source": [
    "func()"
   ]
  },
  {
   "cell_type": "code",
   "execution_count": null,
   "metadata": {},
   "outputs": [],
   "source": []
  }
 ],
 "metadata": {
  "kernelspec": {
   "display_name": "Python 3",
   "language": "python",
   "name": "python3"
  },
  "language_info": {
   "codemirror_mode": {
    "name": "ipython",
    "version": 3
   },
   "file_extension": ".py",
   "mimetype": "text/x-python",
   "name": "python",
   "nbconvert_exporter": "python",
   "pygments_lexer": "ipython3",
   "version": "3.7.6"
  }
 },
 "nbformat": 4,
 "nbformat_minor": 4
}
