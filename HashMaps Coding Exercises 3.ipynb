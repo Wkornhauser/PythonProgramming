{
 "cells": [
  {
   "cell_type": "markdown",
   "metadata": {},
   "source": [
    "### Exercise Set 3"
   ]
  },
  {
   "cell_type": "markdown",
   "metadata": {},
   "source": [
    "#### Exercise #1"
   ]
  },
  {
   "cell_type": "markdown",
   "metadata": {},
   "source": [
    "Let's revisit an exercise we did right after the section on dictionaries."
   ]
  },
  {
   "cell_type": "markdown",
   "metadata": {},
   "source": [
    "You have text data spread across multiple servers. Each server is able to analyze this data and return a dictionary that contains words and their frequency."
   ]
  },
  {
   "cell_type": "markdown",
   "metadata": {},
   "source": [
    "Your job is to combine this data to create a single dictionary that contains all the words and their combined frequencies from all these data sources. Bonus points if you can make your dictionary sorted by frequency (highest to lowest)."
   ]
  },
  {
   "cell_type": "markdown",
   "metadata": {},
   "source": [
    "For example, you may have three servesr that each return these dictionaries:"
   ]
  },
  {
   "cell_type": "code",
   "execution_count": 1,
   "metadata": {},
   "outputs": [],
   "source": [
    "d1 = {'python': 10, 'java': 3, 'c#': 8, 'javascript': 15}\n",
    "d2 = {'java': 10, 'c++': 10, 'c#': 4, 'go': 9, 'python': 6}\n",
    "d3 = {'erlang': 5, 'haskell': 2, 'python': 1, 'pascal': 1}"
   ]
  },
  {
   "cell_type": "markdown",
   "metadata": {},
   "source": [
    "Your resulting dictionary should look like this:"
   ]
  },
  {
   "cell_type": "code",
   "execution_count": 2,
   "metadata": {},
   "outputs": [],
   "source": [
    "d = {'python': 17,\n",
    "     'javascript': 15,\n",
    "     'java': 13,\n",
    "     'c#': 12,\n",
    "     'c++': 10,\n",
    "     'go': 9,\n",
    "     'erlang': 5,\n",
    "     'haskell': 2,\n",
    "     'pascal': 1}"
   ]
  },
  {
   "cell_type": "markdown",
   "metadata": {},
   "source": [
    "Implement two different solutions to this problem:  \n",
    "a: Using defaultdict objects  \n",
    "b: Using Counter objects"
   ]
  },
  {
   "cell_type": "markdown",
   "metadata": {},
   "source": [
    "#### Solution:"
   ]
  },
  {
   "cell_type": "markdown",
   "metadata": {},
   "source": [
    "##### Using defaultdict"
   ]
  },
  {
   "cell_type": "code",
   "execution_count": 6,
   "metadata": {},
   "outputs": [],
   "source": [
    "from collections import defaultdict"
   ]
  },
  {
   "cell_type": "code",
   "execution_count": 14,
   "metadata": {},
   "outputs": [],
   "source": [
    "def merge(*dicts):\n",
    "    unsorted = defaultdict(int)\n",
    "    for d in dicts:\n",
    "        for k, v in d.items():\n",
    "            unsorted[k] += v\n",
    "            \n",
    "    return dict(sorted(unsorted.items(), key=lambda el: el[1], reverse=True))"
   ]
  },
  {
   "cell_type": "code",
   "execution_count": 15,
   "metadata": {},
   "outputs": [
    {
     "data": {
      "text/plain": [
       "{'python': 17,\n",
       " 'javascript': 15,\n",
       " 'java': 13,\n",
       " 'c#': 12,\n",
       " 'c++': 10,\n",
       " 'go': 9,\n",
       " 'erlang': 5,\n",
       " 'haskell': 2,\n",
       " 'pascal': 1}"
      ]
     },
     "execution_count": 15,
     "metadata": {},
     "output_type": "execute_result"
    }
   ],
   "source": [
    "merge(d1, d2, d3)"
   ]
  },
  {
   "cell_type": "markdown",
   "metadata": {},
   "source": [
    "##### Using Counter"
   ]
  },
  {
   "cell_type": "code",
   "execution_count": 12,
   "metadata": {},
   "outputs": [],
   "source": [
    "from collections import Counter"
   ]
  },
  {
   "cell_type": "code",
   "execution_count": 16,
   "metadata": {},
   "outputs": [],
   "source": [
    "def merge(*dicts):\n",
    "    unsorted = Counter()\n",
    "    for d in dicts:\n",
    "        unsorted.update(d)\n",
    "            \n",
    "    return unsorted"
   ]
  },
  {
   "cell_type": "code",
   "execution_count": 17,
   "metadata": {},
   "outputs": [
    {
     "data": {
      "text/plain": [
       "Counter({'python': 16,\n",
       "         'java': 13,\n",
       "         'c#': 12,\n",
       "         'javascript': 15,\n",
       "         'c++': 10,\n",
       "         'go': 9})"
      ]
     },
     "execution_count": 17,
     "metadata": {},
     "output_type": "execute_result"
    }
   ],
   "source": [
    "merge(d1, d2)"
   ]
  },
  {
   "cell_type": "code",
   "execution_count": 18,
   "metadata": {},
   "outputs": [
    {
     "data": {
      "text/plain": [
       "Counter({'python': 17,\n",
       "         'java': 13,\n",
       "         'c#': 12,\n",
       "         'javascript': 15,\n",
       "         'c++': 10,\n",
       "         'go': 9,\n",
       "         'erlang': 5,\n",
       "         'haskell': 2,\n",
       "         'pascal': 1})"
      ]
     },
     "execution_count": 18,
     "metadata": {},
     "output_type": "execute_result"
    }
   ],
   "source": [
    "merge(d1, d2, d3)"
   ]
  },
  {
   "cell_type": "code",
   "execution_count": 19,
   "metadata": {},
   "outputs": [],
   "source": [
    "def merge(*dicts):\n",
    "    unsorted = Counter()\n",
    "    for d in dicts:\n",
    "        unsorted.update(d)\n",
    "            \n",
    "    return dict(sorted(unsorted.items(), key=lambda el: el[1], reverse=True))"
   ]
  },
  {
   "cell_type": "code",
   "execution_count": 20,
   "metadata": {},
   "outputs": [
    {
     "data": {
      "text/plain": [
       "{'python': 17,\n",
       " 'javascript': 15,\n",
       " 'java': 13,\n",
       " 'c#': 12,\n",
       " 'c++': 10,\n",
       " 'go': 9,\n",
       " 'erlang': 5,\n",
       " 'haskell': 2,\n",
       " 'pascal': 1}"
      ]
     },
     "execution_count": 20,
     "metadata": {},
     "output_type": "execute_result"
    }
   ],
   "source": [
    "merge(d1, d2, d3)"
   ]
  },
  {
   "cell_type": "code",
   "execution_count": 28,
   "metadata": {},
   "outputs": [],
   "source": [
    "def merge(*dicts):\n",
    "    unsorted = Counter()\n",
    "    for d in dicts:\n",
    "        unsorted.update(d)\n",
    "            \n",
    "    return unsorted"
   ]
  },
  {
   "cell_type": "code",
   "execution_count": 34,
   "metadata": {},
   "outputs": [],
   "source": [
    "result = merge(d1, d2, d3)"
   ]
  },
  {
   "cell_type": "code",
   "execution_count": 35,
   "metadata": {},
   "outputs": [
    {
     "data": {
      "text/plain": [
       "Counter({'python': 17,\n",
       "         'java': 13,\n",
       "         'c#': 12,\n",
       "         'javascript': 15,\n",
       "         'c++': 10,\n",
       "         'go': 9,\n",
       "         'erlang': 5,\n",
       "         'haskell': 2,\n",
       "         'pascal': 1})"
      ]
     },
     "execution_count": 35,
     "metadata": {},
     "output_type": "execute_result"
    }
   ],
   "source": [
    "result"
   ]
  },
  {
   "cell_type": "code",
   "execution_count": 37,
   "metadata": {},
   "outputs": [
    {
     "data": {
      "text/plain": [
       "{'python': 17,\n",
       " 'javascript': 15,\n",
       " 'java': 13,\n",
       " 'c#': 12,\n",
       " 'c++': 10,\n",
       " 'go': 9,\n",
       " 'erlang': 5,\n",
       " 'haskell': 2,\n",
       " 'pascal': 1}"
      ]
     },
     "execution_count": 37,
     "metadata": {},
     "output_type": "execute_result"
    }
   ],
   "source": [
    "dict(result.most_common())"
   ]
  },
  {
   "cell_type": "code",
   "execution_count": 38,
   "metadata": {},
   "outputs": [
    {
     "data": {
      "text/plain": [
       "Counter({'python': 17,\n",
       "         'java': 13,\n",
       "         'c#': 12,\n",
       "         'javascript': 15,\n",
       "         'c++': 10,\n",
       "         'go': 9,\n",
       "         'erlang': 5,\n",
       "         'haskell': 2,\n",
       "         'pascal': 1})"
      ]
     },
     "execution_count": 38,
     "metadata": {},
     "output_type": "execute_result"
    }
   ],
   "source": [
    "result"
   ]
  },
  {
   "cell_type": "markdown",
   "metadata": {},
   "source": [
    "Notice that most_common sorts!"
   ]
  },
  {
   "cell_type": "code",
   "execution_count": 39,
   "metadata": {},
   "outputs": [],
   "source": [
    "def merge(*dicts):\n",
    "    unsorted = Counter()\n",
    "    for d in dicts:\n",
    "        unsorted.update(d)\n",
    "            \n",
    "    return dict(unsorted.most_common())"
   ]
  },
  {
   "cell_type": "code",
   "execution_count": 40,
   "metadata": {},
   "outputs": [
    {
     "data": {
      "text/plain": [
       "{'python': 17,\n",
       " 'javascript': 15,\n",
       " 'java': 13,\n",
       " 'c#': 12,\n",
       " 'c++': 10,\n",
       " 'go': 9,\n",
       " 'erlang': 5,\n",
       " 'haskell': 2,\n",
       " 'pascal': 1}"
      ]
     },
     "execution_count": 40,
     "metadata": {},
     "output_type": "execute_result"
    }
   ],
   "source": [
    "merge(d1, d2, d3)"
   ]
  },
  {
   "cell_type": "markdown",
   "metadata": {},
   "source": [
    "Done!"
   ]
  },
  {
   "cell_type": "markdown",
   "metadata": {},
   "source": [
    "#### Exercise #2"
   ]
  },
  {
   "cell_type": "markdown",
   "metadata": {},
   "source": [
    "Suppose you have a list of all possible eye colors:"
   ]
  },
  {
   "cell_type": "code",
   "execution_count": 3,
   "metadata": {},
   "outputs": [],
   "source": [
    "eye_colors = ('amber', 'blue', 'brown', 'gray', 'green', 'hazel', 'red', 'violet')"
   ]
  },
  {
   "cell_type": "markdown",
   "metadata": {},
   "source": [
    "Some other collection (say recovereed from a database, or an external API) contains a list of Person objects that have an eye color property."
   ]
  },
  {
   "cell_type": "markdown",
   "metadata": {},
   "source": [
    "Your goal is to create a dictionary that contains the number of people that have the eye color as specified in eye_colors. The wrinkle here is that even if no one matches some eye color, say amber, your dictionary should still contain an entry \"amber\": 0."
   ]
  },
  {
   "cell_type": "markdown",
   "metadata": {},
   "source": [
    "Here is some sample data:"
   ]
  },
  {
   "cell_type": "code",
   "execution_count": 4,
   "metadata": {},
   "outputs": [],
   "source": [
    "class Person:\n",
    "    def __init__(self, eye_color):\n",
    "        self.eye_color = eye_color"
   ]
  },
  {
   "cell_type": "code",
   "execution_count": 5,
   "metadata": {},
   "outputs": [],
   "source": [
    "from random import seed, choices\n",
    "seed(0)\n",
    "persons = [Person(color) for color in choices(eye_colors[2:], k = 50)]"
   ]
  },
  {
   "cell_type": "markdown",
   "metadata": {},
   "source": [
    "As you can see we built a list of Person objects, none of which should have amber or blue eye colors."
   ]
  },
  {
   "cell_type": "markdown",
   "metadata": {},
   "source": [
    "Write a function that returns a dictionary with the correct counts for each eye color listed in eye_colors."
   ]
  },
  {
   "cell_type": "markdown",
   "metadata": {},
   "source": [
    "#### Solution:"
   ]
  },
  {
   "cell_type": "code",
   "execution_count": 41,
   "metadata": {},
   "outputs": [],
   "source": [
    "from collections import Counter"
   ]
  },
  {
   "cell_type": "code",
   "execution_count": 42,
   "metadata": {},
   "outputs": [],
   "source": [
    "counts = Counter(p.eye_color for p in persons)"
   ]
  },
  {
   "cell_type": "code",
   "execution_count": 43,
   "metadata": {},
   "outputs": [
    {
     "data": {
      "text/plain": [
       "Counter({'violet': 12,\n",
       "         'red': 10,\n",
       "         'green': 8,\n",
       "         'gray': 10,\n",
       "         'hazel': 7,\n",
       "         'brown': 3})"
      ]
     },
     "execution_count": 43,
     "metadata": {},
     "output_type": "execute_result"
    }
   ],
   "source": [
    "counts"
   ]
  },
  {
   "cell_type": "markdown",
   "metadata": {},
   "source": [
    "But we are missing amber and blue..."
   ]
  },
  {
   "cell_type": "markdown",
   "metadata": {},
   "source": [
    "Let's look at two approaches..."
   ]
  },
  {
   "cell_type": "code",
   "execution_count": 44,
   "metadata": {},
   "outputs": [],
   "source": [
    "result = {color: counts.get(color, 0)  for color in eye_colors}"
   ]
  },
  {
   "cell_type": "code",
   "execution_count": 45,
   "metadata": {},
   "outputs": [
    {
     "data": {
      "text/plain": [
       "{'amber': 0,\n",
       " 'blue': 0,\n",
       " 'brown': 3,\n",
       " 'gray': 10,\n",
       " 'green': 8,\n",
       " 'hazel': 7,\n",
       " 'red': 10,\n",
       " 'violet': 12}"
      ]
     },
     "execution_count": 45,
     "metadata": {},
     "output_type": "execute_result"
    }
   ],
   "source": [
    "result"
   ]
  },
  {
   "cell_type": "markdown",
   "metadata": {},
   "source": [
    "That's one solution"
   ]
  },
  {
   "cell_type": "markdown",
   "metadata": {},
   "source": [
    "Here is another..."
   ]
  },
  {
   "cell_type": "code",
   "execution_count": 46,
   "metadata": {},
   "outputs": [],
   "source": [
    "counts = Counter({color: 0 for color in eye_colors})"
   ]
  },
  {
   "cell_type": "code",
   "execution_count": 47,
   "metadata": {},
   "outputs": [
    {
     "data": {
      "text/plain": [
       "Counter({'amber': 0,\n",
       "         'blue': 0,\n",
       "         'brown': 0,\n",
       "         'gray': 0,\n",
       "         'green': 0,\n",
       "         'hazel': 0,\n",
       "         'red': 0,\n",
       "         'violet': 0})"
      ]
     },
     "execution_count": 47,
     "metadata": {},
     "output_type": "execute_result"
    }
   ],
   "source": [
    "counts"
   ]
  },
  {
   "cell_type": "code",
   "execution_count": 48,
   "metadata": {},
   "outputs": [],
   "source": [
    "counts.update(p.eye_color for p in persons)"
   ]
  },
  {
   "cell_type": "code",
   "execution_count": 49,
   "metadata": {},
   "outputs": [
    {
     "data": {
      "text/plain": [
       "Counter({'amber': 0,\n",
       "         'blue': 0,\n",
       "         'brown': 3,\n",
       "         'gray': 10,\n",
       "         'green': 8,\n",
       "         'hazel': 7,\n",
       "         'red': 10,\n",
       "         'violet': 12})"
      ]
     },
     "execution_count": 49,
     "metadata": {},
     "output_type": "execute_result"
    }
   ],
   "source": [
    "counts"
   ]
  },
  {
   "cell_type": "markdown",
   "metadata": {},
   "source": [
    "That's another solution!"
   ]
  },
  {
   "cell_type": "markdown",
   "metadata": {},
   "source": [
    "Let's package this up into a neat function"
   ]
  },
  {
   "cell_type": "code",
   "execution_count": 50,
   "metadata": {},
   "outputs": [],
   "source": [
    "def count_eye_colors(persons, possible_eye_colors):\n",
    "    counts = Counter({color: 0 for color in possible_eye_colors})\n",
    "    counts.update(p.eye_color for p in persons)\n",
    "    return counts"
   ]
  },
  {
   "cell_type": "code",
   "execution_count": 51,
   "metadata": {},
   "outputs": [
    {
     "data": {
      "text/plain": [
       "Counter({'amber': 0,\n",
       "         'blue': 0,\n",
       "         'brown': 3,\n",
       "         'gray': 10,\n",
       "         'green': 8,\n",
       "         'hazel': 7,\n",
       "         'red': 10,\n",
       "         'violet': 12})"
      ]
     },
     "execution_count": 51,
     "metadata": {},
     "output_type": "execute_result"
    }
   ],
   "source": [
    "count_eye_colors(persons, eye_colors)"
   ]
  },
  {
   "cell_type": "markdown",
   "metadata": {},
   "source": [
    "If you wanted it returned in frequency order, we could return something like this:"
   ]
  },
  {
   "cell_type": "code",
   "execution_count": 52,
   "metadata": {},
   "outputs": [],
   "source": [
    "def count_eye_colors(persons, possible_eye_colors):\n",
    "    counts = Counter({color: 0 for color in possible_eye_colors})\n",
    "    counts.update(p.eye_color for p in persons)\n",
    "    return counts.most_common()"
   ]
  },
  {
   "cell_type": "code",
   "execution_count": 53,
   "metadata": {},
   "outputs": [
    {
     "data": {
      "text/plain": [
       "[('violet', 12),\n",
       " ('gray', 10),\n",
       " ('red', 10),\n",
       " ('green', 8),\n",
       " ('hazel', 7),\n",
       " ('brown', 3),\n",
       " ('amber', 0),\n",
       " ('blue', 0)]"
      ]
     },
     "execution_count": 53,
     "metadata": {},
     "output_type": "execute_result"
    }
   ],
   "source": [
    "count_eye_colors(persons, eye_colors)"
   ]
  },
  {
   "cell_type": "markdown",
   "metadata": {},
   "source": [
    "Done!"
   ]
  },
  {
   "cell_type": "markdown",
   "metadata": {},
   "source": [
    "#### Exercise #3"
   ]
  },
  {
   "cell_type": "markdown",
   "metadata": {},
   "source": [
    "You are given three JSON files, representing a default set of settings, and environment specific settings. The files are included in the downloads, and are named:  \n",
    "* common.json\n",
    "* dev.json\n",
    "* prod.json"
   ]
  },
  {
   "cell_type": "markdown",
   "metadata": {},
   "source": [
    "Your goal is to write a function that has a single argument (the environment name) and returns the \"combined\" dictionary that merges the two dictionaries together, with the environment specific settigns overriding any common settings already defined."
   ]
  },
  {
   "cell_type": "markdown",
   "metadata": {},
   "source": [
    "For simplicity, assume that the arguemnt values are going to be the same as the file names, with the ,json extension. So for example, dev or prod."
   ]
  },
  {
   "cell_type": "markdown",
   "metadata": {},
   "source": [
    "The wrinkle: We don't want to duplicate data for the \"merged\" dictionary - use ChainMap to implement this instead!"
   ]
  },
  {
   "cell_type": "markdown",
   "metadata": {},
   "source": [
    "#### Solution:"
   ]
  },
  {
   "cell_type": "code",
   "execution_count": 60,
   "metadata": {},
   "outputs": [],
   "source": [
    "import json\n",
    "\n",
    "def load_settings(env):\n",
    "    with open(f'{env}.json') as f:\n",
    "        settings = json.load(f)\n",
    "    return settings"
   ]
  },
  {
   "cell_type": "code",
   "execution_count": 61,
   "metadata": {},
   "outputs": [],
   "source": [
    "from pprint import pprint"
   ]
  },
  {
   "cell_type": "code",
   "execution_count": 62,
   "metadata": {},
   "outputs": [
    {
     "name": "stdout",
     "output_type": "stream",
     "text": [
      "{'data': {'input_root': '/default/path/inputs',\n",
      "          'numerics': {'precision': 6, 'type': 'Decimal'},\n",
      "          'output_root': '/default/path/outputs'},\n",
      " 'database': {'db_name': 'deepdive', 'port': 5432, 'schema': 'public'},\n",
      " 'logs': {'format': '%(asctime)s: %(levelname)s: %(clientip)s %(user)s '\n",
      "                    '%(message)s',\n",
      "          'level': 'info'}}\n"
     ]
    }
   ],
   "source": [
    "pprint(load_settings('common'))"
   ]
  },
  {
   "cell_type": "code",
   "execution_count": 64,
   "metadata": {},
   "outputs": [
    {
     "name": "stdout",
     "output_type": "stream",
     "text": [
      "{'data': {'input_root': '/dev/path/inputs',\n",
      "          'numerics': {'type': 'float'},\n",
      "          'operators': {'add': '__add__'},\n",
      "          'output_root': '/dev/path/outputs'},\n",
      " 'database': {'pwd': 'test', 'user': 'test'},\n",
      " 'logs': {'format': '%(asctime)s: %(levelname)s: %(clientip)s %(user)s '\n",
      "                    '%(filename)s %(funcName)s %(message)s',\n",
      "          'level': 'trace'}}\n"
     ]
    }
   ],
   "source": [
    "pprint(load_settings('dev'))"
   ]
  },
  {
   "cell_type": "code",
   "execution_count": 65,
   "metadata": {},
   "outputs": [
    {
     "name": "stdout",
     "output_type": "stream",
     "text": [
      "{'data': {'input_root': '$DATA_INPUT_PATH', 'output_root': '$DATA_OUTPUT_PATH'},\n",
      " 'database': {'pwd': '$PG_PWD', 'user': '$PG_USER'}}\n"
     ]
    }
   ],
   "source": [
    "pprint(load_settings('prod'))"
   ]
  },
  {
   "cell_type": "code",
   "execution_count": 66,
   "metadata": {},
   "outputs": [],
   "source": [
    "from collections import ChainMap"
   ]
  },
  {
   "cell_type": "code",
   "execution_count": 68,
   "metadata": {},
   "outputs": [],
   "source": [
    "def settings(env):\n",
    "    common_settings = load_settings('common')\n",
    "    env_settings = load_settings(env)\n",
    "    return ChainMap(env_settings, common_settings)"
   ]
  },
  {
   "cell_type": "code",
   "execution_count": 69,
   "metadata": {},
   "outputs": [],
   "source": [
    "dev = settings('dev')"
   ]
  },
  {
   "cell_type": "code",
   "execution_count": 70,
   "metadata": {},
   "outputs": [
    {
     "name": "stdout",
     "output_type": "stream",
     "text": [
      "data : {'input_root': '/dev/path/inputs', 'output_root': '/dev/path/outputs', 'numerics': {'type': 'float'}, 'operators': {'add': '__add__'}}\n",
      "database : {'user': 'test', 'pwd': 'test'}\n",
      "logs : {'level': 'trace', 'format': '%(asctime)s: %(levelname)s: %(clientip)s %(user)s %(filename)s %(funcName)s %(message)s'}\n"
     ]
    }
   ],
   "source": [
    "for k, v in dev.items():\n",
    "    print(k, ':', v) "
   ]
  },
  {
   "cell_type": "code",
   "execution_count": 71,
   "metadata": {},
   "outputs": [
    {
     "data": {
      "text/plain": [
       "ChainMap({'data': {'input_root': '/dev/path/inputs', 'output_root': '/dev/path/outputs', 'numerics': {'type': 'float'}, 'operators': {'add': '__add__'}}, 'database': {'user': 'test', 'pwd': 'test'}, 'logs': {'level': 'trace', 'format': '%(asctime)s: %(levelname)s: %(clientip)s %(user)s %(filename)s %(funcName)s %(message)s'}}, {'data': {'input_root': '/default/path/inputs', 'output_root': '/default/path/outputs', 'numerics': {'type': 'Decimal', 'precision': 6}}, 'database': {'db_name': 'deepdive', 'schema': 'public', 'port': 5432}, 'logs': {'level': 'info', 'format': '%(asctime)s: %(levelname)s: %(clientip)s %(user)s %(message)s'}})"
      ]
     },
     "execution_count": 71,
     "metadata": {},
     "output_type": "execute_result"
    }
   ],
   "source": [
    "dev"
   ]
  },
  {
   "cell_type": "code",
   "execution_count": 75,
   "metadata": {},
   "outputs": [],
   "source": [
    "def chain_recursive(d1, d2):\n",
    "    chain = ChainMap(d1, d2)\n",
    "    for k, v in d1.items():\n",
    "        if isinstance(v, dict) and k in d2:\n",
    "            chain[k] = chain_recursive(d1[k], d2[k])\n",
    "    return chain"
   ]
  },
  {
   "cell_type": "code",
   "execution_count": 76,
   "metadata": {},
   "outputs": [],
   "source": [
    "d1 = load_settings('common')\n",
    "d2 = load_settings('dev')"
   ]
  },
  {
   "cell_type": "code",
   "execution_count": 77,
   "metadata": {},
   "outputs": [],
   "source": [
    "dev = chain_recursive(d2, d1)"
   ]
  },
  {
   "cell_type": "code",
   "execution_count": 78,
   "metadata": {},
   "outputs": [
    {
     "name": "stdout",
     "output_type": "stream",
     "text": [
      "ChainMap({'data': ChainMap({'input_root': '/dev/path/inputs',\n",
      "                            'numerics': ChainMap({'type': 'float'},\n",
      "                                                 {'precision': 6,\n",
      "                                                  'type': 'Decimal'}),\n",
      "                            'operators': {'add': '__add__'},\n",
      "                            'output_root': '/dev/path/outputs'},\n",
      "                           {'input_root': '/default/path/inputs',\n",
      "                            'numerics': {'precision': 6, 'type': 'Decimal'},\n",
      "                            'output_root': '/default/path/outputs'}),\n",
      "          'database': ChainMap({'pwd': 'test', 'user': 'test'},\n",
      "                               {'db_name': 'deepdive',\n",
      "                                'port': 5432,\n",
      "                                'schema': 'public'}),\n",
      "          'logs': ChainMap({'format': '%(asctime)s: %(levelname)s: '\n",
      "                                      '%(clientip)s %(user)s %(filename)s '\n",
      "                                      '%(funcName)s %(message)s',\n",
      "                            'level': 'trace'},\n",
      "                           {'format': '%(asctime)s: %(levelname)s: '\n",
      "                                      '%(clientip)s %(user)s %(message)s',\n",
      "                            'level': 'info'})},\n",
      "         {'data': {'input_root': '/default/path/inputs',\n",
      "                   'numerics': {'precision': 6, 'type': 'Decimal'},\n",
      "                   'output_root': '/default/path/outputs'},\n",
      "          'database': {'db_name': 'deepdive', 'port': 5432, 'schema': 'public'},\n",
      "          'logs': {'format': '%(asctime)s: %(levelname)s: %(clientip)s '\n",
      "                             '%(user)s %(message)s',\n",
      "                   'level': 'info'}})\n"
     ]
    }
   ],
   "source": [
    "pprint(dev)"
   ]
  },
  {
   "cell_type": "code",
   "execution_count": 79,
   "metadata": {},
   "outputs": [],
   "source": [
    "d3 = load_settings('prod')"
   ]
  },
  {
   "cell_type": "code",
   "execution_count": 80,
   "metadata": {},
   "outputs": [],
   "source": [
    "prod = chain_recursive(d3, d1)"
   ]
  },
  {
   "cell_type": "code",
   "execution_count": 81,
   "metadata": {},
   "outputs": [
    {
     "name": "stdout",
     "output_type": "stream",
     "text": [
      "ChainMap({'data': ChainMap({'input_root': '$DATA_INPUT_PATH',\n",
      "                            'output_root': '$DATA_OUTPUT_PATH'},\n",
      "                           {'input_root': '/default/path/inputs',\n",
      "                            'numerics': {'precision': 6, 'type': 'Decimal'},\n",
      "                            'output_root': '/default/path/outputs'}),\n",
      "          'database': ChainMap({'pwd': '$PG_PWD', 'user': '$PG_USER'},\n",
      "                               {'db_name': 'deepdive',\n",
      "                                'port': 5432,\n",
      "                                'schema': 'public'})},\n",
      "         {'data': {'input_root': '/default/path/inputs',\n",
      "                   'numerics': {'precision': 6, 'type': 'Decimal'},\n",
      "                   'output_root': '/default/path/outputs'},\n",
      "          'database': {'db_name': 'deepdive', 'port': 5432, 'schema': 'public'},\n",
      "          'logs': {'format': '%(asctime)s: %(levelname)s: %(clientip)s '\n",
      "                             '%(user)s %(message)s',\n",
      "                   'level': 'info'}})\n"
     ]
    }
   ],
   "source": [
    "pprint(prod)"
   ]
  },
  {
   "cell_type": "code",
   "execution_count": 82,
   "metadata": {},
   "outputs": [
    {
     "data": {
      "text/plain": [
       "'info'"
      ]
     },
     "execution_count": 82,
     "metadata": {},
     "output_type": "execute_result"
    }
   ],
   "source": [
    "prod['logs']['level']"
   ]
  },
  {
   "cell_type": "code",
   "execution_count": 83,
   "metadata": {},
   "outputs": [
    {
     "data": {
      "text/plain": [
       "'trace'"
      ]
     },
     "execution_count": 83,
     "metadata": {},
     "output_type": "execute_result"
    }
   ],
   "source": [
    "dev['logs']['level']"
   ]
  },
  {
   "cell_type": "code",
   "execution_count": 84,
   "metadata": {},
   "outputs": [],
   "source": [
    "def settings(env):\n",
    "    common_settings = load_settings('common')\n",
    "    env_settings = load_settings(env)\n",
    "    return chain_recursive(env_settings, common_settings)"
   ]
  },
  {
   "cell_type": "code",
   "execution_count": 85,
   "metadata": {},
   "outputs": [],
   "source": [
    "prod = settings('prod')"
   ]
  },
  {
   "cell_type": "code",
   "execution_count": 86,
   "metadata": {},
   "outputs": [
    {
     "name": "stdout",
     "output_type": "stream",
     "text": [
      "ChainMap({'data': ChainMap({'input_root': '$DATA_INPUT_PATH',\n",
      "                            'output_root': '$DATA_OUTPUT_PATH'},\n",
      "                           {'input_root': '/default/path/inputs',\n",
      "                            'numerics': {'precision': 6, 'type': 'Decimal'},\n",
      "                            'output_root': '/default/path/outputs'}),\n",
      "          'database': ChainMap({'pwd': '$PG_PWD', 'user': '$PG_USER'},\n",
      "                               {'db_name': 'deepdive',\n",
      "                                'port': 5432,\n",
      "                                'schema': 'public'})},\n",
      "         {'data': {'input_root': '/default/path/inputs',\n",
      "                   'numerics': {'precision': 6, 'type': 'Decimal'},\n",
      "                   'output_root': '/default/path/outputs'},\n",
      "          'database': {'db_name': 'deepdive', 'port': 5432, 'schema': 'public'},\n",
      "          'logs': {'format': '%(asctime)s: %(levelname)s: %(clientip)s '\n",
      "                             '%(user)s %(message)s',\n",
      "                   'level': 'info'}})\n"
     ]
    }
   ],
   "source": [
    "pprint(prod)"
   ]
  },
  {
   "cell_type": "markdown",
   "metadata": {},
   "source": [
    "Done!"
   ]
  }
 ],
 "metadata": {
  "kernelspec": {
   "display_name": "Python 3",
   "language": "python",
   "name": "python3"
  },
  "language_info": {
   "codemirror_mode": {
    "name": "ipython",
    "version": 3
   },
   "file_extension": ".py",
   "mimetype": "text/x-python",
   "name": "python",
   "nbconvert_exporter": "python",
   "pygments_lexer": "ipython3",
   "version": "3.7.6"
  }
 },
 "nbformat": 4,
 "nbformat_minor": 4
}
