{
 "cells": [
  {
   "cell_type": "markdown",
   "metadata": {},
   "source": [
    "### Concurrent Multithreading"
   ]
  },
  {
   "cell_type": "markdown",
   "metadata": {},
   "source": [
    "Running several threads is similar to running several different programs concurrently, but with the following benefits\n",
    "- Multiple threads within a process share the same data space with the main thread and can therefore share information or communcate with each other more easily than if they were separate processes\n",
    "- Threads, sometimes called light-weight processes, do not require much memory overhead (they are cheaper than processes)"
   ]
  },
  {
   "cell_type": "markdown",
   "metadata": {},
   "source": [
    "A thread has a beginning, an execution sequence, and a conclusion. It has an instruction pointer that keeps track of where within its context it is currently running\n",
    "- It can be pre-empted (interrupted)\n",
    "- It can temporarily be put on hold (also known as sleeping) while other threads are running - this is called yielding"
   ]
  },
  {
   "cell_type": "markdown",
   "metadata": {},
   "source": [
    "#### Starting a New Thread"
   ]
  },
  {
   "cell_type": "markdown",
   "metadata": {},
   "source": [
    "To spawn another thread, you need to call the following method available in the *thread* module"
   ]
  },
  {
   "cell_type": "code",
   "execution_count": null,
   "metadata": {},
   "outputs": [],
   "source": [
    "thread.start_new_thread(fn, *args, **kwargs )"
   ]
  },
  {
   "cell_type": "markdown",
   "metadata": {},
   "source": [
    "This method call enables a fast and efficient way to create new threads in both Linux and Windows."
   ]
  },
  {
   "cell_type": "markdown",
   "metadata": {},
   "source": [
    "The method call returns immediately and the child thread starts and calls function with the passed list of *args*. When function returns, the thread terminates. "
   ]
  },
  {
   "cell_type": "markdown",
   "metadata": {},
   "source": [
    "##### Example"
   ]
  },
  {
   "cell_type": "code",
   "execution_count": 1,
   "metadata": {},
   "outputs": [
    {
     "name": "stdout",
     "output_type": "stream",
     "text": [
      "Thread-1, Wed Nov 18 11:31:38 2020\n",
      "Thread-2, Wed Nov 18 11:31:40 2020Thread-1, Wed Nov 18 11:31:40 2020\n",
      "\n",
      "Thread-1, Wed Nov 18 11:31:42 2020\n",
      "Thread-2, Wed Nov 18 11:31:44 2020\n",
      "Thread-1, Wed Nov 18 11:31:44 2020\n",
      "Thread-1, Wed Nov 18 11:31:46 2020\n",
      "Thread-2, Wed Nov 18 11:31:48 2020\n",
      "Thread-2, Wed Nov 18 11:31:52 2020\n",
      "Thread-2, Wed Nov 18 11:31:56 2020\n"
     ]
    }
   ],
   "source": [
    "import _thread\n",
    "import time\n",
    "\n",
    "# Define a function for the thread\n",
    "def print_time(threadName, delay):\n",
    "    count = 0\n",
    "    while count <5:\n",
    "        time.sleep(delay)\n",
    "        count += 1\n",
    "        print (f'{threadName}, {time.ctime(time.time())}')\n",
    "               \n",
    "# Create two threads as follows\n",
    "try:\n",
    "    _thread.start_new_thread(print_time, ('Thread-1', 2, ))\n",
    "    _thread.start_new_thread(print_time, ('Thread-2', 4, ))\n",
    "except:\n",
    "    print (f'Error: unable to start thread')"
   ]
  },
  {
   "cell_type": "markdown",
   "metadata": {},
   "source": [
    "Although it is very effective for low-level threading, but the thread module is very limited compared to the newer threading module"
   ]
  },
  {
   "cell_type": "markdown",
   "metadata": {},
   "source": [
    "#### The *Threading*  Module"
   ]
  },
  {
   "cell_type": "markdown",
   "metadata": {},
   "source": [
    "The newer threading module included with Python 2.4 provides a much more powerful, high-level support for threads than the thread module discussed in the previous section."
   ]
  },
  {
   "cell_type": "markdown",
   "metadata": {},
   "source": [
    "The *threading* module exposes all the methods of the *thread* module and provides some additional methods\n",
    "- **threading.activeCount()** -> Returns the number of thread objects that are active\n",
    "- **threading.currentThread()** -> Returns the number of thread objects in the caller's thread control\n",
    "- **threading.enumerate()** -> Returns a list of all thread objects that are currently active"
   ]
  },
  {
   "cell_type": "markdown",
   "metadata": {},
   "source": [
    "In addition to the methods, the threading module has the *Thread* class that implements threading. The methods provided by the *Thread* class are as follows:\n",
    "- **run()** -> The run() method is the entry point for a thread\n",
    "- **start()** -> The start() method starts a thread by calling the run method\n",
    "- **join([time])** -> The join() method waits for threads to terminate\n",
    "- **isAlive()** -> The isAlive() method checks whether a thread is still executing\n",
    "- **getName()** -> The getName() method return the name of a thread\n",
    "- **setName()** -> The setName() method sets the name of a thread"
   ]
  },
  {
   "cell_type": "markdown",
   "metadata": {},
   "source": [
    "#### Creating Thread Using *Threading* Module"
   ]
  },
  {
   "cell_type": "markdown",
   "metadata": {},
   "source": [
    "To implement a new thread using the threading module, you have to do the following:\n",
    "- Define a new subclass of the *Thread* class\n",
    "- Override the __init__(self [,args]) method to add additional arguments\n",
    "- Then, overridet he run(self, [,args]) method to implement what the thread should do when started"
   ]
  },
  {
   "cell_type": "markdown",
   "metadata": {},
   "source": [
    "Once you have created the new *Thread* subclass, you can create an instance of it and then start a new thread by invoking the *start()*, which in turn calls the *run()* method"
   ]
  },
  {
   "cell_type": "markdown",
   "metadata": {},
   "source": [
    "##### Example"
   ]
  },
  {
   "cell_type": "code",
   "execution_count": 5,
   "metadata": {},
   "outputs": [
    {
     "name": "stdout",
     "output_type": "stream",
     "text": [
      "Starting Thread 1\n",
      "Starting Thread 2\n",
      "Exiting Main Thread\n",
      "Thread 1: Wed Nov 18 12:01:10 2020\n",
      "Thread 1: Wed Nov 18 12:01:11 2020Thread 2: Wed Nov 18 12:01:11 2020\n",
      "\n",
      "Thread 1: Wed Nov 18 12:01:12 2020\n",
      "Thread 2: Wed Nov 18 12:01:13 2020\n",
      "Thread 1: Wed Nov 18 12:01:13 2020\n",
      "Thread 1: Wed Nov 18 12:01:14 2020\n",
      "Exiting Thread 1\n",
      "Thread 2: Wed Nov 18 12:01:15 2020\n",
      "Thread 2: Wed Nov 18 12:01:17 2020\n",
      "Thread 2: Wed Nov 18 12:01:19 2020\n",
      "Exiting Thread 2\n"
     ]
    }
   ],
   "source": [
    "import threading\n",
    "import time\n",
    "\n",
    "exitFlag = 0\n",
    "\n",
    "class myThread(threading.Thread):\n",
    "    def __init__(self, threadID, name, counter):\n",
    "        threading.Thread.__init__(self)\n",
    "        self.threadID = threadID\n",
    "        self.name = name\n",
    "        self.counter = counter\n",
    "    \n",
    "    def run(self):\n",
    "        print(f'Starting {self.name}')\n",
    "        print_time(self.name, 5, self.counter)\n",
    "        print(f'Exiting {self.name}')\n",
    "        \n",
    "def print_time(threadName, counter, delay):\n",
    "    while counter:\n",
    "        if exitFlag:\n",
    "            threadName.exit()\n",
    "        time.sleep(delay)\n",
    "        print(f'{threadName}: {time.ctime(time.time())}')\n",
    "        counter -= 1\n",
    "        \n",
    "# Create two new threads\n",
    "thread1 = myThread(1, 'Thread 1', 1)\n",
    "thread2 = myThread(2, 'Thread 2', 2)\n",
    "\n",
    "# Start new threads\n",
    "thread1.start()\n",
    "thread2.start()\n",
    "\n",
    "print('Exiting Main Thread')"
   ]
  },
  {
   "cell_type": "markdown",
   "metadata": {},
   "source": [
    "#### Synchronizing Threads"
   ]
  },
  {
   "cell_type": "markdown",
   "metadata": {},
   "source": [
    "The threading module provided with Python includes a simple-to-implement locking mechanism that allows you to synchronize threads. A new lock is created by calling the *Lock()* method, which returns the new lock."
   ]
  },
  {
   "cell_type": "markdown",
   "metadata": {},
   "source": [
    "The *acquire(blocking)* method of the new lock object is used to force threads to run synchronously. The optional *blocking* parameter enables you to control whether the thread waits to acquire the lock."
   ]
  },
  {
   "cell_type": "markdown",
   "metadata": {},
   "source": [
    "If blocking is set to 0, the thread returns immediately with a 0 value if the lock cannot be qcuired and with a 1 if the lock was acquired. If blocking is set to 1, the thread blocks and wait for the lock to be released."
   ]
  },
  {
   "cell_type": "markdown",
   "metadata": {},
   "source": [
    "The *release()* method of the new lock object is used to release teh lock when it is no longer required."
   ]
  },
  {
   "cell_type": "markdown",
   "metadata": {},
   "source": [
    "##### Example"
   ]
  },
  {
   "cell_type": "code",
   "execution_count": 14,
   "metadata": {},
   "outputs": [
    {
     "name": "stdout",
     "output_type": "stream",
     "text": [
      "Starting Thread 1\n",
      "Starting Thread 2\n",
      "Thread 1: Wed Nov 18 12:22:23 2020\n",
      "Thread 1: Wed Nov 18 12:22:24 2020\n",
      "Thread 1: Wed Nov 18 12:22:25 2020\n",
      "Thread 2: Wed Nov 18 12:22:27 2020\n",
      "Thread 2: Wed Nov 18 12:22:29 2020\n",
      "Thread 2: Wed Nov 18 12:22:31 2020\n",
      "Exiting Main Thread\n"
     ]
    }
   ],
   "source": [
    "import threading\n",
    "import time\n",
    "\n",
    "class myThread(threading.Thread):\n",
    "    def __init__(self, threadID, name, counter):\n",
    "        threading.Thread.__init__(self)\n",
    "        self.threadID = threadID\n",
    "        self.name = name\n",
    "        self.counter = counter\n",
    "        \n",
    "    def run(self):\n",
    "        print(f'Starting {self.name}')\n",
    "        # Get lock to synchorinize threads\n",
    "        threadLock.acquire()\n",
    "        print_time(self.name, self.counter, 3)\n",
    "        # Free lock to release next thread\n",
    "        threadLock.release()\n",
    "        \n",
    "def print_time(threadName, delay, counter):\n",
    "    while counter:\n",
    "        time.sleep(delay)\n",
    "        print(f'{threadName}: {time.ctime(time.time())}')\n",
    "        counter -= 1\n",
    "        \n",
    "threadLock = threading.Lock()\n",
    "threads = []\n",
    "\n",
    "# Create new threads\n",
    "thread1 = myThread(1, 'Thread 1', 1)\n",
    "thread2 = myThread(2, 'Thread 2', 2)\n",
    "\n",
    "# Start new Threads\n",
    "thread1.start()\n",
    "thread2.start()\n",
    "\n",
    "# Add threads to thread list\n",
    "threads.append(thread1)\n",
    "threads.append(thread2)\n",
    "\n",
    "# Wait for all threas to complete\n",
    "for t in threads:\n",
    "    t.join()\n",
    "print ('Exiting Main Thread')"
   ]
  },
  {
   "cell_type": "markdown",
   "metadata": {},
   "source": [
    "#### Multithreaded Priority Queue"
   ]
  },
  {
   "cell_type": "markdown",
   "metadata": {},
   "source": [
    "The *queue* module allows you to create a new queue object that can hold a specific number of items."
   ]
  },
  {
   "cell_type": "markdown",
   "metadata": {},
   "source": [
    "These are the following methods to control the Queue:\n",
    "- get() -> The get() removes and returns an item from the queue\n",
    "- put() -> The put add item to a queue\n",
    "- qsize() -> The qsize() returns a number of items that are currently in the queue\n",
    "- empty() -> The empty() returns True if queue is empty; otherwise, False\n",
    "- full() -> The full() returns True if queue is full, otherwise, False"
   ]
  },
  {
   "cell_type": "markdown",
   "metadata": {},
   "source": [
    "##### Example"
   ]
  },
  {
   "cell_type": "code",
   "execution_count": 7,
   "metadata": {},
   "outputs": [
    {
     "name": "stdout",
     "output_type": "stream",
     "text": [
      "Starting Thread 1Starting Thread 2\n",
      "Starting Thread 3\n",
      "\n",
      "Thread 1 processing One\n",
      "Thread 3 processing TwoThread 2 processing Three\n",
      "\n",
      "Thread 1 processing Four\n",
      "Thread 3 processing Five\n",
      "Exiting Thread 2\n",
      "Exiting Thread 1\n",
      "Exiting Thread 3\n",
      "Exiting Main Thread\n"
     ]
    }
   ],
   "source": [
    "import queue\n",
    "import threading\n",
    "import time\n",
    "\n",
    "exitFlag = 0\n",
    "\n",
    "class myThread(threading.Thread):\n",
    "    def __init__(self, threadID, name, q):\n",
    "        threading.Thread.__init__(self)\n",
    "        self.threadID = threadID\n",
    "        self.name = name\n",
    "        self.q = q\n",
    "        \n",
    "    def run(self):\n",
    "        print(f'Starting {self.name}')\n",
    "        process_data(self.name, self.q)\n",
    "        print(f'Exiting {self.name}')\n",
    "        \n",
    "def process_data(threadName, q):\n",
    "    while not exitFlag:\n",
    "        queueLock.acquire()\n",
    "        if not workQueue.empty():\n",
    "            data = q.get()\n",
    "            queueLock.release()\n",
    "            print(f'{threadName} processing {data}')\n",
    "        else:\n",
    "            queueLock.release()\n",
    "        time.sleep(1)\n",
    "        \n",
    "threadList = ['Thread 1', 'Thread 2', 'Thread 3']\n",
    "nameList = ['One', 'Two', 'Three', 'Four', 'Five']\n",
    "queueLock = threading.Lock()\n",
    "workQueue = queue.Queue(10)\n",
    "threads = []\n",
    "threadID = 1\n",
    "\n",
    "# Create new threads\n",
    "for tName in threadList:\n",
    "    thread = myThread(threadID, tName, workQueue)\n",
    "    thread.start()\n",
    "    threads.append(thread)\n",
    "    threadID =+ 1\n",
    "    \n",
    "# Fill the queue\n",
    "queueLock.acquire()\n",
    "for word in nameList:\n",
    "    workQueue.put(word)\n",
    "queueLock.release()\n",
    "\n",
    "# Wait for queue to empty\n",
    "while not workQueue.empty():\n",
    "    pass\n",
    "\n",
    "# Notify threads it's time to exit\n",
    "exitFlag = 1\n",
    "\n",
    "# Wait for all threads to complete\n",
    "for t in threads:\n",
    "    t.join()\n",
    "print('Exiting Main Thread')"
   ]
  }
 ],
 "metadata": {
  "kernelspec": {
   "display_name": "Python 3",
   "language": "python",
   "name": "python3"
  },
  "language_info": {
   "codemirror_mode": {
    "name": "ipython",
    "version": 3
   },
   "file_extension": ".py",
   "mimetype": "text/x-python",
   "name": "python",
   "nbconvert_exporter": "python",
   "pygments_lexer": "ipython3",
   "version": "3.7.6"
  }
 },
 "nbformat": 4,
 "nbformat_minor": 4
}
