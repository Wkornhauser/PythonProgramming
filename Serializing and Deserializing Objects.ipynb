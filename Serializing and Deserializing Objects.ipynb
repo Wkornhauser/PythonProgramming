{
 "cells": [
  {
   "cell_type": "markdown",
   "metadata": {},
   "source": [
    "### Serializing and Deserializing Objects"
   ]
  },
  {
   "cell_type": "markdown",
   "metadata": {},
   "source": [
    "- useful for persistence and/or transmission"
   ]
  },
  {
   "cell_type": "markdown",
   "metadata": {},
   "source": [
    "Sometimes we have objects (data)\n",
    "- we want to \"save\" them somwhere so we can retrieve (\"load\") them later\n",
    "- even after program that generated the data has terminated\n",
    "- transmit them to someone or something else outside our app"
   ]
  },
  {
   "cell_type": "markdown",
   "metadata": {},
   "source": [
    "Generically applies to any object\n",
    "- So we want to create a persistent representation of the object (this is called **serializing**)\n",
    "- When we reconstruct the object from the serialized data is it called **deserializing**"
   ]
  },
  {
   "cell_type": "markdown",
   "metadata": {},
   "source": [
    "#### Pickling and Unpickling"
   ]
  },
  {
   "cell_type": "markdown",
   "metadata": {},
   "source": [
    "Is Python specific, and is a built-in mechanism to serialize and deserialize many objects using binary representation"
   ]
  },
  {
   "cell_type": "markdown",
   "metadata": {},
   "source": [
    "#### Databases\n",
    "- relational databases -> objects like record sets, lists of tuples, etc\n",
    "- NoSQL databases -> graphs, documents, etc"
   ]
  },
  {
   "cell_type": "markdown",
   "metadata": {},
   "source": [
    "#### JSON\n",
    "- Is a ubiquitous standard used all over the place\n",
    " - Web / Javascript\n",
    " - REST APIs\n",
    " - MongoDB\n",
    "- Is a text representation\n",
    " - It has more limited data types\n",
    " - Human readable"
   ]
  },
  {
   "cell_type": "markdown",
   "metadata": {},
   "source": [
    "And there are many more mechanisms for persisting and transmiting data"
   ]
  },
  {
   "cell_type": "markdown",
   "metadata": {},
   "source": [
    "##### Focus on Serializing Dictionaries"
   ]
  },
  {
   "cell_type": "markdown",
   "metadata": {},
   "source": [
    "Pickle will apply to more than just dicitonary objects"
   ]
  },
  {
   "cell_type": "markdown",
   "metadata": {},
   "source": [
    "Will focus on dictionaries because of JSON\n",
    " - easy to serialize dictionaries to JSON\n",
    " - also easy to deserialize JSON to dictionaires\n",
    " - but loss of some data types\n",
    "  - There are many alternatives for serializing and deserializing"
   ]
  }
 ],
 "metadata": {
  "kernelspec": {
   "display_name": "Python 3",
   "language": "python",
   "name": "python3"
  },
  "language_info": {
   "codemirror_mode": {
    "name": "ipython",
    "version": 3
   },
   "file_extension": ".py",
   "mimetype": "text/x-python",
   "name": "python",
   "nbconvert_exporter": "python",
   "pygments_lexer": "ipython3",
   "version": "3.7.6"
  }
 },
 "nbformat": 4,
 "nbformat_minor": 4
}
