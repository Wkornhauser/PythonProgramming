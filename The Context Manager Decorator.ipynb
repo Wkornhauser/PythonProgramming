{
 "cells": [
  {
   "cell_type": "markdown",
   "metadata": {},
   "source": [
    "### The Context Manager Decorator"
   ]
  },
  {
   "cell_type": "markdown",
   "metadata": {},
   "source": [
    "You can use a decorator to encapsulate generators to make context managers."
   ]
  },
  {
   "cell_type": "markdown",
   "metadata": {},
   "source": [
    "This all seems very convoluted to me, but here are some examples"
   ]
  },
  {
   "cell_type": "markdown",
   "metadata": {},
   "source": [
    "#### Code Examples"
   ]
  },
  {
   "cell_type": "markdown",
   "metadata": {},
   "source": [
    "Typical setup of context managers using a generator is as follows:"
   ]
  },
  {
   "cell_type": "code",
   "execution_count": null,
   "metadata": {},
   "outputs": [],
   "source": [
    "def gen(args):\n",
    "    # set up happens here, or inside try\n",
    "    try:\n",
    "        yield obj # whatever normally gets returned by __enter__\n",
    "    finally:\n",
    "        # perform clean up code here"
   ]
  },
  {
   "cell_type": "code",
   "execution_count": 1,
   "metadata": {},
   "outputs": [],
   "source": [
    "def open_file(fname, mode='r'):\n",
    "    print('opening file...')\n",
    "    f = open(fname, mode)\n",
    "    try:\n",
    "        yield f\n",
    "    finally:\n",
    "        print('closing file')\n",
    "        f.close()"
   ]
  },
  {
   "cell_type": "code",
   "execution_count": 2,
   "metadata": {},
   "outputs": [],
   "source": [
    "class GenContextManager:\n",
    "    def __init__(self, gen):\n",
    "        self.gen = gen\n",
    "        \n",
    "    def __enter__(self):\n",
    "        print('calling next to get the yielded value from generator')\n",
    "        return next(self.gen)\n",
    "    \n",
    "    def __exit__(self, exc_type, exc_value, exc_tb):\n",
    "        print('calling next to perform cleanup in generator')\n",
    "        try:\n",
    "            next(self.gen)\n",
    "        except StopIteration:\n",
    "            pass\n",
    "        return False"
   ]
  },
  {
   "cell_type": "code",
   "execution_count": 3,
   "metadata": {},
   "outputs": [
    {
     "name": "stdout",
     "output_type": "stream",
     "text": [
      "calling next to get the yielded value from generator\n",
      "opening file...\n",
      "calling next to perform cleanup in generator\n",
      "closing file\n"
     ]
    }
   ],
   "source": [
    "file_gen = open_file('text.txt', 'w')\n",
    "with GenContextManager(file_gen) as f:\n",
    "    f.writelines('Sir Spamalot')"
   ]
  },
  {
   "cell_type": "code",
   "execution_count": 4,
   "metadata": {},
   "outputs": [],
   "source": [
    "def context_manager_dec(gen_fn):\n",
    "    def helper(*args, **kwargs):\n",
    "        gen = gen_fn(*args, **kwargs)\n",
    "        ctx = GenContextManager(gen)\n",
    "        return ctx\n",
    "    return helper"
   ]
  },
  {
   "cell_type": "code",
   "execution_count": 5,
   "metadata": {},
   "outputs": [],
   "source": [
    "@context_manager_dec\n",
    "def open_file(fname, mode='r'):\n",
    "    print('opening file...')\n",
    "    f = open(fname, mode)\n",
    "    try:\n",
    "        yield f\n",
    "    finally:\n",
    "        print('closing file')\n",
    "        f.close()\n",
    "        \n",
    "#This is the same as: open_file = context_manager_dec(open_file)"
   ]
  },
  {
   "cell_type": "code",
   "execution_count": 6,
   "metadata": {},
   "outputs": [
    {
     "name": "stdout",
     "output_type": "stream",
     "text": [
      "calling next to get the yielded value from generator\n",
      "opening file...\n",
      "['Sir Spamalot']\n",
      "calling next to perform cleanup in generator\n",
      "closing file\n"
     ]
    }
   ],
   "source": [
    "with open_file('text.txt') as f:\n",
    "    print(f.readlines())"
   ]
  },
  {
   "cell_type": "code",
   "execution_count": 7,
   "metadata": {},
   "outputs": [],
   "source": [
    "from contextlib import contextmanager"
   ]
  },
  {
   "cell_type": "code",
   "execution_count": 8,
   "metadata": {},
   "outputs": [],
   "source": [
    "@contextmanager\n",
    "def open_file(fname, mode='r'):\n",
    "    print('opening file...')\n",
    "    f = open(fname, mode)\n",
    "    try:\n",
    "        yield f\n",
    "    finally:\n",
    "        print('closing file')\n",
    "        f.close()"
   ]
  },
  {
   "cell_type": "code",
   "execution_count": 9,
   "metadata": {},
   "outputs": [
    {
     "name": "stdout",
     "output_type": "stream",
     "text": [
      "opening file...\n",
      "['line1\\n', 'line2\\n']\n",
      "closing file\n"
     ]
    }
   ],
   "source": [
    "with open_file('test.txt', 'r') as f:\n",
    "    print(f.readlines())"
   ]
  },
  {
   "cell_type": "code",
   "execution_count": 10,
   "metadata": {},
   "outputs": [],
   "source": [
    "from time import perf_counter, sleep"
   ]
  },
  {
   "cell_type": "code",
   "execution_count": 11,
   "metadata": {},
   "outputs": [],
   "source": [
    "@contextmanager\n",
    "def timer():\n",
    "    stats = dict()\n",
    "    start = perf_counter()\n",
    "    stats['start'] = start\n",
    "    try:\n",
    "        yield stats\n",
    "    finally:\n",
    "        end = perf_counter()\n",
    "        stats['end'] = end\n",
    "        stats['elapsed'] = end - start"
   ]
  },
  {
   "cell_type": "code",
   "execution_count": 12,
   "metadata": {},
   "outputs": [],
   "source": [
    "with timer() as stats:\n",
    "    sleep(2)"
   ]
  },
  {
   "cell_type": "code",
   "execution_count": 13,
   "metadata": {},
   "outputs": [
    {
     "name": "stdout",
     "output_type": "stream",
     "text": [
      "{'start': 4.8347805, 'end': 6.8352363, 'elapsed': 2.0004558}\n"
     ]
    }
   ],
   "source": [
    "print(stats)"
   ]
  },
  {
   "cell_type": "code",
   "execution_count": 14,
   "metadata": {},
   "outputs": [],
   "source": [
    "import sys"
   ]
  },
  {
   "cell_type": "code",
   "execution_count": 15,
   "metadata": {},
   "outputs": [],
   "source": [
    "@contextmanager\n",
    "def out_to_file(fname):\n",
    "    current_stdout = sys.stdout\n",
    "    file = open(fname, 'w')\n",
    "    sys.stdout = file\n",
    "    try:\n",
    "        yield None\n",
    "    finally:\n",
    "        file.close()\n",
    "        sys.stdout = current_stdout"
   ]
  },
  {
   "cell_type": "code",
   "execution_count": 16,
   "metadata": {},
   "outputs": [],
   "source": [
    "with out_to_file('test.txt'):\n",
    "    print('line1')\n",
    "    print('line2')"
   ]
  },
  {
   "cell_type": "code",
   "execution_count": 17,
   "metadata": {},
   "outputs": [
    {
     "name": "stdout",
     "output_type": "stream",
     "text": [
      "hello\n"
     ]
    }
   ],
   "source": [
    "print('hello')"
   ]
  },
  {
   "cell_type": "code",
   "execution_count": 18,
   "metadata": {},
   "outputs": [
    {
     "name": "stdout",
     "output_type": "stream",
     "text": [
      "['line1\\n', 'line2\\n']\n"
     ]
    }
   ],
   "source": [
    "with open('test.txt', 'r') as f:\n",
    "    print(f.readlines())"
   ]
  },
  {
   "cell_type": "code",
   "execution_count": 19,
   "metadata": {},
   "outputs": [],
   "source": [
    "from contextlib import redirect_stdout"
   ]
  },
  {
   "cell_type": "code",
   "execution_count": 20,
   "metadata": {},
   "outputs": [],
   "source": [
    "with open('test.txt', 'w') as f:\n",
    "    with redirect_stdout(f):\n",
    "        print('Look on the bright side of life')"
   ]
  },
  {
   "cell_type": "markdown",
   "metadata": {},
   "source": [
    "This above code redirects stdout to f"
   ]
  }
 ],
 "metadata": {
  "kernelspec": {
   "display_name": "Python 3",
   "language": "python",
   "name": "python3"
  },
  "language_info": {
   "codemirror_mode": {
    "name": "ipython",
    "version": 3
   },
   "file_extension": ".py",
   "mimetype": "text/x-python",
   "name": "python",
   "nbconvert_exporter": "python",
   "pygments_lexer": "ipython3",
   "version": "3.7.6"
  }
 },
 "nbformat": 4,
 "nbformat_minor": 4
}
