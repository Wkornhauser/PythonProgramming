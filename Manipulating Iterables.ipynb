{
 "cells": [
  {
   "cell_type": "code",
   "execution_count": 1,
   "metadata": {},
   "outputs": [],
   "source": [
    "l1 = [1, 2, 3, 4]\n",
    "l2 = [5, 6]"
   ]
  },
  {
   "cell_type": "code",
   "execution_count": 2,
   "metadata": {},
   "outputs": [
    {
     "name": "stdout",
     "output_type": "stream",
     "text": [
      "2542314809416 [1, 2, 3, 4]\n",
      "2542315027528 [5, 6]\n"
     ]
    }
   ],
   "source": [
    "print(id(l1), l1)\n",
    "print(id(l2), l2)"
   ]
  },
  {
   "cell_type": "code",
   "execution_count": 4,
   "metadata": {},
   "outputs": [
    {
     "name": "stdout",
     "output_type": "stream",
     "text": [
      "2542314844424 [1, 2, 3, 4, 5, 6]\n"
     ]
    }
   ],
   "source": [
    "l1 = l1 + l2\n",
    "print(id(l1), l1)"
   ]
  },
  {
   "cell_type": "code",
   "execution_count": 5,
   "metadata": {},
   "outputs": [],
   "source": [
    "t1 = (1, 2, 3)"
   ]
  },
  {
   "cell_type": "code",
   "execution_count": 6,
   "metadata": {},
   "outputs": [
    {
     "ename": "TypeError",
     "evalue": "can only concatenate list (not \"tuple\") to list",
     "output_type": "error",
     "traceback": [
      "\u001b[1;31m---------------------------------------------------------------------------\u001b[0m",
      "\u001b[1;31mTypeError\u001b[0m                                 Traceback (most recent call last)",
      "\u001b[1;32m<ipython-input-6-9b3d4a60d482>\u001b[0m in \u001b[0;36m<module>\u001b[1;34m\u001b[0m\n\u001b[1;32m----> 1\u001b[1;33m \u001b[0ml1\u001b[0m \u001b[1;33m+\u001b[0m \u001b[0mt1\u001b[0m\u001b[1;33m\u001b[0m\u001b[1;33m\u001b[0m\u001b[0m\n\u001b[0m",
      "\u001b[1;31mTypeError\u001b[0m: can only concatenate list (not \"tuple\") to list"
     ]
    }
   ],
   "source": [
    "l1 + t1"
   ]
  },
  {
   "cell_type": "code",
   "execution_count": 7,
   "metadata": {},
   "outputs": [
    {
     "name": "stdout",
     "output_type": "stream",
     "text": [
      "2542314154760 [1, 2, 3, 4]\n",
      "2542315073480 [5, 6]\n"
     ]
    }
   ],
   "source": [
    "l1 = [1, 2, 3, 4]\n",
    "l2 = [5, 6]\n",
    "print(id(l1), l1)\n",
    "print(id(l2), l2)"
   ]
  },
  {
   "cell_type": "code",
   "execution_count": 9,
   "metadata": {},
   "outputs": [
    {
     "name": "stdout",
     "output_type": "stream",
     "text": [
      "2542314154760 [1, 2, 3, 4, 5, 6, 5, 6]\n"
     ]
    }
   ],
   "source": [
    "l1 += l2\n",
    "print(id(l1), l1)"
   ]
  },
  {
   "cell_type": "code",
   "execution_count": 13,
   "metadata": {},
   "outputs": [
    {
     "name": "stdout",
     "output_type": "stream",
     "text": [
      "2542314844680 [1, 2, 3, 4]\n",
      "2542314767240 (5, 6)\n"
     ]
    }
   ],
   "source": [
    "l1 = [1, 2, 3, 4]\n",
    "t1 = (5, 6)\n",
    "print(id(l1), l1)\n",
    "print(id(t1), t1)"
   ]
  },
  {
   "cell_type": "code",
   "execution_count": 14,
   "metadata": {},
   "outputs": [
    {
     "name": "stdout",
     "output_type": "stream",
     "text": [
      "2542314844680 [1, 2, 3, 4, 5, 6]\n"
     ]
    }
   ],
   "source": [
    "l1 += t1\n",
    "print(id(l1), l1)"
   ]
  },
  {
   "cell_type": "code",
   "execution_count": 15,
   "metadata": {},
   "outputs": [
    {
     "name": "stdout",
     "output_type": "stream",
     "text": [
      "2542314844680 [1, 2, 3, 4, 5, 6, 7, 8, 9, 10]\n"
     ]
    }
   ],
   "source": [
    "l1 += range(7, 11)\n",
    "print(id(l1), l1)"
   ]
  },
  {
   "cell_type": "code",
   "execution_count": 16,
   "metadata": {},
   "outputs": [
    {
     "name": "stdout",
     "output_type": "stream",
     "text": [
      "2542314844680 [1, 2, 3, 4, 5, 6, 7, 8, 9, 10, 'a', 100, 'X']\n"
     ]
    }
   ],
   "source": [
    "l1 += {100, 'X', 'a'}\n",
    "print(id(l1), l1)"
   ]
  },
  {
   "cell_type": "code",
   "execution_count": 17,
   "metadata": {},
   "outputs": [
    {
     "name": "stdout",
     "output_type": "stream",
     "text": [
      "2542314849928 (1, 2, 3)\n",
      "2542314848728 (4, 5, 6)\n"
     ]
    }
   ],
   "source": [
    "t1 = (1, 2, 3)\n",
    "t2 = (4, 5, 6)\n",
    "print(id(t1), t1)\n",
    "print(id(t2), t2)"
   ]
  },
  {
   "cell_type": "code",
   "execution_count": 18,
   "metadata": {},
   "outputs": [
    {
     "name": "stdout",
     "output_type": "stream",
     "text": [
      "2542314864264 (1, 2, 3, 4, 5, 6)\n"
     ]
    }
   ],
   "source": [
    "t1 += t2\n",
    "print(id(t1), t1)"
   ]
  },
  {
   "cell_type": "code",
   "execution_count": 19,
   "metadata": {},
   "outputs": [
    {
     "name": "stdout",
     "output_type": "stream",
     "text": [
      "2542315145800 [1, 2, 3]\n"
     ]
    }
   ],
   "source": [
    "l1 = [1, 2, 3]\n",
    "print(id(l1), l1)"
   ]
  },
  {
   "cell_type": "code",
   "execution_count": 20,
   "metadata": {},
   "outputs": [],
   "source": [
    "l1 = l1 * 2"
   ]
  },
  {
   "cell_type": "code",
   "execution_count": 21,
   "metadata": {},
   "outputs": [
    {
     "name": "stdout",
     "output_type": "stream",
     "text": [
      "2542314844680 [1, 2, 3, 1, 2, 3]\n"
     ]
    }
   ],
   "source": [
    "print(id(l1), l1)"
   ]
  },
  {
   "cell_type": "code",
   "execution_count": 22,
   "metadata": {},
   "outputs": [
    {
     "name": "stdout",
     "output_type": "stream",
     "text": [
      "2542315141512 [1, 2, 3]\n"
     ]
    }
   ],
   "source": [
    "l1 = [1, 2, 3]\n",
    "print(id(l1), l1)"
   ]
  },
  {
   "cell_type": "code",
   "execution_count": 23,
   "metadata": {},
   "outputs": [],
   "source": [
    "l1 *= 2"
   ]
  },
  {
   "cell_type": "code",
   "execution_count": 24,
   "metadata": {},
   "outputs": [
    {
     "name": "stdout",
     "output_type": "stream",
     "text": [
      "2542315141512 [1, 2, 3, 1, 2, 3]\n"
     ]
    }
   ],
   "source": [
    "print(id(l1), l1)"
   ]
  },
  {
   "cell_type": "code",
   "execution_count": 25,
   "metadata": {},
   "outputs": [
    {
     "name": "stdout",
     "output_type": "stream",
     "text": [
      "2542314829288 (1, 2, 3)\n"
     ]
    }
   ],
   "source": [
    "t1 = (1, 2, 3)\n",
    "print(id(t1), t1)"
   ]
  },
  {
   "cell_type": "code",
   "execution_count": 26,
   "metadata": {},
   "outputs": [
    {
     "name": "stdout",
     "output_type": "stream",
     "text": [
      "2542314864264 (1, 2, 3, 1, 2, 3)\n"
     ]
    }
   ],
   "source": [
    "t1 *= 2\n",
    "print(id(t1), t1)"
   ]
  },
  {
   "cell_type": "code",
   "execution_count": 27,
   "metadata": {},
   "outputs": [],
   "source": [
    "t1 = t1 * 2"
   ]
  },
  {
   "cell_type": "code",
   "execution_count": 28,
   "metadata": {},
   "outputs": [
    {
     "name": "stdout",
     "output_type": "stream",
     "text": [
      "2542314679464 (1, 2, 3, 1, 2, 3, 1, 2, 3, 1, 2, 3)\n"
     ]
    }
   ],
   "source": [
    "print(id(t1), t1)"
   ]
  },
  {
   "cell_type": "code",
   "execution_count": null,
   "metadata": {},
   "outputs": [],
   "source": []
  }
 ],
 "metadata": {
  "kernelspec": {
   "display_name": "Python 3",
   "language": "python",
   "name": "python3"
  },
  "language_info": {
   "codemirror_mode": {
    "name": "ipython",
    "version": 3
   },
   "file_extension": ".py",
   "mimetype": "text/x-python",
   "name": "python",
   "nbconvert_exporter": "python",
   "pygments_lexer": "ipython3",
   "version": "3.7.6"
  }
 },
 "nbformat": 4,
 "nbformat_minor": 4
}
