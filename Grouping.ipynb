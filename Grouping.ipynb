{
 "cells": [
  {
   "cell_type": "markdown",
   "metadata": {},
   "source": [
    "### Grouping"
   ]
  },
  {
   "cell_type": "markdown",
   "metadata": {},
   "source": [
    "Sometimes we want to loop over an iterable of elements, but want to group those elements as we iterate through them."
   ]
  },
  {
   "cell_type": "markdown",
   "metadata": {},
   "source": [
    "Suppose we have an iterable containing tuples, and want to group based on the first element of each tuple"
   ]
  },
  {
   "cell_type": "markdown",
   "metadata": {},
   "source": [
    "(1, 10, 100)  \n",
    "(1, 11, 101)  \n",
    "(1, 12, 102)  \n",
    "(2, 20, 200)  \n",
    "(2, 21, 201)   \n",
    "(3, 30, 300)  \n",
    "(3, 31, 301)  \n",
    "(3, 32, 302)  "
   ]
  },
  {
   "cell_type": "markdown",
   "metadata": {},
   "source": [
    "The first 3 tuples would be group 1, the last 3 tuples would be group 3, while the middle 2 would be group 2."
   ]
  },
  {
   "cell_type": "markdown",
   "metadata": {},
   "source": [
    "We would like to iterate using this kind of approach:"
   ]
  },
  {
   "cell_type": "markdown",
   "metadata": {},
   "source": [
    "for key, group in groups:  \n",
    "    print(key)  \n",
    "    for item in group:  \n",
    "        print(item)  "
   ]
  },
  {
   "cell_type": "markdown",
   "metadata": {},
   "source": [
    "key -> 1  \n",
    "(1, 10, 100)  \n",
    "(1, 11, 101)  \n",
    "(1, 12, 102)  \n",
    "  \n",
    "key -> 2  \n",
    "(2, 20, 200)  \n",
    "(2, 21, 201)  \n",
    "  \n",
    "key -> 3  \n",
    "(3, 30, 300)  \n",
    "(3, 31, 301)  \n",
    "(3, 32, 302) "
   ]
  },
  {
   "cell_type": "markdown",
   "metadata": {},
   "source": [
    "itertools.*groupby(data, [keyfunc])* -> lazy iterator"
   ]
  },
  {
   "cell_type": "markdown",
   "metadata": {},
   "source": [
    "The grouby function allows us to do precisely that  \n",
    "-> normally specify keyfunc which calculates the key we want to use for grouping"
   ]
  },
  {
   "cell_type": "markdown",
   "metadata": {},
   "source": [
    "iterable  \n",
    "(1, 10, 100)  \n",
    "(1, 11, 101)  \n",
    "(1, 12, 102)  \n",
    "(2, 20, 200)  \n",
    "(2, 21, 201)   \n",
    "(3, 30, 300)  \n",
    "(3, 31, 301)  \n",
    "(3, 32, 302)  "
   ]
  },
  {
   "cell_type": "markdown",
   "metadata": {},
   "source": [
    "notice how the sequence is sorted by the grouping key!"
   ]
  },
  {
   "cell_type": "markdown",
   "metadata": {},
   "source": [
    "Here, we want to group based on the 1st element of each tuple"
   ]
  },
  {
   "cell_type": "markdown",
   "metadata": {},
   "source": [
    "-> grouping key ->  lambda x: x[0]"
   ]
  },
  {
   "cell_type": "markdown",
   "metadata": {},
   "source": [
    "groupby(iterable, lambda x: x[0]) -> iterator -> of tuples (key, sub_iterator)  \n",
    "ie  \n",
    "1, sub_iterator -> (1, 10, 100), (1, 11, 100), (1, 12, 102)  \n",
    "2, sub_iterator -> (2, 20, 200), (2, 21, 201)  \n",
    "3, sub_iterator -> (3, 30, 300), (3, 31, 301), (3, 32, 302)"
   ]
  },
  {
   "cell_type": "markdown",
   "metadata": {},
   "source": [
    "**IMPORTANT NOTE**"
   ]
  },
  {
   "cell_type": "markdown",
   "metadata": {},
   "source": [
    "The sequence of elements producted from the \"sub-iterators\" are all produced from the same undelying iterator! See this in the code below, or refer to the video."
   ]
  },
  {
   "cell_type": "markdown",
   "metadata": {},
   "source": [
    "So if groups = groupby(iterable, lambda x: x[0]),  \n",
    "next(groups) actually iterates through all the elements of the current 'sub-iterator' before proceeding to the next group."
   ]
  },
  {
   "cell_type": "markdown",
   "metadata": {},
   "source": [
    "#### Code Examples"
   ]
  },
  {
   "cell_type": "code",
   "execution_count": 1,
   "metadata": {},
   "outputs": [
    {
     "name": "stdout",
     "output_type": "stream",
     "text": [
      "make,model\n",
      "ACURA,ILX\n",
      "ACURA,MDX\n",
      "ACURA,RDX\n",
      "ACURA,RLX\n",
      "ACURA,TL\n",
      "ACURA,TSX\n",
      "ALFA ROMEO,4C\n",
      "ALFA ROMEO,GIULIETTA\n",
      "APRILIA,CAPONORD 1200\n",
      "APRILIA,RSV4 FACTORY APRC ABS\n",
      "APRILIA,RSV4 R APRC ABS\n",
      "APRILIA,SHIVER 750\n",
      "ARCTIC CAT,1000 XT\n",
      "ARCTIC CAT,500 XT\n",
      "ARCTIC CAT,550 XT\n",
      "ARCTIC CAT,700 LTD\n",
      "ARCTIC CAT,700 SUPER DUTY DIESEL\n",
      "ARCTIC CAT,700 XT\n",
      "ARCTIC CAT,90 2X4 4-STROKE\n"
     ]
    }
   ],
   "source": [
    "import itertools\n",
    "\n",
    "with open('cars_2014.csv') as f:\n",
    "    for row in itertools.islice(f, 0, 20):\n",
    "        print(row, end='')"
   ]
  },
  {
   "cell_type": "code",
   "execution_count": 3,
   "metadata": {},
   "outputs": [],
   "source": [
    "from collections import defaultdict\n",
    "\n",
    "makes = defaultdict(int)"
   ]
  },
  {
   "cell_type": "code",
   "execution_count": 4,
   "metadata": {},
   "outputs": [
    {
     "data": {
      "text/plain": [
       "0"
      ]
     },
     "execution_count": 4,
     "metadata": {},
     "output_type": "execute_result"
    }
   ],
   "source": [
    "makes['sdasdad']"
   ]
  },
  {
   "cell_type": "code",
   "execution_count": 6,
   "metadata": {},
   "outputs": [],
   "source": [
    "makes['BMW'] += 1"
   ]
  },
  {
   "cell_type": "code",
   "execution_count": 7,
   "metadata": {},
   "outputs": [
    {
     "data": {
      "text/plain": [
       "1"
      ]
     },
     "execution_count": 7,
     "metadata": {},
     "output_type": "execute_result"
    }
   ],
   "source": [
    "makes['BMW']"
   ]
  },
  {
   "cell_type": "code",
   "execution_count": 8,
   "metadata": {},
   "outputs": [],
   "source": [
    "makes['BMW'] += 1"
   ]
  },
  {
   "cell_type": "code",
   "execution_count": 9,
   "metadata": {},
   "outputs": [
    {
     "data": {
      "text/plain": [
       "2"
      ]
     },
     "execution_count": 9,
     "metadata": {},
     "output_type": "execute_result"
    }
   ],
   "source": [
    "makes['BMW']"
   ]
  },
  {
   "cell_type": "code",
   "execution_count": 11,
   "metadata": {},
   "outputs": [
    {
     "name": "stdout",
     "output_type": "stream",
     "text": [
      "ACURA: 6\n",
      "ALFA ROMEO: 2\n",
      "APRILIA: 4\n",
      "ARCTIC CAT: 96\n",
      "ARGO: 4\n",
      "ASTON MARTIN: 5\n",
      "AUDI: 27\n",
      "BENTLEY: 2\n",
      "BLUE BIRD: 1\n",
      "BMW: 86\n",
      "BUGATTI: 1\n",
      "BUICK: 5\n",
      "CADILLAC: 7\n",
      "CAN-AM: 61\n",
      "CHEVROLET: 33\n",
      "CHRYSLER: 2\n",
      "DODGE: 7\n",
      "DUCATI: 4\n",
      "FERRARI: 6\n",
      "FIAT: 2\n",
      "FORD: 34\n",
      "FREIGHTLINER: 7\n",
      "GMC: 12\n",
      "HARLEY DAVIDSON: 29\n",
      "HINO: 7\n",
      "HONDA: 91\n",
      "HUSABERG: 4\n",
      "HUSQVARNA: 9\n",
      "HYUNDAI: 13\n",
      "INDIAN: 3\n",
      "INFINITI: 8\n",
      "JAGUAR: 9\n",
      "JEEP: 5\n",
      "JOHN DEERE: 19\n",
      "KAWASAKI: 59\n",
      "KENWORTH: 11\n",
      "KIA: 10\n",
      "KTM: 13\n",
      "KUBOTA: 4\n",
      "KYMCO: 28\n",
      "LAMBORGHINI: 2\n",
      "LAND ROVER: 6\n",
      "LEXUS: 14\n",
      "LINCOLN: 6\n",
      "LOTUS: 1\n",
      "MACK: 9\n",
      "MASERATI: 3\n",
      "MAZDA: 5\n",
      "MCLAREN: 2\n",
      "MERCEDES-BENZ: 60\n",
      "MINI: 3\n",
      "MITSUBISHI: 8\n",
      "NISSAN: 24\n",
      "PEUGEOT: 3\n",
      "POLARIS: 101\n",
      "PORSCHE: 4\n",
      "RAM: 6\n",
      "RENAULT: 4\n",
      "ROLLS ROYCE: 3\n",
      "SCION: 5\n",
      "SEAT: 3\n",
      "SKI-DOO: 67\n",
      "SMART: 1\n",
      "SRT: 1\n",
      "SUBARU: 10\n",
      "SUZUKI: 48\n",
      "TESLA: 2\n",
      "TOYOTA: 19\n",
      "TRIUMPH: 10\n",
      "VESPA: 4\n",
      "VICTORY: 14\n",
      "VOLKSWAGEN: 16\n",
      "VOLVO: 8\n",
      "YAMAHA: 110\n"
     ]
    }
   ],
   "source": [
    "makes = defaultdict(int)\n",
    "\n",
    "with open('cars_2014.csv') as f:\n",
    "    next(f)\n",
    "    for row in f:\n",
    "        make, _ = row.strip('\\n').split(',')\n",
    "        makes[make] += 1\n",
    "for key, value in makes.items():\n",
    "    print(f'{key}: {value}')"
   ]
  },
  {
   "cell_type": "code",
   "execution_count": 18,
   "metadata": {},
   "outputs": [],
   "source": [
    "data = (1, 2, 2, 2, 3)"
   ]
  },
  {
   "cell_type": "code",
   "execution_count": 17,
   "metadata": {},
   "outputs": [
    {
     "data": {
      "text/plain": [
       "[(1, <itertools._grouper at 0x1c89489e7c8>),\n",
       " (2, <itertools._grouper at 0x1c89489e808>),\n",
       " (3, <itertools._grouper at 0x1c89489e848>),\n",
       " (1, <itertools._grouper at 0x1c89489e888>)]"
      ]
     },
     "execution_count": 17,
     "metadata": {},
     "output_type": "execute_result"
    }
   ],
   "source": [
    "list(itertools.groupby(data))"
   ]
  },
  {
   "cell_type": "code",
   "execution_count": 19,
   "metadata": {},
   "outputs": [
    {
     "name": "stdout",
     "output_type": "stream",
     "text": [
      "1 [1]\n",
      "2 [2, 2, 2]\n",
      "3 [3]\n"
     ]
    }
   ],
   "source": [
    "it = itertools.groupby(data)\n",
    "for group in it:\n",
    "    print(group[0], list(group[1]))"
   ]
  },
  {
   "cell_type": "code",
   "execution_count": 20,
   "metadata": {},
   "outputs": [
    {
     "name": "stdout",
     "output_type": "stream",
     "text": [
      "1 [1]\n",
      "2 [2, 2, 2]\n",
      "3 [3]\n"
     ]
    }
   ],
   "source": [
    "it = itertools.groupby(data)\n",
    "for group_key, sub_iter in it:\n",
    "    print(group_key, list(sub_iter))"
   ]
  },
  {
   "cell_type": "code",
   "execution_count": 21,
   "metadata": {},
   "outputs": [],
   "source": [
    "data = (\n",
    "    (1, 'abc'),\n",
    "    (1, 'bcs'),\n",
    "    \n",
    "    (2, 'pyt'),\n",
    "    (2, 'yth'),\n",
    "    (2, 'tho'),\n",
    "    \n",
    "    (3, 'hon')\n",
    ")"
   ]
  },
  {
   "cell_type": "code",
   "execution_count": 22,
   "metadata": {},
   "outputs": [
    {
     "data": {
      "text/plain": [
       "((1, 'abc'), (1, 'bcs'), (2, 'pyt'), (2, 'yth'), (2, 'tho'), (3, 'hon'))"
      ]
     },
     "execution_count": 22,
     "metadata": {},
     "output_type": "execute_result"
    }
   ],
   "source": [
    "data"
   ]
  },
  {
   "cell_type": "code",
   "execution_count": 24,
   "metadata": {},
   "outputs": [],
   "source": [
    "groups = itertools.groupby(data, key=lambda x: x[0])"
   ]
  },
  {
   "cell_type": "code",
   "execution_count": 25,
   "metadata": {},
   "outputs": [
    {
     "data": {
      "text/plain": [
       "[(1, <itertools._grouper at 0x1c8948972c8>),\n",
       " (2, <itertools._grouper at 0x1c8948971c8>),\n",
       " (3, <itertools._grouper at 0x1c894897408>)]"
      ]
     },
     "execution_count": 25,
     "metadata": {},
     "output_type": "execute_result"
    }
   ],
   "source": [
    "list(groups)"
   ]
  },
  {
   "cell_type": "code",
   "execution_count": 26,
   "metadata": {},
   "outputs": [
    {
     "data": {
      "text/plain": [
       "[]"
      ]
     },
     "execution_count": 26,
     "metadata": {},
     "output_type": "execute_result"
    }
   ],
   "source": [
    "list(groups)"
   ]
  },
  {
   "cell_type": "code",
   "execution_count": 27,
   "metadata": {},
   "outputs": [
    {
     "name": "stdout",
     "output_type": "stream",
     "text": [
      "1 [(1, 'abc'), (1, 'bcs')]\n",
      "2 [(2, 'pyt'), (2, 'yth'), (2, 'tho')]\n",
      "3 [(3, 'hon')]\n"
     ]
    }
   ],
   "source": [
    "groups = itertools.groupby(data, key=lambda x: x[0])\n",
    "for group_key, sub_iter in groups:\n",
    "    print(group_key, list(sub_iter))"
   ]
  },
  {
   "cell_type": "code",
   "execution_count": 29,
   "metadata": {},
   "outputs": [],
   "source": [
    "def gen_groups():\n",
    "    for key in range(1, 4):\n",
    "        for i in range(3):\n",
    "            yield (key, i)"
   ]
  },
  {
   "cell_type": "code",
   "execution_count": 30,
   "metadata": {},
   "outputs": [],
   "source": [
    "g = gen_groups()"
   ]
  },
  {
   "cell_type": "code",
   "execution_count": 31,
   "metadata": {},
   "outputs": [
    {
     "data": {
      "text/plain": [
       "[(1, 0), (1, 1), (1, 2), (2, 0), (2, 1), (2, 2), (3, 0), (3, 1), (3, 2)]"
      ]
     },
     "execution_count": 31,
     "metadata": {},
     "output_type": "execute_result"
    }
   ],
   "source": [
    "list(g)"
   ]
  },
  {
   "cell_type": "code",
   "execution_count": 32,
   "metadata": {},
   "outputs": [
    {
     "data": {
      "text/plain": [
       "[]"
      ]
     },
     "execution_count": 32,
     "metadata": {},
     "output_type": "execute_result"
    }
   ],
   "source": [
    "list(g)"
   ]
  },
  {
   "cell_type": "code",
   "execution_count": 38,
   "metadata": {},
   "outputs": [],
   "source": [
    "g = gen_groups()"
   ]
  },
  {
   "cell_type": "code",
   "execution_count": 39,
   "metadata": {},
   "outputs": [],
   "source": [
    "groups = itertools.groupby(g, key=lambda x: x[0])"
   ]
  },
  {
   "cell_type": "code",
   "execution_count": 41,
   "metadata": {},
   "outputs": [
    {
     "name": "stdout",
     "output_type": "stream",
     "text": [
      "1 [(1, 0), (1, 1), (1, 2)]\n",
      "2 [(2, 0), (2, 1), (2, 2)]\n",
      "3 [(3, 0), (3, 1), (3, 2)]\n"
     ]
    }
   ],
   "source": [
    "for group in groups:\n",
    "    print(group[0], list(group[1]))"
   ]
  },
  {
   "cell_type": "code",
   "execution_count": 42,
   "metadata": {},
   "outputs": [
    {
     "data": {
      "text/plain": [
       "[]"
      ]
     },
     "execution_count": 42,
     "metadata": {},
     "output_type": "execute_result"
    }
   ],
   "source": [
    "list(g)"
   ]
  },
  {
   "cell_type": "code",
   "execution_count": 43,
   "metadata": {},
   "outputs": [
    {
     "data": {
      "text/plain": [
       "[]"
      ]
     },
     "execution_count": 43,
     "metadata": {},
     "output_type": "execute_result"
    }
   ],
   "source": [
    "list(groups)"
   ]
  },
  {
   "cell_type": "code",
   "execution_count": 46,
   "metadata": {},
   "outputs": [],
   "source": [
    "with open('cars_2014.csv') as f:\n",
    "    make_groups = itertools.groupby(f, key=lambda x: x.split(',')[0])"
   ]
  },
  {
   "cell_type": "code",
   "execution_count": 47,
   "metadata": {},
   "outputs": [
    {
     "ename": "ValueError",
     "evalue": "I/O operation on closed file.",
     "output_type": "error",
     "traceback": [
      "\u001b[1;31m---------------------------------------------------------------------------\u001b[0m",
      "\u001b[1;31mValueError\u001b[0m                                Traceback (most recent call last)",
      "\u001b[1;32m<ipython-input-47-a86b46edd0f9>\u001b[0m in \u001b[0;36m<module>\u001b[1;34m\u001b[0m\n\u001b[1;32m----> 1\u001b[1;33m \u001b[0mlist\u001b[0m\u001b[1;33m(\u001b[0m\u001b[0mmake_groups\u001b[0m\u001b[1;33m)\u001b[0m\u001b[1;33m\u001b[0m\u001b[1;33m\u001b[0m\u001b[0m\n\u001b[0m",
      "\u001b[1;31mValueError\u001b[0m: I/O operation on closed file."
     ]
    }
   ],
   "source": [
    "list(make_groups)"
   ]
  },
  {
   "cell_type": "markdown",
   "metadata": {},
   "source": [
    "This occurs because make_groups is a lazy iterator, and f has been closed before we try to iterate through make_groups"
   ]
  },
  {
   "cell_type": "code",
   "execution_count": 49,
   "metadata": {},
   "outputs": [
    {
     "name": "stdout",
     "output_type": "stream",
     "text": [
      "[('ACURA', <itertools._grouper object at 0x000001C8948B2D08>), ('ALFA ROMEO', <itertools._grouper object at 0x000001C8948B06C8>), ('APRILIA', <itertools._grouper object at 0x000001C8948B0808>), ('ARCTIC CAT', <itertools._grouper object at 0x000001C8948B0588>), ('ARGO', <itertools._grouper object at 0x000001C8948B0448>)]\n"
     ]
    }
   ],
   "source": [
    "with open('cars_2014.csv') as f:\n",
    "    # Skip first row\n",
    "    next(f)\n",
    "    make_groups = itertools.groupby(f, key=lambda x: x.split(',')[0])\n",
    "    print(list(itertools.islice(make_groups, 5)))"
   ]
  },
  {
   "cell_type": "code",
   "execution_count": 51,
   "metadata": {},
   "outputs": [
    {
     "ename": "TypeError",
     "evalue": "object of type 'itertools._grouper' has no len()",
     "output_type": "error",
     "traceback": [
      "\u001b[1;31m---------------------------------------------------------------------------\u001b[0m",
      "\u001b[1;31mTypeError\u001b[0m                                 Traceback (most recent call last)",
      "\u001b[1;32m<ipython-input-51-6f6fd18ba152>\u001b[0m in \u001b[0;36m<module>\u001b[1;34m\u001b[0m\n\u001b[0;32m      4\u001b[0m     \u001b[0mmake_groups\u001b[0m \u001b[1;33m=\u001b[0m \u001b[0mitertools\u001b[0m\u001b[1;33m.\u001b[0m\u001b[0mgroupby\u001b[0m\u001b[1;33m(\u001b[0m\u001b[0mf\u001b[0m\u001b[1;33m,\u001b[0m \u001b[0mkey\u001b[0m\u001b[1;33m=\u001b[0m\u001b[1;32mlambda\u001b[0m \u001b[0mx\u001b[0m\u001b[1;33m:\u001b[0m \u001b[0mx\u001b[0m\u001b[1;33m.\u001b[0m\u001b[0msplit\u001b[0m\u001b[1;33m(\u001b[0m\u001b[1;34m','\u001b[0m\u001b[1;33m)\u001b[0m\u001b[1;33m[\u001b[0m\u001b[1;36m0\u001b[0m\u001b[1;33m]\u001b[0m\u001b[1;33m)\u001b[0m\u001b[1;33m\u001b[0m\u001b[1;33m\u001b[0m\u001b[0m\n\u001b[0;32m      5\u001b[0m     \u001b[0mmake_counts\u001b[0m \u001b[1;33m=\u001b[0m \u001b[1;33m(\u001b[0m\u001b[1;33m(\u001b[0m\u001b[0mkey\u001b[0m\u001b[1;33m,\u001b[0m \u001b[0mlen\u001b[0m\u001b[1;33m(\u001b[0m\u001b[0mmodels\u001b[0m\u001b[1;33m)\u001b[0m\u001b[1;33m)\u001b[0m \u001b[1;32mfor\u001b[0m \u001b[0mkey\u001b[0m\u001b[1;33m,\u001b[0m \u001b[0mmodels\u001b[0m \u001b[1;32min\u001b[0m \u001b[0mmake_groups\u001b[0m\u001b[1;33m)\u001b[0m\u001b[1;33m\u001b[0m\u001b[1;33m\u001b[0m\u001b[0m\n\u001b[1;32m----> 6\u001b[1;33m     \u001b[0mprint\u001b[0m\u001b[1;33m(\u001b[0m\u001b[0mlist\u001b[0m\u001b[1;33m(\u001b[0m\u001b[0mmake_counts\u001b[0m\u001b[1;33m)\u001b[0m\u001b[1;33m)\u001b[0m\u001b[1;33m\u001b[0m\u001b[1;33m\u001b[0m\u001b[0m\n\u001b[0m",
      "\u001b[1;32m<ipython-input-51-6f6fd18ba152>\u001b[0m in \u001b[0;36m<genexpr>\u001b[1;34m(.0)\u001b[0m\n\u001b[0;32m      3\u001b[0m     \u001b[0mnext\u001b[0m\u001b[1;33m(\u001b[0m\u001b[0mf\u001b[0m\u001b[1;33m)\u001b[0m\u001b[1;33m\u001b[0m\u001b[1;33m\u001b[0m\u001b[0m\n\u001b[0;32m      4\u001b[0m     \u001b[0mmake_groups\u001b[0m \u001b[1;33m=\u001b[0m \u001b[0mitertools\u001b[0m\u001b[1;33m.\u001b[0m\u001b[0mgroupby\u001b[0m\u001b[1;33m(\u001b[0m\u001b[0mf\u001b[0m\u001b[1;33m,\u001b[0m \u001b[0mkey\u001b[0m\u001b[1;33m=\u001b[0m\u001b[1;32mlambda\u001b[0m \u001b[0mx\u001b[0m\u001b[1;33m:\u001b[0m \u001b[0mx\u001b[0m\u001b[1;33m.\u001b[0m\u001b[0msplit\u001b[0m\u001b[1;33m(\u001b[0m\u001b[1;34m','\u001b[0m\u001b[1;33m)\u001b[0m\u001b[1;33m[\u001b[0m\u001b[1;36m0\u001b[0m\u001b[1;33m]\u001b[0m\u001b[1;33m)\u001b[0m\u001b[1;33m\u001b[0m\u001b[1;33m\u001b[0m\u001b[0m\n\u001b[1;32m----> 5\u001b[1;33m     \u001b[0mmake_counts\u001b[0m \u001b[1;33m=\u001b[0m \u001b[1;33m(\u001b[0m\u001b[1;33m(\u001b[0m\u001b[0mkey\u001b[0m\u001b[1;33m,\u001b[0m \u001b[0mlen\u001b[0m\u001b[1;33m(\u001b[0m\u001b[0mmodels\u001b[0m\u001b[1;33m)\u001b[0m\u001b[1;33m)\u001b[0m \u001b[1;32mfor\u001b[0m \u001b[0mkey\u001b[0m\u001b[1;33m,\u001b[0m \u001b[0mmodels\u001b[0m \u001b[1;32min\u001b[0m \u001b[0mmake_groups\u001b[0m\u001b[1;33m)\u001b[0m\u001b[1;33m\u001b[0m\u001b[1;33m\u001b[0m\u001b[0m\n\u001b[0m\u001b[0;32m      6\u001b[0m     \u001b[0mprint\u001b[0m\u001b[1;33m(\u001b[0m\u001b[0mlist\u001b[0m\u001b[1;33m(\u001b[0m\u001b[0mmake_counts\u001b[0m\u001b[1;33m)\u001b[0m\u001b[1;33m)\u001b[0m\u001b[1;33m\u001b[0m\u001b[1;33m\u001b[0m\u001b[0m\n",
      "\u001b[1;31mTypeError\u001b[0m: object of type 'itertools._grouper' has no len()"
     ]
    }
   ],
   "source": [
    "with open('cars_2014.csv') as f:\n",
    "    # Skip first row\n",
    "    next(f)\n",
    "    make_groups = itertools.groupby(f, key=lambda x: x.split(',')[0])\n",
    "    make_counts = ((key, len(models)) for key, models in make_groups)\n",
    "    print(list(make_counts))"
   ]
  },
  {
   "cell_type": "code",
   "execution_count": 62,
   "metadata": {},
   "outputs": [],
   "source": [
    "def squares(n):\n",
    "    for i in range(n):\n",
    "        yield i ** 2"
   ]
  },
  {
   "cell_type": "code",
   "execution_count": 63,
   "metadata": {},
   "outputs": [],
   "source": [
    "sq = squares(5)"
   ]
  },
  {
   "cell_type": "code",
   "execution_count": 64,
   "metadata": {},
   "outputs": [
    {
     "ename": "TypeError",
     "evalue": "object of type 'generator' has no len()",
     "output_type": "error",
     "traceback": [
      "\u001b[1;31m---------------------------------------------------------------------------\u001b[0m",
      "\u001b[1;31mTypeError\u001b[0m                                 Traceback (most recent call last)",
      "\u001b[1;32m<ipython-input-64-5ce5b363f6cb>\u001b[0m in \u001b[0;36m<module>\u001b[1;34m\u001b[0m\n\u001b[1;32m----> 1\u001b[1;33m \u001b[0mlen\u001b[0m\u001b[1;33m(\u001b[0m\u001b[0msq\u001b[0m\u001b[1;33m)\u001b[0m\u001b[1;33m\u001b[0m\u001b[1;33m\u001b[0m\u001b[0m\n\u001b[0m",
      "\u001b[1;31mTypeError\u001b[0m: object of type 'generator' has no len()"
     ]
    }
   ],
   "source": [
    "len(sq)"
   ]
  },
  {
   "cell_type": "code",
   "execution_count": 65,
   "metadata": {},
   "outputs": [
    {
     "name": "stdout",
     "output_type": "stream",
     "text": [
      "5\n"
     ]
    }
   ],
   "source": [
    "i = 0\n",
    "for item in sq:\n",
    "    i += 1\n",
    "    \n",
    "print(i)"
   ]
  },
  {
   "cell_type": "code",
   "execution_count": 66,
   "metadata": {},
   "outputs": [],
   "source": [
    "def len_iterable(iterable):\n",
    "    i = 0\n",
    "    for item in iterable:\n",
    "        i += 1\n",
    "    return i"
   ]
  },
  {
   "cell_type": "code",
   "execution_count": 67,
   "metadata": {},
   "outputs": [
    {
     "data": {
      "text/plain": [
       "8"
      ]
     },
     "execution_count": 67,
     "metadata": {},
     "output_type": "execute_result"
    }
   ],
   "source": [
    "len_iterable(squares(8))"
   ]
  },
  {
   "cell_type": "code",
   "execution_count": 68,
   "metadata": {},
   "outputs": [
    {
     "data": {
      "text/plain": [
       "('a', 'b', 'c')"
      ]
     },
     "execution_count": 68,
     "metadata": {},
     "output_type": "execute_result"
    }
   ],
   "source": [
    "'a', 'b', 'c'"
   ]
  },
  {
   "cell_type": "code",
   "execution_count": 70,
   "metadata": {},
   "outputs": [
    {
     "data": {
      "text/plain": [
       "3"
      ]
     },
     "execution_count": 70,
     "metadata": {},
     "output_type": "execute_result"
    }
   ],
   "source": [
    "sum((1, 1, 1))"
   ]
  },
  {
   "cell_type": "code",
   "execution_count": 73,
   "metadata": {},
   "outputs": [
    {
     "data": {
      "text/plain": [
       "8"
      ]
     },
     "execution_count": 73,
     "metadata": {},
     "output_type": "execute_result"
    }
   ],
   "source": [
    "sum(1 for i in squares(8))"
   ]
  },
  {
   "cell_type": "code",
   "execution_count": 75,
   "metadata": {},
   "outputs": [
    {
     "name": "stdout",
     "output_type": "stream",
     "text": [
      "[('ACURA', 6), ('ALFA ROMEO', 2), ('APRILIA', 4), ('ARCTIC CAT', 96), ('ARGO', 4), ('ASTON MARTIN', 5), ('AUDI', 27), ('BENTLEY', 2), ('BLUE BIRD', 1), ('BMW', 86), ('BUGATTI', 1), ('BUICK', 5), ('CADILLAC', 7), ('CAN-AM', 61), ('CHEVROLET', 33), ('CHRYSLER', 2), ('DODGE', 7), ('DUCATI', 4), ('FERRARI', 6), ('FIAT', 2), ('FORD', 34), ('FREIGHTLINER', 7), ('GMC', 12), ('HARLEY DAVIDSON', 29), ('HINO', 7), ('HONDA', 91), ('HUSABERG', 4), ('HUSQVARNA', 9), ('HYUNDAI', 13), ('INDIAN', 3), ('INFINITI', 8), ('JAGUAR', 9), ('JEEP', 5), ('JOHN DEERE', 19), ('KAWASAKI', 59), ('KENWORTH', 11), ('KIA', 10), ('KTM', 13), ('KUBOTA', 4), ('KYMCO', 28), ('LAMBORGHINI', 2), ('LAND ROVER', 6), ('LEXUS', 14), ('LINCOLN', 6), ('LOTUS', 1), ('MACK', 9), ('MASERATI', 3), ('MAZDA', 5), ('MCLAREN', 2), ('MERCEDES-BENZ', 60), ('MINI', 3), ('MITSUBISHI', 8), ('NISSAN', 24), ('PEUGEOT', 3), ('POLARIS', 101), ('PORSCHE', 4), ('RAM', 6), ('RENAULT', 4), ('ROLLS ROYCE', 3), ('SCION', 5), ('SEAT', 3), ('SKI-DOO', 67), ('SMART', 1), ('SRT', 1), ('SUBARU', 10), ('SUZUKI', 48), ('TESLA', 2), ('TOYOTA', 19), ('TRIUMPH', 10), ('VESPA', 4), ('VICTORY', 14), ('VOLKSWAGEN', 16), ('VOLVO', 8), ('YAMAHA', 110)]\n"
     ]
    }
   ],
   "source": [
    "with open('cars_2014.csv') as f:\n",
    "    # Skip first row\n",
    "    next(f)\n",
    "    make_groups = itertools.groupby(f, key=lambda x: x.split(',')[0])\n",
    "    make_counts = ((key, sum(1 for model in models))\n",
    "                   for key, models in make_groups)\n",
    "    print(list(make_counts))"
   ]
  }
 ],
 "metadata": {
  "kernelspec": {
   "display_name": "Python 3",
   "language": "python",
   "name": "python3"
  },
  "language_info": {
   "codemirror_mode": {
    "name": "ipython",
    "version": 3
   },
   "file_extension": ".py",
   "mimetype": "text/x-python",
   "name": "python",
   "nbconvert_exporter": "python",
   "pygments_lexer": "ipython3",
   "version": "3.7.6"
  }
 },
 "nbformat": 4,
 "nbformat_minor": 4
}
