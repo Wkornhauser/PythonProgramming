{
 "cells": [
  {
   "cell_type": "markdown",
   "metadata": {},
   "source": [
    "### Using the JSONEncoder Class"
   ]
  },
  {
   "cell_type": "markdown",
   "metadata": {},
   "source": [
    "Recall...when working with serialization, we could use dump or JSONEncoder"
   ]
  },
  {
   "cell_type": "markdown",
   "metadata": {},
   "source": [
    "Similarly, we can create a custom JSONDecoder class and specify it with the cls argument"
   ]
  },
  {
   "cell_type": "code",
   "execution_count": null,
   "metadata": {},
   "outputs": [],
   "source": [
    "json.loads(j, cls=CustomeDecoder)"
   ]
  },
  {
   "cell_type": "markdown",
   "metadata": {},
   "source": [
    "It's just a different way of doing it -> might help making sure we use our custom decoder consistently\n",
    "- It works differently than JSONEncoder\n",
    " - We're going to inherit from the JSONDecoder just like we did with the encoder\n",
    " - Then we're going to override the decode function\n",
    " - **The difference here is** that the decode function receives the entire JSON string\n",
    " - So we have to fully parse and return whatever object we want"
   ]
  },
  {
   "cell_type": "markdown",
   "metadata": {},
   "source": [
    "#### Code Examples"
   ]
  },
  {
   "cell_type": "code",
   "execution_count": 1,
   "metadata": {},
   "outputs": [],
   "source": [
    "import json"
   ]
  },
  {
   "cell_type": "code",
   "execution_count": 2,
   "metadata": {},
   "outputs": [],
   "source": [
    "j = '''\n",
    "{\n",
    "    \"a\": 100,\n",
    "    \"b\": [1, 2, 3],\n",
    "    \"c\": \"python\",\n",
    "    \"d\": {\n",
    "        \"e\": 4,\n",
    "        \"f\": 5.5\n",
    "    }\n",
    "}\n",
    "'''"
   ]
  },
  {
   "cell_type": "code",
   "execution_count": 3,
   "metadata": {},
   "outputs": [],
   "source": [
    "class CustomDecoder(json.JSONDecoder):\n",
    "    def decode(self, arg):\n",
    "        print(\"decode: \", type(arg), arg)\n",
    "        return \"a simple string object\""
   ]
  },
  {
   "cell_type": "code",
   "execution_count": 5,
   "metadata": {},
   "outputs": [
    {
     "name": "stdout",
     "output_type": "stream",
     "text": [
      "decode:  <class 'str'> \n",
      "{\n",
      "    \"a\": 100,\n",
      "    \"b\": [1, 2, 3],\n",
      "    \"c\": \"python\",\n",
      "    \"d\": {\n",
      "        \"e\": 4,\n",
      "        \"f\": 5.5\n",
      "    }\n",
      "}\n",
      "\n"
     ]
    }
   ],
   "source": [
    "result = json.loads(j, cls=CustomDecoder)"
   ]
  },
  {
   "cell_type": "code",
   "execution_count": 6,
   "metadata": {},
   "outputs": [
    {
     "data": {
      "text/plain": [
       "'a simple string object'"
      ]
     },
     "execution_count": 6,
     "metadata": {},
     "output_type": "execute_result"
    }
   ],
   "source": [
    "result"
   ]
  },
  {
   "cell_type": "code",
   "execution_count": 9,
   "metadata": {},
   "outputs": [],
   "source": [
    "class Point:\n",
    "    def __init__(self, x, y):\n",
    "        self.x = x\n",
    "        self.y = y\n",
    "        \n",
    "    def __repr__(self):\n",
    "        return f'Point(x={self.x}, y={self.y})'"
   ]
  },
  {
   "cell_type": "code",
   "execution_count": 10,
   "metadata": {},
   "outputs": [],
   "source": [
    "j_points= '''\n",
    "{\n",
    "    \"points\": [\n",
    "        [10, 20],\n",
    "        [-1, -2],\n",
    "        [0.5, 0.5]\n",
    "    ]\n",
    "}\n",
    "'''\n",
    "\n",
    "j_other = '''\n",
    "{\n",
    "    \"a\": 1,\n",
    "    \"b\": 2\n",
    "}\n",
    "'''"
   ]
  },
  {
   "cell_type": "code",
   "execution_count": 11,
   "metadata": {},
   "outputs": [],
   "source": [
    "class CustomDecoder(json.JSONDecoder):\n",
    "    def decode(self, arg):\n",
    "        if 'points' in arg:\n",
    "            obj = json.loads(arg)\n",
    "            return \"parsing object for points\"\n",
    "        else:\n",
    "            return super().decode(arg)"
   ]
  },
  {
   "cell_type": "code",
   "execution_count": 13,
   "metadata": {},
   "outputs": [
    {
     "data": {
      "text/plain": [
       "'parsing object for points'"
      ]
     },
     "execution_count": 13,
     "metadata": {},
     "output_type": "execute_result"
    }
   ],
   "source": [
    "json.loads(j_points, cls=CustomDecoder)"
   ]
  },
  {
   "cell_type": "code",
   "execution_count": 14,
   "metadata": {},
   "outputs": [
    {
     "data": {
      "text/plain": [
       "{'a': 1, 'b': 2}"
      ]
     },
     "execution_count": 14,
     "metadata": {},
     "output_type": "execute_result"
    }
   ],
   "source": [
    "json.loads(j_other, cls=CustomDecoder)"
   ]
  },
  {
   "cell_type": "code",
   "execution_count": 16,
   "metadata": {},
   "outputs": [],
   "source": [
    "class CustomDecoder(json.JSONDecoder):\n",
    "    def decode(self, arg):\n",
    "        obj = json.loads(arg)\n",
    "        if 'points' in obj:\n",
    "            obj['points'] = [Point(x, y)\n",
    "                             for x, y in obj['points']]\n",
    "        return obj"
   ]
  },
  {
   "cell_type": "code",
   "execution_count": 17,
   "metadata": {},
   "outputs": [
    {
     "data": {
      "text/plain": [
       "{'points': [Point(x=10, y=20), Point(x=-1, y=-2), Point(x=0.5, y=0.5)]}"
      ]
     },
     "execution_count": 17,
     "metadata": {},
     "output_type": "execute_result"
    }
   ],
   "source": [
    "json.loads(j_points, cls=CustomDecoder)"
   ]
  },
  {
   "cell_type": "code",
   "execution_count": 18,
   "metadata": {},
   "outputs": [
    {
     "data": {
      "text/plain": [
       "{'a': 1, 'b': 2}"
      ]
     },
     "execution_count": 18,
     "metadata": {},
     "output_type": "execute_result"
    }
   ],
   "source": [
    "json.loads(j_other,cls=CustomDecoder)"
   ]
  },
  {
   "cell_type": "code",
   "execution_count": 19,
   "metadata": {},
   "outputs": [
    {
     "data": {
      "text/plain": [
       "{'a': 100, 'b': [1, 2, 3], 'c': 'python', 'd': {'e': 4, 'f': 5.5}}"
      ]
     },
     "execution_count": 19,
     "metadata": {},
     "output_type": "execute_result"
    }
   ],
   "source": [
    "json.loads(j,cls=CustomDecoder)"
   ]
  },
  {
   "cell_type": "code",
   "execution_count": 20,
   "metadata": {},
   "outputs": [],
   "source": [
    "import re"
   ]
  },
  {
   "cell_type": "code",
   "execution_count": 21,
   "metadata": {},
   "outputs": [],
   "source": [
    "pattern = r'\"_type\"\\s*:\\s*\"point\"'"
   ]
  },
  {
   "cell_type": "markdown",
   "metadata": {},
   "source": [
    "r is for raw string"
   ]
  },
  {
   "cell_type": "code",
   "execution_count": 22,
   "metadata": {},
   "outputs": [
    {
     "name": "stdout",
     "output_type": "stream",
     "text": [
      "word\tword\n"
     ]
    }
   ],
   "source": [
    "print('word\\tword')"
   ]
  },
  {
   "cell_type": "code",
   "execution_count": 23,
   "metadata": {},
   "outputs": [
    {
     "name": "stdout",
     "output_type": "stream",
     "text": [
      "word\\tword\n"
     ]
    }
   ],
   "source": [
    "print(r'word\\tword')"
   ]
  },
  {
   "cell_type": "code",
   "execution_count": 25,
   "metadata": {},
   "outputs": [],
   "source": [
    "regexp = re.compile(pattern)"
   ]
  },
  {
   "cell_type": "code",
   "execution_count": 26,
   "metadata": {},
   "outputs": [
    {
     "name": "stdout",
     "output_type": "stream",
     "text": [
      "None\n"
     ]
    }
   ],
   "source": [
    "print(regexp.search('\"a\":1'))"
   ]
  },
  {
   "cell_type": "code",
   "execution_count": 27,
   "metadata": {},
   "outputs": [
    {
     "name": "stdout",
     "output_type": "stream",
     "text": [
      "None\n"
     ]
    }
   ],
   "source": [
    "print(regexp.search('\"_type\": 1'))"
   ]
  },
  {
   "cell_type": "code",
   "execution_count": 28,
   "metadata": {},
   "outputs": [
    {
     "name": "stdout",
     "output_type": "stream",
     "text": [
      "<re.Match object; span=(0, 16), match='\"_type\": \"point\"'>\n"
     ]
    }
   ],
   "source": [
    "print(regexp.search('\"_type\": \"point\"'))"
   ]
  },
  {
   "cell_type": "code",
   "execution_count": 29,
   "metadata": {},
   "outputs": [
    {
     "name": "stdout",
     "output_type": "stream",
     "text": [
      "<re.Match object; span=(0, 24), match='\"_type\"       :\\t \"point\"'>\n"
     ]
    }
   ],
   "source": [
    "print(regexp.search('\"_type\"       :\\t \"point\"'))"
   ]
  },
  {
   "cell_type": "code",
   "execution_count": 30,
   "metadata": {},
   "outputs": [
    {
     "data": {
      "text/plain": [
       "<re.Match object; span=(0, 24), match='\"_type\"       :\\t \"point\"'>"
      ]
     },
     "execution_count": 30,
     "metadata": {},
     "output_type": "execute_result"
    }
   ],
   "source": [
    "re.search(pattern, '\"_type\"       :\\t \"point\"')"
   ]
  },
  {
   "cell_type": "code",
   "execution_count": 31,
   "metadata": {},
   "outputs": [],
   "source": [
    "class CustomDecoder(json.JSONDecoder):\n",
    "    def decode(self, arg):\n",
    "        obj = json.loads(arg)\n",
    "        pattern = r'\"_type\"\\s*:\\s*\"point\"'\n",
    "        if re.search(pattern, arg):\n",
    "            obj = self.make_pts(obj)\n",
    "        return obj\n",
    "    \n",
    "    def make_pts(self, obj):\n",
    "        if isinstance(obj, dict):\n",
    "            if '_type' in obj and obj['_type'] == 'point':\n",
    "                obj = Point(obj['x'], obj['y'])\n",
    "            else:\n",
    "                for key, value in obj.items():\n",
    "                    obj[key] = self.make_pts(value)\n",
    "        elif isinstance(obj, list):\n",
    "            for index, item in enumerate(obj):\n",
    "                obj[index] = self.make_pts(item)\n",
    "                \n",
    "        return obj"
   ]
  },
  {
   "cell_type": "code",
   "execution_count": 38,
   "metadata": {},
   "outputs": [],
   "source": [
    "j = '''\n",
    "{\n",
    "    \"a\": 100,\n",
    "    \"b\": 0.5,\n",
    "    \"rectangle\": {\n",
    "        \"corners\": {\n",
    "            \"b_left\": {\"_type\": \"point\", \"x\": -1, \"y\": -1},\n",
    "            \"b_right\": {\"_type\": \"point\", \"x\": 1, \"y\": -1},\n",
    "            \"t_left\": {\"_type\": \"point\", \"x\": -1, \"y\": 1},\n",
    "            \"t_right\": {\"_type\": \"point\", \"x\": 1, \"y\": 1}\n",
    "        },\n",
    "        \"rotate\": {\"_type\": \"point\", \"x\": 0, \"y\": 0},\n",
    "        \"interior_pts\": [\n",
    "            {\"_type\": \"point\", \"x\": 0, \"y\": 0},\n",
    "            {\"_type\": \"point\", \"x\": 0.5, \"y\": 0.5}\n",
    "        ]\n",
    "    }\n",
    "}\n",
    "'''"
   ]
  },
  {
   "cell_type": "code",
   "execution_count": 39,
   "metadata": {},
   "outputs": [
    {
     "data": {
      "text/plain": [
       "{'a': 100,\n",
       " 'b': 0.5,\n",
       " 'rectangle': {'corners': {'b_left': {'_type': 'point', 'x': -1, 'y': -1},\n",
       "   'b_right': {'_type': 'point', 'x': 1, 'y': -1},\n",
       "   't_left': {'_type': 'point', 'x': -1, 'y': 1},\n",
       "   't_right': {'_type': 'point', 'x': 1, 'y': 1}},\n",
       "  'rotate': {'_type': 'point', 'x': 0, 'y': 0},\n",
       "  'interior_pts': [{'_type': 'point', 'x': 0, 'y': 0},\n",
       "   {'_type': 'point', 'x': 0.5, 'y': 0.5}]}}"
      ]
     },
     "execution_count": 39,
     "metadata": {},
     "output_type": "execute_result"
    }
   ],
   "source": [
    "json.loads(j)"
   ]
  },
  {
   "cell_type": "code",
   "execution_count": 42,
   "metadata": {},
   "outputs": [
    {
     "name": "stdout",
     "output_type": "stream",
     "text": [
      "{'a': 100,\n",
      " 'b': 0.5,\n",
      " 'rectangle': {'corners': {'b_left': Point(x=-1, y=-1),\n",
      "                           'b_right': Point(x=1, y=-1),\n",
      "                           't_left': Point(x=-1, y=1),\n",
      "                           't_right': Point(x=1, y=1)},\n",
      "               'interior_pts': [Point(x=0, y=0), Point(x=0.5, y=0.5)],\n",
      "               'rotate': Point(x=0, y=0)}}\n"
     ]
    }
   ],
   "source": [
    "from pprint import pprint\n",
    "pprint(json.loads(j, cls=CustomDecoder))"
   ]
  },
  {
   "cell_type": "code",
   "execution_count": 43,
   "metadata": {},
   "outputs": [],
   "source": [
    "from decimal import Decimal"
   ]
  },
  {
   "cell_type": "code",
   "execution_count": 44,
   "metadata": {},
   "outputs": [],
   "source": [
    "CustomDecoder = json.JSONDecoder(parse_float=Decimal)"
   ]
  },
  {
   "cell_type": "code",
   "execution_count": 45,
   "metadata": {},
   "outputs": [],
   "source": [
    "d = CustomDecoder.decode(j)"
   ]
  },
  {
   "cell_type": "code",
   "execution_count": 47,
   "metadata": {},
   "outputs": [
    {
     "name": "stdout",
     "output_type": "stream",
     "text": [
      "{'a': 100,\n",
      " 'b': Decimal('0.5'),\n",
      " 'rectangle': {'corners': {'b_left': {'_type': 'point', 'x': -1, 'y': -1},\n",
      "                           'b_right': {'_type': 'point', 'x': 1, 'y': -1},\n",
      "                           't_left': {'_type': 'point', 'x': -1, 'y': 1},\n",
      "                           't_right': {'_type': 'point', 'x': 1, 'y': 1}},\n",
      "               'interior_pts': [{'_type': 'point', 'x': 0, 'y': 0},\n",
      "                                {'_type': 'point',\n",
      "                                 'x': Decimal('0.5'),\n",
      "                                 'y': Decimal('0.5')}],\n",
      "               'rotate': {'_type': 'point', 'x': 0, 'y': 0}}}\n"
     ]
    }
   ],
   "source": [
    "pprint(d)"
   ]
  },
  {
   "cell_type": "code",
   "execution_count": 48,
   "metadata": {},
   "outputs": [],
   "source": [
    "class CustomDecoder(json.JSONDecoder):\n",
    "    base_decoder = json.JSONDecoder(parse_float=Decimal)\n",
    "    \n",
    "    def decode(self, arg):\n",
    "        obj = self.base_decoder.decode(arg)\n",
    "        pattern = r'\"_type\"\\s*:\\s*\"point\"'\n",
    "        if re.search(pattern, arg):\n",
    "            obj = self.make_pts(obj)\n",
    "        return obj\n",
    "    \n",
    "    def make_pts(self, obj):\n",
    "        if isinstance(obj, dict):\n",
    "            if '_type' in obj and obj['_type'] == 'point':\n",
    "                obj = Point(obj['x'], obj['y'])\n",
    "            else:\n",
    "                for key, value in obj.items():\n",
    "                    obj[key] = self.make_pts(value)\n",
    "        elif isinstance(obj, list):\n",
    "            for index, item in enumerate(obj):\n",
    "                obj[index] = self.make_pts(item)\n",
    "                \n",
    "        return obj"
   ]
  },
  {
   "cell_type": "code",
   "execution_count": 50,
   "metadata": {},
   "outputs": [
    {
     "name": "stdout",
     "output_type": "stream",
     "text": [
      "{'a': 100,\n",
      " 'b': Decimal('0.5'),\n",
      " 'rectangle': {'corners': {'b_left': Point(x=-1, y=-1),\n",
      "                           'b_right': Point(x=1, y=-1),\n",
      "                           't_left': Point(x=-1, y=1),\n",
      "                           't_right': Point(x=1, y=1)},\n",
      "               'interior_pts': [Point(x=0, y=0), Point(x=0.5, y=0.5)],\n",
      "               'rotate': Point(x=0, y=0)}}\n"
     ]
    }
   ],
   "source": [
    "pprint(json.loads(j, cls=CustomDecoder))"
   ]
  },
  {
   "cell_type": "code",
   "execution_count": 51,
   "metadata": {},
   "outputs": [],
   "source": [
    "result = json.loads(j, cls=CustomDecoder)"
   ]
  },
  {
   "cell_type": "code",
   "execution_count": 52,
   "metadata": {},
   "outputs": [],
   "source": [
    "pt = result['rectangle']['interior_pts'][1]"
   ]
  },
  {
   "cell_type": "code",
   "execution_count": 54,
   "metadata": {},
   "outputs": [
    {
     "data": {
      "text/plain": [
       "decimal.Decimal"
      ]
     },
     "execution_count": 54,
     "metadata": {},
     "output_type": "execute_result"
    }
   ],
   "source": [
    "type(pt.x)"
   ]
  },
  {
   "cell_type": "code",
   "execution_count": 55,
   "metadata": {},
   "outputs": [],
   "source": [
    "class CustomDecoder(json.JSONDecoder):\n",
    "    def __init__(self, *args, **kwargs):\n",
    "        super().__init__(parse_float=Decimal)\n",
    "    \n",
    "    def decode(self, arg):\n",
    "        obj = super().decode(arg)\n",
    "        pattern = r'\"_type\"\\s*:\\s*\"point\"'\n",
    "        if re.search(pattern, arg):\n",
    "            obj = self.make_pts(obj)\n",
    "        return obj\n",
    "    \n",
    "    def make_pts(self, obj):\n",
    "        if isinstance(obj, dict):\n",
    "            if '_type' in obj and obj['_type'] == 'point':\n",
    "                obj = Point(obj['x'], obj['y'])\n",
    "            else:\n",
    "                for key, value in obj.items():\n",
    "                    obj[key] = self.make_pts(value)\n",
    "        elif isinstance(obj, list):\n",
    "            for index, item in enumerate(obj):\n",
    "                obj[index] = self.make_pts(item)\n",
    "                \n",
    "        return obj"
   ]
  },
  {
   "cell_type": "code",
   "execution_count": 56,
   "metadata": {},
   "outputs": [],
   "source": [
    "result = json.loads(j, cls=CustomDecoder)"
   ]
  },
  {
   "cell_type": "code",
   "execution_count": 57,
   "metadata": {},
   "outputs": [
    {
     "name": "stdout",
     "output_type": "stream",
     "text": [
      "{'a': 100,\n",
      " 'b': Decimal('0.5'),\n",
      " 'rectangle': {'corners': {'b_left': Point(x=-1, y=-1),\n",
      "                           'b_right': Point(x=1, y=-1),\n",
      "                           't_left': Point(x=-1, y=1),\n",
      "                           't_right': Point(x=1, y=1)},\n",
      "               'interior_pts': [Point(x=0, y=0), Point(x=0.5, y=0.5)],\n",
      "               'rotate': Point(x=0, y=0)}}\n"
     ]
    }
   ],
   "source": [
    "pprint(result)"
   ]
  },
  {
   "cell_type": "code",
   "execution_count": 59,
   "metadata": {},
   "outputs": [
    {
     "data": {
      "text/plain": [
       "decimal.Decimal"
      ]
     },
     "execution_count": 59,
     "metadata": {},
     "output_type": "execute_result"
    }
   ],
   "source": [
    "pt = result['rectangle']['interior_pts'][1]\n",
    "type(pt.y)"
   ]
  }
 ],
 "metadata": {
  "kernelspec": {
   "display_name": "Python 3",
   "language": "python",
   "name": "python3"
  },
  "language_info": {
   "codemirror_mode": {
    "name": "ipython",
    "version": 3
   },
   "file_extension": ".py",
   "mimetype": "text/x-python",
   "name": "python",
   "nbconvert_exporter": "python",
   "pygments_lexer": "ipython3",
   "version": "3.7.6"
  }
 },
 "nbformat": 4,
 "nbformat_minor": 4
}
